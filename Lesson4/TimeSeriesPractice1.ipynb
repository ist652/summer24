{
 "cells": [
  {
   "cell_type": "markdown",
   "id": "51eea09b-2c18-46d3-9644-96a00ad5e35d",
   "metadata": {},
   "source": [
    "### TIME SERIES ANALYSIS PRACTICE"
   ]
  },
  {
   "cell_type": "markdown",
   "id": "b7ebfdaf-9a96-447a-a0dd-8711f49e5903",
   "metadata": {},
   "source": [
    "1. Review the dataset aapl.csv. What is the dataset about?\n",
    "\n"
   ]
  },
  {
   "cell_type": "code",
   "execution_count": null,
   "id": "bb5ec1a9-7146-4f5c-bcb2-1fe1c48c0753",
   "metadata": {},
   "outputs": [],
   "source": []
  },
  {
   "cell_type": "markdown",
   "id": "62212fd5-429f-4705-83cc-e23d9419db93",
   "metadata": {
    "tags": []
   },
   "source": [
    "2. Create a new notebook file \n"
   ]
  },
  {
   "cell_type": "code",
   "execution_count": null,
   "id": "ec14bb6e-0782-4de2-a44d-71984d500b33",
   "metadata": {},
   "outputs": [],
   "source": []
  },
  {
   "cell_type": "markdown",
   "id": "c1b4c451-3728-4eb5-939b-b2d426b54622",
   "metadata": {},
   "source": [
    "3. Read in the aapl.csv file \n"
   ]
  },
  {
   "cell_type": "code",
   "execution_count": null,
   "id": "cf233f7d-7d70-43ec-953d-8df5ae0c2752",
   "metadata": {},
   "outputs": [],
   "source": []
  },
  {
   "cell_type": "markdown",
   "id": "198ba999-9ca3-43e3-8c83-92ba8ebc2ce8",
   "metadata": {},
   "source": [
    "4. Describe the characteristics of the dataset\n"
   ]
  },
  {
   "cell_type": "code",
   "execution_count": null,
   "id": "0830fd02-f5e0-4f99-8ede-31e67440ba34",
   "metadata": {},
   "outputs": [],
   "source": []
  },
  {
   "cell_type": "markdown",
   "id": "b7110ca6-16e6-4a8b-b5a9-2f309ff617d1",
   "metadata": {
    "tags": []
   },
   "source": [
    "5. Separate the datetime into two columns. Label appropriately. For example date and time\n"
   ]
  },
  {
   "cell_type": "code",
   "execution_count": null,
   "id": "ebd025ab-bb08-471f-a17b-7e112c6afb4a",
   "metadata": {},
   "outputs": [],
   "source": []
  },
  {
   "cell_type": "markdown",
   "id": "6b7c994f-bfcf-4015-a2f7-278e5960cf8d",
   "metadata": {},
   "source": [
    "6. Set the date column as an index. What is the benefits of indexing by date?\n"
   ]
  },
  {
   "cell_type": "code",
   "execution_count": null,
   "id": "a80a84ee-9f72-435a-97dd-383a4f090ce0",
   "metadata": {},
   "outputs": [],
   "source": []
  },
  {
   "cell_type": "markdown",
   "id": "b60a01ba-d935-4129-afd8-e0f37458d701",
   "metadata": {
    "tags": []
   },
   "source": [
    "7. Retrieve June 2020 stock prices using the date index\n"
   ]
  },
  {
   "cell_type": "code",
   "execution_count": null,
   "id": "20428ca4-56a3-4efe-9bc9-bca37b2ba11e",
   "metadata": {},
   "outputs": [],
   "source": []
  },
  {
   "cell_type": "markdown",
   "id": "f0e6bbba-c9c3-4b47-b6f7-674d9329fa49",
   "metadata": {},
   "source": [
    "8. Find the average price of the stock in June 2020\n"
   ]
  },
  {
   "cell_type": "code",
   "execution_count": null,
   "id": "cf83908c-ebe0-403e-a4d9-a99a6f38fbdc",
   "metadata": {},
   "outputs": [],
   "source": []
  },
  {
   "cell_type": "markdown",
   "id": "4255a1b7-9c2f-465f-ba89-ea5185ade738",
   "metadata": {},
   "source": [
    "9. What is the mean of monthly stock for 2020? Use the resample function.\n"
   ]
  },
  {
   "cell_type": "code",
   "execution_count": null,
   "id": "219ed66a-7fa2-40b9-92b2-33f3e6f361cb",
   "metadata": {},
   "outputs": [],
   "source": []
  },
  {
   "cell_type": "markdown",
   "id": "5be8cfb2-9583-4c87-9f9d-5a4628c9cac1",
   "metadata": {},
   "source": [
    "10. Plot monthly means as a line chart\n"
   ]
  },
  {
   "cell_type": "code",
   "execution_count": null,
   "id": "8450ca65-fd80-4060-9598-4107b11fbc04",
   "metadata": {},
   "outputs": [],
   "source": []
  },
  {
   "cell_type": "markdown",
   "id": "b0c5a176-5a7f-437a-a2ed-d0f218208407",
   "metadata": {},
   "source": [
    "11. Modify means to weekly stock. \n"
   ]
  },
  {
   "cell_type": "code",
   "execution_count": null,
   "id": "2a3ff4e5-0d30-46d1-a7b8-b352f7bc3d6b",
   "metadata": {},
   "outputs": [],
   "source": []
  },
  {
   "cell_type": "markdown",
   "id": "cdf8a830-ae60-41a3-9267-5246f2c1fd65",
   "metadata": {},
   "source": [
    "12. Plot weekly means as a bar chart"
   ]
  },
  {
   "cell_type": "code",
   "execution_count": null,
   "id": "150f1c16-226b-47f6-b25b-889558308602",
   "metadata": {},
   "outputs": [],
   "source": []
  }
 ],
 "metadata": {
  "kernelspec": {
   "display_name": "Python 3 (ipykernel)",
   "language": "python",
   "name": "python3"
  },
  "language_info": {
   "codemirror_mode": {
    "name": "ipython",
    "version": 3
   },
   "file_extension": ".py",
   "mimetype": "text/x-python",
   "name": "python",
   "nbconvert_exporter": "python",
   "pygments_lexer": "ipython3",
   "version": "3.11.7"
  }
 },
 "nbformat": 4,
 "nbformat_minor": 5
}
