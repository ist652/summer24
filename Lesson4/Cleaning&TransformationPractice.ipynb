{
 "cells": [
  {
   "cell_type": "markdown",
   "id": "279af9be-0867-46ba-9438-9de821c1b934",
   "metadata": {},
   "source": [
    "### DATA CLEANING  AND TRANSFORMATION "
   ]
  },
  {
   "cell_type": "markdown",
   "id": "a3516ed0-9517-4ba2-a6ba-62cb31ed1067",
   "metadata": {},
   "source": [
    "#### EXERCISE 1  \n",
    "- Create a data frame of random numbers within a pre-determined range. Include missing values.  \n",
    "- Replace missing values with zeros! \n",
    "- Replace missing values with a mean value.  "
   ]
  },
  {
   "cell_type": "code",
   "execution_count": null,
   "id": "894ea28a-4bc9-4a4a-ae6e-bd3f740ca7ba",
   "metadata": {},
   "outputs": [],
   "source": []
  },
  {
   "cell_type": "code",
   "execution_count": null,
   "id": "9d5603ec-8d48-42aa-9405-af9b03750e31",
   "metadata": {},
   "outputs": [],
   "source": []
  },
  {
   "cell_type": "code",
   "execution_count": null,
   "id": "67e60685-429a-4c49-b91c-2a4a5ca473c3",
   "metadata": {},
   "outputs": [],
   "source": []
  },
  {
   "cell_type": "markdown",
   "id": "3bbda725-c00f-48ed-a091-367fe5442935",
   "metadata": {},
   "source": [
    "### EXERCISE 2 \n",
    "- Import the dataset called employees_info.csv \n",
    "- Get all the column names  Get multiple rows by giving a range of the index \n",
    "- Get multiple rows and columns using loc \n",
    "- Get the records based on conditions. For example, all accounting employees  \n",
    "- Group data by department "
   ]
  },
  {
   "cell_type": "code",
   "execution_count": null,
   "id": "54944433-c965-4c63-8fd7-92c34adeccb8",
   "metadata": {},
   "outputs": [],
   "source": []
  },
  {
   "cell_type": "code",
   "execution_count": null,
   "id": "5c1b5e75-b296-4154-a2ce-d658d29449c0",
   "metadata": {},
   "outputs": [],
   "source": []
  },
  {
   "cell_type": "code",
   "execution_count": null,
   "id": "971f7463-9aa4-4bac-bec0-e718ee7407eb",
   "metadata": {},
   "outputs": [],
   "source": []
  },
  {
   "cell_type": "markdown",
   "id": "a7d526bd-9222-4167-92f8-f24343e937ea",
   "metadata": {},
   "source": [
    "##EXERCISE 3 Create a data frame with 5 rows and 4 columns, Use a  method of your choice.  Ensure you have outliers and duplicate values . Filter out outliers Iden�fy duplicate values in a specific row.  Modify  duplicate values. Create an index and columns headers "
   ]
  }
 ],
 "metadata": {
  "kernelspec": {
   "display_name": "Python 3 (ipykernel)",
   "language": "python",
   "name": "python3"
  },
  "language_info": {
   "codemirror_mode": {
    "name": "ipython",
    "version": 3
   },
   "file_extension": ".py",
   "mimetype": "text/x-python",
   "name": "python",
   "nbconvert_exporter": "python",
   "pygments_lexer": "ipython3",
   "version": "3.11.7"
  }
 },
 "nbformat": 4,
 "nbformat_minor": 5
}
