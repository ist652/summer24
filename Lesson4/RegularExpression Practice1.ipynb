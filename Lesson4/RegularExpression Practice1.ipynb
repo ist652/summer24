{
 "cells": [
  {
   "cell_type": "markdown",
   "id": "5a9b9b82",
   "metadata": {},
   "source": [
    "# Regular Expressions Practice \n",
    "#### For more details see ... https://www.programiz.com/python-programming/regex\n"
   ]
  },
  {
   "cell_type": "code",
   "execution_count": null,
   "id": "e0f404cb",
   "metadata": {},
   "outputs": [],
   "source": [
    "import re"
   ]
  },
  {
   "cell_type": "markdown",
   "id": "7ab63e25",
   "metadata": {},
   "source": [
    "#### Question 1\n",
    "#### The code below searches the string to determine if it begins with \"The\" and ends with \"sunny\":\n",
    "####  Using wildcards complete the code below...\n"
   ]
  },
  {
   "cell_type": "code",
   "execution_count": null,
   "id": "b90a3179",
   "metadata": {},
   "outputs": [],
   "source": [
    "txt = \"The weather today is sunny\"\n",
    "x = re.search(#TODO)\n",
    "    \n",
    "# Output whether there is a match or not"
   ]
  },
  {
   "cell_type": "markdown",
   "id": "c856f2e8",
   "metadata": {},
   "source": [
    "#### Question 2\n",
    "#### Write a search that does not return a match. Explain your output you receive. "
   ]
  },
  {
   "cell_type": "code",
   "execution_count": null,
   "id": "6ed85ed6",
   "metadata": {},
   "outputs": [],
   "source": [
    "# Question 2"
   ]
  },
  {
   "cell_type": "markdown",
   "id": "7b049ea6",
   "metadata": {},
   "source": [
    "#### Question 3\n",
    "#### Write a search for the first white-space character in a string. Your output should indicate the position."
   ]
  },
  {
   "cell_type": "code",
   "execution_count": null,
   "id": "fc038a06",
   "metadata": {},
   "outputs": [],
   "source": [
    "# Question 3"
   ]
  },
  {
   "cell_type": "markdown",
   "id": "5bffd1d9",
   "metadata": {},
   "source": [
    "#### Question 4 \n",
    "#### Replace all the whitespace with an underscore in a string."
   ]
  },
  {
   "cell_type": "code",
   "execution_count": null,
   "id": "1e93738f",
   "metadata": {},
   "outputs": [],
   "source": [
    "# Question 4"
   ]
  },
  {
   "cell_type": "markdown",
   "id": "4a553e89",
   "metadata": {},
   "source": [
    "#### Question 5\n",
    "#### Match 0 or more times. Complete the code below. Explain what does the method function finditer work?"
   ]
  },
  {
   "cell_type": "code",
   "execution_count": null,
   "id": "be562394",
   "metadata": {},
   "outputs": [],
   "source": [
    "s = \"CPython, IronPython, and JPython are major Python's implementation\"\n",
    "\n",
    "matches = re.finditer(# TODO)\n",
    "\n",
    "for match in matches:\n",
    "    print(match)"
   ]
  },
  {
   "cell_type": "code",
   "execution_count": null,
   "id": "98f3bf0d",
   "metadata": {},
   "outputs": [],
   "source": []
  }
 ],
 "metadata": {
  "kernelspec": {
   "display_name": "Python 3 (ipykernel)",
   "language": "python",
   "name": "python3"
  },
  "language_info": {
   "codemirror_mode": {
    "name": "ipython",
    "version": 3
   },
   "file_extension": ".py",
   "mimetype": "text/x-python",
   "name": "python",
   "nbconvert_exporter": "python",
   "pygments_lexer": "ipython3",
   "version": "3.9.6"
  }
 },
 "nbformat": 4,
 "nbformat_minor": 5
}
