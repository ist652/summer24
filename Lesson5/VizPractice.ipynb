{
 "cells": [
  {
   "cell_type": "markdown",
   "id": "30cdce63-cadb-457d-a49f-63f47c9546da",
   "metadata": {},
   "source": [
    "### VISUALIZATION PRACTICE "
   ]
  },
  {
   "cell_type": "markdown",
   "id": "ed54b9a1-abd1-410c-b93b-0653bd1cf9ab",
   "metadata": {},
   "source": [
    "#### PART 1: MATPLOTLIB\n",
    "\n",
    "Review the following …\n",
    "https://matplotlib.org/stable/tutorials/introductory/quick_start.html#sphx-glr-tutorials-introductory-quick-start-py\n",
    "\n",
    "Create a Jupyter notebook that satisfies the following requirements:\n",
    "\n",
    "Here is an overview of examples … https://matplotlib.org/stable/plot_types/index.html\n",
    "\n",
    "Using your project data generate **THREE**  graphs using matplotlib. Graphs cannot be of the same type (i.e. one could be a line chart, and the other one a bar chart, for example) they must convey different results/insights. \n",
    "\n",
    "* Note: To see the code for each of the graph examples, click on the graph. You can then copy the code into your notebook and modify it for your own purposes.  Alternatively, you can download the source code. Use markdown cells to justify your visualization choice\n"
   ]
  },
  {
   "cell_type": "code",
   "execution_count": null,
   "id": "2d2e8320-41a3-4213-bad1-a24d4698b829",
   "metadata": {},
   "outputs": [],
   "source": []
  },
  {
   "cell_type": "code",
   "execution_count": null,
   "id": "4685742f-98be-4943-ad0c-9b421d9ddda9",
   "metadata": {},
   "outputs": [],
   "source": []
  },
  {
   "cell_type": "code",
   "execution_count": null,
   "id": "b5a0d4bb-16b4-4a38-b69d-20193c789866",
   "metadata": {},
   "outputs": [],
   "source": []
  },
  {
   "cell_type": "markdown",
   "id": "21085350-bd72-4be9-a93a-ee5b750c6dba",
   "metadata": {},
   "source": [
    "### PART 2: SEABORN\n",
    "\n",
    "Create a Jupyter notebook that satisfies the following requirements:\n",
    "    \n",
    "Using your project data generate THREE  graphs using Seaborn.\n",
    "https://seaborn.pydata.org/\n",
    "\n",
    "(see the Gallery section) to generate graphs using Seaborn. \n",
    "The graphs must use different data from that used in the examples. \n",
    "\n",
    "The two graphs cannot be of the same type (i.e. one could be a line chat, the other one a bar chart, etc) and they must convey different results/insights. Justify your visualization choice. Use markdown cells to justify your visualization choice and compare your experience between Seaborn and Matplotlib.\n"
   ]
  },
  {
   "cell_type": "code",
   "execution_count": null,
   "id": "c0e422bb-41fc-4929-92f5-42e2c9b34082",
   "metadata": {},
   "outputs": [],
   "source": []
  },
  {
   "cell_type": "code",
   "execution_count": null,
   "id": "f090cd0f-6618-434a-9a60-6d6a48a2359e",
   "metadata": {},
   "outputs": [],
   "source": []
  },
  {
   "cell_type": "code",
   "execution_count": null,
   "id": "5460c663-5ba7-462f-8f0d-ae7c5728c339",
   "metadata": {},
   "outputs": [],
   "source": []
  },
  {
   "cell_type": "code",
   "execution_count": null,
   "id": "24d04fa8-cb0f-4e69-a3cc-61c803bb5f43",
   "metadata": {},
   "outputs": [],
   "source": []
  },
  {
   "cell_type": "markdown",
   "id": "f91b7675-05a1-46ea-9440-c82eb55ed551",
   "metadata": {},
   "source": [
    "#### PART 3: GEOPANDAS \n",
    "\n",
    "Review the following tutorial … https://www.datacamp.com/tutorial/geopandas-tutorial-geospatial-analysis \n",
    "\n",
    "Create a Jupyter notebook that satisfies the following requirements:\n",
    "Using the capitals.csv file \n",
    "- Read in the csv file as a dataframe\n",
    "- Create shapely points from the geocoordinates\n",
    "- Make a geodataframe out of the df and new points\n",
    "- Confirm for the geodataframe that is used lat/lon \n",
    "\n",
    "Using the states.shp file in the states zip folder \n",
    "- plot the states\n",
    "- filter states with populations that are over 20000000 and plot these results. Locate population data. \n",
    "\n",
    "\n",
    "Option 2: Instead of using the dataset provided above use your own if applicable i.e. you have geocoordinates available.  \n"
   ]
  },
  {
   "cell_type": "code",
   "execution_count": null,
   "id": "d78ba2e5-0383-456f-b905-166a170a5b96",
   "metadata": {},
   "outputs": [],
   "source": []
  }
 ],
 "metadata": {
  "kernelspec": {
   "display_name": "Python 3 (ipykernel)",
   "language": "python",
   "name": "python3"
  },
  "language_info": {
   "codemirror_mode": {
    "name": "ipython",
    "version": 3
   },
   "file_extension": ".py",
   "mimetype": "text/x-python",
   "name": "python",
   "nbconvert_exporter": "python",
   "pygments_lexer": "ipython3",
   "version": "3.11.7"
  }
 },
 "nbformat": 4,
 "nbformat_minor": 5
}
