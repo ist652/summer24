{
 "cells": [
  {
   "cell_type": "code",
   "execution_count": null,
   "id": "innovative-drink",
   "metadata": {},
   "outputs": [],
   "source": [
    "from statsmodels.compat import lzip\n",
    "import numpy as np\n",
    "import matplotlib.pyplot as plt\n",
    "import statsmodels.api as sm\n",
    "from statsmodels.formula.api import ols\n",
    "\n",
    "plt.rc(\"figure\", figsize=(16,8))\n",
    "plt.rc(\"font\", size=14)"
   ]
  },
  {
   "cell_type": "code",
   "execution_count": null,
   "id": "unsigned-privacy",
   "metadata": {},
   "outputs": [],
   "source": [
    "prestige = sm.datasets.get_rdataset(\"Duncan\", \"carData\", cache=True).data"
   ]
  },
  {
   "cell_type": "code",
   "execution_count": null,
   "id": "49d3255d",
   "metadata": {},
   "outputs": [],
   "source": [
    "datasetobj=sm.datasets.get_rdataset(\"Duncan\", \"carData\", cache=True)"
   ]
  },
  {
   "cell_type": "code",
   "execution_count": null,
   "id": "10cdbec5",
   "metadata": {},
   "outputs": [],
   "source": [
    "print(datasetobj.__doc__)"
   ]
  },
  {
   "cell_type": "code",
   "execution_count": null,
   "id": "0bafeaf4",
   "metadata": {},
   "outputs": [],
   "source": [
    "#Let's work just with the data part of the object\n",
    "prestige = datasetobj.data"
   ]
  },
  {
   "cell_type": "code",
   "execution_count": null,
   "id": "stock-brisbane",
   "metadata": {},
   "outputs": [],
   "source": [
    "prestige.head()"
   ]
  },
  {
   "cell_type": "code",
   "execution_count": null,
   "id": "91270221",
   "metadata": {},
   "outputs": [],
   "source": [
    "prestige.info()"
   ]
  },
  {
   "cell_type": "markdown",
   "id": "6122ce06",
   "metadata": {},
   "source": [
    "To learn about OLS check out: https://setosa.io/ev/ordinary-least-squares-regression/"
   ]
  },
  {
   "cell_type": "code",
   "execution_count": null,
   "id": "fancy-martin",
   "metadata": {},
   "outputs": [],
   "source": [
    "prestige_model = ols(\"prestige ~ income + education\", data=prestige).fit()"
   ]
  },
  {
   "cell_type": "code",
   "execution_count": null,
   "id": "applied-gambling",
   "metadata": {},
   "outputs": [],
   "source": [
    "print(prestige_model.summary())"
   ]
  },
  {
   "cell_type": "code",
   "execution_count": null,
   "id": "arranged-optics",
   "metadata": {},
   "outputs": [],
   "source": [
    "fig = sm.graphics.plot_fit(prestige_model, \"education\")\n",
    "fig.tight_layout(pad=1.0)"
   ]
  },
  {
   "cell_type": "markdown",
   "id": "maritime-heading",
   "metadata": {},
   "source": [
    "To explore further see: https://www.statsmodels.org/stable/examples/notebooks/generated/regression_plots.html"
   ]
  },
  {
   "cell_type": "code",
   "execution_count": null,
   "id": "governing-marketing",
   "metadata": {},
   "outputs": [],
   "source": [
    "fig = sm.graphics.plot_partregress(\"prestige\", \"income\", [\"education\"], data=prestige)\n",
    "fig.tight_layout(pad=1.0)"
   ]
  },
  {
   "cell_type": "code",
   "execution_count": null,
   "id": "numeric-headset",
   "metadata": {},
   "outputs": [],
   "source": [
    "#The partial regression plot confirms the influence of conductor, minister, and RR.engineer on the partial\n",
    "#relationship between income and prestige. The cases greatly decrease the effect of income on prestige\n",
    "#Let's take those professions out of our next analysis\n",
    "subset = ~prestige.index.isin([\"conductor\", \"RR.engineer\", \"minister\"])\n",
    "prestige_model2 = ols(\n",
    "    \"prestige ~ income + education\", data=prestige, subset=subset\n",
    ").fit()\n",
    "print(prestige_model2.summary())"
   ]
  }
 ],
 "metadata": {
  "kernelspec": {
   "display_name": "Python 3 (ipykernel)",
   "language": "python",
   "name": "python3"
  },
  "language_info": {
   "codemirror_mode": {
    "name": "ipython",
    "version": 3
   },
   "file_extension": ".py",
   "mimetype": "text/x-python",
   "name": "python",
   "nbconvert_exporter": "python",
   "pygments_lexer": "ipython3",
   "version": "3.9.6"
  }
 },
 "nbformat": 4,
 "nbformat_minor": 5
}
