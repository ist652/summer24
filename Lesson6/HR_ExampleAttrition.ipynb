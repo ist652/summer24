{
 "cells": [
  {
   "cell_type": "markdown",
   "id": "boring-rachel",
   "metadata": {},
   "source": [
    "# Employee Attrition\n"
   ]
  },
  {
   "cell_type": "markdown",
   "id": "hairy-break",
   "metadata": {},
   "source": [
    "### Data set used in this analysis\n",
    "<p>HR dataset named ‘IBM HR Analytics Employee Attrition & Performance’ </p>\n"
   ]
  },
  {
   "cell_type": "markdown",
   "id": "duplicate-pickup",
   "metadata": {},
   "source": [
    "### Importing libraries for data handling and analysis\n"
   ]
  },
  {
   "cell_type": "code",
   "execution_count": null,
   "id": "lined-checklist",
   "metadata": {},
   "outputs": [],
   "source": [
    "import pandas as pd\n",
    "from pandas.plotting import scatter_matrix\n",
    "from pandas import ExcelWriter\n",
    "from pandas import ExcelFile\n",
    "import numpy as np\n",
    "from scipy.stats import norm, skew\n",
    "from scipy import stats\n",
    "import statsmodels.api as sm"
   ]
  },
  {
   "cell_type": "markdown",
   "id": "quarterly-british",
   "metadata": {},
   "source": [
    "### Importing libraries for data visualisations\n"
   ]
  },
  {
   "cell_type": "code",
   "execution_count": null,
   "id": "upset-magnet",
   "metadata": {},
   "outputs": [],
   "source": [
    "import seaborn as sns\n",
    "from matplotlib import pyplot\n",
    "import matplotlib.pyplot as plt\n",
    "import matplotlib.pylab as pylab\n",
    "import matplotlib\n",
    "%matplotlib inline\n",
    "color = sns.color_palette()\n",
    "from IPython.display import display\n",
    "pd.options.display.max_columns = None"
   ]
  },
  {
   "cell_type": "markdown",
   "id": "81f263fc",
   "metadata": {},
   "source": [
    "### Explain the functionalities of the above libraries below "
   ]
  },
  {
   "cell_type": "markdown",
   "id": "6afc8a96",
   "metadata": {},
   "source": []
  },
  {
   "cell_type": "markdown",
   "id": "6a0a7e36",
   "metadata": {},
   "source": [
    "## Loading the dataset"
   ]
  },
  {
   "cell_type": "code",
   "execution_count": null,
   "id": "bc4a3fb3",
   "metadata": {},
   "outputs": [],
   "source": [
    "import zipfile\n",
    " \n",
    "# open zipped dataset\n",
    "with zipfile.ZipFile(\"attrition.zip\") as z:\n",
    "   # open the csv file in the dataset\n",
    "   with z.open(\"WA_Fn-UseC_-HR-Employee-Attrition.csv\") as f:\n",
    "       \n",
    "      # read the dataset\n",
    "      attrition = pd.read_csv(f)\n",
    "       \n",
    "attrition.head()"
   ]
  },
  {
   "cell_type": "markdown",
   "id": "cfe06711",
   "metadata": {},
   "source": [
    "Information on the dataset can be found here:\n",
    "\n",
    "http://inseaddataanalytics.github.io/INSEADAnalytics/groupprojects/January2018FBL/IBM_Attrition_VSS.html"
   ]
  },
  {
   "cell_type": "code",
   "execution_count": null,
   "id": "cc7d3c59",
   "metadata": {},
   "outputs": [],
   "source": [
    "#Exploring and understanding the dataset\n",
    "# Write code below"
   ]
  },
  {
   "cell_type": "markdown",
   "id": "elect-monthly",
   "metadata": {},
   "source": [
    "### Data Cleaning and Transformation"
   ]
  },
  {
   "cell_type": "code",
   "execution_count": null,
   "id": "33a63890",
   "metadata": {},
   "outputs": [],
   "source": [
    "#checking for duplicate row entries in the data\n",
    "# Write code below"
   ]
  },
  {
   "cell_type": "code",
   "execution_count": null,
   "id": "dd670871",
   "metadata": {},
   "outputs": [],
   "source": [
    "#Computing number of unique values in the fields (columns) of the dataset\n",
    "# Write code below"
   ]
  },
  {
   "cell_type": "code",
   "execution_count": null,
   "id": "external-timothy",
   "metadata": {},
   "outputs": [],
   "source": [
    "#Checking for redundant columns\n",
    "# Write code below"
   ]
  },
  {
   "cell_type": "code",
   "execution_count": null,
   "id": "revolutionary-identifier",
   "metadata": {},
   "outputs": [],
   "source": [
    "#Removing redundant columns\n",
    "# Write code below"
   ]
  },
  {
   "cell_type": "markdown",
   "id": "efcbb76d",
   "metadata": {},
   "source": [
    "For conversion to Categorical type, we only want to use non-numeric columns"
   ]
  },
  {
   "cell_type": "code",
   "execution_count": null,
   "id": "759c16ca",
   "metadata": {},
   "outputs": [],
   "source": [
    "#For \"dirtier\" version of the dataset, this would have been needed\n",
    "#attrition['MaritalStatus']= attrition['MaritalStatus'].replace('Divorcedddd','Divorced')\n",
    "#attrition['MaritalStatus']= attrition['MaritalStatus'].replace('Divorceddd','Divorced')"
   ]
  },
  {
   "cell_type": "code",
   "execution_count": null,
   "id": "9a4aba3a",
   "metadata": {},
   "outputs": [],
   "source": [
    "#Checking for columns to convert to Categorical\n",
    "# Write code below"
   ]
  },
  {
   "cell_type": "code",
   "execution_count": null,
   "id": "d3f0ec35",
   "metadata": {},
   "outputs": [],
   "source": [
    "# Convert appropriate columns to categories. \n",
    "# Write code below"
   ]
  },
  {
   "cell_type": "markdown",
   "id": "a60a562d",
   "metadata": {},
   "source": [
    "### Exploratory Data Analysis"
   ]
  },
  {
   "cell_type": "markdown",
   "id": "6f3c3357",
   "metadata": {},
   "source": [
    "Analyzing outliers"
   ]
  },
  {
   "cell_type": "code",
   "execution_count": null,
   "id": "8c0f28ff",
   "metadata": {},
   "outputs": [],
   "source": [
    "# Are there any outliers in the Age variable?\n",
    "plt.boxplot(attrition['Age'])"
   ]
  },
  {
   "cell_type": "code",
   "execution_count": null,
   "id": "183fafbe",
   "metadata": {},
   "outputs": [],
   "source": [
    "# Are there any outliers in the TotalWorkingYears variable?\n",
    "plt.boxplot(attrition['TotalWorkingYears'])"
   ]
  },
  {
   "cell_type": "code",
   "execution_count": null,
   "id": "massive-photographer",
   "metadata": {},
   "outputs": [],
   "source": [
    "# Describe the function below\n",
    "def outliers(df, column):\n",
    "    lower_quart=df[column].quantile(0.25)\n",
    "    upper_quart=df[column].quantile(0.75)\n",
    "    IQR=upper_quart-lower_quart\n",
    "    threshold=1.5*IQR\n",
    "    return df[df[column].between((lower_quart-threshold),(upper_quart+threshold))]\n",
    "\n"
   ]
  },
  {
   "cell_type": "code",
   "execution_count": null,
   "id": "designing-garbage",
   "metadata": {},
   "outputs": [],
   "source": [
    "#Let us just keep records that are not outliers\n",
    "attrition=outliers(attrition,'TotalWorkingYears')"
   ]
  },
  {
   "cell_type": "code",
   "execution_count": null,
   "id": "atlantic-pencil",
   "metadata": {},
   "outputs": [],
   "source": [
    "attrition.shape"
   ]
  },
  {
   "cell_type": "markdown",
   "id": "placed-lottery",
   "metadata": {},
   "source": [
    "#### Correlation Matrix"
   ]
  },
  {
   "cell_type": "code",
   "execution_count": null,
   "id": "comfortable-veteran",
   "metadata": {},
   "outputs": [],
   "source": [
    "x=attrition.corr()\n",
    "x"
   ]
  },
  {
   "cell_type": "code",
   "execution_count": null,
   "id": "dressed-publication",
   "metadata": {},
   "outputs": [],
   "source": [
    "plt.figure(figsize=(25,20))\n",
    "sns.heatmap(attrition.corr(), annot=True) # Correlation between the Columns to find the highly correlated columns to remove multi-collinearity\n",
    "plt.title('Heatmap Correlation between the Input features')"
   ]
  },
  {
   "cell_type": "markdown",
   "id": "perceived-quick",
   "metadata": {},
   "source": [
    "##### Insights for correlation matrix:"
   ]
  },
  {
   "cell_type": "markdown",
   "id": "peripheral-yorkshire",
   "metadata": {},
   "source": [
    "We'll consider high correlations (i.e., between 0.7 and 1 for direct correlation and from −1 to −0.7 for inverse correlation): \n",
    "\n",
    "Explain findings\n"
   ]
  },
  {
   "cell_type": "markdown",
   "id": "cb99bfa6",
   "metadata": {},
   "source": [
    "## Data Analysis"
   ]
  },
  {
   "cell_type": "markdown",
   "id": "broken-parts",
   "metadata": {},
   "source": [
    "### Department with highest attrition rates"
   ]
  },
  {
   "cell_type": "code",
   "execution_count": null,
   "id": "3e12ba6e",
   "metadata": {},
   "outputs": [],
   "source": [
    "df=attrition['Attrition'].groupby(attrition['Department']).value_counts(normalize=False)\n",
    "df"
   ]
  },
  {
   "cell_type": "code",
   "execution_count": null,
   "id": "b925be7b",
   "metadata": {},
   "outputs": [],
   "source": [
    "df=df.reset_index()\n",
    "df"
   ]
  },
  {
   "cell_type": "code",
   "execution_count": null,
   "id": "7a5df654",
   "metadata": {},
   "outputs": [],
   "source": [
    "#Need to rename columns so that the values are correctly interpreted\n",
    "df=df.rename(columns={\"Attrition\":\"Count of Employees\",\"level_1\":\"Attrition\"})\n",
    "df"
   ]
  },
  {
   "cell_type": "code",
   "execution_count": null,
   "id": "aware-blond",
   "metadata": {},
   "outputs": [],
   "source": [
    "sns.barplot(x=\"Department\",y=\"Count of Employees\",hue=\"Attrition\",data=df)\n",
    "plt.title('Attrition for employees of Different Departments')"
   ]
  },
  {
   "cell_type": "code",
   "execution_count": null,
   "id": "d99c6f05",
   "metadata": {},
   "outputs": [],
   "source": [
    "# Looking at the values from a proportions perspective\n",
    "df=attrition['Attrition'].groupby(attrition['Department']).value_counts(normalize=True).reset_index()\n",
    "df=df.rename(columns={\"Attrition\":\"Count of Employees\",\"level_1\":\"Attrition\"})\n",
    "sns.barplot(x=\"Department\",y=\"Count of Employees\",hue=\"Attrition\",data=df)\n",
    "plt.title('Attrition of employees per Department - Proportions')"
   ]
  },
  {
   "cell_type": "code",
   "execution_count": null,
   "id": "faff6c78",
   "metadata": {},
   "outputs": [],
   "source": [
    "#Average Environment Satisfaction per Department and attrition. Error bars indicate the 95% ci values (95% ci is the default)\n",
    "ax = sns.catplot(x = 'Attrition' , hue = 'Department' , y = 'EnvironmentSatisfaction', data = attrition, kind = \"bar\")\n",
    "plt.title('Attrition for different department employees considering their EnvironmentSatisfaction')"
   ]
  },
  {
   "cell_type": "code",
   "execution_count": null,
   "id": "8ead0a28",
   "metadata": {},
   "outputs": [],
   "source": [
    "#Average distance from home per department and attrition. ci=90%\n",
    "ax = sns.catplot(x = 'Attrition' , hue = 'Department' , y = 'DistanceFromHome', ci=90, data = attrition, kind = \"bar\")\n",
    "plt.title('Attrition for different department employees considering their Distance From Home')"
   ]
  },
  {
   "cell_type": "code",
   "execution_count": null,
   "id": "edc5fa34",
   "metadata": {},
   "outputs": [],
   "source": [
    "### Explain code above. What addtional analysis would you do?"
   ]
  },
  {
   "cell_type": "markdown",
   "id": "interior-jerusalem",
   "metadata": {},
   "source": [
    "##### What insights does this analysis provide: "
   ]
  },
  {
   "cell_type": "markdown",
   "id": "rapid-therapy",
   "metadata": {},
   "source": []
  },
  {
   "cell_type": "markdown",
   "id": "fabulous-relaxation",
   "metadata": {},
   "source": [
    "### Job Role with highest Attrition rate"
   ]
  },
  {
   "cell_type": "code",
   "execution_count": null,
   "id": "regional-montana",
   "metadata": {},
   "outputs": [],
   "source": [
    "attrition['JobRole'].unique()"
   ]
  },
  {
   "cell_type": "code",
   "execution_count": null,
   "id": "brief-campaign",
   "metadata": {},
   "outputs": [],
   "source": [
    "new_graph = sns.countplot(attrition['JobRole'])\n",
    "\n",
    "new_graph.set_xticklabels(labels = attrition['JobRole'].unique(), rotation=90)\n",
    "\n",
    "plt.title('Employees per Job Role')\n"
   ]
  },
  {
   "cell_type": "code",
   "execution_count": null,
   "id": "75725ef4",
   "metadata": {},
   "outputs": [],
   "source": [
    "#Attrition per Job Role\n",
    "fig=plt.subplots(figsize=(20,5))  #stretching the plot\n",
    "df=attrition['Attrition'].groupby(attrition['JobRole']).value_counts(normalize=False).reset_index()\n",
    "df=df.rename(columns={\"Attrition\":\"Count of Employees\",\"level_1\":\"Attrition\"})\n",
    "sns.barplot(x=\"JobRole\",y=\"Count of Employees\",hue=\"Attrition\",data=df)\n",
    "plt.title('Attrition of employees per Job Role')"
   ]
  },
  {
   "cell_type": "code",
   "execution_count": null,
   "id": "honest-daniel",
   "metadata": {},
   "outputs": [],
   "source": [
    "#Attrition per Job Level\n",
    "df=attrition['Attrition'].groupby(attrition['JobLevel']).value_counts(normalize=False).reset_index()\n",
    "df=df.rename(columns={\"Attrition\":\"Count of Employees\",\"level_1\":\"Attrition\"})\n",
    "sns.barplot(x=\"JobLevel\",y=\"Count of Employees\",hue=\"Attrition\",data=df)\n",
    "plt.title('Attrition for employees of Different Job Levels')"
   ]
  },
  {
   "cell_type": "code",
   "execution_count": null,
   "id": "84c65516",
   "metadata": {},
   "outputs": [],
   "source": [
    "#Attrition per Job Level - proportions\n",
    "df=attrition['Attrition'].groupby(attrition['JobLevel']).value_counts(normalize=True).reset_index()\n",
    "df=df.rename(columns={\"Attrition\":\"Count of Employees\",\"level_1\":\"Attrition\"})\n",
    "sns.barplot(x=\"JobLevel\",y=\"Count of Employees\",hue=\"Attrition\",data=df)\n",
    "plt.title('Attrition for employees of Different Job Levels - Proportions')"
   ]
  },
  {
   "cell_type": "code",
   "execution_count": null,
   "id": "f12499cc",
   "metadata": {},
   "outputs": [],
   "source": [
    "### Explain above code"
   ]
  },
  {
   "cell_type": "markdown",
   "id": "expressed-lease",
   "metadata": {},
   "source": [
    "##### What insights does this analysis provide:"
   ]
  },
  {
   "cell_type": "markdown",
   "id": "strange-light",
   "metadata": {},
   "source": []
  },
  {
   "cell_type": "markdown",
   "id": "thousand-parts",
   "metadata": {},
   "source": [
    "### Effect of hourly rate of an employee on Attrition"
   ]
  },
  {
   "cell_type": "code",
   "execution_count": null,
   "id": "terminal-final",
   "metadata": {},
   "outputs": [],
   "source": [
    "sns.distplot(attrition['HourlyRate'], bins = 20)\n",
    "plt.title('Distribution of HourlyRate attribute')"
   ]
  },
  {
   "cell_type": "code",
   "execution_count": null,
   "id": "superior-debut",
   "metadata": {},
   "outputs": [],
   "source": [
    "# Labels to be used for creating the discrete values for the continuous valued columns \n",
    "\n",
    "labels = ['25-45', '45-60', '60-80', '80-110']\n",
    "\n",
    "# Discretizing the HourlyRate into 4 discrete bins as defined below\n",
    "\n",
    "attrition['HourlyRate'] = pd.cut(attrition['HourlyRate'], bins = [25,45,60,80,110], labels = labels)\n"
   ]
  },
  {
   "cell_type": "code",
   "execution_count": null,
   "id": "agreed-enzyme",
   "metadata": {},
   "outputs": [],
   "source": [
    "sns.countplot(attrition['HourlyRate'])\n",
    "plt.title('Discretized HourlyRate attribute distribution')"
   ]
  },
  {
   "cell_type": "code",
   "execution_count": null,
   "id": "ef8003f9",
   "metadata": {},
   "outputs": [],
   "source": [
    "#Functions to create our attrition graphs \n",
    "#Graph with employee counts\n",
    "def attritiongraph(inpdata, column):\n",
    "    df=inpdata['Attrition'].groupby(inpdata[column]).value_counts(normalize=False).reset_index()\n",
    "    df=df.rename(columns={\"Attrition\":\"Count of Employees\",\"level_1\":\"Attrition\"})\n",
    "    sns.barplot(x=column,y=\"Count of Employees\",hue=\"Attrition\",data=df)\n",
    "\n",
    "#Graph with proportions of the count of employees\n",
    "def attritionpropgraph(inpdata, column):\n",
    "    df=inpdata['Attrition'].groupby(inpdata[column]).value_counts(normalize=True).reset_index()\n",
    "    df=df.rename(columns={\"Attrition\":\"Count of Employees\",\"level_1\":\"Attrition\"})\n",
    "    sns.barplot(x=column,y=\"Count of Employees\",hue=\"Attrition\",data=df)\n",
    "    "
   ]
  },
  {
   "cell_type": "code",
   "execution_count": null,
   "id": "fe128384",
   "metadata": {},
   "outputs": [],
   "source": [
    "#Attrition per Hourly Rate\n",
    "attritiongraph(attrition,'HourlyRate')\n",
    "plt.title('Attrition per HourlyRate')"
   ]
  },
  {
   "cell_type": "code",
   "execution_count": null,
   "id": "7c0f3b6c",
   "metadata": {},
   "outputs": [],
   "source": [
    "#Attrition per Hourly Rate - proportions\n",
    "attritionpropgraph(attrition,'HourlyRate')\n",
    "plt.title('Attrition per HourlyRate')"
   ]
  },
  {
   "cell_type": "code",
   "execution_count": null,
   "id": "36cad34d",
   "metadata": {},
   "outputs": [],
   "source": [
    "# Explain above code "
   ]
  },
  {
   "cell_type": "markdown",
   "id": "extensive-carnival",
   "metadata": {},
   "source": [
    "##### What insight doe this analysis provide:"
   ]
  },
  {
   "cell_type": "markdown",
   "id": "organic-layout",
   "metadata": {},
   "source": [
    "\n"
   ]
  },
  {
   "cell_type": "markdown",
   "id": "4a9d931c",
   "metadata": {},
   "source": [
    "### Impact of Gender on Employee Attrition"
   ]
  },
  {
   "cell_type": "code",
   "execution_count": null,
   "id": "0817eecb",
   "metadata": {},
   "outputs": [],
   "source": [
    "sns.countplot(x=attrition.Gender, hue=attrition.Attrition)  #This is a faster way of generating the graphs..\n",
    "                                                            #but proportions can't be obtained this way.\n",
    "plt.xlabel('Gender')\n",
    "plt.ylabel('Employee Count')"
   ]
  },
  {
   "cell_type": "code",
   "execution_count": null,
   "id": "ddf313eb",
   "metadata": {},
   "outputs": [],
   "source": [
    "sns.catplot(x=\"Department\", y=\"MonthlyIncome\", hue=\"Attrition\", col=\"Gender\", kind=\"bar\", data=attrition)"
   ]
  },
  {
   "cell_type": "markdown",
   "id": "3319a5d0",
   "metadata": {},
   "source": [
    "### What insights does this analysis provide**\n"
   ]
  },
  {
   "cell_type": "markdown",
   "id": "studied-india",
   "metadata": {},
   "source": [
    "### Education field of an Employee "
   ]
  },
  {
   "cell_type": "code",
   "execution_count": null,
   "id": "81c936db",
   "metadata": {},
   "outputs": [],
   "source": [
    "fig=plt.subplots(figsize=(20,5))\n",
    "attritiongraph(attrition,'EducationField')\n",
    "plt.title('Attrition per EducationField')"
   ]
  },
  {
   "cell_type": "code",
   "execution_count": null,
   "id": "c6140177",
   "metadata": {},
   "outputs": [],
   "source": [
    "fig=plt.subplots(figsize=(20,5))\n",
    "attritionpropgraph(attrition,'EducationField')\n",
    "plt.title('Attrition per EducationField')"
   ]
  },
  {
   "cell_type": "markdown",
   "id": "broken-ceremony",
   "metadata": {},
   "source": [
    "##### What insight does this analysis provide:"
   ]
  },
  {
   "cell_type": "markdown",
   "id": "quiet-ghana",
   "metadata": {},
   "source": []
  },
  {
   "cell_type": "markdown",
   "id": "variable-death",
   "metadata": {},
   "source": [
    "### Impact of Marital Status on employee attrition"
   ]
  },
  {
   "cell_type": "code",
   "execution_count": null,
   "id": "collectible-limitation",
   "metadata": {},
   "outputs": [],
   "source": [
    "attrition['MaritalStatus'].unique()\n"
   ]
  },
  {
   "cell_type": "code",
   "execution_count": null,
   "id": "center-belly",
   "metadata": {},
   "outputs": [],
   "source": [
    "sns.countplot(attrition['MaritalStatus'])\n",
    "plt.title('MaritalStatus attribute distribution')\n"
   ]
  },
  {
   "cell_type": "code",
   "execution_count": null,
   "id": "hungry-compound",
   "metadata": {},
   "outputs": [],
   "source": [
    "fig=plt.subplots(figsize=(20,5))\n",
    "attritiongraph(attrition,'MaritalStatus')\n",
    "plt.title('Attrition per MaritalStatus')"
   ]
  },
  {
   "cell_type": "markdown",
   "id": "celtic-athletics",
   "metadata": {},
   "source": [
    "##### What insight does this analysis provide?"
   ]
  },
  {
   "cell_type": "markdown",
   "id": "aggressive-gregory",
   "metadata": {},
   "source": []
  },
  {
   "cell_type": "markdown",
   "id": "illegal-appeal",
   "metadata": {},
   "source": [
    "### Employee attrition based on the number of years they spent at the company"
   ]
  },
  {
   "cell_type": "code",
   "execution_count": null,
   "id": "hearing-regression",
   "metadata": {},
   "outputs": [],
   "source": [
    "attrition['YearsAtCompany'].unique()"
   ]
  },
  {
   "cell_type": "code",
   "execution_count": null,
   "id": "presidential-fabric",
   "metadata": {},
   "outputs": [],
   "source": [
    "# Discretizing YearsAtCompany Column values into 7  groups \n",
    "attrition['YearsAtCompany'] = pd.cut(attrition['YearsAtCompany'], bins = [0,5,10,15,20,25,30], labels = ['0-5','5-10','10-15','15-20','20-25','25-30'])"
   ]
  },
  {
   "cell_type": "code",
   "execution_count": null,
   "id": "supported-method",
   "metadata": {},
   "outputs": [],
   "source": [
    "sns.countplot(attrition['YearsAtCompany'])\n",
    "plt.title('YearsAtCompany distribution')"
   ]
  },
  {
   "cell_type": "code",
   "execution_count": null,
   "id": "5dce94ac",
   "metadata": {},
   "outputs": [],
   "source": [
    "fig=plt.subplots(figsize=(20,5))\n",
    "attritiongraph(attrition,'YearsAtCompany')\n",
    "plt.title('Attrition vs. YearsAtCompany')"
   ]
  },
  {
   "cell_type": "code",
   "execution_count": null,
   "id": "f0deadc2",
   "metadata": {},
   "outputs": [],
   "source": [
    "fig=plt.subplots(figsize=(20,5))\n",
    "attritionpropgraph(attrition,'YearsAtCompany')\n",
    "plt.title('Attrition vs. YearsAtCompany')"
   ]
  },
  {
   "cell_type": "markdown",
   "id": "missing-assembly",
   "metadata": {},
   "source": [
    "##### What insight does this analysis provide:"
   ]
  },
  {
   "cell_type": "markdown",
   "id": "dominican-honey",
   "metadata": {},
   "source": []
  },
  {
   "cell_type": "markdown",
   "id": "08286779",
   "metadata": {},
   "source": [
    "### Comments\n",
    "<p>No analysis of impact of salary hike, age, years since last promotion</p>\n",
    "Build a predictive model ?"
   ]
  }
 ],
 "metadata": {
  "kernelspec": {
   "display_name": "Python 3 (ipykernel)",
   "language": "python",
   "name": "python3"
  },
  "language_info": {
   "codemirror_mode": {
    "name": "ipython",
    "version": 3
   },
   "file_extension": ".py",
   "mimetype": "text/x-python",
   "name": "python",
   "nbconvert_exporter": "python",
   "pygments_lexer": "ipython3",
   "version": "3.11.7"
  }
 },
 "nbformat": 4,
 "nbformat_minor": 5
}
