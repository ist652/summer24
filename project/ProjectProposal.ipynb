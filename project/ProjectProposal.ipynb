{
 "cells": [
  {
   "cell_type": "markdown",
   "metadata": {},
   "source": [
    "# IST 652 PROJECT PROPOSAL \n",
    "\n",
    "\n",
    "The final project for IST652 involves locating an open data set or a group of data sets of interest, formulating an inquiry or set of inquiries that could be addressed with the data,processing the data set(s) in a Jupyter Notebook environment using Python, and conducting some analyses on the data to illuminate the inquiry. The project focuses on open data in order to ensure that your chain of transformations and analysis is\n",
    "reproducible. \n",
    "\n",
    "This is the FIRST DELIVERABLE \n",
    "\n",
    "\n",
    "## Project Objective\n",
    "\n",
    "Primary objectives for the project are ..\n",
    "\n",
    "- Demonstrate your ability to write Python scripts to access and process data.\n",
    "- Describe steps taken to prepare the data for analysis. For example how did you access and ingest the data, data wrangling, formatting, feature engineering and other steps. \n",
    "- Develop a research questions you are hoping to answer from the data collected.\n",
    "- Clearly articulate findings from analysis and summarizes impactful findings.\n",
    "- Collaborate as a team.\n",
    "\n",
    "\n"
   ]
  },
  {
   "cell_type": "markdown",
   "metadata": {},
   "source": [
    "## Analysis Team \n",
    "\n",
    "List team members below and their roles (note roles may be modified in the second deliverable)\n",
    "\n",
    "`--== Double-Click and Write Your Project Summary Below This Line  ==--`\n"
   ]
  },
  {
   "cell_type": "markdown",
   "metadata": {},
   "source": [
    "## Phase 1: Ideation\n",
    "\n",
    "The goal of this phase is to outline the specific goals and objectives of your project; include evidence of its feasibility by including citations of resources you will use to complete the code.\n"
   ]
  },
  {
   "cell_type": "markdown",
   "metadata": {},
   "source": [
    "### Step 1: Project Summary \n",
    "\n",
    "Write a brief summary of your project ideas, In 250 - 500 words.\n",
    "\n",
    "`--== Double-Click and Write Below this Line  ==--`\n"
   ]
  },
  {
   "cell_type": "markdown",
   "metadata": {},
   "source": [
    "### Step 2: Datasets Research\n",
    "\n",
    "Select a dataset or a combination of datasets for your project. Many data sets are available at sites such as the World Bank ( http://data.worldbank.org ), the U.S. Federal Government ( http://www.data.gov ), - other potential sites for data sets will\n",
    "be provided by the instructor but it is recommended that you search for open data sets too on your own. However, do not use datasets from Kaggle.com. \n",
    "\n",
    "Note: The number of records (rows) present in your dataset (or total combination of datasets) must exceed 4,000 with at least 8 different categories (columns) of data.\n",
    "\n",
    "\n",
    "Clearly describe from where your data was located.Why is this resource an authority. Provide a shortlist of datasets your team is considering for your final project. Provide references to the dataset as applicable.  Include any other components necessary.\n",
    "\n",
    "\n",
    "`--== Double-Click and Write Below this Line  ==--`\n",
    "\n"
   ]
  },
  {
   "cell_type": "markdown",
   "metadata": {},
   "source": [
    "### Step 2a: Objectives \n",
    "\n",
    "What have you learned about your dataset(s) so far, and what are the questions you plan to answer with the data (a minimum of 5 questions is a good start).\n",
    "\n",
    "`--== Double-click and write below this line  ==--`\n",
    "\n",
    "\n"
   ]
  },
  {
   "cell_type": "markdown",
   "metadata": {},
   "source": [
    "### References\n",
    "\n",
    "\n",
    "`--== Double-click and write below this line  ==--`\n",
    "\n"
   ]
  },
  {
   "cell_type": "code",
   "execution_count": null,
   "metadata": {},
   "outputs": [],
   "source": []
  }
 ],
 "metadata": {
  "kernelspec": {
   "display_name": "Python 3 (ipykernel)",
   "language": "python",
   "name": "python3"
  },
  "language_info": {
   "codemirror_mode": {
    "name": "ipython",
    "version": 3
   },
   "file_extension": ".py",
   "mimetype": "text/x-python",
   "name": "python",
   "nbconvert_exporter": "python",
   "pygments_lexer": "ipython3",
   "version": "3.11.7"
  },
  "varInspector": {
   "cols": {
    "lenName": 16,
    "lenType": 16,
    "lenVar": 40
   },
   "kernels_config": {
    "python": {
     "delete_cmd_postfix": "",
     "delete_cmd_prefix": "del ",
     "library": "var_list.py",
     "varRefreshCmd": "print(var_dic_list())"
    },
    "r": {
     "delete_cmd_postfix": ") ",
     "delete_cmd_prefix": "rm(",
     "library": "var_list.r",
     "varRefreshCmd": "cat(var_dic_list()) "
    }
   },
   "types_to_exclude": [
    "module",
    "function",
    "builtin_function_or_method",
    "instance",
    "_Feature"
   ],
   "window_display": false
  }
 },
 "nbformat": 4,
 "nbformat_minor": 4
}
