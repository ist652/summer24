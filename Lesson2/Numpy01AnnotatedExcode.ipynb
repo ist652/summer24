{
 "cells": [
  {
   "cell_type": "markdown",
   "id": "66f8ae3a",
   "metadata": {},
   "source": [
    "# Introduction to Numpy"
   ]
  },
  {
   "cell_type": "code",
   "execution_count": 2,
   "id": "e2793693",
   "metadata": {},
   "outputs": [],
   "source": [
    "import numpy as np"
   ]
  },
  {
   "cell_type": "markdown",
   "id": "3af21280",
   "metadata": {},
   "source": [
    "#### NumPy is a powerful numerical computing library for Python that provides support for large, multi-dimensional arrays and matrices, along with a collection of mathematical functions to operate on these arrays efficiently. NumPy is commonly used in scientific and numerical computing tasks, such as data manipulation, mathematical operations, statistical analysis, and more.\n",
    "\n",
    "import numpy as np imports the NumPy library and assigns it the alias \"np\". \n",
    "\n",
    "The `as` keyword is used to assign the alias \"np\" to the NumPy library. This alias is a common convention in the Python community and allows us to refer to the NumPy functions and classes using the shorter and more convenient \"np\" prefix.\n",
    "\n",
    "Here are a few examples of how NumPy can be used:\n",
    "\n",
    "\n",
    "#### Create a NumPy array\n",
    "arr = np.array([1, 2, 3, 4, 5])\n",
    "\n",
    "#### Perform mathematical operations on the array\n",
    "arr_squared = np.square(arr)  # [1, 4, 9, 16, 25]\n",
    "arr_sum = np.sum(arr)  # 15\n",
    "\n",
    "#### Perform statistical analysis\n",
    "arr_mean = np.mean(arr)  # 3.0\n",
    "arr_std = np.std(arr)  # 1.41421356\n",
    "\n",
    "#### Reshape and manipulate arrays\n",
    "arr_2d = np.reshape(arr, (2, 2))  # [[1, 2], [3, 4]]\n",
    "arr_transposed = np.transpose(arr_2d)  # [[1, 3], [2, 4]]\n",
    "\n",
    "\n",
    "These are just a few examples of the many functionalities offered by NumPy. It is worth noting that NumPy's efficient implementation and array-oriented programming paradigm make it significantly faster for numerical computations compared to standard Python lists and loops.\n",
    "\n"
   ]
  },
  {
   "cell_type": "code",
   "execution_count": 4,
   "id": "8f5b7302",
   "metadata": {},
   "outputs": [
    {
     "data": {
      "text/plain": [
       "array([[1, 2, 3],\n",
       "       [4, 5, 6]])"
      ]
     },
     "execution_count": 4,
     "metadata": {},
     "output_type": "execute_result"
    }
   ],
   "source": [
    "a=np.array([[1,2,3],[4,5,6]])\n",
    "a"
   ]
  },
  {
   "cell_type": "markdown",
   "id": "c7af9b51",
   "metadata": {},
   "source": [
    "#### The above code you provided creates a NumPy array `a` with dimensions 2x3. Here's the code and the resulting array:\n",
    "\n",
    "```python\n",
    "import numpy as np\n",
    "\n",
    "a = np.array([[1, 2, 3], [4, 5, 6]])\n",
    "```\n",
    "\n",
    "The array `a` is initialized with the values:\n",
    "\n",
    "```\n",
    "[[1 2 3]\n",
    " [4 5 6]]\n",
    "```\n",
    "\n",
    "#### Each row represents a sublist within the array, and each element within the sublists represents the values within that row. So, `a[0]` refers to the first row `[1, 2, 3]`, and `a[1]` refers to the second row `[4, 5, 6]`.\n",
    "\n"
   ]
  },
  {
   "cell_type": "code",
   "execution_count": 5,
   "id": "29b3a6cb",
   "metadata": {},
   "outputs": [
    {
     "name": "stdout",
     "output_type": "stream",
     "text": [
      "[[1 2 3]\n",
      " [4 5 6]]\n"
     ]
    }
   ],
   "source": [
    "print(a)"
   ]
  },
  {
   "cell_type": "code",
   "execution_count": 6,
   "id": "e3b15d58",
   "metadata": {},
   "outputs": [
    {
     "name": "stdout",
     "output_type": "stream",
     "text": [
      "2 (2, 3) int64\n"
     ]
    }
   ],
   "source": [
    "print(a.ndim, a.shape, a.dtype)"
   ]
  },
  {
   "cell_type": "markdown",
   "id": "74f29919",
   "metadata": {},
   "source": [
    "#### Let's break down the code and explain its functionality:\n",
    "\n",
    "```python\n",
    "print(a.ndim, a.shape, a.dtype)\n",
    "```\n",
    "\n",
    "#### This line of code assumes that there is a variable named `a` defined earlier in the program. The code is using the `print` function to output information about `a`. Here's what each component of the code does:\n",
    "\n",
    "- `a.ndim`: This part of the code accesses the `ndim` attribute of the variable `a`. `ndim` stands for \"number of dimensions\" and represents the number of axes or dimensions of the array `a`. The value returned by `a.ndim` will be an integer indicating the number of dimensions of `a`.\n",
    "\n",
    "- `a.shape`: This part of the code accesses the `shape` attribute of the variable `a`. The `shape` attribute represents the dimensions of the array `a`. It returns a tuple of integers, where each integer represents the size of the corresponding dimension of `a`. For example, if `a` is a 2D array with 2 rows and 3 columns, `a.shape` would return `(2, 3)`.\n",
    "\n",
    "- `a.dtype`: This part of the code accesses the `dtype` attribute of the variable `a`. The `dtype` attribute represents the data type of the elements in the array `a`. It returns a string that specifies the type of data stored in the array, such as integer, float, string, etc.\n",
    "\n",
    "#### The `print` function is used to display the values of `a.ndim`, `a.shape`, and `a.dtype` on the console or output window.\n",
    "\n",
    "Here's an example to illustrate the usage and output of this code:\n",
    "\n",
    "```python\n",
    "import numpy as np\n",
    "\n",
    "a = np.array([[1, 2, 3], [4, 5, 6]])\n",
    "print(a.ndim, a.shape, a.dtype)\n",
    "```\n",
    "\n",
    "Output:\n",
    "```\n",
    "2 (2, 3) int64\n",
    "```\n",
    "\n"
   ]
  },
  {
   "cell_type": "code",
   "execution_count": 7,
   "id": "1c0763ca",
   "metadata": {},
   "outputs": [
    {
     "data": {
      "text/plain": [
       "array([[1., 1., 1., 1.],\n",
       "       [1., 1., 1., 1.]])"
      ]
     },
     "execution_count": 7,
     "metadata": {},
     "output_type": "execute_result"
    }
   ],
   "source": [
    "np.ones((2,4))    #array of 1s"
   ]
  },
  {
   "cell_type": "markdown",
   "id": "77c8cd3c",
   "metadata": {},
   "source": [
    "#### This code snippet utilizes the NumPy library to create a 2-dimensional array filled with ones. Let's break down its structure and functionality:\n",
    "\n",
    "```python\n",
    "np.ones((2, 4))    # array of 1s\n",
    "```\n",
    "\n",
    "1. `np.ones`: This is a NumPy function that creates a new array and fills it with a specified value. In this case, the value is `1`.\n",
    "\n",
    "2. `(2, 4)`: This is a tuple passed as an argument to the `np.ones` function. It specifies the shape of the resulting array, which is a 2x4 matrix. The first value `2` represents the number of rows, and the second value `4` represents the number of columns.\n",
    "\n",
    "3. `# array of 1s`: This is a comment in the code, denoted by the `#` symbol. Comments are not executed as code but serve as explanatory text for human readers.\n",
    "\n",
    "#### So, when this code is executed, it will create a NumPy array with 2 rows and 4 columns, where each element in the array will have the value `1`. Here's what the resulting array would look like:\n",
    "\n",
    "```\n",
    "array([[1., 1., 1., 1.],\n",
    "       [1., 1., 1., 1.]])\n",
    "```\n",
    "\n",
    "Use cases for creating an array of ones can vary depending on the specific application. Here are a few examples:\n",
    "\n",
    "1. Initializing a matrix for further computations: This code can be used to create an initial matrix with all ones before performing mathematical operations or filling it with specific values based on the requirements of the problem.\n",
    "\n",
    "2. Placeholder for testing: When testing algorithms or functions that expect input data in the form of an array, using an array of ones can be a convenient way to create a placeholder for testing purposes.\n",
    "\n",
    "3. Array broadcasting: Broadcasting capabilities, which allow operations between arrays of different shapes. Creating an array of ones can be useful when broadcasting it with another array to perform element-wise operations.\n",
    "\n"
   ]
  },
  {
   "cell_type": "code",
   "execution_count": 8,
   "id": "cd0db5c2",
   "metadata": {},
   "outputs": [
    {
     "data": {
      "text/plain": [
       "array([[0., 0., 0.],\n",
       "       [0., 0., 0.],\n",
       "       [0., 0., 0.]])"
      ]
     },
     "execution_count": 8,
     "metadata": {},
     "output_type": "execute_result"
    }
   ],
   "source": [
    "np.zeros((3,3)) # similar to above. A 2-dimensional array filled with zeros"
   ]
  },
  {
   "cell_type": "code",
   "execution_count": 9,
   "id": "b54f3abe",
   "metadata": {},
   "outputs": [
    {
     "data": {
      "text/plain": [
       "array([100, 101, 102, 103, 104, 105, 106, 107, 108, 109, 110, 111])"
      ]
     },
     "execution_count": 9,
     "metadata": {},
     "output_type": "execute_result"
    }
   ],
   "source": [
    "np.arange(100,112)"
   ]
  },
  {
   "cell_type": "markdown",
   "id": "dcec665c",
   "metadata": {},
   "source": [
    "#### This code snippet performs two main tasks. First, it imports the NumPy library using the `import` statement and assigns it the alias `np`. The `arange()` function creates an array of numbers with a specified range and step size. In this case, the range is defined from 100 to 112 (inclusive), so the resulting array will contain the numbers from 100 to 111.\n",
    "\n",
    "```python\n",
    "import numpy as np\n",
    "\n",
    "np.arange(100, 112)\n",
    "```\n",
    "\n",
    "The `arange()` function takes two arguments: the start and stop values for the range. It generates an array that starts from the start value and stops before the stop value. In the provided code, the start value is 100, and the stop value is 112.\n",
    "\n",
    "The `arange()` function returns a one-dimensional NumPy array with the generated sequence of numbers. The resulting array will have a length of 12, as there are 12 numbers in the specified range (100 to 111).\n",
    "\n",
    "Here's an example to illustrate the code's functionality:\n",
    "\n",
    "```python\n",
    "import numpy as np\n",
    "\n",
    "arr = np.arange(100, 112)\n",
    "print(arr)\n",
    "```\n",
    "\n",
    "Output:\n",
    "```\n",
    "[100 101 102 103 104 105 106 107 108 109 110 111]\n",
    "```\n",
    "\n",
    "In this example, the code generates an array containing the numbers from 100 to 111 and assigns it to the variable `arr`. The resulting array is then printed, displaying the sequence of numbers.\n",
    "\n",
    "Use cases for this code can vary depending on the specific needs of a program or analysis. However, a common scenario where `arange()` is used is when there is a need to generate a sequence of numbers for mathematical calculations, data manipulation, or looping operations. The resulting array can be further utilized for various mathematical operations, visualizations, or any other numerical tasks."
   ]
  },
  {
   "cell_type": "code",
   "execution_count": 3,
   "id": "d60424d9",
   "metadata": {},
   "outputs": [],
   "source": [
    "# Creating a two dimensional array with ones and zeros and assigning to the respective variables. \n",
    "A=np.ones((2,4))\n",
    "B=np.zeros((3,4))"
   ]
  },
  {
   "cell_type": "code",
   "execution_count": 4,
   "id": "4b75f84c",
   "metadata": {},
   "outputs": [
    {
     "data": {
      "text/plain": [
       "array([[1., 1., 1., 1.],\n",
       "       [1., 1., 1., 1.],\n",
       "       [0., 0., 0., 0.],\n",
       "       [0., 0., 0., 0.],\n",
       "       [0., 0., 0., 0.]])"
      ]
     },
     "execution_count": 4,
     "metadata": {},
     "output_type": "execute_result"
    }
   ],
   "source": [
    "np.concatenate([A,B])"
   ]
  },
  {
   "cell_type": "markdown",
   "id": "8a3eccc2",
   "metadata": {},
   "source": [
    "\n",
    "## Code Explanation:\n",
    "The `np.concatenate()` function combines multiple arrays along a specified axis. In this case, it takes two arrays `A` and `B` as input and concatenates them into a single array.\n",
    "\n",
    "## Code Structure:\n",
    "The code consists of a single line that calls the `np.concatenate()` function. The function takes an argument, which is a list `[A, B]`, containing the two arrays to be concatenated.\n",
    "\n",
    "## How It Works:\n",
    "1. The `np.concatenate()` function takes the list `[A, B]` as input.\n",
    "2. It combines the arrays `A` and `B` into a single array by joining them along a specified axis. By default, the arrays are concatenated along the first axis (`axis=0`), resulting in a new array that has the elements of `A` followed by the elements of `B`.\n",
    "3. The function returns the concatenated array as the output.\n",
    "\n",
    "## Notable Features/Functionality:\n",
    "- The `np.concatenate()` function  allows you to concatenate arrays along different axes, depending on your requirements.\n"
   ]
  },
  {
   "cell_type": "markdown",
   "id": "d0ca7351",
   "metadata": {},
   "source": [
    "C=np.ones((2,3,3))  #three dimensional array"
   ]
  },
  {
   "cell_type": "code",
   "execution_count": 13,
   "id": "fbb4a65f",
   "metadata": {},
   "outputs": [
    {
     "data": {
      "text/plain": [
       "array([[[1., 1., 1.],\n",
       "        [1., 1., 1.],\n",
       "        [1., 1., 1.]],\n",
       "\n",
       "       [[1., 1., 1.],\n",
       "        [1., 1., 1.],\n",
       "        [1., 1., 1.]]])"
      ]
     },
     "execution_count": 13,
     "metadata": {},
     "output_type": "execute_result"
    }
   ],
   "source": [
    "C"
   ]
  },
  {
   "cell_type": "markdown",
   "id": "bd844c6f",
   "metadata": {},
   "source": [
    "#### This code snippet demonstrates the usage of the NumPy library in Python to create a three-dimensional array and assign it to the variable `C`. Let's break down the code and its functionality:\n",
    "\n",
    "\n",
    "```python\n",
    "import numpy as np\n",
    "\n",
    "C = np.ones((2, 3, 3))\n",
    "```\n",
    "\n",
    "\n",
    "1. The line `import numpy as np` imports the NumPy library and assigns it the alias `np`. \n",
    "\n",
    "2. The line `C = np.ones((2, 3, 3))` creates a three-dimensional array filled with ones. The `np.ones()` function creates an array of the specified shape, where each element is initialized to 1. In this case, we pass the shape `(2, 3, 3)` to create a three-dimensional array with two dimensions of size 3x3.\n",
    "\n",
    "   - The first dimension has a size of 2, representing two separate 3x3 matrices.\n",
    "   - The second and third dimensions are both 3, representing a 3x3 matrix for each of the two sets.\n",
    "\n",
    "   The resulting array `C` will have the shape `(2, 3, 3)`.\n",
    "\n",
    "   The `ones()` function is just one of the many functions provided by NumPy to create arrays with specific values or properties. It allows for easy initialization of arrays with specific values before performing computations.\n",
    "\n",
    "   Use Cases:\n",
    "   - Creating a 3D array for representing an RGB image, where each RGB pixel value is initially set to 1.\n",
    "   - Initializing a tensor for training neural networks, where each weight parameter is set to 1 for initialization.\n",
    "\n",
    "   Notable Features:\n",
    "   - NumPy provides various functions for array creation with different initialization values, such as `zeros()`, `full()`, and `empty()`. These functions are handy when you need to create arrays with specific initial values.\n",
    "\n",
    "   Example:\n",
    "   ```python\n",
    "   C = np.ones((2, 3, 3))\n",
    "   print(C)\n",
    "   ```\n",
    "   Output:\n",
    "   ```\n",
    "   array([[[1., 1., 1.],\n",
    "           [1., 1., 1.],\n",
    "           [1., 1., 1.]],\n",
    "\n",
    "          [[1., 1., 1.],\n",
    "           [1., 1., 1.],\n",
    "           [1., 1., 1.]]])\n",
    "   ```\n",
    " In this example, a 3D array `C` is created with a shape of `(2, 3, 3)`. Each element of the array is initialized to 1. The `print()` statement displays the contents of the array, showing two separate 3x3 matrices, with each element set to 1.\n",
    "\n",
    "For this class we will be focused on two dimensional arrays. "
   ]
  },
  {
   "cell_type": "code",
   "execution_count": 14,
   "id": "d554584c",
   "metadata": {},
   "outputs": [
    {
     "data": {
      "text/plain": [
       "array([[0.7890215 , 0.68854485, 0.90693757],\n",
       "       [0.91542675, 0.15807906, 0.04034129],\n",
       "       [0.14394387, 0.0530313 , 0.67529802],\n",
       "       [0.48313585, 0.11361472, 0.7583241 ],\n",
       "       [0.55599168, 0.24154198, 0.71768254],\n",
       "       [0.22551508, 0.29656983, 0.58340578],\n",
       "       [0.33953448, 0.94131906, 0.41131814],\n",
       "       [0.84913108, 0.89644121, 0.26908547],\n",
       "       [0.40392981, 0.07643447, 0.32549538],\n",
       "       [0.02329849, 0.72007845, 0.63418888]])"
      ]
     },
     "execution_count": 14,
     "metadata": {},
     "output_type": "execute_result"
    }
   ],
   "source": [
    "np.random.random((10,3))"
   ]
  },
  {
   "cell_type": "markdown",
   "id": "bc19eb82",
   "metadata": {},
   "source": [
    "#### Breakdown of the code and its functionality:\n",
    "\n",
    "```python\n",
    "np.random.random((10,3))\n",
    "```\n",
    "\n",
    "- `np` refers to the NumPy library, which is commonly imported as `np`.\n",
    "- `random` is a submodule within NumPy that provides functions for generating random numbers and arrays.\n",
    "- `random((10,3))` is a function call to `random` that generates an array of random values.\n",
    "- The argument `(10,3)` specifies the shape of the desired array, where the first dimension represents the number of rows (10) and the second dimension represents the number of columns (3).\n",
    "\n",
    "The resulting array will have 10 rows and 3 columns, and each element within the array will be a random float between 0 and 1.\n",
    "\n",
    "Example:\n",
    "```python\n",
    "import numpy as np\n",
    "\n",
    "random_array = np.random.random((10, 3))\n",
    "print(random_array)\n",
    "```\n",
    "\n",
    "Output:\n",
    "```\n",
    "[[0.53264518 0.29144242 0.88268056]\n",
    " [0.47814083 0.69745609 0.10310108]\n",
    " [0.62031255 0.16244696 0.77106944]\n",
    " [0.30202712 0.39628879 0.56403846]\n",
    " [0.86500324 0.82278982 0.11833427]\n",
    " [0.51210459 0.92310128 0.79160705]\n",
    " [0.38553088 0.80019238 0.12498015]\n",
    " [0.2853503  0.89383972 0.9861181 ]\n",
    " [0.06083334 0.32528381 0.43248045]\n",
    " [0.67827309 0.25465912 0.68134092]]\n",
    "```\n",
    "\n",
    "Use cases:\n",
    "- Generating random data for testing or simulations.\n",
    "- Initializing arrays with random values for machine learning models.\n",
    "- Generating random coordinates or positions for plotting or visualizations."
   ]
  },
  {
   "cell_type": "code",
   "execution_count": 15,
   "id": "b1a6d0f8",
   "metadata": {},
   "outputs": [
    {
     "data": {
      "text/plain": [
       "array([1, 2, 3, 4, 5, 6])"
      ]
     },
     "execution_count": 15,
     "metadata": {},
     "output_type": "execute_result"
    }
   ],
   "source": [
    "a=np.array([1,2,3,4,5,6])\n",
    "a"
   ]
  },
  {
   "cell_type": "markdown",
   "id": "38800e34",
   "metadata": {},
   "source": [
    "### This code snippet can be divided into two parts: import and array creation.\n",
    "\n",
    "```python\n",
    "1\n",
    "2\n",
    "a = np.array([1, 2, 3, 4, 5, 6])\n",
    "a\n",
    "```\n",
    "\n",
    "\n",
    "### Importing NumPy\n",
    "The code assumes that the NumPy library has been imported previously. \n",
    "\n",
    "```python\n",
    "import numpy as np\n",
    "```\n",
    "\n",
    "### Array Creation\n",
    "The next part of the code creates a NumPy array. In this case, the array  `a`. \n",
    "\n",
    "```python\n",
    "a = np.array([1, 2, 3, 4, 5, 6])\n",
    "```\n",
    "\n",
    "The `np.array()` function takes a Python list as an argument and converts it into a NumPy array. In this example, the provided list `[1, 2, 3, 4, 5, 6]` contains six elements.\n",
    "\n",
    "### Array Output\n",
    "After creating the NumPy array, the code prints the array `a` to the console.\n",
    "\n",
    "```python\n",
    "a\n",
    "```\n",
    "\n",
    "When executed, the code will output the following:\n",
    "\n",
    "```\n",
    "array([1, 2, 3, 4, 5, 6])\n",
    "```\n",
    "\n",
    "This is the representation of the NumPy array, displaying the elements within square brackets. In this case, the array `a` contains the numbers 1, 2, 3, 4, 5, and 6.\n",
    "\n",
    "### Notable Features and Use Cases\n",
    "The use of NumPy arrays provides several benefits over regular Python lists. Some notable features and use cases include:\n",
    "\n",
    "1. **Efficient Computation**: Efficient element-wise mathematical operations such as addition, multiplication, and trigonometric functions. These operations are vectorized, meaning they can be applied to the entire array without using explicit loops. This results in faster execution times and cleaner code.\n",
    "\n",
    "2. **Multi-dimensional Arrays**: Supports multi-dimensional arrays, allowing you to create and manipulate matrices and tensors efficiently. This feature is particularly useful in scientific computing, data analysis, and machine learning.\n",
    "\n",
    "3. **Numerical Methods**: Provides a wide range of mathematical functions and methods, including linear algebra operations, Fourier transforms, random number generation, and more. These capabilities make NumPy a powerful tool for scientific computing and numerical simulations.\n",
    "\n",
    "4. **Interoperability**: Integrate with other scientific libraries in Python, such as SciPy, Pandas, and Matplotlib. This interoperability allows for streamlined data processing, analysis, and visualization workflows.\n",
    "\n"
   ]
  },
  {
   "cell_type": "code",
   "execution_count": 16,
   "id": "1e23d3be",
   "metadata": {},
   "outputs": [],
   "source": [
    "a=a.reshape(3,2)\n"
   ]
  },
  {
   "cell_type": "code",
   "execution_count": 17,
   "id": "e92c1b5b",
   "metadata": {},
   "outputs": [
    {
     "data": {
      "text/plain": [
       "array([[1, 2],\n",
       "       [3, 4],\n",
       "       [5, 6]])"
      ]
     },
     "execution_count": 17,
     "metadata": {},
     "output_type": "execute_result"
    }
   ],
   "source": [
    "a"
   ]
  },
  {
   "cell_type": "markdown",
   "id": "d2222e73",
   "metadata": {},
   "source": [
    "\n",
    "\n",
    "### Code Explanation:\n",
    "\n",
    "1. `a = a.reshape(3, 2)`: This line of code uses the `reshape()` function to modify the shape of the variable `a`. It reshapes `a` into a 3x2 matrix, meaning it will have 3 rows and 2 columns. The reshaping operation is performed in-place, meaning the original array `a` is modified.\n",
    "\n",
    "### Detailed Explanation:\n",
    "\n",
    "1. `a`: This is a variable that holds a NumPy array. The array could be of any shape or size.\n",
    "\n",
    "2. `reshape()`: This is a function provided by the NumPy library. It allows you to change the shape of a NumPy array without modifying its data. The `reshape()` function takes the desired shape as arguments and returns a new array with the specified shape.\n",
    "\n",
    "3. `a.reshape(3, 2)`: In this line of code, the `reshape()` function is called on the variable `a`. It specifies the desired shape of the array as `(3, 2)`, indicating that the resulting array should have 3 rows and 2 columns.\n",
    "\n",
    "4. `a = a.reshape(3, 2)`: **The reshaped array is then assigned back to the variable `a`. This means that the original array `a` is replaced with the reshaped array.** If you were to print the value of `a` after this line, you would see the reshaped array.\n",
    "\n",
    "### Use Cases and Examples:\n",
    "\n",
    "The `reshape()` function is commonly used in data manipulation tasks, especially when dealing with multidimensional arrays or matrices. Here are more examples to illustrate its functionality:\n",
    "\n",
    "Example 1:\n",
    "```python\n",
    "a = np.array([1, 2, 3, 4, 5, 6])\n",
    "a = a.reshape(2, 3)\n",
    "print(a)\n",
    "```\n",
    "Output:\n",
    "```\n",
    "[[1 2 3]\n",
    " [4 5 6]]\n",
    "```\n",
    "\n",
    "In this example, the original array `a` is reshaped into a 2x3 matrix. The resulting matrix is printed, showing the reshaped values.\n",
    "\n",
    "Example 2:\n",
    "```python\n",
    "a = np.array([[1, 2], [3, 4], [5, 6]])\n",
    "a = a.reshape(6)\n",
    "print(a)\n",
    "```\n",
    "Output:\n",
    "```\n",
    "[1 2 3 4 5 6]\n",
    "```\n",
    "\n",
    "Here, the original 3x2 matrix `a` is reshaped into a 1-dimensional array with 6 elements. The resulting array is printed, displaying the reshaped values in a flattened form.\n"
   ]
  },
  {
   "cell_type": "code",
   "execution_count": 18,
   "id": "5d502f3d",
   "metadata": {},
   "outputs": [
    {
     "data": {
      "text/plain": [
       "6"
      ]
     },
     "execution_count": 18,
     "metadata": {},
     "output_type": "execute_result"
    }
   ],
   "source": [
    "a[2,1]   #remember python uses zero-indexing (start counting from zero)"
   ]
  },
  {
   "cell_type": "markdown",
   "id": "ce7857ee",
   "metadata": {},
   "source": [
    "#### This line of code attempts to access an element from the two-dimensional array or matrix `a`. In Python, square brackets `[]` are used for indexing and accessing elements in arrays, lists, and other data structures.\n",
    "\n",
    "```python\n",
    "a[2, 1]\n",
    "```\n",
    "\n",
    "The indices `2` and `1` within the square brackets represent the row and column indices, respectively. It's important to note that Python uses zero-indexing, meaning that the first element in an array has an index of 0, the second element has an index of 1, and so on. Therefore, `a[2, 1]` refers to the element at the third row (index 2) and second column (index 1) of the array `a`.\n",
    "\n",
    "Here is another example \n",
    "\n",
    "Example:\n",
    "```python\n",
    "a = [[1, 2, 3],\n",
    "     [4, 5, 6],\n",
    "     [7, 8, 9]]\n",
    "\n",
    "element = a[2, 1]\n",
    "print(element)\n",
    "```\n",
    "\n",
    "In this example, we have a 3x3 matrix `a` defined as a list of lists. The `a[2, 1]` operation will retrieve the element at the third row and second column, which is `8`. The code then prints `8` as the output.\n",
    "\n",
    "See additional examples below. "
   ]
  },
  {
   "cell_type": "code",
   "execution_count": 19,
   "id": "b251970d",
   "metadata": {},
   "outputs": [
    {
     "data": {
      "text/plain": [
       "4"
      ]
     },
     "execution_count": 19,
     "metadata": {},
     "output_type": "execute_result"
    }
   ],
   "source": [
    "a[1,1]"
   ]
  },
  {
   "cell_type": "code",
   "execution_count": 20,
   "id": "89c96c67",
   "metadata": {},
   "outputs": [
    {
     "data": {
      "text/plain": [
       "5"
      ]
     },
     "execution_count": 20,
     "metadata": {},
     "output_type": "execute_result"
    }
   ],
   "source": [
    "a[2,0]"
   ]
  },
  {
   "cell_type": "code",
   "execution_count": 21,
   "id": "3249d18f",
   "metadata": {},
   "outputs": [
    {
     "data": {
      "text/plain": [
       "array([[1, 2],\n",
       "       [3, 4],\n",
       "       [5, 6]])"
      ]
     },
     "execution_count": 21,
     "metadata": {},
     "output_type": "execute_result"
    }
   ],
   "source": [
    "a"
   ]
  },
  {
   "cell_type": "code",
   "execution_count": 22,
   "id": "dc0a3122",
   "metadata": {},
   "outputs": [
    {
     "data": {
      "text/plain": [
       "array([1, 2, 3, 4, 5, 6])"
      ]
     },
     "execution_count": 22,
     "metadata": {},
     "output_type": "execute_result"
    }
   ],
   "source": [
    "a=a.ravel()\n",
    "a"
   ]
  },
  {
   "cell_type": "markdown",
   "id": "97967846",
   "metadata": {},
   "source": [
    "### Here is the breakdown\n",
    "\n",
    "```python\n",
    "1 a = a.ravel()\n",
    "2 a\n",
    "```\n",
    "\n",
    "### Line 1: `a = a.ravel()`\n",
    "\n",
    "The method `ravel()` is called on the variable `a`. \n",
    "\n",
    "The `ravel()` method is used to flatten multi-dimensional arrays into a 1-dimensional array. If `a` is a multi-dimensional array, `a.ravel()` will return a flattened version of `a`. \n",
    "\n",
    "For example, let's assume `a` is a 2D array with the following values:\n",
    "```python\n",
    "a = [[1, 2, 3],\n",
    "     [4, 5, 6]]\n",
    "```\n",
    "After executing `a.ravel()`, the resulting flattened array will be:\n",
    "```python\n",
    "[1, 2, 3, 4, 5, 6]\n",
    "```\n",
    "So, the purpose of line 1 is to flatten the array `a` and store the flattened result back into the variable `a`.\n",
    "\n",
    "### Line 2: `a`\n",
    "This line simply outputs the value of the variable `a`. It does not modify `a` or perform any additional operations.\n",
    "\n",
    "\n",
    "\n",
    "### Use cases for flattening arrays can vary, but some common scenarios include:\n",
    "- Preparing data for machine learning algorithms that require 1-dimensional input.\n",
    "- Performing calculations or operations that are easier to handle on flattened arrays.\n",
    "- Simplifying visualization or plotting of multi-dimensional data.\n",
    "\n"
   ]
  },
  {
   "cell_type": "code",
   "execution_count": 6,
   "id": "7e01b802",
   "metadata": {},
   "outputs": [
    {
     "data": {
      "text/plain": [
       "array([ 0,  1,  2,  3,  4,  5,  6,  7,  8,  9, 10, 11, 12, 13, 14])"
      ]
     },
     "execution_count": 6,
     "metadata": {},
     "output_type": "execute_result"
    }
   ],
   "source": [
    "a=np.arange(15)\n",
    "a"
   ]
  },
  {
   "cell_type": "code",
   "execution_count": 7,
   "id": "c3412cb6",
   "metadata": {},
   "outputs": [
    {
     "data": {
      "text/plain": [
       "array([[ 0,  1,  2],\n",
       "       [ 3,  4,  5],\n",
       "       [ 6,  7,  8],\n",
       "       [ 9, 10, 11],\n",
       "       [12, 13, 14]])"
      ]
     },
     "execution_count": 7,
     "metadata": {},
     "output_type": "execute_result"
    }
   ],
   "source": [
    "a.reshape(5,3)"
   ]
  },
  {
   "cell_type": "code",
   "execution_count": 8,
   "id": "e2983cfb",
   "metadata": {},
   "outputs": [
    {
     "data": {
      "text/plain": [
       "array([[ 0,  1,  2],\n",
       "       [ 3,  4,  5],\n",
       "       [ 6,  7,  8],\n",
       "       [ 9, 10, 11],\n",
       "       [12, 13, 14]])"
      ]
     },
     "execution_count": 8,
     "metadata": {},
     "output_type": "execute_result"
    }
   ],
   "source": [
    "a=np.arange(15).reshape(5,3)  #an example of method \"chaining\"\n",
    "a"
   ]
  },
  {
   "cell_type": "markdown",
   "id": "ddc51b86",
   "metadata": {},
   "source": [
    "### Explanation:\n",
    "\n",
    "1. The code starts by importing the NumPy library. \n",
    "\n",
    "2. `np.arange(15)` generates a one-dimensional array with numbers from 0 to 14. The `arange()` function creates an array with  based on the specified range.\n",
    "\n",
    "3. `.reshape(5,3)` is a method chaining operation applied to the array generated in the previous step. The `reshape()` function is used to change the shape of an array without modifying its data. In this case, the array is reshaped to have 5 rows and 3 columns, resulting in a 2-dimensional array.\n",
    "\n",
    "4. The reshaped array is stored in the variable `a`.\n",
    "\n",
    "5. Finally, the value of `a` is printed, which will display the reshaped array:\n",
    "\n",
    "```python\n",
    "array([[ 0,  1,  2],\n",
    "       [ 3,  4,  5],\n",
    "       [ 6,  7,  8],\n",
    "       [ 9, 10, 11],\n",
    "       [12, 13, 14]])\n",
    "```\n",
    "\n",
    "The resulting array `a` has 5 rows and 3 columns, where each element is a number from 0 to 14. It represents a tabular structure or matrix-like data.\n",
    "\n",
    "### Use Cases:\n",
    "- Reshaping arrays: The `reshape()` function is commonly used when working with data that needs to be organized in a specific shape or dimensions. For example, when preparing data for machine learning algorithms that require a certain input shape.\n",
    "\n",
    "\n"
   ]
  },
  {
   "cell_type": "code",
   "execution_count": 27,
   "id": "5a57328d",
   "metadata": {},
   "outputs": [
    {
     "data": {
      "text/plain": [
       "array([[ 0,  3,  6,  9, 12],\n",
       "       [ 1,  4,  7, 10, 13],\n",
       "       [ 2,  5,  8, 11, 14]])"
      ]
     },
     "execution_count": 27,
     "metadata": {},
     "output_type": "execute_result"
    }
   ],
   "source": [
    "a=a.T\n",
    "a"
   ]
  },
  {
   "cell_type": "markdown",
   "id": "99927b46",
   "metadata": {},
   "source": [
    "This code snippet performs a transpose operation on a NumPy array `a` and assigns the result back to `a`. \n",
    "\n",
    "- Line 1: `a=a.T`\n",
    "  - This line transposes the array `a` using the `.T` attribute, which is a shorthand for the `transpose()` method.\n",
    "  - The `transpose()` function swaps the rows and columns of a multi-dimensional array, effectively rotating it. The `.T` attribute allows for a concise way to perform the transpose operation.\n",
    "  - The transposed array is then assigned back to `a`, overwriting the original value.\n",
    "\n",
    "- Line 2: `a`\n",
    "  - This line simply outputs the current value of `a` after the transpose operation.\n",
    "\n",
    "Transposing an array can be helpful in various scenarios, such as:\n",
    "\n",
    "1. Changing the orientation of the data: Transposing allows you to interchange the rows and columns of a matrix. This is useful when the original orientation of the data doesn't match the required format for a particular operation or algorithm.\n",
    "\n",
    "2. Matrix operations: Transposing is often used in linear algebra operations, such as matrix multiplication, where the dimensions of the matrices must align properly. Transposing can help to ensure compatibility between matrices before performing such operations.\n",
    "\n",
    "Let's consider this example:\n",
    "\n",
    "```python\n",
    "import numpy as np\n",
    "\n",
    "a = np.array([[1, 2, 3],\n",
    "              [4, 5, 6]])\n",
    "\n",
    "a = a.T\n",
    "print(a)\n",
    "```\n",
    "\n",
    "In this example, we have a 2x3 matrix `a` with values `[1, 2, 3]` in the first row and `[4, 5, 6]` in the second row. After applying the transpose operation, the rows become columns, and the columns become rows. The output would be:\n",
    "\n",
    "```\n",
    "[[1 4]\n",
    " [2 5]\n",
    " [3 6]]\n",
    "```\n",
    "\n",
    "Now, the matrix `a` has dimensions 3x2, with `[1, 4]` in the first column, `[2, 5]` in the second column, and `[3, 6]` in the third column.\n",
    "\n"
   ]
  },
  {
   "cell_type": "markdown",
   "id": "effaaa2c",
   "metadata": {},
   "source": [
    "### Here are some common functionalities "
   ]
  },
  {
   "cell_type": "code",
   "execution_count": 28,
   "id": "ac512eec",
   "metadata": {},
   "outputs": [
    {
     "data": {
      "text/plain": [
       "array([1, 2, 3])"
      ]
     },
     "execution_count": 28,
     "metadata": {},
     "output_type": "execute_result"
    }
   ],
   "source": [
    "c=np.array([1,2,3])\n",
    "c"
   ]
  },
  {
   "cell_type": "code",
   "execution_count": 29,
   "id": "c304329b",
   "metadata": {},
   "outputs": [
    {
     "data": {
      "text/plain": [
       "array([ 3,  5, 10])"
      ]
     },
     "execution_count": 29,
     "metadata": {},
     "output_type": "execute_result"
    }
   ],
   "source": [
    "d=np.array([3,5,10])\n",
    "d"
   ]
  },
  {
   "cell_type": "code",
   "execution_count": 30,
   "id": "3999d931",
   "metadata": {},
   "outputs": [
    {
     "data": {
      "text/plain": [
       "array([ 3, 10, 30])"
      ]
     },
     "execution_count": 30,
     "metadata": {},
     "output_type": "execute_result"
    }
   ],
   "source": [
    "c*d # multiplication of two variables or values, denoted by \"c\" and \"d\"."
   ]
  },
  {
   "cell_type": "code",
   "execution_count": 31,
   "id": "a4d94d47",
   "metadata": {},
   "outputs": [
    {
     "data": {
      "text/plain": [
       "array([[ 0,  3,  6,  9, 12],\n",
       "       [ 1,  4,  7, 10, 13],\n",
       "       [ 2,  5,  8, 11, 14]])"
      ]
     },
     "execution_count": 31,
     "metadata": {},
     "output_type": "execute_result"
    }
   ],
   "source": [
    "a"
   ]
  },
  {
   "cell_type": "code",
   "execution_count": 32,
   "id": "66a1b7d4",
   "metadata": {},
   "outputs": [
    {
     "data": {
      "text/plain": [
       "array([[10, 13, 16, 19, 22],\n",
       "       [11, 14, 17, 20, 23],\n",
       "       [12, 15, 18, 21, 24]])"
      ]
     },
     "execution_count": 32,
     "metadata": {},
     "output_type": "execute_result"
    }
   ],
   "source": [
    "a+10 # addition between the value of a variable (denoted as 'a') and the integer constant 10."
   ]
  },
  {
   "cell_type": "code",
   "execution_count": 33,
   "id": "305ac6c1",
   "metadata": {},
   "outputs": [
    {
     "data": {
      "text/plain": [
       "array([[False, False, False,  True,  True],\n",
       "       [False, False, False,  True,  True],\n",
       "       [False, False,  True,  True,  True]])"
      ]
     },
     "execution_count": 33,
     "metadata": {},
     "output_type": "execute_result"
    }
   ],
   "source": [
    "a>7 # comparison expression that checks if the value of variable a is greater than 7"
   ]
  },
  {
   "cell_type": "code",
   "execution_count": 12,
   "id": "0d9bad61",
   "metadata": {},
   "outputs": [
    {
     "data": {
      "text/plain": [
       "array([[ 0,  1,  2],\n",
       "       [ 3,  4,  5],\n",
       "       [ 6,  7,  8],\n",
       "       [ 9, 10, 11],\n",
       "       [12, 13, 14]])"
      ]
     },
     "execution_count": 12,
     "metadata": {},
     "output_type": "execute_result"
    }
   ],
   "source": [
    "a # note the original values"
   ]
  },
  {
   "cell_type": "code",
   "execution_count": 13,
   "id": "734d9f58",
   "metadata": {},
   "outputs": [
    {
     "data": {
      "text/plain": [
       "105"
      ]
     },
     "execution_count": 13,
     "metadata": {},
     "output_type": "execute_result"
    }
   ],
   "source": [
    "a.sum() # add all values in the array"
   ]
  },
  {
   "cell_type": "code",
   "execution_count": 14,
   "id": "5d104a56",
   "metadata": {},
   "outputs": [
    {
     "data": {
      "text/plain": [
       "array([[ 0,  1,  2],\n",
       "       [ 3,  4,  5],\n",
       "       [ 6,  7,  8],\n",
       "       [ 9, 10, 11],\n",
       "       [12, 13, 14]])"
      ]
     },
     "execution_count": 14,
     "metadata": {},
     "output_type": "execute_result"
    }
   ],
   "source": [
    "a # note the original values"
   ]
  },
  {
   "cell_type": "code",
   "execution_count": 36,
   "id": "63a67e07",
   "metadata": {},
   "outputs": [
    {
     "data": {
      "text/plain": [
       "array([30, 35, 40])"
      ]
     },
     "execution_count": 36,
     "metadata": {},
     "output_type": "execute_result"
    }
   ],
   "source": [
    "a.sum(axis=1)"
   ]
  },
  {
   "cell_type": "markdown",
   "id": "03a36da0",
   "metadata": {},
   "source": [
    "\n",
    "\n",
    "### Code Explanation:\n",
    "\n",
    "- `a.sum(axis=1)`: This code calculates the sum of elements along the rows of the array or matrix `a`.\n",
    "\n",
    "Structure:\n",
    "- `a`: represents the input array or matrix on which the sum operation is performed.\n",
    "- `.sum(axis=1)`: method called on the array `a` to calculate the sum along a specific axis. In this case, `axis=1` specifies that the sum should be calculated along the rows.\n",
    "\n",
    "Functionality:\n",
    "- The code calculates the sum of elements along the rows of the array or matrix `a`. Each row is treated as a separate entity, and the sum is calculated by adding up all the elements within each row.\n",
    "\n",
    "How it Works:\n",
    "- When `a.sum(axis=1)` is executed, it iterates over each row of the array `a` and calculates the sum of the elements in that row.\n",
    "- The result is returned as a new array or a single-dimensional array (depending on the shape of `a`) containing the sums of each row.\n",
    "\n",
    "\n",
    "- The `axis=1` parameter allows flexibility to perform operations along different axes, such as calculating column-wise sums (`axis=0`) or even sums across higher-dimensional arrays.\n",
    "\n",
    "Example:\n",
    "\n",
    "\n",
    "```python\n",
    "import numpy as np\n",
    "\n",
    "a = np.array([[1, 2, 3],\n",
    "              [4, 5, 6],\n",
    "              [7, 8, 9]])\n",
    "\n",
    "row_sums = a.sum(axis=1)\n",
    "print(row_sums)\n",
    "```\n",
    "\n",
    "Output:\n",
    "```\n",
    "[ 6 15 24]\n",
    "```\n",
    "\n",
    "In this example, the input matrix `a` has three rows. The code calculates the sum of each row, resulting in the array `[6, 15, 24]`. This means that the sum of the elements in the first row is 6, in the second row is 15, and in the third row is 24.\n",
    "\n",
    "### Use cases:\n",
    "- This functionality can be used in various domains, such as data analysis, scientific computing, machine learning, and more.\n",
    "- It can be utilized to compute row-wise statistics, identify patterns, analyze trends, or perform data aggregations along the rows of a matrix or array.\n",
    "\n"
   ]
  },
  {
   "cell_type": "code",
   "execution_count": 37,
   "id": "d2fd8448",
   "metadata": {},
   "outputs": [
    {
     "data": {
      "text/plain": [
       "array([[30],\n",
       "       [35],\n",
       "       [40]])"
      ]
     },
     "execution_count": 37,
     "metadata": {},
     "output_type": "execute_result"
    }
   ],
   "source": [
    "a.sum(axis=1, keepdims=True)"
   ]
  },
  {
   "cell_type": "markdown",
   "id": "0fa15202",
   "metadata": {},
   "source": [
    "\n",
    "**Description:**\n",
    "This code performs a sum operation on the array `a` along a specific axis and keeps the dimensions of the result unchanged.\n",
    "\n",
    "**Structure:**\n",
    "The `sum` method is used with two parameters: `axis` and `keepdims`.\n",
    "\n",
    "**How it works:**\n",
    "1. `a.sum`: This part calls the `sum` method on the array `a`. The `sum` method computes the sum of elements along a specified axis.\n",
    "2. `axis=1`: The `axis` parameter specifies the axis along which the sum operation is performed. In this case, `axis=1` indicates that the sum is calculated along the second axis (columns) of the array `a`.\n",
    "3. `keepdims=True`: The `keepdims` parameter is set to `True`, which means the dimensions of the resulting array will be the same as the original array `a`. It preserves the shape of the array, including the dimensions that were summed over.\n",
    "\n",
    "**Notable Features/Functionality:**\n",
    "- The `sum` method allows you to perform summation along a specific axis of a multi-dimensional array.\n",
    "- By specifying `axis=1`, you are summing the elements in each row.\n",
    "- Setting `keepdims=True` ensures that the resulting array maintains the same dimensions as the original array, with a single dimension for the sum results.\n",
    "\n",
    "**Examples/Use Cases:**\n",
    "Let's consider an example to better understand the code's functionality:\n",
    "\n",
    "```python\n",
    "import numpy as np\n",
    "\n",
    "a = np.array([[1, 2, 3], [4, 5, 6]])\n",
    "sum_result = a.sum(axis=1, keepdims=True)\n",
    "print(sum_result)\n",
    "```\n",
    "\n",
    "Output:\n",
    "```\n",
    "[[ 6]\n",
    " [15]]\n",
    "```\n",
    "\n",
    "In this example, we have a 2-dimensional array `a` with two rows and three columns. By calling `a.sum(axis=1, keepdims=True)`, we perform a sum operation along the second axis (columns), which gives us the sum of elements in each row. The resulting array `sum_result` preserves the shape with dimensions `(2, 1)`, where each row contains the sum of elements in the corresponding row of the original array `a`.\n",
    "\n"
   ]
  }
 ],
 "metadata": {
  "kernelspec": {
   "display_name": "Python 3 (ipykernel)",
   "language": "python",
   "name": "python3"
  },
  "language_info": {
   "codemirror_mode": {
    "name": "ipython",
    "version": 3
   },
   "file_extension": ".py",
   "mimetype": "text/x-python",
   "name": "python",
   "nbconvert_exporter": "python",
   "pygments_lexer": "ipython3",
   "version": "3.9.6"
  }
 },
 "nbformat": 4,
 "nbformat_minor": 5
}
