{
 "cells": [
  {
   "cell_type": "markdown",
   "id": "31c05689",
   "metadata": {},
   "source": [
    "# Homework 1 - IST 652 #"
   ]
  },
  {
   "cell_type": "markdown",
   "id": "8ee93a77",
   "metadata": {},
   "source": [
    "Do some research on how to use Markdown commands and write the text of the first three sections of your resume (example: education, objectives, past experience, etc.). Experiment with different formats \n",
    "\n",
    "You can use the following resources to learn about Markdown:\n",
    "- https://medium.com/analytics-vidhya/the-ultimate-markdown-guide-for-jupyter-notebook-d5e5abf728fd\n",
    "- Short video: https://www.youtube.com/watch?v=uVLzL5E-YBM\n",
    "- Long video/tutorial: https://www.youtube.com/watch?v=mTIifW_LU5s\n",
    "\n",
    "Jupyternotebook Tutorial \n",
    "\n",
    "- https://www.youtube.com/watch?v=DKiI6NfSIe8&t=711s"
   ]
  },
  {
   "cell_type": "markdown",
   "id": "424e322d-e459-4bfe-90da-aea3a29273f1",
   "metadata": {
    "tags": []
   },
   "source": [
    "### Write your resume below using one of multiple cells. "
   ]
  },
  {
   "cell_type": "code",
   "execution_count": null,
   "id": "847f594f-30f9-43c9-98ba-b9ecd04e2d9d",
   "metadata": {},
   "outputs": [],
   "source": []
  }
 ],
 "metadata": {
  "kernelspec": {
   "display_name": "Python 3 (ipykernel)",
   "language": "python",
   "name": "python3"
  },
  "language_info": {
   "codemirror_mode": {
    "name": "ipython",
    "version": 3
   },
   "file_extension": ".py",
   "mimetype": "text/x-python",
   "name": "python",
   "nbconvert_exporter": "python",
   "pygments_lexer": "ipython3",
   "version": "3.11.7"
  }
 },
 "nbformat": 4,
 "nbformat_minor": 5
}
