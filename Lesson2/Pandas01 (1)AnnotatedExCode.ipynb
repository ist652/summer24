{
 "cells": [
  {
   "cell_type": "markdown",
   "id": "ad872845",
   "metadata": {},
   "source": [
    "# Introduction to PANDAS"
   ]
  },
  {
   "cell_type": "code",
   "execution_count": 2,
   "id": "2fc406a5",
   "metadata": {},
   "outputs": [],
   "source": [
    "import pandas as pd # imports the pandas library and assigns it an alias of pd for convenience."
   ]
  },
  {
   "cell_type": "code",
   "execution_count": 2,
   "id": "b7cc9425",
   "metadata": {},
   "outputs": [],
   "source": [
    "#read data file\n",
    "df=pd.read_csv(\"yob1900.txt\")"
   ]
  },
  {
   "cell_type": "markdown",
   "id": "b610617a",
   "metadata": {},
   "source": [
    "This code snippet reads a data file named \"yob1900.txt\" and stores its contents into a pandas DataFrame object called `df`. \n",
    "\n",
    "```python\n",
    "# read data file\n",
    "df = pd.read_csv(\"yob1900.txt\")\n",
    "```\n",
    "\n",
    "1. The code begins with a comment that indicates its purpose, which is to read a data file.\n",
    "2. The `pd.read_csv()` function is used to read the contents of a CSV (comma-separated values) file and create a DataFrame from it. The function is part of the pandas library, which is commonly used for data manipulation and analysis in Python.\n",
    "3. The filename \"yob1900.txt\" is passed as an argument to the `pd.read_csv()` function. This assumes that the file is located in the same directory as the script running the code.\n",
    "4. The resulting DataFrame is assigned to the variable `df`. By convention, `df` is short for \"DataFrame\" and is a common variable name used to represent a pandas DataFrame object.\n",
    "\n"
   ]
  },
  {
   "cell_type": "code",
   "execution_count": 3,
   "id": "ee1e3432",
   "metadata": {},
   "outputs": [
    {
     "data": {
      "text/html": [
       "<div>\n",
       "<style scoped>\n",
       "    .dataframe tbody tr th:only-of-type {\n",
       "        vertical-align: middle;\n",
       "    }\n",
       "\n",
       "    .dataframe tbody tr th {\n",
       "        vertical-align: top;\n",
       "    }\n",
       "\n",
       "    .dataframe thead th {\n",
       "        text-align: right;\n",
       "    }\n",
       "</style>\n",
       "<table border=\"1\" class=\"dataframe\">\n",
       "  <thead>\n",
       "    <tr style=\"text-align: right;\">\n",
       "      <th></th>\n",
       "      <th>Mary</th>\n",
       "      <th>F</th>\n",
       "      <th>16710</th>\n",
       "    </tr>\n",
       "  </thead>\n",
       "  <tbody>\n",
       "    <tr>\n",
       "      <th>0</th>\n",
       "      <td>Helen</td>\n",
       "      <td>F</td>\n",
       "      <td>6343</td>\n",
       "    </tr>\n",
       "    <tr>\n",
       "      <th>1</th>\n",
       "      <td>Anna</td>\n",
       "      <td>F</td>\n",
       "      <td>6115</td>\n",
       "    </tr>\n",
       "    <tr>\n",
       "      <th>2</th>\n",
       "      <td>Margaret</td>\n",
       "      <td>F</td>\n",
       "      <td>5305</td>\n",
       "    </tr>\n",
       "    <tr>\n",
       "      <th>3</th>\n",
       "      <td>Ruth</td>\n",
       "      <td>F</td>\n",
       "      <td>4765</td>\n",
       "    </tr>\n",
       "    <tr>\n",
       "      <th>4</th>\n",
       "      <td>Elizabeth</td>\n",
       "      <td>F</td>\n",
       "      <td>4097</td>\n",
       "    </tr>\n",
       "  </tbody>\n",
       "</table>\n",
       "</div>"
      ],
      "text/plain": [
       "        Mary  F  16710\n",
       "0      Helen  F   6343\n",
       "1       Anna  F   6115\n",
       "2   Margaret  F   5305\n",
       "3       Ruth  F   4765\n",
       "4  Elizabeth  F   4097"
      ]
     },
     "execution_count": 3,
     "metadata": {},
     "output_type": "execute_result"
    }
   ],
   "source": [
    "df.head() # note the columns are not labelled"
   ]
  },
  {
   "cell_type": "markdown",
   "id": "460fb3b2",
   "metadata": {},
   "source": [
    "A function call to the `head()` method on a DataFrame object called `df`. \n",
    "\n",
    "Here is a breakdown of what the code does and its structure:\n",
    "\n",
    "- `df`: This is a variable representing a pandas DataFrame object. \n",
    "\n",
    "- `.`: The dot operator is used to access attributes and methods of an object. In this case, it is used to access the `head()` method of the DataFrame object.\n",
    "\n",
    "- `head()`: `head()` is a method provided by pandas DataFrame objects. It returns the first `n` rows of the DataFrame, where `n` is an optional parameter. By default, `n` is set to 5 if not specified.\n",
    "\n",
    "The purpose of calling `df.head()` is to retrieve a quick preview of the DataFrame's content, specifically the first few rows. This can be useful for understanding the structure of the data and checking if it is loaded correctly.\n",
    "\n"
   ]
  },
  {
   "cell_type": "code",
   "execution_count": 3,
   "id": "7c6d9c57",
   "metadata": {},
   "outputs": [],
   "source": [
    "df=pd.read_csv(\"yob1900.txt\",names=['Name','Gender','Instances']) # adding headers to the dataframe"
   ]
  },
  {
   "cell_type": "code",
   "execution_count": 6,
   "id": "3720f017",
   "metadata": {},
   "outputs": [
    {
     "data": {
      "text/html": [
       "<div>\n",
       "<style scoped>\n",
       "    .dataframe tbody tr th:only-of-type {\n",
       "        vertical-align: middle;\n",
       "    }\n",
       "\n",
       "    .dataframe tbody tr th {\n",
       "        vertical-align: top;\n",
       "    }\n",
       "\n",
       "    .dataframe thead th {\n",
       "        text-align: right;\n",
       "    }\n",
       "</style>\n",
       "<table border=\"1\" class=\"dataframe\">\n",
       "  <thead>\n",
       "    <tr style=\"text-align: right;\">\n",
       "      <th></th>\n",
       "      <th>Name</th>\n",
       "      <th>Gender</th>\n",
       "      <th>Instances</th>\n",
       "    </tr>\n",
       "  </thead>\n",
       "  <tbody>\n",
       "    <tr>\n",
       "      <th>0</th>\n",
       "      <td>Mary</td>\n",
       "      <td>F</td>\n",
       "      <td>16710</td>\n",
       "    </tr>\n",
       "    <tr>\n",
       "      <th>1</th>\n",
       "      <td>Helen</td>\n",
       "      <td>F</td>\n",
       "      <td>6343</td>\n",
       "    </tr>\n",
       "    <tr>\n",
       "      <th>2</th>\n",
       "      <td>Anna</td>\n",
       "      <td>F</td>\n",
       "      <td>6115</td>\n",
       "    </tr>\n",
       "    <tr>\n",
       "      <th>3</th>\n",
       "      <td>Margaret</td>\n",
       "      <td>F</td>\n",
       "      <td>5305</td>\n",
       "    </tr>\n",
       "    <tr>\n",
       "      <th>4</th>\n",
       "      <td>Ruth</td>\n",
       "      <td>F</td>\n",
       "      <td>4765</td>\n",
       "    </tr>\n",
       "  </tbody>\n",
       "</table>\n",
       "</div>"
      ],
      "text/plain": [
       "       Name Gender  Instances\n",
       "0      Mary      F      16710\n",
       "1     Helen      F       6343\n",
       "2      Anna      F       6115\n",
       "3  Margaret      F       5305\n",
       "4      Ruth      F       4765"
      ]
     },
     "execution_count": 6,
     "metadata": {},
     "output_type": "execute_result"
    }
   ],
   "source": [
    "df.head() # headers added "
   ]
  },
  {
   "cell_type": "code",
   "execution_count": 7,
   "id": "0ace36db",
   "metadata": {},
   "outputs": [
    {
     "data": {
      "text/html": [
       "<div>\n",
       "<style scoped>\n",
       "    .dataframe tbody tr th:only-of-type {\n",
       "        vertical-align: middle;\n",
       "    }\n",
       "\n",
       "    .dataframe tbody tr th {\n",
       "        vertical-align: top;\n",
       "    }\n",
       "\n",
       "    .dataframe thead th {\n",
       "        text-align: right;\n",
       "    }\n",
       "</style>\n",
       "<table border=\"1\" class=\"dataframe\">\n",
       "  <thead>\n",
       "    <tr style=\"text-align: right;\">\n",
       "      <th></th>\n",
       "      <th>Name</th>\n",
       "      <th>Gender</th>\n",
       "      <th>Instances</th>\n",
       "    </tr>\n",
       "  </thead>\n",
       "  <tbody>\n",
       "    <tr>\n",
       "      <th>0</th>\n",
       "      <td>Mary</td>\n",
       "      <td>F</td>\n",
       "      <td>16710</td>\n",
       "    </tr>\n",
       "    <tr>\n",
       "      <th>1</th>\n",
       "      <td>Helen</td>\n",
       "      <td>F</td>\n",
       "      <td>6343</td>\n",
       "    </tr>\n",
       "    <tr>\n",
       "      <th>2</th>\n",
       "      <td>Anna</td>\n",
       "      <td>F</td>\n",
       "      <td>6115</td>\n",
       "    </tr>\n",
       "    <tr>\n",
       "      <th>3</th>\n",
       "      <td>Margaret</td>\n",
       "      <td>F</td>\n",
       "      <td>5305</td>\n",
       "    </tr>\n",
       "    <tr>\n",
       "      <th>4</th>\n",
       "      <td>Ruth</td>\n",
       "      <td>F</td>\n",
       "      <td>4765</td>\n",
       "    </tr>\n",
       "    <tr>\n",
       "      <th>...</th>\n",
       "      <td>...</td>\n",
       "      <td>...</td>\n",
       "      <td>...</td>\n",
       "    </tr>\n",
       "    <tr>\n",
       "      <th>3728</th>\n",
       "      <td>White</td>\n",
       "      <td>M</td>\n",
       "      <td>5</td>\n",
       "    </tr>\n",
       "    <tr>\n",
       "      <th>3729</th>\n",
       "      <td>Wilhelm</td>\n",
       "      <td>M</td>\n",
       "      <td>5</td>\n",
       "    </tr>\n",
       "    <tr>\n",
       "      <th>3730</th>\n",
       "      <td>Winifred</td>\n",
       "      <td>M</td>\n",
       "      <td>5</td>\n",
       "    </tr>\n",
       "    <tr>\n",
       "      <th>3731</th>\n",
       "      <td>Woodie</td>\n",
       "      <td>M</td>\n",
       "      <td>5</td>\n",
       "    </tr>\n",
       "    <tr>\n",
       "      <th>3732</th>\n",
       "      <td>Zeno</td>\n",
       "      <td>M</td>\n",
       "      <td>5</td>\n",
       "    </tr>\n",
       "  </tbody>\n",
       "</table>\n",
       "<p>3733 rows × 3 columns</p>\n",
       "</div>"
      ],
      "text/plain": [
       "          Name Gender  Instances\n",
       "0         Mary      F      16710\n",
       "1        Helen      F       6343\n",
       "2         Anna      F       6115\n",
       "3     Margaret      F       5305\n",
       "4         Ruth      F       4765\n",
       "...        ...    ...        ...\n",
       "3728     White      M          5\n",
       "3729   Wilhelm      M          5\n",
       "3730  Winifred      M          5\n",
       "3731    Woodie      M          5\n",
       "3732      Zeno      M          5\n",
       "\n",
       "[3733 rows x 3 columns]"
      ]
     },
     "execution_count": 7,
     "metadata": {},
     "output_type": "execute_result"
    }
   ],
   "source": [
    "df # the entire dataframe"
   ]
  },
  {
   "cell_type": "code",
   "execution_count": 8,
   "id": "a8750551",
   "metadata": {},
   "outputs": [
    {
     "data": {
      "text/html": [
       "<div>\n",
       "<style scoped>\n",
       "    .dataframe tbody tr th:only-of-type {\n",
       "        vertical-align: middle;\n",
       "    }\n",
       "\n",
       "    .dataframe tbody tr th {\n",
       "        vertical-align: top;\n",
       "    }\n",
       "\n",
       "    .dataframe thead th {\n",
       "        text-align: right;\n",
       "    }\n",
       "</style>\n",
       "<table border=\"1\" class=\"dataframe\">\n",
       "  <thead>\n",
       "    <tr style=\"text-align: right;\">\n",
       "      <th></th>\n",
       "      <th>Name</th>\n",
       "      <th>Gender</th>\n",
       "      <th>Instances</th>\n",
       "    </tr>\n",
       "  </thead>\n",
       "  <tbody>\n",
       "    <tr>\n",
       "      <th>0</th>\n",
       "      <td>Mary</td>\n",
       "      <td>F</td>\n",
       "      <td>16710</td>\n",
       "    </tr>\n",
       "    <tr>\n",
       "      <th>1</th>\n",
       "      <td>Helen</td>\n",
       "      <td>F</td>\n",
       "      <td>6343</td>\n",
       "    </tr>\n",
       "    <tr>\n",
       "      <th>2</th>\n",
       "      <td>Anna</td>\n",
       "      <td>F</td>\n",
       "      <td>6115</td>\n",
       "    </tr>\n",
       "    <tr>\n",
       "      <th>3</th>\n",
       "      <td>Margaret</td>\n",
       "      <td>F</td>\n",
       "      <td>5305</td>\n",
       "    </tr>\n",
       "    <tr>\n",
       "      <th>4</th>\n",
       "      <td>Ruth</td>\n",
       "      <td>F</td>\n",
       "      <td>4765</td>\n",
       "    </tr>\n",
       "    <tr>\n",
       "      <th>5</th>\n",
       "      <td>Elizabeth</td>\n",
       "      <td>F</td>\n",
       "      <td>4097</td>\n",
       "    </tr>\n",
       "    <tr>\n",
       "      <th>6</th>\n",
       "      <td>Florence</td>\n",
       "      <td>F</td>\n",
       "      <td>3920</td>\n",
       "    </tr>\n",
       "    <tr>\n",
       "      <th>7</th>\n",
       "      <td>Ethel</td>\n",
       "      <td>F</td>\n",
       "      <td>3896</td>\n",
       "    </tr>\n",
       "    <tr>\n",
       "      <th>8</th>\n",
       "      <td>Marie</td>\n",
       "      <td>F</td>\n",
       "      <td>3856</td>\n",
       "    </tr>\n",
       "    <tr>\n",
       "      <th>9</th>\n",
       "      <td>Lillian</td>\n",
       "      <td>F</td>\n",
       "      <td>3414</td>\n",
       "    </tr>\n",
       "  </tbody>\n",
       "</table>\n",
       "</div>"
      ],
      "text/plain": [
       "        Name Gender  Instances\n",
       "0       Mary      F      16710\n",
       "1      Helen      F       6343\n",
       "2       Anna      F       6115\n",
       "3   Margaret      F       5305\n",
       "4       Ruth      F       4765\n",
       "5  Elizabeth      F       4097\n",
       "6   Florence      F       3920\n",
       "7      Ethel      F       3896\n",
       "8      Marie      F       3856\n",
       "9    Lillian      F       3414"
      ]
     },
     "execution_count": 8,
     "metadata": {},
     "output_type": "execute_result"
    }
   ],
   "source": [
    "df.head(10) #  # specifying the number of rows to be viewed"
   ]
  },
  {
   "cell_type": "code",
   "execution_count": 10,
   "id": "1ef9c0c1",
   "metadata": {},
   "outputs": [
    {
     "data": {
      "text/plain": [
       "Name         object\n",
       "Gender       object\n",
       "Instances     int64\n",
       "dtype: object"
      ]
     },
     "execution_count": 10,
     "metadata": {},
     "output_type": "execute_result"
    }
   ],
   "source": [
    "df.dtypes"
   ]
  },
  {
   "cell_type": "markdown",
   "id": "b1e4d36e",
   "metadata": {},
   "source": [
    "\n",
    "### Explanation:\n",
    "- `df` refers to a DataFrame object, which is a two-dimensional tabular data structure commonly used in data analysis and manipulation.\n",
    "- The `dtypes` attribute is used to access the data types of each column in the DataFrame.\n",
    "- When this line of code is executed, it will return the data types of all the columns in the DataFrame `df`.\n",
    "\n",
    "Structure:\n",
    "Accesses the `dtypes` attribute of the DataFrame object `df` and returns the data types of all the columns.\n",
    "\n",
    "Functionality:\n",
    "The code provides information about the data types of the columns in the DataFrame. The data types represent the type of data stored in each column, such as integer, float, string, or datetime, among others.\n",
    "\n",
    "\n",
    "Example 1:\n",
    "Suppose you have a DataFrame `df` with the following columns: 'Name', 'Age', 'Height', and 'Weight'. By executing `df.dtypes`, you will get the data types of each column, such as:\n",
    "```\n",
    "Name      object\n",
    "Age        int64\n",
    "Height   float64\n",
    "Weight   float64\n",
    "dtype: object\n",
    "```\n",
    "From the output, you can see that 'Name' is of type `object` (likely a string), 'Age' is of type `int64` (integer), 'Height' and 'Weight' are of type `float64` (floating-point numbers).\n",
    "\n",
    "Example 2:\n",
    "Consider a DataFrame `df` with columns 'Date', 'Open', 'High', 'Low', 'Close', and 'Volume'. Running `df.dtypes` might yield the following output:\n",
    "```\n",
    "Date       object\n",
    "Open      float64\n",
    "High      float64\n",
    "Low       float64\n",
    "Close     float64\n",
    "Volume      int64\n",
    "dtype: object\n",
    "```\n",
    "Here, 'Date' is of type `object` (possibly representing dates as strings), 'Open', 'High', 'Low', and 'Close' are of type `float64` (numerical values with decimal points), and 'Volume' is of type `int64` (integer representing volume).\n",
    "\n",
    "By examining the data types, you can make informed decisions about how to handle and analyze the data, such as applying appropriate mathematical operations or transformations to the columns."
   ]
  },
  {
   "cell_type": "code",
   "execution_count": 11,
   "id": "2162ac3d",
   "metadata": {},
   "outputs": [
    {
     "name": "stdout",
     "output_type": "stream",
     "text": [
      "<class 'pandas.core.frame.DataFrame'>\n",
      "RangeIndex: 3733 entries, 0 to 3732\n",
      "Data columns (total 3 columns):\n",
      " #   Column     Non-Null Count  Dtype \n",
      "---  ------     --------------  ----- \n",
      " 0   Name       3733 non-null   object\n",
      " 1   Gender     3733 non-null   object\n",
      " 2   Instances  3733 non-null   int64 \n",
      "dtypes: int64(1), object(2)\n",
      "memory usage: 87.6+ KB\n"
     ]
    }
   ],
   "source": [
    "df.info()   #it is very important to understand the characteristics of the dataset"
   ]
  },
  {
   "cell_type": "code",
   "execution_count": 12,
   "id": "4ec026d3",
   "metadata": {},
   "outputs": [
    {
     "data": {
      "text/plain": [
       "count     3733\n",
       "unique    3397\n",
       "top       Mary\n",
       "freq         2\n",
       "Name: Name, dtype: object"
      ]
     },
     "execution_count": 12,
     "metadata": {},
     "output_type": "execute_result"
    }
   ],
   "source": [
    "df[\"Name\"].describe()"
   ]
  },
  {
   "cell_type": "markdown",
   "id": "dff37db0",
   "metadata": {},
   "source": [
    "\n",
    "### Code Explanation\n",
    "The code `df[\"Name\"].describe()` performs descriptive statistics on the column labeled \"Name\" within a Pandas DataFrame, which is represented by the variable `df`. \n",
    "\n",
    "1. `df[\"Name\"]`: This part of the code accesses the column named \"Name\" within the DataFrame `df`. The `df[\"Name\"]` expression returns a Pandas Series object that contains the values of the \"Name\" column.\n",
    "\n",
    "2. `.describe()`: The `describe()` function is a built-in Pandas function that calculates a summary statistic of a numerical column. When applied to a Pandas Series or DataFrame, it returns a new DataFrame containing descriptive statistics of the column(s).\n",
    "\n",
    "### Functionality\n",
    "Retrieves the column labeled \"Name\" from the DataFrame `df` and generates a summary of descriptive statistics for that column. The resulting output will provide statistical measures such as count, mean, standard deviation, minimum value, 25th percentile, median (50th percentile), 75th percentile, and maximum value.\n",
    "\n",
    "### Example and Use Cases\n",
    "To illustrate the usage and usefulness of this code, consider the following example:\n",
    "\n",
    "```python\n",
    "import pandas as pd\n",
    "\n",
    "# Create a sample DataFrame\n",
    "data = {\n",
    "    \"Name\": [\"John\", \"Alice\", \"Bob\", \"Alice\", \"John\", \"John\", \"Bob\"],\n",
    "    \"Age\": [25, 32, 28, 35, 42, 27, 29],\n",
    "    \"Salary\": [50000, 70000, 60000, 80000, 90000, 55000, 65000]\n",
    "}\n",
    "\n",
    "df = pd.DataFrame(data)\n",
    "\n",
    "# Generate descriptive statistics for the \"Name\" column\n",
    "name_stats = df[\"Name\"].describe()\n",
    "\n",
    "print(name_stats)\n",
    "```\n",
    "\n",
    "Output:\n",
    "```\n",
    "count      7\n",
    "unique     3\n",
    "top       John\n",
    "freq       3\n",
    "Name: Name, dtype: object\n",
    "```\n",
    "\n",
    "In this example, we have a DataFrame `df` with three columns: \"Name\", \"Age\", and \"Salary\". By applying `df[\"Name\"].describe()`, we obtain the descriptive statistics for the \"Name\" column. The output shows that there are seven entries (count), three unique names (unique), \"John\" being the most frequent name (top), and it appears three times (freq).\n",
    "\n",
    "Useful for gaining insights into the distribution of categorical variables, understanding the composition of a column, identifying the most common values, and detecting potential data issues, such as missing or inconsistent values. Overall, the code provides a concise way to obtain descriptive statistics for a specific column."
   ]
  },
  {
   "cell_type": "code",
   "execution_count": 13,
   "id": "417b5286",
   "metadata": {},
   "outputs": [
    {
     "data": {
      "text/plain": [
       "count     3733\n",
       "unique    3397\n",
       "top       Mary\n",
       "freq         2\n",
       "Name: Name, dtype: object"
      ]
     },
     "execution_count": 13,
     "metadata": {},
     "output_type": "execute_result"
    }
   ],
   "source": [
    "df.Name.describe()  #an alternate way to access info about a column"
   ]
  },
  {
   "cell_type": "code",
   "execution_count": 14,
   "id": "c0a28929",
   "metadata": {},
   "outputs": [
    {
     "data": {
      "text/plain": [
       "count     3733\n",
       "unique       2\n",
       "top          F\n",
       "freq      2226\n",
       "Name: Gender, dtype: object"
      ]
     },
     "execution_count": 14,
     "metadata": {},
     "output_type": "execute_result"
    }
   ],
   "source": [
    "df[\"Gender\"].describe() # categorical values"
   ]
  },
  {
   "cell_type": "code",
   "execution_count": 16,
   "id": "aadbd7be",
   "metadata": {},
   "outputs": [
    {
     "data": {
      "text/plain": [
       "count     3733.000000\n",
       "mean       120.660863\n",
       "std        549.703202\n",
       "min          5.000000\n",
       "25%          7.000000\n",
       "50%         12.000000\n",
       "75%         37.000000\n",
       "max      16710.000000\n",
       "Name: Instances, dtype: float64"
      ]
     },
     "execution_count": 16,
     "metadata": {},
     "output_type": "execute_result"
    }
   ],
   "source": [
    "df[\"Instances\"].describe() # numerial values"
   ]
  },
  {
   "cell_type": "code",
   "execution_count": 17,
   "id": "4829b31f",
   "metadata": {},
   "outputs": [
    {
     "name": "stdout",
     "output_type": "stream",
     "text": [
      "<class 'pandas.core.frame.DataFrame'>\n",
      "RangeIndex: 3733 entries, 0 to 3732\n",
      "Data columns (total 3 columns):\n",
      " #   Column     Non-Null Count  Dtype \n",
      "---  ------     --------------  ----- \n",
      " 0   Name       3733 non-null   object\n",
      " 1   Gender     3733 non-null   object\n",
      " 2   Instances  3733 non-null   int64 \n",
      "dtypes: int64(1), object(2)\n",
      "memory usage: 87.6+ KB\n"
     ]
    }
   ],
   "source": [
    "df.info()"
   ]
  },
  {
   "cell_type": "markdown",
   "id": "e329fabe",
   "metadata": {},
   "source": [
    "### Functionality:\n",
    "The `df.info()` method is primarily used for gaining insights into the structure and contents of a DataFrame. When executed, it prints a summary of the DataFrame's metadata, such as:\n",
    "\n",
    "1. The total number of rows and columns in the DataFrame.\n",
    "2. The names and data types of each column.\n",
    "3. The count of non-null values for each column.\n",
    "4. The memory usage of the DataFrame.\n",
    "\n",
    "The printed summary is useful for understanding the data and identifying potential issues or inconsistencies. It allows you to quickly check the data types, detect missing values, and estimate the memory usage of the DataFrame.\n",
    "\n"
   ]
  },
  {
   "cell_type": "code",
   "execution_count": 18,
   "id": "46667a8d",
   "metadata": {},
   "outputs": [
    {
     "data": {
      "text/html": [
       "<div>\n",
       "<style scoped>\n",
       "    .dataframe tbody tr th:only-of-type {\n",
       "        vertical-align: middle;\n",
       "    }\n",
       "\n",
       "    .dataframe tbody tr th {\n",
       "        vertical-align: top;\n",
       "    }\n",
       "\n",
       "    .dataframe thead th {\n",
       "        text-align: right;\n",
       "    }\n",
       "</style>\n",
       "<table border=\"1\" class=\"dataframe\">\n",
       "  <thead>\n",
       "    <tr style=\"text-align: right;\">\n",
       "      <th></th>\n",
       "      <th>Name</th>\n",
       "      <th>Gender</th>\n",
       "      <th>Instances</th>\n",
       "    </tr>\n",
       "  </thead>\n",
       "  <tbody>\n",
       "    <tr>\n",
       "      <th>2418</th>\n",
       "      <td>Aaron</td>\n",
       "      <td>M</td>\n",
       "      <td>104</td>\n",
       "    </tr>\n",
       "    <tr>\n",
       "      <th>315</th>\n",
       "      <td>Abbie</td>\n",
       "      <td>F</td>\n",
       "      <td>112</td>\n",
       "    </tr>\n",
       "    <tr>\n",
       "      <th>1561</th>\n",
       "      <td>Abby</td>\n",
       "      <td>F</td>\n",
       "      <td>7</td>\n",
       "    </tr>\n",
       "    <tr>\n",
       "      <th>2499</th>\n",
       "      <td>Abe</td>\n",
       "      <td>M</td>\n",
       "      <td>56</td>\n",
       "    </tr>\n",
       "    <tr>\n",
       "      <th>2874</th>\n",
       "      <td>Abel</td>\n",
       "      <td>M</td>\n",
       "      <td>15</td>\n",
       "    </tr>\n",
       "  </tbody>\n",
       "</table>\n",
       "</div>"
      ],
      "text/plain": [
       "       Name Gender  Instances\n",
       "2418  Aaron      M        104\n",
       "315   Abbie      F        112\n",
       "1561   Abby      F          7\n",
       "2499    Abe      M         56\n",
       "2874   Abel      M         15"
      ]
     },
     "execution_count": 18,
     "metadata": {},
     "output_type": "execute_result"
    }
   ],
   "source": [
    "Sorted=df.sort_values(['Name'],ascending=True)\n",
    "Sorted.head()"
   ]
  },
  {
   "cell_type": "markdown",
   "id": "bb3cb3ff",
   "metadata": {},
   "source": [
    "\n",
    "### Code Explanation\n",
    "\n",
    "Performs sorting on a DataFrame object `df` based on a specific column called 'Name' in ascending order and then displays the first few rows of the sorted DataFrame.\n",
    "\n",
    "Let's break down the code step by step:\n",
    "\n",
    "1. `Sorted = df.sort_values(['Name'], ascending=True)`: This line of code sorts the DataFrame `df` based on the values in the 'Name' column in ascending order. The `sort_values()` function is used here, and it takes two main parameters:\n",
    "   - `['Name']`: This specifies the column(s) by which the DataFrame should be sorted. In this case, it's the 'Name' column.\n",
    "   - `ascending=True`: This parameter determines whether the sorting should be done in ascending or descending order. Here, it's set to `True`, indicating ascending order.\n",
    "\n",
    "   The sorted DataFrame is assigned to a new variable called `Sorted`.\n",
    "\n",
    "2. `Sorted.head()`: This line of code displays the first few rows of the sorted DataFrame `Sorted`. By default, the `head()` function displays the first 5 rows. If you want to specify a different number of rows, you can pass an integer value within the parentheses (e.g., `head(10)` to display the first 10 rows).\n",
    "\n",
    "Use cases for this code could include scenarios where you need to sort a DataFrame based on a specific column, such as sorting a list of students by their names, sorting a list of products by their prices, or sorting a list of cities by their populations. The code provides a convenient way to quickly sort and view the resulting DataFrame."
   ]
  },
  {
   "cell_type": "code",
   "execution_count": 19,
   "id": "846cb2d7",
   "metadata": {},
   "outputs": [],
   "source": [
    "gender=df.groupby('Gender') #Create a groupby object"
   ]
  },
  {
   "cell_type": "markdown",
   "id": "6c109ca5",
   "metadata": {},
   "source": [
    "This line of code performs a groupby operation on a DataFrame called `df` based on the 'Gender' column. The result of this operation is stored in a variable called `gender`, which represents a groupby object.\n",
    "\n",
    "The groupby operation in pandas is used to split a DataFrame into groups based on a specified column or set of columns. In this case, the 'Gender' column is used as the criterion for grouping.\n",
    "\n",
    "The `groupby()` function creates a groupby object, which is an intermediate data structure that allows for further analysis and operations on the grouped data. It  enables various operations on grouped data, such as aggregation, transformation, and filtering. Once we have the groupby object, we can apply these operations to each group or to the entire grouped data.\n",
    "\n",
    "Here are a few examples of how the `gender` groupby object can be used:\n",
    "\n",
    "1. Aggregation: We can calculate summary statistics for each group separately. For instance, we can compute the average age of males and females in the DataFrame by applying the `mean()` function to the `gender` groupby object:\n",
    "\n",
    "   ```python\n",
    "   gender['Age'].mean()\n",
    "   ```\n",
    "\n",
    "   This will return the average age for each gender group.\n",
    "\n",
    "2. Transformation: We can perform operations on each group independently and return a new DataFrame with the transformed data. For example, we can normalize the 'Salary' column within each gender group by subtracting the mean salary of the group from each value:\n",
    "\n",
    "   ```python\n",
    "   normalized_salary = gender['Salary'].transform(lambda x: x - x.mean())\n",
    "   ```\n",
    "\n",
    "   The `transform()` function applies the specified transformation function (in this case, a lambda function) to each group separately and returns a new Series with the transformed values.\n",
    "\n",
    "3. Filtering: We can filter the data based on some condition within each group. For instance, we can select only the rows where the 'Education' column is 'Bachelor's degree' within each gender group:\n",
    "\n",
    "   ```python\n",
    "   filtered_data = gender.apply(lambda x: x[x['Education'] == \"Bachelor's degree\"])\n",
    "   ```\n",
    "\n",
    "   The `apply()` function applies the specified function (in this case, a lambda function) to each group and returns a new DataFrame with the filtered rows.\n",
    "\n"
   ]
  },
  {
   "cell_type": "code",
   "execution_count": 20,
   "id": "dd785471",
   "metadata": {},
   "outputs": [
    {
     "name": "stdout",
     "output_type": "stream",
     "text": [
      "<pandas.core.groupby.generic.DataFrameGroupBy object at 0x7f2404d9b370>\n"
     ]
    }
   ],
   "source": [
    "print(gender)"
   ]
  },
  {
   "cell_type": "code",
   "execution_count": 21,
   "id": "4ff31c6a",
   "metadata": {},
   "outputs": [
    {
     "data": {
      "text/html": [
       "<div>\n",
       "<style scoped>\n",
       "    .dataframe tbody tr th:only-of-type {\n",
       "        vertical-align: middle;\n",
       "    }\n",
       "\n",
       "    .dataframe tbody tr th {\n",
       "        vertical-align: top;\n",
       "    }\n",
       "\n",
       "    .dataframe thead th {\n",
       "        text-align: right;\n",
       "    }\n",
       "</style>\n",
       "<table border=\"1\" class=\"dataframe\">\n",
       "  <thead>\n",
       "    <tr style=\"text-align: right;\">\n",
       "      <th></th>\n",
       "      <th>Instances</th>\n",
       "    </tr>\n",
       "    <tr>\n",
       "      <th>Gender</th>\n",
       "      <th></th>\n",
       "    </tr>\n",
       "  </thead>\n",
       "  <tbody>\n",
       "    <tr>\n",
       "      <th>F</th>\n",
       "      <td>299873</td>\n",
       "    </tr>\n",
       "    <tr>\n",
       "      <th>M</th>\n",
       "      <td>150554</td>\n",
       "    </tr>\n",
       "  </tbody>\n",
       "</table>\n",
       "</div>"
      ],
      "text/plain": [
       "        Instances\n",
       "Gender           \n",
       "F          299873\n",
       "M          150554"
      ]
     },
     "execution_count": 21,
     "metadata": {},
     "output_type": "execute_result"
    }
   ],
   "source": [
    "df2=gender.sum() # total based on gender category\n",
    "df2"
   ]
  },
  {
   "cell_type": "code",
   "execution_count": 23,
   "id": "3bbca4a8",
   "metadata": {},
   "outputs": [
    {
     "data": {
      "text/html": [
       "<div>\n",
       "<style scoped>\n",
       "    .dataframe tbody tr th:only-of-type {\n",
       "        vertical-align: middle;\n",
       "    }\n",
       "\n",
       "    .dataframe tbody tr th {\n",
       "        vertical-align: top;\n",
       "    }\n",
       "\n",
       "    .dataframe thead th {\n",
       "        text-align: right;\n",
       "    }\n",
       "</style>\n",
       "<table border=\"1\" class=\"dataframe\">\n",
       "  <thead>\n",
       "    <tr style=\"text-align: right;\">\n",
       "      <th></th>\n",
       "      <th>Instances</th>\n",
       "    </tr>\n",
       "    <tr>\n",
       "      <th>Gender</th>\n",
       "      <th></th>\n",
       "    </tr>\n",
       "  </thead>\n",
       "  <tbody>\n",
       "    <tr>\n",
       "      <th>F</th>\n",
       "      <td>299873</td>\n",
       "    </tr>\n",
       "    <tr>\n",
       "      <th>M</th>\n",
       "      <td>150554</td>\n",
       "    </tr>\n",
       "  </tbody>\n",
       "</table>\n",
       "</div>"
      ],
      "text/plain": [
       "        Instances\n",
       "Gender           \n",
       "F          299873\n",
       "M          150554"
      ]
     },
     "execution_count": 23,
     "metadata": {},
     "output_type": "execute_result"
    }
   ],
   "source": [
    "df3=df.groupby('Gender').sum() # alternatively use groupby to sum instances\n",
    "df3"
   ]
  },
  {
   "cell_type": "code",
   "execution_count": 24,
   "id": "8bc7bd40",
   "metadata": {},
   "outputs": [
    {
     "data": {
      "text/html": [
       "<div>\n",
       "<style scoped>\n",
       "    .dataframe tbody tr th:only-of-type {\n",
       "        vertical-align: middle;\n",
       "    }\n",
       "\n",
       "    .dataframe tbody tr th {\n",
       "        vertical-align: top;\n",
       "    }\n",
       "\n",
       "    .dataframe thead th {\n",
       "        text-align: right;\n",
       "    }\n",
       "</style>\n",
       "<table border=\"1\" class=\"dataframe\">\n",
       "  <thead>\n",
       "    <tr style=\"text-align: right;\">\n",
       "      <th></th>\n",
       "      <th>Name</th>\n",
       "      <th>Gender</th>\n",
       "      <th>Instances</th>\n",
       "    </tr>\n",
       "  </thead>\n",
       "  <tbody>\n",
       "    <tr>\n",
       "      <th>0</th>\n",
       "      <td>Mary</td>\n",
       "      <td>F</td>\n",
       "      <td>16710</td>\n",
       "    </tr>\n",
       "    <tr>\n",
       "      <th>1</th>\n",
       "      <td>Helen</td>\n",
       "      <td>F</td>\n",
       "      <td>6343</td>\n",
       "    </tr>\n",
       "    <tr>\n",
       "      <th>2</th>\n",
       "      <td>Anna</td>\n",
       "      <td>F</td>\n",
       "      <td>6115</td>\n",
       "    </tr>\n",
       "    <tr>\n",
       "      <th>3</th>\n",
       "      <td>Margaret</td>\n",
       "      <td>F</td>\n",
       "      <td>5305</td>\n",
       "    </tr>\n",
       "    <tr>\n",
       "      <th>4</th>\n",
       "      <td>Ruth</td>\n",
       "      <td>F</td>\n",
       "      <td>4765</td>\n",
       "    </tr>\n",
       "    <tr>\n",
       "      <th>2226</th>\n",
       "      <td>John</td>\n",
       "      <td>M</td>\n",
       "      <td>9834</td>\n",
       "    </tr>\n",
       "    <tr>\n",
       "      <th>2227</th>\n",
       "      <td>William</td>\n",
       "      <td>M</td>\n",
       "      <td>8580</td>\n",
       "    </tr>\n",
       "    <tr>\n",
       "      <th>2228</th>\n",
       "      <td>James</td>\n",
       "      <td>M</td>\n",
       "      <td>7246</td>\n",
       "    </tr>\n",
       "    <tr>\n",
       "      <th>2229</th>\n",
       "      <td>George</td>\n",
       "      <td>M</td>\n",
       "      <td>5405</td>\n",
       "    </tr>\n",
       "    <tr>\n",
       "      <th>2230</th>\n",
       "      <td>Charles</td>\n",
       "      <td>M</td>\n",
       "      <td>4102</td>\n",
       "    </tr>\n",
       "  </tbody>\n",
       "</table>\n",
       "</div>"
      ],
      "text/plain": [
       "          Name Gender  Instances\n",
       "0         Mary      F      16710\n",
       "1        Helen      F       6343\n",
       "2         Anna      F       6115\n",
       "3     Margaret      F       5305\n",
       "4         Ruth      F       4765\n",
       "2226      John      M       9834\n",
       "2227   William      M       8580\n",
       "2228     James      M       7246\n",
       "2229    George      M       5405\n",
       "2230   Charles      M       4102"
      ]
     },
     "execution_count": 24,
     "metadata": {},
     "output_type": "execute_result"
    }
   ],
   "source": [
    "df.groupby('Gender').head()"
   ]
  },
  {
   "cell_type": "code",
   "execution_count": null,
   "id": "1d59b8a3",
   "metadata": {},
   "outputs": [],
   "source": []
  }
 ],
 "metadata": {
  "kernelspec": {
   "display_name": "Python 3 (ipykernel)",
   "language": "python",
   "name": "python3"
  },
  "language_info": {
   "codemirror_mode": {
    "name": "ipython",
    "version": 3
   },
   "file_extension": ".py",
   "mimetype": "text/x-python",
   "name": "python",
   "nbconvert_exporter": "python",
   "pygments_lexer": "ipython3",
   "version": "3.9.6"
  }
 },
 "nbformat": 4,
 "nbformat_minor": 5
}
