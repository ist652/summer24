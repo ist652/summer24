{
 "cells": [
  {
   "cell_type": "markdown",
   "id": "7f1ae99c",
   "metadata": {},
   "source": [
    "# PANDAS PRACTICE "
   ]
  },
  {
   "cell_type": "markdown",
   "id": "e25f4780",
   "metadata": {},
   "source": [
    "### In this practice we will look at weather data from  various cities and see how groupby can be used to run some analytics. Add code cells where applicable. "
   ]
  },
  {
   "cell_type": "code",
   "execution_count": 1,
   "id": "96e2f232",
   "metadata": {},
   "outputs": [],
   "source": [
    "import pandas as pd"
   ]
  },
  {
   "cell_type": "markdown",
   "id": "91a84cc6",
   "metadata": {},
   "source": [
    "####  Question 1\n",
    "\n",
    "#### Let us explore the movie dataset\n",
    "\n",
    "1. Load in the IMDB movies dataset\n",
    "2. Display the top 5 and last 5 movies and columns\n",
    "3. Display information about the columns. What are the datatypes?\n",
    "4. Append the datframe to itself\n",
    "5. Display the shape of the dataframe\n",
    "6. Remove the duplicates\n",
    "7. Confirm that the shape has been modified \n",
    "\n"
   ]
  },
  {
   "cell_type": "code",
   "execution_count": null,
   "id": "4200e003",
   "metadata": {},
   "outputs": [],
   "source": []
  },
  {
   "cell_type": "code",
   "execution_count": null,
   "id": "02470a63",
   "metadata": {},
   "outputs": [],
   "source": []
  },
  {
   "cell_type": "code",
   "execution_count": null,
   "id": "6646771e",
   "metadata": {},
   "outputs": [],
   "source": []
  },
  {
   "cell_type": "code",
   "execution_count": null,
   "id": "33d44170",
   "metadata": {},
   "outputs": [],
   "source": []
  },
  {
   "cell_type": "code",
   "execution_count": null,
   "id": "766a224c",
   "metadata": {},
   "outputs": [],
   "source": []
  },
  {
   "cell_type": "markdown",
   "id": "58f0768e",
   "metadata": {},
   "source": [
    "#### Question 2 \n",
    "\n",
    "#### Let us explore another dataset. This time the weather dataset\n",
    "\n",
    "1. Create the data frame from the given csv file\n",
    "2. Display the first 10 rows\n",
    "3. Display the last 5 rows\n",
    "4. Display the datatypes\n",
    "5. Display statistics for a numerical column \n",
    "\n"
   ]
  },
  {
   "cell_type": "code",
   "execution_count": null,
   "id": "27403105",
   "metadata": {},
   "outputs": [],
   "source": []
  },
  {
   "cell_type": "code",
   "execution_count": null,
   "id": "12f177b8",
   "metadata": {},
   "outputs": [],
   "source": []
  },
  {
   "cell_type": "code",
   "execution_count": null,
   "id": "5d7b6ffb",
   "metadata": {},
   "outputs": [],
   "source": []
  },
  {
   "cell_type": "markdown",
   "id": "c2a062e8",
   "metadata": {},
   "source": [
    "#### Question 3\n",
    "\n",
    "For this dataset let us determine the following. We will explore splitting your dataset in smaller groups and then applying an operation (such as min or max) to get aggregate result is called Split-Apply-Combine approach. \n"
   ]
  },
  {
   "cell_type": "code",
   "execution_count": null,
   "id": "3f8651b3",
   "metadata": {},
   "outputs": [],
   "source": [
    "# Groupby city and print the data for all the groups \n",
    "# Get the data group for Mumbai\n",
    "# Get the max temp for all cities\n",
    "# What is the avarage temperature and windspeed\n",
    "# Display all the analytics for the data\n",
    "# Let us do a rudimentary plot. See code below\n",
    "'''\n",
    "%matplotlib inline # load matplotlib\n",
    "variable.plot()\n",
    "\n",
    "'''\n",
    "\n"
   ]
  },
  {
   "cell_type": "code",
   "execution_count": null,
   "id": "8dc69184",
   "metadata": {},
   "outputs": [],
   "source": []
  },
  {
   "cell_type": "code",
   "execution_count": null,
   "id": "6edf8709",
   "metadata": {},
   "outputs": [],
   "source": []
  }
 ],
 "metadata": {
  "kernelspec": {
   "display_name": "Python 3 (ipykernel)",
   "language": "python",
   "name": "python3"
  },
  "language_info": {
   "codemirror_mode": {
    "name": "ipython",
    "version": 3
   },
   "file_extension": ".py",
   "mimetype": "text/x-python",
   "name": "python",
   "nbconvert_exporter": "python",
   "pygments_lexer": "ipython3",
   "version": "3.9.6"
  }
 },
 "nbformat": 4,
 "nbformat_minor": 5
}
