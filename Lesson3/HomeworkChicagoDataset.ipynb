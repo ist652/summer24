{
 "cells": [
  {
   "cell_type": "markdown",
   "id": "b574527a",
   "metadata": {},
   "source": [
    "# HOMEWORK - CHICAGO DATASET\n"
   ]
  },
  {
   "cell_type": "markdown",
   "id": "c6a4f17a",
   "metadata": {},
   "source": [
    "Submitted by: "
   ]
  },
  {
   "cell_type": "markdown",
   "id": "b8e0dcb8",
   "metadata": {},
   "source": [
    "Submission date:"
   ]
  },
  {
   "cell_type": "markdown",
   "id": "1480b7e4",
   "metadata": {},
   "source": [
    "**Instructions:** You will process and analyze a large data set that contains crimes reported in the city of Chicago from 2018 to 2021.\n",
    "\n",
    "To load the data set and get the *crimes* dataframe correctly configured, execute the cells with the code provided in this notebook. This could take a few minutes after you start the execution of the code cells.\n",
    "\n",
    "Once the *crimes* dataframe has been setup proceed to obtain 2 meaningful data analysis results from processing the *crimes* dataframe. Specific cells have been provided for you to describe the results of each of your data analysis procedures. You can add as many code cells as you want to complete each of your analysis and I also recommend that you add some explanatory cells (use Markdown) to provide some additional text with explanations of your analysis.\n"
   ]
  },
  {
   "cell_type": "code",
   "execution_count": 1,
   "id": "cf08cb30",
   "metadata": {
    "tags": []
   },
   "outputs": [],
   "source": [
    "#EXECUTE THIS CELL to setup the modules you need\n",
    "%matplotlib inline\n",
    "\n",
    "import pandas as pd\n",
    "import numpy as np"
   ]
  },
  {
   "cell_type": "code",
   "execution_count": 2,
   "id": "968c2388",
   "metadata": {
    "tags": []
   },
   "outputs": [],
   "source": [
    "#Defining location of dataset \n",
    "filepath=\"/opt/datasets/ist652/Crimes/crimes_2018_2021.csv\""
   ]
  },
  {
   "cell_type": "code",
   "execution_count": 3,
   "id": "ec9763fc",
   "metadata": {
    "tags": []
   },
   "outputs": [
    {
     "name": "stderr",
     "output_type": "stream",
     "text": [
      "/tmp/ipykernel_646/312129446.py:3: UserWarning: Could not infer format, so each element will be parsed individually, falling back to `dateutil`. To ensure parsing is consistent and as-expected, please specify a format.\n",
      "  crimes=pd.read_csv(filepath,parse_dates=[0], index_col=[0])\n"
     ]
    }
   ],
   "source": [
    "#EXECUTE THIS CELL to load the dataset into your environment - THIS WILL TAKE 3 TO 5 MINUTES - be patient\n",
    "# a security warning will appear. You can ignore it.\n",
    "crimes=pd.read_csv(filepath,parse_dates=[0], index_col=[0])"
   ]
  },
  {
   "cell_type": "code",
   "execution_count": 4,
   "id": "a906df94",
   "metadata": {
    "tags": []
   },
   "outputs": [
    {
     "data": {
      "text/html": [
       "<div>\n",
       "<style scoped>\n",
       "    .dataframe tbody tr th:only-of-type {\n",
       "        vertical-align: middle;\n",
       "    }\n",
       "\n",
       "    .dataframe tbody tr th {\n",
       "        vertical-align: top;\n",
       "    }\n",
       "\n",
       "    .dataframe thead th {\n",
       "        text-align: right;\n",
       "    }\n",
       "</style>\n",
       "<table border=\"1\" class=\"dataframe\">\n",
       "  <thead>\n",
       "    <tr style=\"text-align: right;\">\n",
       "      <th></th>\n",
       "      <th>Case Number</th>\n",
       "      <th>Date</th>\n",
       "      <th>Block</th>\n",
       "      <th>IUCR</th>\n",
       "      <th>Primary Type</th>\n",
       "      <th>Description</th>\n",
       "      <th>Location Description</th>\n",
       "      <th>Arrest</th>\n",
       "      <th>Domestic</th>\n",
       "      <th>Beat</th>\n",
       "      <th>...</th>\n",
       "      <th>Ward</th>\n",
       "      <th>Community Area</th>\n",
       "      <th>FBI Code</th>\n",
       "      <th>X Coordinate</th>\n",
       "      <th>Y Coordinate</th>\n",
       "      <th>Year</th>\n",
       "      <th>Updated On</th>\n",
       "      <th>Latitude</th>\n",
       "      <th>Longitude</th>\n",
       "      <th>Location</th>\n",
       "    </tr>\n",
       "    <tr>\n",
       "      <th>ID</th>\n",
       "      <th></th>\n",
       "      <th></th>\n",
       "      <th></th>\n",
       "      <th></th>\n",
       "      <th></th>\n",
       "      <th></th>\n",
       "      <th></th>\n",
       "      <th></th>\n",
       "      <th></th>\n",
       "      <th></th>\n",
       "      <th></th>\n",
       "      <th></th>\n",
       "      <th></th>\n",
       "      <th></th>\n",
       "      <th></th>\n",
       "      <th></th>\n",
       "      <th></th>\n",
       "      <th></th>\n",
       "      <th></th>\n",
       "      <th></th>\n",
       "      <th></th>\n",
       "    </tr>\n",
       "  </thead>\n",
       "  <tbody>\n",
       "    <tr>\n",
       "      <th>11646166</th>\n",
       "      <td>JC213529</td>\n",
       "      <td>9/1/2018 0:01</td>\n",
       "      <td>082XX S INGLESIDE AVE</td>\n",
       "      <td>810</td>\n",
       "      <td>THEFT</td>\n",
       "      <td>OVER $500</td>\n",
       "      <td>RESIDENCE</td>\n",
       "      <td>False</td>\n",
       "      <td>True</td>\n",
       "      <td>631</td>\n",
       "      <td>...</td>\n",
       "      <td>8.0</td>\n",
       "      <td>44.0</td>\n",
       "      <td>6</td>\n",
       "      <td>NaN</td>\n",
       "      <td>NaN</td>\n",
       "      <td>2018</td>\n",
       "      <td>4/6/2019 16:04</td>\n",
       "      <td>NaN</td>\n",
       "      <td>NaN</td>\n",
       "      <td>NaN</td>\n",
       "    </tr>\n",
       "    <tr>\n",
       "      <th>11645648</th>\n",
       "      <td>JC212959</td>\n",
       "      <td>1/1/2018 8:00</td>\n",
       "      <td>024XX N MONITOR AVE</td>\n",
       "      <td>1153</td>\n",
       "      <td>DECEPTIVE PRACTICE</td>\n",
       "      <td>FINANCIAL IDENTITY THEFT OVER $ 300</td>\n",
       "      <td>RESIDENCE</td>\n",
       "      <td>False</td>\n",
       "      <td>False</td>\n",
       "      <td>2515</td>\n",
       "      <td>...</td>\n",
       "      <td>30.0</td>\n",
       "      <td>19.0</td>\n",
       "      <td>11</td>\n",
       "      <td>NaN</td>\n",
       "      <td>NaN</td>\n",
       "      <td>2018</td>\n",
       "      <td>4/6/2019 16:04</td>\n",
       "      <td>NaN</td>\n",
       "      <td>NaN</td>\n",
       "      <td>NaN</td>\n",
       "    </tr>\n",
       "    <tr>\n",
       "      <th>11645959</th>\n",
       "      <td>JC211511</td>\n",
       "      <td>12/20/2018 16:00</td>\n",
       "      <td>045XX N ALBANY AVE</td>\n",
       "      <td>2820</td>\n",
       "      <td>OTHER OFFENSE</td>\n",
       "      <td>TELEPHONE THREAT</td>\n",
       "      <td>RESIDENCE</td>\n",
       "      <td>False</td>\n",
       "      <td>False</td>\n",
       "      <td>1724</td>\n",
       "      <td>...</td>\n",
       "      <td>33.0</td>\n",
       "      <td>14.0</td>\n",
       "      <td>08A</td>\n",
       "      <td>NaN</td>\n",
       "      <td>NaN</td>\n",
       "      <td>2018</td>\n",
       "      <td>4/6/2019 16:04</td>\n",
       "      <td>NaN</td>\n",
       "      <td>NaN</td>\n",
       "      <td>NaN</td>\n",
       "    </tr>\n",
       "    <tr>\n",
       "      <th>11645557</th>\n",
       "      <td>JC212685</td>\n",
       "      <td>4/1/2018 0:01</td>\n",
       "      <td>080XX S VERNON AVE</td>\n",
       "      <td>1153</td>\n",
       "      <td>DECEPTIVE PRACTICE</td>\n",
       "      <td>FINANCIAL IDENTITY THEFT OVER $ 300</td>\n",
       "      <td>RESIDENCE</td>\n",
       "      <td>False</td>\n",
       "      <td>False</td>\n",
       "      <td>631</td>\n",
       "      <td>...</td>\n",
       "      <td>6.0</td>\n",
       "      <td>44.0</td>\n",
       "      <td>11</td>\n",
       "      <td>NaN</td>\n",
       "      <td>NaN</td>\n",
       "      <td>2018</td>\n",
       "      <td>4/6/2019 16:04</td>\n",
       "      <td>NaN</td>\n",
       "      <td>NaN</td>\n",
       "      <td>NaN</td>\n",
       "    </tr>\n",
       "    <tr>\n",
       "      <th>11646293</th>\n",
       "      <td>JC213749</td>\n",
       "      <td>12/20/2018 15:00</td>\n",
       "      <td>023XX N LOCKWOOD AVE</td>\n",
       "      <td>1154</td>\n",
       "      <td>DECEPTIVE PRACTICE</td>\n",
       "      <td>FINANCIAL IDENTITY THEFT $300 AND UNDER</td>\n",
       "      <td>APARTMENT</td>\n",
       "      <td>False</td>\n",
       "      <td>False</td>\n",
       "      <td>2515</td>\n",
       "      <td>...</td>\n",
       "      <td>36.0</td>\n",
       "      <td>19.0</td>\n",
       "      <td>11</td>\n",
       "      <td>NaN</td>\n",
       "      <td>NaN</td>\n",
       "      <td>2018</td>\n",
       "      <td>4/6/2019 16:04</td>\n",
       "      <td>NaN</td>\n",
       "      <td>NaN</td>\n",
       "      <td>NaN</td>\n",
       "    </tr>\n",
       "  </tbody>\n",
       "</table>\n",
       "<p>5 rows × 21 columns</p>\n",
       "</div>"
      ],
      "text/plain": [
       "         Case Number              Date                  Block  IUCR  \\\n",
       "ID                                                                    \n",
       "11646166    JC213529     9/1/2018 0:01  082XX S INGLESIDE AVE   810   \n",
       "11645648    JC212959     1/1/2018 8:00    024XX N MONITOR AVE  1153   \n",
       "11645959    JC211511  12/20/2018 16:00     045XX N ALBANY AVE  2820   \n",
       "11645557    JC212685     4/1/2018 0:01     080XX S VERNON AVE  1153   \n",
       "11646293    JC213749  12/20/2018 15:00   023XX N LOCKWOOD AVE  1154   \n",
       "\n",
       "                Primary Type                              Description  \\\n",
       "ID                                                                      \n",
       "11646166               THEFT                                OVER $500   \n",
       "11645648  DECEPTIVE PRACTICE      FINANCIAL IDENTITY THEFT OVER $ 300   \n",
       "11645959       OTHER OFFENSE                         TELEPHONE THREAT   \n",
       "11645557  DECEPTIVE PRACTICE      FINANCIAL IDENTITY THEFT OVER $ 300   \n",
       "11646293  DECEPTIVE PRACTICE  FINANCIAL IDENTITY THEFT $300 AND UNDER   \n",
       "\n",
       "         Location Description  Arrest  Domestic  Beat  ...  Ward  \\\n",
       "ID                                                     ...         \n",
       "11646166            RESIDENCE   False      True   631  ...   8.0   \n",
       "11645648            RESIDENCE   False     False  2515  ...  30.0   \n",
       "11645959            RESIDENCE   False     False  1724  ...  33.0   \n",
       "11645557            RESIDENCE   False     False   631  ...   6.0   \n",
       "11646293            APARTMENT   False     False  2515  ...  36.0   \n",
       "\n",
       "          Community Area  FBI Code X Coordinate  Y Coordinate  Year  \\\n",
       "ID                                                                    \n",
       "11646166            44.0         6          NaN           NaN  2018   \n",
       "11645648            19.0        11          NaN           NaN  2018   \n",
       "11645959            14.0       08A          NaN           NaN  2018   \n",
       "11645557            44.0        11          NaN           NaN  2018   \n",
       "11646293            19.0        11          NaN           NaN  2018   \n",
       "\n",
       "              Updated On Latitude  Longitude  Location  \n",
       "ID                                                      \n",
       "11646166  4/6/2019 16:04      NaN        NaN       NaN  \n",
       "11645648  4/6/2019 16:04      NaN        NaN       NaN  \n",
       "11645959  4/6/2019 16:04      NaN        NaN       NaN  \n",
       "11645557  4/6/2019 16:04      NaN        NaN       NaN  \n",
       "11646293  4/6/2019 16:04      NaN        NaN       NaN  \n",
       "\n",
       "[5 rows x 21 columns]"
      ]
     },
     "execution_count": 4,
     "metadata": {},
     "output_type": "execute_result"
    }
   ],
   "source": [
    "crimes.head()  #just checking"
   ]
  },
  {
   "cell_type": "markdown",
   "id": "9b523fe3",
   "metadata": {},
   "source": [
    "# Code for data analysis 1\n",
    "\n",
    "You can place the code for your first data analysis result in this section. Add as many code cells as you need."
   ]
  },
  {
   "cell_type": "code",
   "execution_count": null,
   "id": "6b8f107d",
   "metadata": {},
   "outputs": [],
   "source": []
  },
  {
   "cell_type": "code",
   "execution_count": null,
   "id": "0bff724d",
   "metadata": {},
   "outputs": [],
   "source": []
  },
  {
   "cell_type": "markdown",
   "id": "7ce989a5",
   "metadata": {},
   "source": [
    "## Description of data analysis result 1\n",
    "\n",
    "Use the next cell to describe your data analysis result 1"
   ]
  },
  {
   "cell_type": "code",
   "execution_count": null,
   "id": "b3639f49",
   "metadata": {},
   "outputs": [],
   "source": []
  },
  {
   "cell_type": "markdown",
   "id": "656e7a54",
   "metadata": {},
   "source": [
    "# Code for data analysis 2\n",
    "\n",
    "You can place the code for your second data analysis result in this section. Add as many code cells as you need."
   ]
  },
  {
   "cell_type": "code",
   "execution_count": null,
   "id": "67adcca8",
   "metadata": {},
   "outputs": [],
   "source": []
  },
  {
   "cell_type": "code",
   "execution_count": null,
   "id": "fcf7bebb",
   "metadata": {},
   "outputs": [],
   "source": []
  },
  {
   "cell_type": "markdown",
   "id": "39b74590",
   "metadata": {},
   "source": [
    "## Description of data analysis result 2\n",
    "\n",
    "Use the next cell to describe your data analysis result 2"
   ]
  },
  {
   "cell_type": "code",
   "execution_count": null,
   "id": "fa118926",
   "metadata": {},
   "outputs": [],
   "source": []
  },
  {
   "cell_type": "markdown",
   "id": "aed96725",
   "metadata": {},
   "source": [
    "**Note:** PLEASE SUBMIT YOUR HOMEWORK IN *ipynb* AND *pdf* formats. Use the \"Download as\" option in the \"File\" menu to get your download the notebook in those formats."
   ]
  }
 ],
 "metadata": {
  "kernelspec": {
   "display_name": "Python 3 (ipykernel)",
   "language": "python",
   "name": "python3"
  },
  "language_info": {
   "codemirror_mode": {
    "name": "ipython",
    "version": 3
   },
   "file_extension": ".py",
   "mimetype": "text/x-python",
   "name": "python",
   "nbconvert_exporter": "python",
   "pygments_lexer": "ipython3",
   "version": "3.11.7"
  }
 },
 "nbformat": 4,
 "nbformat_minor": 5
}
