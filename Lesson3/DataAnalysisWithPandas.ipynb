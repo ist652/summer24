{
 "cells": [
  {
   "cell_type": "markdown",
   "id": "b5f97c52-e93b-4428-aae9-1a11390f33d4",
   "metadata": {},
   "source": [
    "# Data Analysis with Pandas\n",
    "\n",
    "Michael Fudge 2024 Edition\n"
   ]
  },
  {
   "cell_type": "markdown",
   "id": "f666b10d-1cdc-4c1e-bd3e-b1fdc8360df1",
   "metadata": {},
   "source": [
    "### Table of Contents:\n",
    "\n",
    "0. What is Pandas? What is Data Analysis?\n",
    "1. [Part One:](#Part-One)\n",
    "     1. Importing Pandas and numpy\n",
    "     1. Basic Elements of Pandas: Series\n",
    "     1. Basic Elements of Pandas: DataFrame\n",
    "     1. Accessing elements with loc and iloc\n",
    "     1. Basic DataFrame operations: info(), count(), describe(), head(), tail(), sample()\n",
    "     1. Selecting Rows and Columns: selectors and boolean indexes\n",
    "\n",
    "2. [Part Two:](#Part-Two)\n",
    "     1. Iterating over a DataFrame or series\n",
    "     1. Loading JSON with Pandas, json_normalize()\n",
    "     1. Simple Web scraping with Pandas\n",
    "     1. Advanced Dataframe Operations: concat(), merge()\n",
    "     1. Generating Columns, Lambdas and the apply() function\n",
    "     1. DataFrames as output"
   ]
  },
  {
   "cell_type": "markdown",
   "id": "85aae0c5-f713-477a-9c38-91dd8b23f29a",
   "metadata": {},
   "source": [
    "## What is Pandas?\n",
    "\n",
    "Pandas is a Python library for data analysis. The homepage of Pandas is http://pandas.pydata.org/.\n",
    "\n",
    "Pandas takes the pain and suffering out of data analysis by doing a lot of the work for you. Pandas is so elegant at times, people feel it's \"indistinguishable from magic.\" In this lesson we will try to our best to explain what Pandas is doing \"behind the curtain\" and expose the magic behind Pandas.\n",
    "\n",
    "The Pandas library gets its name not from the furry Asian animal, but from the words \"Panel Data\".\n",
    "\n",
    "## What is data analysis?\n",
    "\n",
    "Data Analysis is the process of systematically applying statistical and/or logical techniques to describe and illustrate, condense and recap, and evaluate data [https://ori.hhs.gov/education/products/n_illinois_u/datamanagement/datopic.html](https://ori.hhs.gov/education/products/n_illinois_u/datamanagement/datopic.html).\n",
    "\n",
    "\n",
    "The goals of data analysis are to:\n",
    "\n",
    "1. discover useful information,\n",
    "2. provide insights,\n",
    "3. suggest conclusions, and\n",
    "4. support decision-making.\n",
    "\n",
    "### Some examples\n",
    "\n",
    "Most data analysis problems start with a fundamental question (but they don't always have to). Examples:\n",
    "\n",
    "- Do students who study in groups perform better on examinations that those who study alone?\n",
    "- What role (if any at all) does weather play in consumer shopping habits?\n",
    "- What types of passengers were most likely to survive the Titantic?\n",
    "- Among American Football teams who \"go for it\" on 4th downs, what is their win percentage?\n",
    "- Are we stocking products in warehouses closest to the customers who purchase them?\n",
    "\n",
    "\n",
    "### Data analysis is \"information storytelling\"\n",
    "\n",
    "Don't think of data analysis as crunching numbers and churning out graphs.\n",
    "\n",
    "I like to think of data analysis as \"information storytelling.\" Unlike slapping a chart on a powerpoint slide, which might be the *result* of a data analysis, it's a full disclosure of the process:\n",
    "\n",
    "1. helping the reader understand your methodology (how you acquired and prepared the data)\n",
    "2. sharing your complete analysis (including things that didn't work)\n",
    "3. provding a narrative as to what the results mean, and most importantly\n",
    "4. providing an honest and accurate analysis.\n",
    "\n",
    "### Why perform a data analysis with Code?\n",
    "\n",
    "You **could** do this in Excel, but Code (Python) and Jupyter Notebook offer several advantages:\n",
    "\n",
    "- It is easier to automate and update the process later on, since its code.\n",
    "- You can intermix code witha narrative / explanations in the Jupyter notebook\n",
    "- It can integrate with a variety of services and systems (because its code!).\n",
    "- What you create is reproduceable. Someone else can run your code and see your results. This provdes stronger evidence to support your analysis as opposed to just a chart on a powerpoint slide!\n",
    "\n",
    "\n",
    "Data analysis is a skill every information professional should have, and this is a primary reason we teach programming in the iSchool. When you can code it makes performing a data analysis that much better!"
   ]
  },
  {
   "cell_type": "markdown",
   "id": "aee8f20d-b6fa-4894-bf49-ad9ce4c98fcd",
   "metadata": {
    "tags": []
   },
   "source": [
    "## Part One\n",
    "\n",
    "### 1.A Import pandas\n",
    "\n",
    "Before you can use `pandas` you must import it into Python. When we import Pandas it is customary to use the alias `pd` so that we don't have to type `pandas` in our code. For example instead of typing `pandas.DataFrame()` we can save ourselves a few keystrokes with `pd.DataFrame()`\n",
    "\n",
    "#### np.nan\n",
    "\n",
    "In most cases we will need `np.nan` from the `numpy` module, too. This is a special value which indicates the absense of a value. (nan means \"Not a Number\") Since these values are absent they are not included in numerical calculations. This is important for getting the \"math\" right, as we will see later on. "
   ]
  },
  {
   "cell_type": "code",
   "execution_count": 1,
   "id": "fd80fdc1-685a-4dbe-a8f2-b9d29dc96e8d",
   "metadata": {
    "tags": []
   },
   "outputs": [
    {
     "name": "stdout",
     "output_type": "stream",
     "text": [
      "nan\n"
     ]
    }
   ],
   "source": [
    "import pandas as pd\n",
    "import numpy as np\n",
    "\n",
    "print(np.nan)"
   ]
  },
  {
   "cell_type": "markdown",
   "id": "c455f6d7-08ed-4115-9a3f-37386461b9b3",
   "metadata": {},
   "source": [
    "### 1.B The Basic Elements of Pandas: Series\n",
    "\n",
    "#### Series\n",
    "\n",
    "The **series** is the most basic structure in Pandas. It is simply a named-list of values. Every series has a data type, expressed as a numpy data type. Common data types you will see in this course are `int` or `float64` for numbers, and `Object` for string types.\n",
    "\n",
    "The following example creates a series called `grades` we use Python's named arguments feature to set the data, name and data type (dtype) arguments. Some of the grades are missing so we use `np.nan` in those cases."
   ]
  },
  {
   "cell_type": "code",
   "execution_count": 2,
   "id": "e668f387-bb1a-4042-beca-9b14898f95eb",
   "metadata": {
    "tags": []
   },
   "outputs": [
    {
     "data": {
      "text/plain": [
       "0    100.0\n",
       "1     80.0\n",
       "2    100.0\n",
       "3     90.0\n",
       "4      NaN\n",
       "5     70.0\n",
       "Name: Grade, dtype: float64"
      ]
     },
     "execution_count": 2,
     "metadata": {},
     "output_type": "execute_result"
    }
   ],
   "source": [
    "grades = pd.Series(data = [100,80,100,90,np.nan,70], name = \"Grade\")\n",
    "grades"
   ]
  },
  {
   "cell_type": "markdown",
   "id": "74e8a3ee-acd1-4f4d-ac67-e1e725a925e5",
   "metadata": {},
   "source": [
    "#### Index\n",
    "\n",
    "What's with those numbers to the left of the grades? That's the **index**, and every series has one. An index is an ordered list of values. It's how Pandas accesses specific values in a Series (or as we will see in a bit... a DataFrame)\n",
    "\n",
    "The index of the series works a lot like the index in a list or a string. For example, this code prints the first and last grades in the series."
   ]
  },
  {
   "cell_type": "code",
   "execution_count": 3,
   "id": "92713fac-c7ed-4d82-8cca-8adf3d35e71f",
   "metadata": {
    "tags": []
   },
   "outputs": [
    {
     "name": "stdout",
     "output_type": "stream",
     "text": [
      "first grade: 100.0\n",
      "last grade: 70.0\n"
     ]
    }
   ],
   "source": [
    "print(\"first grade:\", grades[0])\n",
    "print(\"last grade:\", grades[5])"
   ]
  },
  {
   "cell_type": "markdown",
   "id": "19c1a635-bad9-43bc-b025-fc01ba83b182",
   "metadata": {},
   "source": [
    "#### Series Aggregate Functions\n",
    "\n",
    "The beauty of Pandas is that for most operations, you won't even need a loop! For example, we derive the `min()`, `max()`, `mean()`, `sum()` and `count()` of non `np.nan` values in a series without a for loop!!! \n",
    "\n",
    "We do this by calling those method functions on the series itself, for example:"
   ]
  },
  {
   "cell_type": "code",
   "execution_count": 4,
   "id": "f28e90a4-e3f0-451a-8085-418d479dbb2b",
   "metadata": {
    "tags": []
   },
   "outputs": [
    {
     "name": "stdout",
     "output_type": "stream",
     "text": [
      "Highest grade: 100.0\n",
      "Average grade: 88.0\n",
      "lowest grade: 70.0\n",
      "Sum of grades: 440.0\n",
      "Count of grades 5\n"
     ]
    }
   ],
   "source": [
    "print(\"Highest grade:\", grades.max())\n",
    "print(\"Average grade:\", grades.mean())\n",
    "print(\"lowest grade:\", grades.min())\n",
    "print(\"Sum of grades:\", grades.sum())\n",
    "print(\"Count of grades\", grades.count())"
   ]
  },
  {
   "cell_type": "markdown",
   "id": "8d9006af-e851-4dbf-acaf-cd2d48ccc056",
   "metadata": {
    "tags": []
   },
   "source": [
    "#### Other Series Functions\n",
    "\n",
    "You can also get value counts for a series  and also deduplicate values in a series. For example consider the following series:"
   ]
  },
  {
   "cell_type": "code",
   "execution_count": 5,
   "id": "2a698521-b55e-4728-9fa5-c3ab78436775",
   "metadata": {
    "tags": []
   },
   "outputs": [
    {
     "data": {
      "text/plain": [
       "0      y\n",
       "1      y\n",
       "2      y\n",
       "3      n\n",
       "4      y\n",
       "5    NaN\n",
       "6      n\n",
       "7      n\n",
       "8      y\n",
       "Name: Vote, dtype: object"
      ]
     },
     "execution_count": 5,
     "metadata": {},
     "output_type": "execute_result"
    }
   ],
   "source": [
    "votes = pd.Series(data=[ 'y','y','y','n','y',np.nan,'n','n','y'], name=\"Vote\")\n",
    "votes"
   ]
  },
  {
   "cell_type": "markdown",
   "id": "32d7bfcb-6a3c-44b1-9c67-d6092b1e4e5a",
   "metadata": {},
   "source": [
    "We use the `unique()` method function to return only the non-duplicate values from the series. \n",
    "\n",
    "The `value_counts()` method function adds up values, creating a new series where the index is the value and the value is the count."
   ]
  },
  {
   "cell_type": "code",
   "execution_count": 6,
   "id": "e6ac65cb-5e57-4fcb-aec1-0ca2351f182a",
   "metadata": {
    "tags": []
   },
   "outputs": [
    {
     "name": "stdout",
     "output_type": "stream",
     "text": [
      "deduplicate the votes: ['y' 'n' nan]\n",
      "counts by value: Vote\n",
      "y    5\n",
      "n    3\n",
      "Name: count, dtype: int64\n"
     ]
    }
   ],
   "source": [
    "print(\"deduplicate the votes:\", votes.unique())\n",
    "print(\"counts by value:\", votes.value_counts())"
   ]
  },
  {
   "cell_type": "markdown",
   "id": "b58221b6-6855-45dc-9af6-5d9e31c1c224",
   "metadata": {},
   "source": [
    "**Where did all these functions come from?** They're methods (object functions) associated with the Series object. If you dir(grades) you can see them!\n",
    "\n",
    "If you want to learn more, here's the official documentation: https://pandas.pydata.org/pandas-docs/stable/reference/series.html"
   ]
  },
  {
   "cell_type": "markdown",
   "id": "183fb7e1-34ca-4d2d-8425-4cbb0b824309",
   "metadata": {},
   "source": [
    "### 1.C Basic Elements of Pandas: DataFrame\n",
    "\n",
    "The pandas **DataFrame** is a table representation of data. It is the primary use case for pandas itself. A dataframe is simply a collection of **Series** that share a common **Index**. I like to think of the DataFrame as a programmable spreadsheet. It has rows and columns which can be accessed and manipulated with Python.\n",
    "\n",
    "`DataFrame` is the most common Pandas data structure. As you'll see its expressive and versitile, making it an essential tool in data analysis.\n",
    "\n",
    "To make a `DataFrame` we must create a Python `dict` of Series, or `list` . We use the series name as the key and the series itself as the value.\n",
    "\n",
    "This example creates a DataFrame from two series of Student names and Grade-Point-Averages (GPA's), using Series:"
   ]
  },
  {
   "cell_type": "code",
   "execution_count": 7,
   "id": "8e5e203f-016b-4e17-a57d-47e283895edc",
   "metadata": {
    "tags": []
   },
   "outputs": [
    {
     "data": {
      "text/html": [
       "<div>\n",
       "<style scoped>\n",
       "    .dataframe tbody tr th:only-of-type {\n",
       "        vertical-align: middle;\n",
       "    }\n",
       "\n",
       "    .dataframe tbody tr th {\n",
       "        vertical-align: top;\n",
       "    }\n",
       "\n",
       "    .dataframe thead th {\n",
       "        text-align: right;\n",
       "    }\n",
       "</style>\n",
       "<table border=\"1\" class=\"dataframe\">\n",
       "  <thead>\n",
       "    <tr style=\"text-align: right;\">\n",
       "      <th></th>\n",
       "      <th>Name</th>\n",
       "      <th>GPA</th>\n",
       "      <th>Year</th>\n",
       "    </tr>\n",
       "  </thead>\n",
       "  <tbody>\n",
       "    <tr>\n",
       "      <th>0</th>\n",
       "      <td>Allen</td>\n",
       "      <td>4.0</td>\n",
       "      <td>So</td>\n",
       "    </tr>\n",
       "    <tr>\n",
       "      <th>1</th>\n",
       "      <td>Bob</td>\n",
       "      <td>NaN</td>\n",
       "      <td>Fr</td>\n",
       "    </tr>\n",
       "    <tr>\n",
       "      <th>2</th>\n",
       "      <td>Chris</td>\n",
       "      <td>3.4</td>\n",
       "      <td>Fr</td>\n",
       "    </tr>\n",
       "    <tr>\n",
       "      <th>3</th>\n",
       "      <td>Dave</td>\n",
       "      <td>2.8</td>\n",
       "      <td>Jr</td>\n",
       "    </tr>\n",
       "    <tr>\n",
       "      <th>4</th>\n",
       "      <td>Ed</td>\n",
       "      <td>2.5</td>\n",
       "      <td>Sr</td>\n",
       "    </tr>\n",
       "    <tr>\n",
       "      <th>5</th>\n",
       "      <td>Frank</td>\n",
       "      <td>3.8</td>\n",
       "      <td>Sr</td>\n",
       "    </tr>\n",
       "    <tr>\n",
       "      <th>6</th>\n",
       "      <td>Gus</td>\n",
       "      <td>3.0</td>\n",
       "      <td>Fr</td>\n",
       "    </tr>\n",
       "  </tbody>\n",
       "</table>\n",
       "</div>"
      ],
      "text/plain": [
       "    Name  GPA Year\n",
       "0  Allen  4.0   So\n",
       "1    Bob  NaN   Fr\n",
       "2  Chris  3.4   Fr\n",
       "3   Dave  2.8   Jr\n",
       "4     Ed  2.5   Sr\n",
       "5  Frank  3.8   Sr\n",
       "6    Gus  3.0   Fr"
      ]
     },
     "execution_count": 7,
     "metadata": {},
     "output_type": "execute_result"
    }
   ],
   "source": [
    "names = pd.Series( data = ['Allen','Bob','Chris','Dave','Ed','Frank','Gus'])\n",
    "gpas = pd.Series( data = [4.0, np.nan, 3.4, 2.8, 2.5, 3.8, 3.0])\n",
    "years = pd.Series( data = ['So', 'Fr', 'Fr', 'Jr', 'Sr', 'Sr', 'Fr'])\n",
    "series_dict = { 'Name':  names, 'GPA': gpas, 'Year' : years }  # dict of Series, keys are the series names\n",
    "students = pd.DataFrame( series_dict )\n",
    "students"
   ]
  },
  {
   "cell_type": "markdown",
   "id": "467000dd-1efe-4431-86d4-bdc5dfba6948",
   "metadata": {},
   "source": [
    "Here's the same code but we make the dataframe from simple Python lists. The end result is the same, as the DataFrame is always constructed from Series. In this case the `pf.DataFrame()` method created the three `Series` for us."
   ]
  },
  {
   "cell_type": "code",
   "execution_count": 8,
   "id": "a13498e6-dfef-4dea-ba8d-ed2067f6d58e",
   "metadata": {
    "tags": []
   },
   "outputs": [
    {
     "data": {
      "text/html": [
       "<div>\n",
       "<style scoped>\n",
       "    .dataframe tbody tr th:only-of-type {\n",
       "        vertical-align: middle;\n",
       "    }\n",
       "\n",
       "    .dataframe tbody tr th {\n",
       "        vertical-align: top;\n",
       "    }\n",
       "\n",
       "    .dataframe thead th {\n",
       "        text-align: right;\n",
       "    }\n",
       "</style>\n",
       "<table border=\"1\" class=\"dataframe\">\n",
       "  <thead>\n",
       "    <tr style=\"text-align: right;\">\n",
       "      <th></th>\n",
       "      <th>Name</th>\n",
       "      <th>GPA</th>\n",
       "      <th>Year</th>\n",
       "    </tr>\n",
       "  </thead>\n",
       "  <tbody>\n",
       "    <tr>\n",
       "      <th>0</th>\n",
       "      <td>Allen</td>\n",
       "      <td>4.0</td>\n",
       "      <td>So</td>\n",
       "    </tr>\n",
       "    <tr>\n",
       "      <th>1</th>\n",
       "      <td>Bob</td>\n",
       "      <td>NaN</td>\n",
       "      <td>Fr</td>\n",
       "    </tr>\n",
       "    <tr>\n",
       "      <th>2</th>\n",
       "      <td>Chris</td>\n",
       "      <td>3.4</td>\n",
       "      <td>Fr</td>\n",
       "    </tr>\n",
       "    <tr>\n",
       "      <th>3</th>\n",
       "      <td>Dave</td>\n",
       "      <td>2.8</td>\n",
       "      <td>Jr</td>\n",
       "    </tr>\n",
       "    <tr>\n",
       "      <th>4</th>\n",
       "      <td>Ed</td>\n",
       "      <td>2.5</td>\n",
       "      <td>Sr</td>\n",
       "    </tr>\n",
       "    <tr>\n",
       "      <th>5</th>\n",
       "      <td>Frank</td>\n",
       "      <td>3.8</td>\n",
       "      <td>Sr</td>\n",
       "    </tr>\n",
       "    <tr>\n",
       "      <th>6</th>\n",
       "      <td>Gus</td>\n",
       "      <td>3.0</td>\n",
       "      <td>Fr</td>\n",
       "    </tr>\n",
       "  </tbody>\n",
       "</table>\n",
       "</div>"
      ],
      "text/plain": [
       "    Name  GPA Year\n",
       "0  Allen  4.0   So\n",
       "1    Bob  NaN   Fr\n",
       "2  Chris  3.4   Fr\n",
       "3   Dave  2.8   Jr\n",
       "4     Ed  2.5   Sr\n",
       "5  Frank  3.8   Sr\n",
       "6    Gus  3.0   Fr"
      ]
     },
     "execution_count": 8,
     "metadata": {},
     "output_type": "execute_result"
    }
   ],
   "source": [
    "data_dict = { \n",
    "    'Name':  ['Allen','Bob','Chris','Dave','Ed','Frank','Gus'], \n",
    "    'GPA': [4.0, np.nan, 3.4, 2.8, 2.5, 3.8, 3.0], \n",
    "    'Year' : ['So', 'Fr', 'Fr', 'Jr', 'Sr', 'Sr', 'Fr'] } \n",
    "students = pd.DataFrame( data_dict )\n",
    "students"
   ]
  },
  {
   "cell_type": "markdown",
   "id": "d36cf98d-63f8-4709-9b6c-d7641c8e5b7c",
   "metadata": {},
   "source": [
    "#### Getting a series from the dataframe\n",
    "\n",
    "You can access a series from the dataframe using the series name. For example this gets the lowest GPA by using the `min()` function on the `students['GPA']` series:"
   ]
  },
  {
   "cell_type": "code",
   "execution_count": 9,
   "id": "2739aeac-d444-42b0-969b-298ee7d59fcc",
   "metadata": {
    "tags": []
   },
   "outputs": [
    {
     "name": "stdout",
     "output_type": "stream",
     "text": [
      "Lowest GPA: 2.5\n"
     ]
    }
   ],
   "source": [
    "print(\"Lowest GPA:\", students['GPA'].min())"
   ]
  },
  {
   "cell_type": "markdown",
   "id": "1e70db5a-071c-4595-a8ae-2d1f2ce4860d",
   "metadata": {},
   "source": [
    "#### Getting the column names\n",
    "\n",
    "You can use the `columns` property to return an iterable of the columns in the dataframe."
   ]
  },
  {
   "cell_type": "code",
   "execution_count": 10,
   "id": "f9c0a1c1-6520-4173-b9ab-38504be66820",
   "metadata": {
    "tags": []
   },
   "outputs": [
    {
     "name": "stdout",
     "output_type": "stream",
     "text": [
      "Columns in the students data frame are:  Index(['Name', 'GPA', 'Year'], dtype='object')\n"
     ]
    }
   ],
   "source": [
    "print(\"Columns in the students data frame are: \", students.columns)"
   ]
  },
  {
   "cell_type": "markdown",
   "id": "dcad453a-701d-4608-8d14-cd1c372cb176",
   "metadata": {
    "tags": []
   },
   "source": [
    "### 1.D Accessing elements with loc and iloc\n",
    "\n",
    "The `loc` and `iloc` properties allow you to slice the dataframe. `loc` uses the index and column names, while `iloc` uses ordinal positions starting at zero.\n",
    "\n",
    "Here are some examples:"
   ]
  },
  {
   "cell_type": "code",
   "execution_count": 11,
   "id": "b54d508b-f785-4005-84d3-b00bef937555",
   "metadata": {
    "tags": []
   },
   "outputs": [
    {
     "name": "stdout",
     "output_type": "stream",
     "text": [
      "loc: Get the name of the student at index 3:  Dave\n",
      "loc: Get the Year of the last student:  Fr\n",
      "iloc: Get the name of the student at index 3:  Dave\n",
      "iloc: Get the Year of the last student:  Fr\n"
     ]
    }
   ],
   "source": [
    "# Examples using loc\n",
    "print(\"loc: Get the name of the student at index 3: \", students.loc[3, 'Name'])\n",
    "print(\"loc: Get the Year of the last student: \", students.loc[6, 'Year'])\n",
    "\n",
    "# Same examples using iloc\n",
    "print(\"iloc: Get the name of the student at index 3: \", students.iloc[3, 0])\n",
    "print(\"iloc: Get the Year of the last student: \", students.iloc[-1, 2])"
   ]
  },
  {
   "cell_type": "markdown",
   "id": "aee5c9f5-edd6-4d79-82b0-ac24e7b415b1",
   "metadata": {},
   "source": [
    "You can also use `loc` and `iloc` to retrieve a subset dataframe. For example, here are the names and GPA's of the first 4 students:"
   ]
  },
  {
   "cell_type": "code",
   "execution_count": 12,
   "id": "8160b9d9-856a-4d28-b33b-3ba76a1434cd",
   "metadata": {
    "tags": []
   },
   "outputs": [
    {
     "data": {
      "text/html": [
       "<div>\n",
       "<style scoped>\n",
       "    .dataframe tbody tr th:only-of-type {\n",
       "        vertical-align: middle;\n",
       "    }\n",
       "\n",
       "    .dataframe tbody tr th {\n",
       "        vertical-align: top;\n",
       "    }\n",
       "\n",
       "    .dataframe thead th {\n",
       "        text-align: right;\n",
       "    }\n",
       "</style>\n",
       "<table border=\"1\" class=\"dataframe\">\n",
       "  <thead>\n",
       "    <tr style=\"text-align: right;\">\n",
       "      <th></th>\n",
       "      <th>Name</th>\n",
       "      <th>GPA</th>\n",
       "    </tr>\n",
       "  </thead>\n",
       "  <tbody>\n",
       "    <tr>\n",
       "      <th>0</th>\n",
       "      <td>Allen</td>\n",
       "      <td>4.0</td>\n",
       "    </tr>\n",
       "    <tr>\n",
       "      <th>1</th>\n",
       "      <td>Bob</td>\n",
       "      <td>NaN</td>\n",
       "    </tr>\n",
       "    <tr>\n",
       "      <th>2</th>\n",
       "      <td>Chris</td>\n",
       "      <td>3.4</td>\n",
       "    </tr>\n",
       "    <tr>\n",
       "      <th>3</th>\n",
       "      <td>Dave</td>\n",
       "      <td>2.8</td>\n",
       "    </tr>\n",
       "  </tbody>\n",
       "</table>\n",
       "</div>"
      ],
      "text/plain": [
       "    Name  GPA\n",
       "0  Allen  4.0\n",
       "1    Bob  NaN\n",
       "2  Chris  3.4\n",
       "3   Dave  2.8"
      ]
     },
     "execution_count": 12,
     "metadata": {},
     "output_type": "execute_result"
    }
   ],
   "source": [
    "students.loc[0:3, 'Name':'GPA'] #uses the index and column names"
   ]
  },
  {
   "cell_type": "code",
   "execution_count": 13,
   "id": "63ae187e-9a6d-4096-89ec-63aa7932e5e0",
   "metadata": {
    "tags": []
   },
   "outputs": [
    {
     "data": {
      "text/html": [
       "<div>\n",
       "<style scoped>\n",
       "    .dataframe tbody tr th:only-of-type {\n",
       "        vertical-align: middle;\n",
       "    }\n",
       "\n",
       "    .dataframe tbody tr th {\n",
       "        vertical-align: top;\n",
       "    }\n",
       "\n",
       "    .dataframe thead th {\n",
       "        text-align: right;\n",
       "    }\n",
       "</style>\n",
       "<table border=\"1\" class=\"dataframe\">\n",
       "  <thead>\n",
       "    <tr style=\"text-align: right;\">\n",
       "      <th></th>\n",
       "      <th>Name</th>\n",
       "      <th>GPA</th>\n",
       "    </tr>\n",
       "  </thead>\n",
       "  <tbody>\n",
       "    <tr>\n",
       "      <th>0</th>\n",
       "      <td>Allen</td>\n",
       "      <td>4.0</td>\n",
       "    </tr>\n",
       "    <tr>\n",
       "      <th>1</th>\n",
       "      <td>Bob</td>\n",
       "      <td>NaN</td>\n",
       "    </tr>\n",
       "    <tr>\n",
       "      <th>2</th>\n",
       "      <td>Chris</td>\n",
       "      <td>3.4</td>\n",
       "    </tr>\n",
       "    <tr>\n",
       "      <th>3</th>\n",
       "      <td>Dave</td>\n",
       "      <td>2.8</td>\n",
       "    </tr>\n",
       "  </tbody>\n",
       "</table>\n",
       "</div>"
      ],
      "text/plain": [
       "    Name  GPA\n",
       "0  Allen  4.0\n",
       "1    Bob  NaN\n",
       "2  Chris  3.4\n",
       "3   Dave  2.8"
      ]
     },
     "execution_count": 13,
     "metadata": {},
     "output_type": "execute_result"
    }
   ],
   "source": [
    "students.iloc[0:4, 0:2] # uses relative places, zero-based."
   ]
  },
  {
   "cell_type": "code",
   "execution_count": 16,
   "id": "a69a834c-99a4-4f09-a286-710717cc5e8c",
   "metadata": {
    "tags": []
   },
   "outputs": [
    {
     "data": {
      "text/html": [
       "<div>\n",
       "<style scoped>\n",
       "    .dataframe tbody tr th:only-of-type {\n",
       "        vertical-align: middle;\n",
       "    }\n",
       "\n",
       "    .dataframe tbody tr th {\n",
       "        vertical-align: top;\n",
       "    }\n",
       "\n",
       "    .dataframe thead th {\n",
       "        text-align: right;\n",
       "    }\n",
       "</style>\n",
       "<table border=\"1\" class=\"dataframe\">\n",
       "  <thead>\n",
       "    <tr style=\"text-align: right;\">\n",
       "      <th></th>\n",
       "      <th>Name</th>\n",
       "      <th>GPA</th>\n",
       "      <th>Year</th>\n",
       "    </tr>\n",
       "  </thead>\n",
       "  <tbody>\n",
       "    <tr>\n",
       "      <th>1</th>\n",
       "      <td>Bob</td>\n",
       "      <td>NaN</td>\n",
       "      <td>Fr</td>\n",
       "    </tr>\n",
       "  </tbody>\n",
       "</table>\n",
       "</div>"
      ],
      "text/plain": [
       "  Name  GPA Year\n",
       "1  Bob  NaN   Fr"
      ]
     },
     "execution_count": 16,
     "metadata": {},
     "output_type": "execute_result"
    }
   ],
   "source": [
    "students[ students.GPA.isna()] "
   ]
  },
  {
   "cell_type": "markdown",
   "id": "982c72f6-20dc-4ebc-a2e8-7fef4c3d8a98",
   "metadata": {},
   "source": [
    "### 1.E Basic DataFrame operations\n",
    "\n",
    "In most cases, you will not construct a `DataFrame` as we have done in the examples so far. Instead you will load data from a file into a DataFrame. `pandas` supports a wide variety of file formats, which we will demonstrate in a later section, for now let's load a dataset of customers from the internet and use dataframe operations to explore the data.\n",
    "\n",
    "This example read in a text file in [CSV](https://en.wikipedia.org/wiki/Comma-separated_values) format into the DataFrame.\n",
    "There are 30 customers."
   ]
  },
  {
   "cell_type": "code",
   "execution_count": 14,
   "id": "3018cba7-2fee-4637-b937-891795238f2e",
   "metadata": {
    "tags": []
   },
   "outputs": [
    {
     "data": {
      "text/plain": [
       "30"
      ]
     },
     "execution_count": 14,
     "metadata": {},
     "output_type": "execute_result"
    }
   ],
   "source": [
    "customers = pd.read_csv('https://raw.githubusercontent.com/mafudge/datasets/master/customers/customers.csv')\n",
    "len(customers)"
   ]
  },
  {
   "cell_type": "markdown",
   "id": "00149dff-5c47-4737-a601-704420d87eab",
   "metadata": {},
   "source": [
    "#### Getting information about your DataFrame\n",
    "First thing you are likely to do with a loaded dataframe it get some basic information about the data. These methods will help:\n",
    "\n",
    "- `info()` provide names of columns, counts of non-null values in each columns, and data types.\n",
    "- `describe()` for each numerical column provide some basic statistics (min, max, mean, and quartiles)."
   ]
  },
  {
   "cell_type": "code",
   "execution_count": 15,
   "id": "bbe19310-3014-409a-bdf5-907695da1bdf",
   "metadata": {
    "tags": []
   },
   "outputs": [
    {
     "name": "stdout",
     "output_type": "stream",
     "text": [
      "<class 'pandas.core.frame.DataFrame'>\n",
      "RangeIndex: 30 entries, 0 to 29\n",
      "Data columns (total 10 columns):\n",
      " #   Column           Non-Null Count  Dtype \n",
      "---  ------           --------------  ----- \n",
      " 0   First            30 non-null     object\n",
      " 1   Last             30 non-null     object\n",
      " 2   Email            30 non-null     object\n",
      " 3   Gender           30 non-null     object\n",
      " 4   Last IP Address  30 non-null     object\n",
      " 5   City             30 non-null     object\n",
      " 6   State            30 non-null     object\n",
      " 7   Total Orders     30 non-null     int64 \n",
      " 8   Total Purchased  30 non-null     int64 \n",
      " 9   Months Customer  30 non-null     int64 \n",
      "dtypes: int64(3), object(7)\n",
      "memory usage: 2.5+ KB\n"
     ]
    }
   ],
   "source": [
    "customers.info()"
   ]
  },
  {
   "cell_type": "code",
   "execution_count": 16,
   "id": "9781dd94-35f3-430d-8fd3-4a7a2c3dcdb9",
   "metadata": {
    "tags": []
   },
   "outputs": [
    {
     "data": {
      "text/html": [
       "<div>\n",
       "<style scoped>\n",
       "    .dataframe tbody tr th:only-of-type {\n",
       "        vertical-align: middle;\n",
       "    }\n",
       "\n",
       "    .dataframe tbody tr th {\n",
       "        vertical-align: top;\n",
       "    }\n",
       "\n",
       "    .dataframe thead th {\n",
       "        text-align: right;\n",
       "    }\n",
       "</style>\n",
       "<table border=\"1\" class=\"dataframe\">\n",
       "  <thead>\n",
       "    <tr style=\"text-align: right;\">\n",
       "      <th></th>\n",
       "      <th>Total Orders</th>\n",
       "      <th>Total Purchased</th>\n",
       "      <th>Months Customer</th>\n",
       "    </tr>\n",
       "  </thead>\n",
       "  <tbody>\n",
       "    <tr>\n",
       "      <th>count</th>\n",
       "      <td>30.000000</td>\n",
       "      <td>30.000000</td>\n",
       "      <td>30.000000</td>\n",
       "    </tr>\n",
       "    <tr>\n",
       "      <th>mean</th>\n",
       "      <td>4.633333</td>\n",
       "      <td>1193.166667</td>\n",
       "      <td>15.133333</td>\n",
       "    </tr>\n",
       "    <tr>\n",
       "      <th>std</th>\n",
       "      <td>4.295012</td>\n",
       "      <td>1685.396507</td>\n",
       "      <td>15.734288</td>\n",
       "    </tr>\n",
       "    <tr>\n",
       "      <th>min</th>\n",
       "      <td>0.000000</td>\n",
       "      <td>0.000000</td>\n",
       "      <td>0.000000</td>\n",
       "    </tr>\n",
       "    <tr>\n",
       "      <th>25%</th>\n",
       "      <td>1.000000</td>\n",
       "      <td>68.750000</td>\n",
       "      <td>2.000000</td>\n",
       "    </tr>\n",
       "    <tr>\n",
       "      <th>50%</th>\n",
       "      <td>3.500000</td>\n",
       "      <td>500.000000</td>\n",
       "      <td>8.000000</td>\n",
       "    </tr>\n",
       "    <tr>\n",
       "      <th>75%</th>\n",
       "      <td>7.750000</td>\n",
       "      <td>1168.750000</td>\n",
       "      <td>27.750000</td>\n",
       "    </tr>\n",
       "    <tr>\n",
       "      <th>max</th>\n",
       "      <td>14.000000</td>\n",
       "      <td>6090.000000</td>\n",
       "      <td>42.000000</td>\n",
       "    </tr>\n",
       "  </tbody>\n",
       "</table>\n",
       "</div>"
      ],
      "text/plain": [
       "       Total Orders  Total Purchased  Months Customer\n",
       "count     30.000000        30.000000        30.000000\n",
       "mean       4.633333      1193.166667        15.133333\n",
       "std        4.295012      1685.396507        15.734288\n",
       "min        0.000000         0.000000         0.000000\n",
       "25%        1.000000        68.750000         2.000000\n",
       "50%        3.500000       500.000000         8.000000\n",
       "75%        7.750000      1168.750000        27.750000\n",
       "max       14.000000      6090.000000        42.000000"
      ]
     },
     "execution_count": 16,
     "metadata": {},
     "output_type": "execute_result"
    }
   ],
   "source": [
    "customers.describe()"
   ]
  },
  {
   "cell_type": "markdown",
   "id": "a65aa555-721d-4f6e-a596-a9f5b2410de5",
   "metadata": {},
   "source": [
    "#### Viewing Data in your DataFrame\n",
    "\n",
    "Most likely the data in your DataFrame will be too large to view on the screen. There are methods to help with this:\n",
    "\n",
    "- `head(n=5)` view the FIRST `n` rows in the dataframe (defaults to 5)\n",
    "- `tail(n=5)` view the LAST `n` rows in the dataframe (defaults to 5)\n",
    "- `sample(n=1)` view a random `n` rows from the dataframe (defautls to 1)"
   ]
  },
  {
   "cell_type": "code",
   "execution_count": 17,
   "id": "867439cd-08b4-48dc-88d8-bed209e74335",
   "metadata": {
    "tags": []
   },
   "outputs": [
    {
     "data": {
      "text/html": [
       "<div>\n",
       "<style scoped>\n",
       "    .dataframe tbody tr th:only-of-type {\n",
       "        vertical-align: middle;\n",
       "    }\n",
       "\n",
       "    .dataframe tbody tr th {\n",
       "        vertical-align: top;\n",
       "    }\n",
       "\n",
       "    .dataframe thead th {\n",
       "        text-align: right;\n",
       "    }\n",
       "</style>\n",
       "<table border=\"1\" class=\"dataframe\">\n",
       "  <thead>\n",
       "    <tr style=\"text-align: right;\">\n",
       "      <th></th>\n",
       "      <th>First</th>\n",
       "      <th>Last</th>\n",
       "      <th>Email</th>\n",
       "      <th>Gender</th>\n",
       "      <th>Last IP Address</th>\n",
       "      <th>City</th>\n",
       "      <th>State</th>\n",
       "      <th>Total Orders</th>\n",
       "      <th>Total Purchased</th>\n",
       "      <th>Months Customer</th>\n",
       "    </tr>\n",
       "  </thead>\n",
       "  <tbody>\n",
       "    <tr>\n",
       "      <th>24</th>\n",
       "      <td>Sal</td>\n",
       "      <td>Ladd</td>\n",
       "      <td>sladd@superrito.com</td>\n",
       "      <td>M</td>\n",
       "      <td>23.112.202.16</td>\n",
       "      <td>Rochester</td>\n",
       "      <td>NY</td>\n",
       "      <td>14</td>\n",
       "      <td>594</td>\n",
       "      <td>10</td>\n",
       "    </tr>\n",
       "    <tr>\n",
       "      <th>7</th>\n",
       "      <td>Candi</td>\n",
       "      <td>Cayne</td>\n",
       "      <td>ccayne@rhyta.com</td>\n",
       "      <td>F</td>\n",
       "      <td>24.39.14.15</td>\n",
       "      <td>Portland</td>\n",
       "      <td>ME</td>\n",
       "      <td>1</td>\n",
       "      <td>620</td>\n",
       "      <td>2</td>\n",
       "    </tr>\n",
       "    <tr>\n",
       "      <th>18</th>\n",
       "      <td>Mike</td>\n",
       "      <td>Rofone</td>\n",
       "      <td>mrofone@dayrep.com</td>\n",
       "      <td>M</td>\n",
       "      <td>23.224.160.4</td>\n",
       "      <td>Cheyenne</td>\n",
       "      <td>WY</td>\n",
       "      <td>0</td>\n",
       "      <td>0</td>\n",
       "      <td>0</td>\n",
       "    </tr>\n",
       "  </tbody>\n",
       "</table>\n",
       "</div>"
      ],
      "text/plain": [
       "    First    Last                Email Gender Last IP Address       City  \\\n",
       "24    Sal    Ladd  sladd@superrito.com      M   23.112.202.16  Rochester   \n",
       "7   Candi   Cayne     ccayne@rhyta.com      F     24.39.14.15   Portland   \n",
       "18   Mike  Rofone   mrofone@dayrep.com      M    23.224.160.4   Cheyenne   \n",
       "\n",
       "   State  Total Orders  Total Purchased  Months Customer  \n",
       "24    NY            14              594               10  \n",
       "7     ME             1              620                2  \n",
       "18    WY             0                0                0  "
      ]
     },
     "execution_count": 17,
     "metadata": {},
     "output_type": "execute_result"
    }
   ],
   "source": [
    "customers.sample(n=3)"
   ]
  },
  {
   "cell_type": "code",
   "execution_count": 18,
   "id": "2a31ff62-b372-493a-a19d-ea8ce6579535",
   "metadata": {
    "tags": []
   },
   "outputs": [
    {
     "data": {
      "text/html": [
       "<div>\n",
       "<style scoped>\n",
       "    .dataframe tbody tr th:only-of-type {\n",
       "        vertical-align: middle;\n",
       "    }\n",
       "\n",
       "    .dataframe tbody tr th {\n",
       "        vertical-align: top;\n",
       "    }\n",
       "\n",
       "    .dataframe thead th {\n",
       "        text-align: right;\n",
       "    }\n",
       "</style>\n",
       "<table border=\"1\" class=\"dataframe\">\n",
       "  <thead>\n",
       "    <tr style=\"text-align: right;\">\n",
       "      <th></th>\n",
       "      <th>First</th>\n",
       "      <th>Last</th>\n",
       "      <th>Email</th>\n",
       "      <th>Gender</th>\n",
       "      <th>Last IP Address</th>\n",
       "      <th>City</th>\n",
       "      <th>State</th>\n",
       "      <th>Total Orders</th>\n",
       "      <th>Total Purchased</th>\n",
       "      <th>Months Customer</th>\n",
       "    </tr>\n",
       "  </thead>\n",
       "  <tbody>\n",
       "    <tr>\n",
       "      <th>0</th>\n",
       "      <td>Al</td>\n",
       "      <td>Fresco</td>\n",
       "      <td>afresco@dayrep.com</td>\n",
       "      <td>M</td>\n",
       "      <td>74.111.18.161</td>\n",
       "      <td>Syracuse</td>\n",
       "      <td>NY</td>\n",
       "      <td>1</td>\n",
       "      <td>45</td>\n",
       "      <td>1</td>\n",
       "    </tr>\n",
       "    <tr>\n",
       "      <th>1</th>\n",
       "      <td>Abby</td>\n",
       "      <td>Kuss</td>\n",
       "      <td>akuss@rhyta.com</td>\n",
       "      <td>F</td>\n",
       "      <td>23.80.125.101</td>\n",
       "      <td>Phoenix</td>\n",
       "      <td>AZ</td>\n",
       "      <td>1</td>\n",
       "      <td>25</td>\n",
       "      <td>2</td>\n",
       "    </tr>\n",
       "    <tr>\n",
       "      <th>2</th>\n",
       "      <td>Arial</td>\n",
       "      <td>Photo</td>\n",
       "      <td>aphoto@dayrep.com</td>\n",
       "      <td>F</td>\n",
       "      <td>24.0.14.56</td>\n",
       "      <td>Newark</td>\n",
       "      <td>NJ</td>\n",
       "      <td>1</td>\n",
       "      <td>680</td>\n",
       "      <td>1</td>\n",
       "    </tr>\n",
       "  </tbody>\n",
       "</table>\n",
       "</div>"
      ],
      "text/plain": [
       "   First    Last               Email Gender Last IP Address      City State  \\\n",
       "0     Al  Fresco  afresco@dayrep.com      M   74.111.18.161  Syracuse    NY   \n",
       "1   Abby    Kuss     akuss@rhyta.com      F   23.80.125.101   Phoenix    AZ   \n",
       "2  Arial   Photo   aphoto@dayrep.com      F      24.0.14.56    Newark    NJ   \n",
       "\n",
       "   Total Orders  Total Purchased  Months Customer  \n",
       "0             1               45                1  \n",
       "1             1               25                2  \n",
       "2             1              680                1  "
      ]
     },
     "execution_count": 18,
     "metadata": {},
     "output_type": "execute_result"
    }
   ],
   "source": [
    "customers.head(n=3)"
   ]
  },
  {
   "cell_type": "code",
   "execution_count": 19,
   "id": "644c3577-455d-470f-a27d-efe1bb4806ed",
   "metadata": {
    "tags": []
   },
   "outputs": [
    {
     "data": {
      "text/html": [
       "<div>\n",
       "<style scoped>\n",
       "    .dataframe tbody tr th:only-of-type {\n",
       "        vertical-align: middle;\n",
       "    }\n",
       "\n",
       "    .dataframe tbody tr th {\n",
       "        vertical-align: top;\n",
       "    }\n",
       "\n",
       "    .dataframe thead th {\n",
       "        text-align: right;\n",
       "    }\n",
       "</style>\n",
       "<table border=\"1\" class=\"dataframe\">\n",
       "  <thead>\n",
       "    <tr style=\"text-align: right;\">\n",
       "      <th></th>\n",
       "      <th>First</th>\n",
       "      <th>Last</th>\n",
       "      <th>Email</th>\n",
       "      <th>Gender</th>\n",
       "      <th>Last IP Address</th>\n",
       "      <th>City</th>\n",
       "      <th>State</th>\n",
       "      <th>Total Orders</th>\n",
       "      <th>Total Purchased</th>\n",
       "      <th>Months Customer</th>\n",
       "    </tr>\n",
       "  </thead>\n",
       "  <tbody>\n",
       "    <tr>\n",
       "      <th>27</th>\n",
       "      <td>Tally</td>\n",
       "      <td>Itupp</td>\n",
       "      <td>titupp@superrito.com</td>\n",
       "      <td>F</td>\n",
       "      <td>24.38.114.105</td>\n",
       "      <td>Sea Cliff</td>\n",
       "      <td>NY</td>\n",
       "      <td>11</td>\n",
       "      <td>380</td>\n",
       "      <td>42</td>\n",
       "    </tr>\n",
       "    <tr>\n",
       "      <th>28</th>\n",
       "      <td>Tim</td>\n",
       "      <td>Pani</td>\n",
       "      <td>tpani@superrito.com</td>\n",
       "      <td>M</td>\n",
       "      <td>23.84.132.226</td>\n",
       "      <td>Buffalo</td>\n",
       "      <td>NY</td>\n",
       "      <td>0</td>\n",
       "      <td>0</td>\n",
       "      <td>1</td>\n",
       "    </tr>\n",
       "    <tr>\n",
       "      <th>29</th>\n",
       "      <td>Victor</td>\n",
       "      <td>Rhee</td>\n",
       "      <td>vrhee@einrot.com</td>\n",
       "      <td>M</td>\n",
       "      <td>23.112.232.160</td>\n",
       "      <td>Green Bay</td>\n",
       "      <td>WI</td>\n",
       "      <td>0</td>\n",
       "      <td>0</td>\n",
       "      <td>2</td>\n",
       "    </tr>\n",
       "  </tbody>\n",
       "</table>\n",
       "</div>"
      ],
      "text/plain": [
       "     First   Last                 Email Gender Last IP Address       City  \\\n",
       "27   Tally  Itupp  titupp@superrito.com      F   24.38.114.105  Sea Cliff   \n",
       "28     Tim   Pani   tpani@superrito.com      M   23.84.132.226    Buffalo   \n",
       "29  Victor   Rhee      vrhee@einrot.com      M  23.112.232.160  Green Bay   \n",
       "\n",
       "   State  Total Orders  Total Purchased  Months Customer  \n",
       "27    NY            11              380               42  \n",
       "28    NY             0                0                1  \n",
       "29    WI             0                0                2  "
      ]
     },
     "execution_count": 19,
     "metadata": {},
     "output_type": "execute_result"
    }
   ],
   "source": [
    "customers.tail(n=3)"
   ]
  },
  {
   "cell_type": "markdown",
   "id": "fcac5246-29da-4733-b45c-efa7b6c43ea5",
   "metadata": {},
   "source": [
    "### 1.F Selecting Rows and Columns: selectors and boolean indexes\n",
    "\n",
    "In this final section of part one, we lean how to select rows and columns from the DataFrame using the selector operator `[]`"
   ]
  },
  {
   "cell_type": "code",
   "execution_count": 20,
   "id": "a3545a81-a457-4433-833c-fb68abc2b32c",
   "metadata": {
    "tags": []
   },
   "outputs": [
    {
     "data": {
      "text/html": [
       "<div>\n",
       "<style scoped>\n",
       "    .dataframe tbody tr th:only-of-type {\n",
       "        vertical-align: middle;\n",
       "    }\n",
       "\n",
       "    .dataframe tbody tr th {\n",
       "        vertical-align: top;\n",
       "    }\n",
       "\n",
       "    .dataframe thead th {\n",
       "        text-align: right;\n",
       "    }\n",
       "</style>\n",
       "<table border=\"1\" class=\"dataframe\">\n",
       "  <thead>\n",
       "    <tr style=\"text-align: right;\">\n",
       "      <th></th>\n",
       "      <th>Name</th>\n",
       "      <th>GPA</th>\n",
       "      <th>Year</th>\n",
       "    </tr>\n",
       "  </thead>\n",
       "  <tbody>\n",
       "    <tr>\n",
       "      <th>0</th>\n",
       "      <td>Allen</td>\n",
       "      <td>4.0</td>\n",
       "      <td>So</td>\n",
       "    </tr>\n",
       "    <tr>\n",
       "      <th>1</th>\n",
       "      <td>Bob</td>\n",
       "      <td>NaN</td>\n",
       "      <td>Fr</td>\n",
       "    </tr>\n",
       "    <tr>\n",
       "      <th>2</th>\n",
       "      <td>Chris</td>\n",
       "      <td>3.4</td>\n",
       "      <td>Fr</td>\n",
       "    </tr>\n",
       "    <tr>\n",
       "      <th>3</th>\n",
       "      <td>Dave</td>\n",
       "      <td>2.8</td>\n",
       "      <td>Jr</td>\n",
       "    </tr>\n",
       "    <tr>\n",
       "      <th>4</th>\n",
       "      <td>Ed</td>\n",
       "      <td>2.5</td>\n",
       "      <td>Sr</td>\n",
       "    </tr>\n",
       "    <tr>\n",
       "      <th>5</th>\n",
       "      <td>Frank</td>\n",
       "      <td>3.8</td>\n",
       "      <td>Sr</td>\n",
       "    </tr>\n",
       "    <tr>\n",
       "      <th>6</th>\n",
       "      <td>Gus</td>\n",
       "      <td>3.0</td>\n",
       "      <td>Fr</td>\n",
       "    </tr>\n",
       "  </tbody>\n",
       "</table>\n",
       "</div>"
      ],
      "text/plain": [
       "    Name  GPA Year\n",
       "0  Allen  4.0   So\n",
       "1    Bob  NaN   Fr\n",
       "2  Chris  3.4   Fr\n",
       "3   Dave  2.8   Jr\n",
       "4     Ed  2.5   Sr\n",
       "5  Frank  3.8   Sr\n",
       "6    Gus  3.0   Fr"
      ]
     },
     "execution_count": 20,
     "metadata": {},
     "output_type": "execute_result"
    }
   ],
   "source": [
    "students"
   ]
  },
  {
   "cell_type": "markdown",
   "id": "8472e8bd-5a26-40d9-a022-083b776ab4c1",
   "metadata": {},
   "source": [
    "#### Selecting Columns\n",
    "\n",
    "To select columns from the dataframe, include a list of columns you would like to include inside the selector.\n",
    "\n",
    "For example this includes the `Year` and `Name` columns from the `students` DataFrame."
   ]
  },
  {
   "cell_type": "code",
   "execution_count": 21,
   "id": "af4bd6e0-6fbf-4a38-9573-0d4e7ee2f942",
   "metadata": {
    "tags": []
   },
   "outputs": [
    {
     "data": {
      "text/html": [
       "<div>\n",
       "<style scoped>\n",
       "    .dataframe tbody tr th:only-of-type {\n",
       "        vertical-align: middle;\n",
       "    }\n",
       "\n",
       "    .dataframe tbody tr th {\n",
       "        vertical-align: top;\n",
       "    }\n",
       "\n",
       "    .dataframe thead th {\n",
       "        text-align: right;\n",
       "    }\n",
       "</style>\n",
       "<table border=\"1\" class=\"dataframe\">\n",
       "  <thead>\n",
       "    <tr style=\"text-align: right;\">\n",
       "      <th></th>\n",
       "      <th>Year</th>\n",
       "      <th>Name</th>\n",
       "    </tr>\n",
       "  </thead>\n",
       "  <tbody>\n",
       "    <tr>\n",
       "      <th>0</th>\n",
       "      <td>So</td>\n",
       "      <td>Allen</td>\n",
       "    </tr>\n",
       "    <tr>\n",
       "      <th>1</th>\n",
       "      <td>Fr</td>\n",
       "      <td>Bob</td>\n",
       "    </tr>\n",
       "    <tr>\n",
       "      <th>2</th>\n",
       "      <td>Fr</td>\n",
       "      <td>Chris</td>\n",
       "    </tr>\n",
       "    <tr>\n",
       "      <th>3</th>\n",
       "      <td>Jr</td>\n",
       "      <td>Dave</td>\n",
       "    </tr>\n",
       "    <tr>\n",
       "      <th>4</th>\n",
       "      <td>Sr</td>\n",
       "      <td>Ed</td>\n",
       "    </tr>\n",
       "    <tr>\n",
       "      <th>5</th>\n",
       "      <td>Sr</td>\n",
       "      <td>Frank</td>\n",
       "    </tr>\n",
       "    <tr>\n",
       "      <th>6</th>\n",
       "      <td>Fr</td>\n",
       "      <td>Gus</td>\n",
       "    </tr>\n",
       "  </tbody>\n",
       "</table>\n",
       "</div>"
      ],
      "text/plain": [
       "  Year   Name\n",
       "0   So  Allen\n",
       "1   Fr    Bob\n",
       "2   Fr  Chris\n",
       "3   Jr   Dave\n",
       "4   Sr     Ed\n",
       "5   Sr  Frank\n",
       "6   Fr    Gus"
      ]
     },
     "execution_count": 21,
     "metadata": {},
     "output_type": "execute_result"
    }
   ],
   "source": [
    "students[['Year', 'Name']]"
   ]
  },
  {
   "cell_type": "markdown",
   "id": "e2607416-e5d8-4f55-b664-e31203ef49f7",
   "metadata": {},
   "source": [
    "Here another example where we include the name, email city and state from the `customers` dataframe. Since there are a lot of customers we use `head()`to show the first 5."
   ]
  },
  {
   "cell_type": "code",
   "execution_count": 22,
   "id": "8d5108e1-86b8-452c-a904-6ebcee1aedce",
   "metadata": {
    "tags": []
   },
   "outputs": [
    {
     "data": {
      "text/plain": [
       "Index(['First', 'Last', 'Email', 'Gender', 'Last IP Address', 'City', 'State',\n",
       "       'Total Orders', 'Total Purchased', 'Months Customer'],\n",
       "      dtype='object')"
      ]
     },
     "execution_count": 22,
     "metadata": {},
     "output_type": "execute_result"
    }
   ],
   "source": [
    "customers.columns"
   ]
  },
  {
   "cell_type": "code",
   "execution_count": 23,
   "id": "f065d845-8195-4097-8e6e-908666322a18",
   "metadata": {
    "tags": []
   },
   "outputs": [
    {
     "data": {
      "text/html": [
       "<div>\n",
       "<style scoped>\n",
       "    .dataframe tbody tr th:only-of-type {\n",
       "        vertical-align: middle;\n",
       "    }\n",
       "\n",
       "    .dataframe tbody tr th {\n",
       "        vertical-align: top;\n",
       "    }\n",
       "\n",
       "    .dataframe thead th {\n",
       "        text-align: right;\n",
       "    }\n",
       "</style>\n",
       "<table border=\"1\" class=\"dataframe\">\n",
       "  <thead>\n",
       "    <tr style=\"text-align: right;\">\n",
       "      <th></th>\n",
       "      <th>First</th>\n",
       "      <th>Last</th>\n",
       "      <th>Email</th>\n",
       "      <th>City</th>\n",
       "      <th>State</th>\n",
       "    </tr>\n",
       "  </thead>\n",
       "  <tbody>\n",
       "    <tr>\n",
       "      <th>0</th>\n",
       "      <td>Al</td>\n",
       "      <td>Fresco</td>\n",
       "      <td>afresco@dayrep.com</td>\n",
       "      <td>Syracuse</td>\n",
       "      <td>NY</td>\n",
       "    </tr>\n",
       "    <tr>\n",
       "      <th>1</th>\n",
       "      <td>Abby</td>\n",
       "      <td>Kuss</td>\n",
       "      <td>akuss@rhyta.com</td>\n",
       "      <td>Phoenix</td>\n",
       "      <td>AZ</td>\n",
       "    </tr>\n",
       "    <tr>\n",
       "      <th>2</th>\n",
       "      <td>Arial</td>\n",
       "      <td>Photo</td>\n",
       "      <td>aphoto@dayrep.com</td>\n",
       "      <td>Newark</td>\n",
       "      <td>NJ</td>\n",
       "    </tr>\n",
       "    <tr>\n",
       "      <th>3</th>\n",
       "      <td>Bette</td>\n",
       "      <td>Alott</td>\n",
       "      <td>balott@rhyta.com</td>\n",
       "      <td>Raleigh</td>\n",
       "      <td>NC</td>\n",
       "    </tr>\n",
       "    <tr>\n",
       "      <th>4</th>\n",
       "      <td>Barb</td>\n",
       "      <td>Barion</td>\n",
       "      <td>bbarion@superrito.com</td>\n",
       "      <td>Dallas</td>\n",
       "      <td>TX</td>\n",
       "    </tr>\n",
       "  </tbody>\n",
       "</table>\n",
       "</div>"
      ],
      "text/plain": [
       "   First    Last                  Email      City State\n",
       "0     Al  Fresco     afresco@dayrep.com  Syracuse    NY\n",
       "1   Abby    Kuss        akuss@rhyta.com   Phoenix    AZ\n",
       "2  Arial   Photo      aphoto@dayrep.com    Newark    NJ\n",
       "3  Bette   Alott       balott@rhyta.com   Raleigh    NC\n",
       "4  Barb   Barion  bbarion@superrito.com    Dallas    TX"
      ]
     },
     "execution_count": 23,
     "metadata": {},
     "output_type": "execute_result"
    }
   ],
   "source": [
    "customers[['First', 'Last', 'Email', 'City', 'State']].head(n=5)"
   ]
  },
  {
   "cell_type": "markdown",
   "id": "65dcf4e2-0754-45e7-9314-9a7ca2702196",
   "metadata": {
    "tags": []
   },
   "source": [
    "#### Selecting A single column: DataFrame or Series?\n",
    "\n",
    "**When selecting a single column**, you have a decision to make: do you want a `Series` or a `DataFrame`?\n",
    "\n",
    "- For a `Series` just include the column name in the selector: `'Email'`\n",
    "- For a `DataFrame` include the column name as a list in the selector: `['Email']`\n",
    "\n",
    "Again, in this example, `sample()` will be used to keep the size down!\n"
   ]
  },
  {
   "cell_type": "code",
   "execution_count": 24,
   "id": "24d2b107-0524-4602-82f9-e725b7ad21dc",
   "metadata": {
    "tags": []
   },
   "outputs": [
    {
     "data": {
      "text/plain": [
       "6      bmelator@einrot.com\n",
       "14       jpoole@dayrep.com\n",
       "9          crha@einrot.com\n",
       "18      mrofone@dayrep.com\n",
       "15    lhvmeehom@einrot.com\n",
       "Name: Email, dtype: object"
      ]
     },
     "execution_count": 24,
     "metadata": {},
     "output_type": "execute_result"
    }
   ],
   "source": [
    "# Series\n",
    "customers.sample(5)['Email']"
   ]
  },
  {
   "cell_type": "code",
   "execution_count": 25,
   "id": "aff28a5a-8f07-4991-b26a-a4cfa1eea733",
   "metadata": {
    "tags": []
   },
   "outputs": [
    {
     "data": {
      "text/html": [
       "<div>\n",
       "<style scoped>\n",
       "    .dataframe tbody tr th:only-of-type {\n",
       "        vertical-align: middle;\n",
       "    }\n",
       "\n",
       "    .dataframe tbody tr th {\n",
       "        vertical-align: top;\n",
       "    }\n",
       "\n",
       "    .dataframe thead th {\n",
       "        text-align: right;\n",
       "    }\n",
       "</style>\n",
       "<table border=\"1\" class=\"dataframe\">\n",
       "  <thead>\n",
       "    <tr style=\"text-align: right;\">\n",
       "      <th></th>\n",
       "      <th>Email</th>\n",
       "    </tr>\n",
       "  </thead>\n",
       "  <tbody>\n",
       "    <tr>\n",
       "      <th>26</th>\n",
       "      <td>tanott@rhyta.com</td>\n",
       "    </tr>\n",
       "    <tr>\n",
       "      <th>10</th>\n",
       "      <td>ddelyons@dayrep.com</td>\n",
       "    </tr>\n",
       "    <tr>\n",
       "      <th>17</th>\n",
       "      <td>mmelator@rhyta.com</td>\n",
       "    </tr>\n",
       "    <tr>\n",
       "      <th>4</th>\n",
       "      <td>bbarion@superrito.com</td>\n",
       "    </tr>\n",
       "    <tr>\n",
       "      <th>0</th>\n",
       "      <td>afresco@dayrep.com</td>\n",
       "    </tr>\n",
       "  </tbody>\n",
       "</table>\n",
       "</div>"
      ],
      "text/plain": [
       "                    Email\n",
       "26       tanott@rhyta.com\n",
       "10    ddelyons@dayrep.com\n",
       "17     mmelator@rhyta.com\n",
       "4   bbarion@superrito.com\n",
       "0      afresco@dayrep.com"
      ]
     },
     "execution_count": 25,
     "metadata": {},
     "output_type": "execute_result"
    }
   ],
   "source": [
    "# DataFrame\n",
    "customers.sample(5)[['Email']]"
   ]
  },
  {
   "cell_type": "markdown",
   "id": "85ed22dc-1d52-45cd-b2cc-18d2e8347b01",
   "metadata": {},
   "source": [
    "#### Selecting Rows: Boolean Index\n",
    "\n",
    "In `pandas`, a **boolean index** is a `Series` of type `bool` based on the result of some boolean expression. \n",
    "\n",
    "We can then use the `pandas` selector `[]` to apply the boolean index to the DataFrame returning only rows where the boolean index is `True`"
   ]
  },
  {
   "cell_type": "code",
   "execution_count": 26,
   "id": "c63b7fb1-aff1-4a14-869b-7af2899014b3",
   "metadata": {
    "tags": []
   },
   "outputs": [
    {
     "data": {
      "text/html": [
       "<div>\n",
       "<style scoped>\n",
       "    .dataframe tbody tr th:only-of-type {\n",
       "        vertical-align: middle;\n",
       "    }\n",
       "\n",
       "    .dataframe tbody tr th {\n",
       "        vertical-align: top;\n",
       "    }\n",
       "\n",
       "    .dataframe thead th {\n",
       "        text-align: right;\n",
       "    }\n",
       "</style>\n",
       "<table border=\"1\" class=\"dataframe\">\n",
       "  <thead>\n",
       "    <tr style=\"text-align: right;\">\n",
       "      <th></th>\n",
       "      <th>Name</th>\n",
       "      <th>GPA</th>\n",
       "      <th>Year</th>\n",
       "    </tr>\n",
       "  </thead>\n",
       "  <tbody>\n",
       "    <tr>\n",
       "      <th>0</th>\n",
       "      <td>Allen</td>\n",
       "      <td>4.0</td>\n",
       "      <td>So</td>\n",
       "    </tr>\n",
       "    <tr>\n",
       "      <th>1</th>\n",
       "      <td>Bob</td>\n",
       "      <td>NaN</td>\n",
       "      <td>Fr</td>\n",
       "    </tr>\n",
       "    <tr>\n",
       "      <th>2</th>\n",
       "      <td>Chris</td>\n",
       "      <td>3.4</td>\n",
       "      <td>Fr</td>\n",
       "    </tr>\n",
       "    <tr>\n",
       "      <th>3</th>\n",
       "      <td>Dave</td>\n",
       "      <td>2.8</td>\n",
       "      <td>Jr</td>\n",
       "    </tr>\n",
       "    <tr>\n",
       "      <th>4</th>\n",
       "      <td>Ed</td>\n",
       "      <td>2.5</td>\n",
       "      <td>Sr</td>\n",
       "    </tr>\n",
       "    <tr>\n",
       "      <th>5</th>\n",
       "      <td>Frank</td>\n",
       "      <td>3.8</td>\n",
       "      <td>Sr</td>\n",
       "    </tr>\n",
       "    <tr>\n",
       "      <th>6</th>\n",
       "      <td>Gus</td>\n",
       "      <td>3.0</td>\n",
       "      <td>Fr</td>\n",
       "    </tr>\n",
       "  </tbody>\n",
       "</table>\n",
       "</div>"
      ],
      "text/plain": [
       "    Name  GPA Year\n",
       "0  Allen  4.0   So\n",
       "1    Bob  NaN   Fr\n",
       "2  Chris  3.4   Fr\n",
       "3   Dave  2.8   Jr\n",
       "4     Ed  2.5   Sr\n",
       "5  Frank  3.8   Sr\n",
       "6    Gus  3.0   Fr"
      ]
     },
     "execution_count": 26,
     "metadata": {},
     "output_type": "execute_result"
    }
   ],
   "source": [
    "students"
   ]
  },
  {
   "cell_type": "markdown",
   "id": "29894796-710b-4e6b-afa3-5ac40ca7fd47",
   "metadata": {},
   "source": [
    "For example this boolean index evaluates to `True` when the value in the `'Year'` series is equal to `'Fr'`."
   ]
  },
  {
   "cell_type": "code",
   "execution_count": 27,
   "id": "a346471f-0d2f-46f9-bb06-d6c9acef2aa9",
   "metadata": {
    "tags": []
   },
   "outputs": [
    {
     "data": {
      "text/plain": [
       "0    False\n",
       "1     True\n",
       "2     True\n",
       "3    False\n",
       "4    False\n",
       "5    False\n",
       "6     True\n",
       "Name: Year, dtype: bool"
      ]
     },
     "execution_count": 27,
     "metadata": {},
     "output_type": "execute_result"
    }
   ],
   "source": [
    "students['Year'] == 'Fr'"
   ]
  },
  {
   "cell_type": "markdown",
   "id": "d7d62a60-5690-49d5-b949-13a5800b9ed9",
   "metadata": {},
   "source": [
    "To filter the dataframe based on the boolean index, we include it in the dataframe selector, for example, this only shows the Freshmen `Year == 'Fr'`"
   ]
  },
  {
   "cell_type": "code",
   "execution_count": 28,
   "id": "6858d479-85ad-4749-87d5-22003e16c12c",
   "metadata": {
    "tags": []
   },
   "outputs": [
    {
     "data": {
      "text/html": [
       "<div>\n",
       "<style scoped>\n",
       "    .dataframe tbody tr th:only-of-type {\n",
       "        vertical-align: middle;\n",
       "    }\n",
       "\n",
       "    .dataframe tbody tr th {\n",
       "        vertical-align: top;\n",
       "    }\n",
       "\n",
       "    .dataframe thead th {\n",
       "        text-align: right;\n",
       "    }\n",
       "</style>\n",
       "<table border=\"1\" class=\"dataframe\">\n",
       "  <thead>\n",
       "    <tr style=\"text-align: right;\">\n",
       "      <th></th>\n",
       "      <th>Name</th>\n",
       "      <th>GPA</th>\n",
       "      <th>Year</th>\n",
       "    </tr>\n",
       "  </thead>\n",
       "  <tbody>\n",
       "    <tr>\n",
       "      <th>1</th>\n",
       "      <td>Bob</td>\n",
       "      <td>NaN</td>\n",
       "      <td>Fr</td>\n",
       "    </tr>\n",
       "    <tr>\n",
       "      <th>2</th>\n",
       "      <td>Chris</td>\n",
       "      <td>3.4</td>\n",
       "      <td>Fr</td>\n",
       "    </tr>\n",
       "    <tr>\n",
       "      <th>6</th>\n",
       "      <td>Gus</td>\n",
       "      <td>3.0</td>\n",
       "      <td>Fr</td>\n",
       "    </tr>\n",
       "  </tbody>\n",
       "</table>\n",
       "</div>"
      ],
      "text/plain": [
       "    Name  GPA Year\n",
       "1    Bob  NaN   Fr\n",
       "2  Chris  3.4   Fr\n",
       "6    Gus  3.0   Fr"
      ]
     },
     "execution_count": 28,
     "metadata": {},
     "output_type": "execute_result"
    }
   ],
   "source": [
    "# show Freshmen\n",
    "students[students['Year'] == 'Fr']"
   ]
  },
  {
   "cell_type": "markdown",
   "id": "01d2d1b3-06e1-48c2-a439-01f1192697e2",
   "metadata": {},
   "source": [
    "### Part One Summary\n",
    "\n",
    "In this part we learned the basics of `pandas`. We learned how to aggregate series, build dataframes, and use the dataframe selector.\n",
    "\n",
    "Let's put it all together to perform a data analysis.\n",
    "\n",
    "**Challenge**: Get the name and gpa of the Senior student with the lowest gpa.\n",
    "\n",
    "Algorithm:\n",
    "\n",
    "1. filter students to seniors only\n",
    "2. find min() GPA from seniors\n",
    "3. filter the seniors to only display the GPA that equals the min GPA."
   ]
  },
  {
   "cell_type": "code",
   "execution_count": 29,
   "id": "23d55000-c1b3-4396-b46c-325e4ec603d0",
   "metadata": {
    "tags": []
   },
   "outputs": [
    {
     "data": {
      "text/html": [
       "<div>\n",
       "<style scoped>\n",
       "    .dataframe tbody tr th:only-of-type {\n",
       "        vertical-align: middle;\n",
       "    }\n",
       "\n",
       "    .dataframe tbody tr th {\n",
       "        vertical-align: top;\n",
       "    }\n",
       "\n",
       "    .dataframe thead th {\n",
       "        text-align: right;\n",
       "    }\n",
       "</style>\n",
       "<table border=\"1\" class=\"dataframe\">\n",
       "  <thead>\n",
       "    <tr style=\"text-align: right;\">\n",
       "      <th></th>\n",
       "      <th>Name</th>\n",
       "      <th>GPA</th>\n",
       "      <th>Year</th>\n",
       "    </tr>\n",
       "  </thead>\n",
       "  <tbody>\n",
       "    <tr>\n",
       "      <th>4</th>\n",
       "      <td>Ed</td>\n",
       "      <td>2.5</td>\n",
       "      <td>Sr</td>\n",
       "    </tr>\n",
       "    <tr>\n",
       "      <th>5</th>\n",
       "      <td>Frank</td>\n",
       "      <td>3.8</td>\n",
       "      <td>Sr</td>\n",
       "    </tr>\n",
       "  </tbody>\n",
       "</table>\n",
       "</div>"
      ],
      "text/plain": [
       "    Name  GPA Year\n",
       "4     Ed  2.5   Sr\n",
       "5  Frank  3.8   Sr"
      ]
     },
     "execution_count": 29,
     "metadata": {},
     "output_type": "execute_result"
    }
   ],
   "source": [
    "seniors = students[ students['Year']=='Sr']\n",
    "seniors"
   ]
  },
  {
   "cell_type": "code",
   "execution_count": 30,
   "id": "3f018c8f-b562-4be2-991f-9a205bd57898",
   "metadata": {
    "tags": []
   },
   "outputs": [
    {
     "data": {
      "text/plain": [
       "2.5"
      ]
     },
     "execution_count": 30,
     "metadata": {},
     "output_type": "execute_result"
    }
   ],
   "source": [
    "lowest_gpa_sr = seniors['GPA'].min()\n",
    "lowest_gpa_sr"
   ]
  },
  {
   "cell_type": "code",
   "execution_count": 31,
   "id": "b5a3b40b-ad51-4b82-9b50-bef56819eb2a",
   "metadata": {
    "tags": []
   },
   "outputs": [
    {
     "data": {
      "text/html": [
       "<div>\n",
       "<style scoped>\n",
       "    .dataframe tbody tr th:only-of-type {\n",
       "        vertical-align: middle;\n",
       "    }\n",
       "\n",
       "    .dataframe tbody tr th {\n",
       "        vertical-align: top;\n",
       "    }\n",
       "\n",
       "    .dataframe thead th {\n",
       "        text-align: right;\n",
       "    }\n",
       "</style>\n",
       "<table border=\"1\" class=\"dataframe\">\n",
       "  <thead>\n",
       "    <tr style=\"text-align: right;\">\n",
       "      <th></th>\n",
       "      <th>Name</th>\n",
       "      <th>GPA</th>\n",
       "    </tr>\n",
       "  </thead>\n",
       "  <tbody>\n",
       "    <tr>\n",
       "      <th>4</th>\n",
       "      <td>Ed</td>\n",
       "      <td>2.5</td>\n",
       "    </tr>\n",
       "  </tbody>\n",
       "</table>\n",
       "</div>"
      ],
      "text/plain": [
       "  Name  GPA\n",
       "4   Ed  2.5"
      ]
     },
     "execution_count": 31,
     "metadata": {},
     "output_type": "execute_result"
    }
   ],
   "source": [
    "person = seniors[['Name','GPA']][seniors['GPA']==lowest_gpa_sr]\n",
    "person"
   ]
  },
  {
   "cell_type": "code",
   "execution_count": null,
   "id": "aa2aaf0a-f678-46c5-921d-8a447585e486",
   "metadata": {},
   "outputs": [],
   "source": []
  },
  {
   "cell_type": "code",
   "execution_count": null,
   "id": "1fbeece5-64f3-407f-ad89-f04cf98a7b11",
   "metadata": {},
   "outputs": [],
   "source": []
  },
  {
   "cell_type": "code",
   "execution_count": null,
   "id": "40e6634e-3be9-42a0-9e21-6fb36b739fde",
   "metadata": {},
   "outputs": [],
   "source": []
  },
  {
   "cell_type": "code",
   "execution_count": null,
   "id": "8a37e965-65d4-4529-8852-f5115632d9c1",
   "metadata": {},
   "outputs": [],
   "source": []
  },
  {
   "cell_type": "markdown",
   "id": "7dd3d6a9-fdfd-4089-9f85-2b6f74e3bd3b",
   "metadata": {},
   "source": [
    "## Part Two\n",
    "\n",
    "### 2.A Iterating over a DataFrame Or Series\n",
    "\n",
    "Sometimes its necessary to loop over your DataFrame. For example when plotting points on on a map, you will need to build the points by iterating over the values in the dataframe.\n",
    "\n",
    "#### Looping over the DataFrame\n",
    "\n",
    "To loop over a dataframe use the `iterrows()` method function. This provides an `int` index and a `dict` for the values in each column. The key in the `dict` is the column name and the value is the row value at that index."
   ]
  },
  {
   "cell_type": "code",
   "execution_count": 32,
   "id": "72e2022c-d3b9-4dad-8eb0-0678e79c1844",
   "metadata": {
    "tags": []
   },
   "outputs": [
    {
     "data": {
      "text/html": [
       "<div>\n",
       "<style scoped>\n",
       "    .dataframe tbody tr th:only-of-type {\n",
       "        vertical-align: middle;\n",
       "    }\n",
       "\n",
       "    .dataframe tbody tr th {\n",
       "        vertical-align: top;\n",
       "    }\n",
       "\n",
       "    .dataframe thead th {\n",
       "        text-align: right;\n",
       "    }\n",
       "</style>\n",
       "<table border=\"1\" class=\"dataframe\">\n",
       "  <thead>\n",
       "    <tr style=\"text-align: right;\">\n",
       "      <th></th>\n",
       "      <th>Name</th>\n",
       "      <th>GPA</th>\n",
       "      <th>Year</th>\n",
       "    </tr>\n",
       "  </thead>\n",
       "  <tbody>\n",
       "    <tr>\n",
       "      <th>0</th>\n",
       "      <td>Allen</td>\n",
       "      <td>4.0</td>\n",
       "      <td>So</td>\n",
       "    </tr>\n",
       "    <tr>\n",
       "      <th>1</th>\n",
       "      <td>Bob</td>\n",
       "      <td>NaN</td>\n",
       "      <td>Fr</td>\n",
       "    </tr>\n",
       "    <tr>\n",
       "      <th>2</th>\n",
       "      <td>Chris</td>\n",
       "      <td>3.4</td>\n",
       "      <td>Fr</td>\n",
       "    </tr>\n",
       "    <tr>\n",
       "      <th>3</th>\n",
       "      <td>Dave</td>\n",
       "      <td>2.8</td>\n",
       "      <td>Jr</td>\n",
       "    </tr>\n",
       "    <tr>\n",
       "      <th>4</th>\n",
       "      <td>Ed</td>\n",
       "      <td>2.5</td>\n",
       "      <td>Sr</td>\n",
       "    </tr>\n",
       "    <tr>\n",
       "      <th>5</th>\n",
       "      <td>Frank</td>\n",
       "      <td>3.8</td>\n",
       "      <td>Sr</td>\n",
       "    </tr>\n",
       "    <tr>\n",
       "      <th>6</th>\n",
       "      <td>Gus</td>\n",
       "      <td>3.0</td>\n",
       "      <td>Fr</td>\n",
       "    </tr>\n",
       "  </tbody>\n",
       "</table>\n",
       "</div>"
      ],
      "text/plain": [
       "    Name  GPA Year\n",
       "0  Allen  4.0   So\n",
       "1    Bob  NaN   Fr\n",
       "2  Chris  3.4   Fr\n",
       "3   Dave  2.8   Jr\n",
       "4     Ed  2.5   Sr\n",
       "5  Frank  3.8   Sr\n",
       "6    Gus  3.0   Fr"
      ]
     },
     "execution_count": 32,
     "metadata": {},
     "output_type": "execute_result"
    }
   ],
   "source": [
    "students"
   ]
  },
  {
   "cell_type": "code",
   "execution_count": 33,
   "id": "659a0b84-28ce-46d3-8444-352bf63dd341",
   "metadata": {
    "tags": []
   },
   "outputs": [
    {
     "name": "stdout",
     "output_type": "stream",
     "text": [
      "0: Allen 4.0 So\n",
      "1: Bob nan Fr\n",
      "2: Chris 3.4 Fr\n",
      "3: Dave 2.8 Jr\n",
      "4: Ed 2.5 Sr\n",
      "5: Frank 3.8 Sr\n",
      "6: Gus 3.0 Fr\n"
     ]
    }
   ],
   "source": [
    "for index, row in students.iterrows():\n",
    "    print(f\"{index}: {row['Name']} {row['GPA']} {row['Year']}\")"
   ]
  },
  {
   "cell_type": "markdown",
   "id": "45783a76-6508-435c-afe0-9428653b716e",
   "metadata": {
    "tags": []
   },
   "source": [
    "Likewise iterating over a series is similar. The `Series` itself is iterable so there is no need to use a method function."
   ]
  },
  {
   "cell_type": "code",
   "execution_count": 34,
   "id": "4d6fd33d-3e0d-4beb-b21c-464614f34e1e",
   "metadata": {
    "tags": []
   },
   "outputs": [
    {
     "name": "stdout",
     "output_type": "stream",
     "text": [
      "Allen\n",
      "Bob\n",
      "Chris\n",
      "Dave\n",
      "Ed\n",
      "Frank\n",
      "Gus\n"
     ]
    }
   ],
   "source": [
    "for name in students['Name']:\n",
    "    print(name)"
   ]
  },
  {
   "cell_type": "markdown",
   "id": "735539a5-3bd9-4590-86cc-8bd8437758a6",
   "metadata": {},
   "source": [
    "### 2.B Loading JSON with Pandas\n",
    "\n",
    "The Pandas `read_json()` method can easily read in list-oriented JSON-formatted text into a DataFrame. Each item in the list becomes a row in the DataFrame.\n",
    "\n",
    "For example, here's the `students.json` file we read in with Pandas. Notice the JSON starts with a list `[`\n",
    "\n",
    "```\n",
    "[\n",
    "    {\"Name\":\"Abby\", \"GPA\": 4.0, \"Year\": \"So\"},\n",
    "    {\"Name\":\"Bette\", \"GPA\": 3.7, \"Year\": \"Jr\"},\n",
    "    {\"Name\":\"Chris\", \"Year\": \"Fr\"},\n",
    "    {\"Name\":\"Dee\", \"GPA\": 3.4, \"Year\": \"Fr\"}\n",
    "]\n",
    "```"
   ]
  },
  {
   "cell_type": "code",
   "execution_count": 35,
   "id": "fab03862-1af9-4ecc-a043-878161571ad6",
   "metadata": {
    "tags": []
   },
   "outputs": [
    {
     "data": {
      "text/html": [
       "<div>\n",
       "<style scoped>\n",
       "    .dataframe tbody tr th:only-of-type {\n",
       "        vertical-align: middle;\n",
       "    }\n",
       "\n",
       "    .dataframe tbody tr th {\n",
       "        vertical-align: top;\n",
       "    }\n",
       "\n",
       "    .dataframe thead th {\n",
       "        text-align: right;\n",
       "    }\n",
       "</style>\n",
       "<table border=\"1\" class=\"dataframe\">\n",
       "  <thead>\n",
       "    <tr style=\"text-align: right;\">\n",
       "      <th></th>\n",
       "      <th>Name</th>\n",
       "      <th>GPA</th>\n",
       "      <th>Year</th>\n",
       "    </tr>\n",
       "  </thead>\n",
       "  <tbody>\n",
       "    <tr>\n",
       "      <th>0</th>\n",
       "      <td>Abby</td>\n",
       "      <td>4.0</td>\n",
       "      <td>So</td>\n",
       "    </tr>\n",
       "    <tr>\n",
       "      <th>1</th>\n",
       "      <td>Bette</td>\n",
       "      <td>3.7</td>\n",
       "      <td>Jr</td>\n",
       "    </tr>\n",
       "    <tr>\n",
       "      <th>2</th>\n",
       "      <td>Chris</td>\n",
       "      <td>NaN</td>\n",
       "      <td>Fr</td>\n",
       "    </tr>\n",
       "    <tr>\n",
       "      <th>3</th>\n",
       "      <td>Dee</td>\n",
       "      <td>3.4</td>\n",
       "      <td>Fr</td>\n",
       "    </tr>\n",
       "  </tbody>\n",
       "</table>\n",
       "</div>"
      ],
      "text/plain": [
       "    Name  GPA Year\n",
       "0   Abby  4.0   So\n",
       "1  Bette  3.7   Jr\n",
       "2  Chris  NaN   Fr\n",
       "3    Dee  3.4   Fr"
      ]
     },
     "execution_count": 35,
     "metadata": {},
     "output_type": "execute_result"
    }
   ],
   "source": [
    "students = pd.read_json(\"https://raw.githubusercontent.com/mafudge/datasets/master/json-samples/students.json\")\n",
    "students"
   ]
  },
  {
   "cell_type": "markdown",
   "id": "872ecb1b-b84a-4d7f-bae0-c7af52658a10",
   "metadata": {},
   "source": [
    "#### json_normalize() for nested JSON\n",
    "\n",
    "The `read_json()` method does not perform well on nested JSON structures. For example consider the following JSON file of customer orders:\n",
    "\n",
    "The file `orders.json`: \n",
    "```\n",
    "[\n",
    "    {\n",
    "        \"Customer\" : { \"FirstName\" : \"Abby\", \"LastName\" : \"Kuss\"}, \n",
    "        \"Items\" : [\n",
    "            { \"Name\" : \"T-Shirt\", \"Price\" : 10.0, \"Quantity\" : 3},\n",
    "            { \"Name\" : \"Jacket\", \"Price\" : 20.0, \"Quantity\" : 1}\n",
    "        ]\n",
    "    },\n",
    "    {\n",
    "        \"Customer\" : { \"FirstName\" : \"Bette\", \"LastName\" : \"Alott\"}, \n",
    "        \"Items\" : [\n",
    "            { \"Name\" : \"Shoes\", \"Price\" : 25.0, \"Quantity\" : 1}, \n",
    "            { \"Name\" : \"Jacket\", \"Price\" : 20.0, \"Quantity\" : 1}\n",
    "        ]\n",
    "    },\n",
    "    {\n",
    "        \"Customer\" : { \"FirstName\" : \"Chris\", \"LastName\" : \"Peanugget\"}, \n",
    "        \"Items\" : [\n",
    "            { \"Name\" : \"T-Shirt\", \"Price\" : 10.0, \"Quantity\" : 1}\n",
    "        ]\n",
    "    }\n",
    "]\n",
    "```\n",
    "\n",
    "When we read this with `read_json_()` we get the three orders but only two columns. "
   ]
  },
  {
   "cell_type": "code",
   "execution_count": 36,
   "id": "28453b94-0381-4a0f-8edc-4f407e4ba0f6",
   "metadata": {
    "tags": []
   },
   "outputs": [
    {
     "data": {
      "text/html": [
       "<div>\n",
       "<style scoped>\n",
       "    .dataframe tbody tr th:only-of-type {\n",
       "        vertical-align: middle;\n",
       "    }\n",
       "\n",
       "    .dataframe tbody tr th {\n",
       "        vertical-align: top;\n",
       "    }\n",
       "\n",
       "    .dataframe thead th {\n",
       "        text-align: right;\n",
       "    }\n",
       "</style>\n",
       "<table border=\"1\" class=\"dataframe\">\n",
       "  <thead>\n",
       "    <tr style=\"text-align: right;\">\n",
       "      <th></th>\n",
       "      <th>Customer</th>\n",
       "      <th>Items</th>\n",
       "    </tr>\n",
       "  </thead>\n",
       "  <tbody>\n",
       "    <tr>\n",
       "      <th>0</th>\n",
       "      <td>{'FirstName': 'Abby', 'LastName': 'Kuss'}</td>\n",
       "      <td>[{'Name': 'T-Shirt', 'Price': 10.0, 'Quantity'...</td>\n",
       "    </tr>\n",
       "    <tr>\n",
       "      <th>1</th>\n",
       "      <td>{'FirstName': 'Bette', 'LastName': 'Alott'}</td>\n",
       "      <td>[{'Name': 'Shoes', 'Price': 25.0, 'Quantity': ...</td>\n",
       "    </tr>\n",
       "    <tr>\n",
       "      <th>2</th>\n",
       "      <td>{'FirstName': 'Chris', 'LastName': 'Peanugget'}</td>\n",
       "      <td>[{'Name': 'T-Shirt', 'Price': 10.0, 'Quantity'...</td>\n",
       "    </tr>\n",
       "  </tbody>\n",
       "</table>\n",
       "</div>"
      ],
      "text/plain": [
       "                                          Customer  \\\n",
       "0        {'FirstName': 'Abby', 'LastName': 'Kuss'}   \n",
       "1      {'FirstName': 'Bette', 'LastName': 'Alott'}   \n",
       "2  {'FirstName': 'Chris', 'LastName': 'Peanugget'}   \n",
       "\n",
       "                                               Items  \n",
       "0  [{'Name': 'T-Shirt', 'Price': 10.0, 'Quantity'...  \n",
       "1  [{'Name': 'Shoes', 'Price': 25.0, 'Quantity': ...  \n",
       "2  [{'Name': 'T-Shirt', 'Price': 10.0, 'Quantity'...  "
      ]
     },
     "execution_count": 36,
     "metadata": {},
     "output_type": "execute_result"
    }
   ],
   "source": [
    "orders = pd.read_json(\"https://raw.githubusercontent.com/mafudge/datasets/master/json-samples/orders.json\")\n",
    "orders"
   ]
  },
  {
   "cell_type": "markdown",
   "id": "7b787ff0-fc70-431b-b4f7-b40b2d54bef1",
   "metadata": {
    "tags": []
   },
   "source": [
    "What we want is one row per item on the the order and the customer name to be in separate columns. the `json_normalize()` method can help here.\n",
    "\n",
    "\n",
    "It is important to note that `json_normalize()` does not take a file as input, but rather de-serialized json.\n"
   ]
  },
  {
   "cell_type": "code",
   "execution_count": 37,
   "id": "292add61-8dbc-4f93-a535-7e14e2f22c21",
   "metadata": {
    "tags": []
   },
   "outputs": [
    {
     "data": {
      "text/html": [
       "<div>\n",
       "<style scoped>\n",
       "    .dataframe tbody tr th:only-of-type {\n",
       "        vertical-align: middle;\n",
       "    }\n",
       "\n",
       "    .dataframe tbody tr th {\n",
       "        vertical-align: top;\n",
       "    }\n",
       "\n",
       "    .dataframe thead th {\n",
       "        text-align: right;\n",
       "    }\n",
       "</style>\n",
       "<table border=\"1\" class=\"dataframe\">\n",
       "  <thead>\n",
       "    <tr style=\"text-align: right;\">\n",
       "      <th></th>\n",
       "      <th>Items</th>\n",
       "      <th>Customer.FirstName</th>\n",
       "      <th>Customer.LastName</th>\n",
       "    </tr>\n",
       "  </thead>\n",
       "  <tbody>\n",
       "    <tr>\n",
       "      <th>0</th>\n",
       "      <td>[{'Name': 'T-Shirt', 'Price': 10.0, 'Quantity'...</td>\n",
       "      <td>Abby</td>\n",
       "      <td>Kuss</td>\n",
       "    </tr>\n",
       "    <tr>\n",
       "      <th>1</th>\n",
       "      <td>[{'Name': 'Shoes', 'Price': 25.0, 'Quantity': ...</td>\n",
       "      <td>Bette</td>\n",
       "      <td>Alott</td>\n",
       "    </tr>\n",
       "    <tr>\n",
       "      <th>2</th>\n",
       "      <td>[{'Name': 'T-Shirt', 'Price': 10.0, 'Quantity'...</td>\n",
       "      <td>Chris</td>\n",
       "      <td>Peanugget</td>\n",
       "    </tr>\n",
       "  </tbody>\n",
       "</table>\n",
       "</div>"
      ],
      "text/plain": [
       "                                               Items Customer.FirstName  \\\n",
       "0  [{'Name': 'T-Shirt', 'Price': 10.0, 'Quantity'...               Abby   \n",
       "1  [{'Name': 'Shoes', 'Price': 25.0, 'Quantity': ...              Bette   \n",
       "2  [{'Name': 'T-Shirt', 'Price': 10.0, 'Quantity'...              Chris   \n",
       "\n",
       "  Customer.LastName  \n",
       "0              Kuss  \n",
       "1             Alott  \n",
       "2         Peanugget  "
      ]
     },
     "execution_count": 37,
     "metadata": {},
     "output_type": "execute_result"
    }
   ],
   "source": [
    "import json\n",
    "with open(\"orders.json\") as f:\n",
    "    json_data = json.load(f)  #de-serialize\n",
    "\n",
    "orders = pd.json_normalize(json_data)\n",
    "orders"
   ]
  },
  {
   "cell_type": "markdown",
   "id": "f4a3a672-040e-4be9-bced-b82155e9c034",
   "metadata": {},
   "source": [
    "Better but we still need to handle the list of `Items`. To accomplish this we \n",
    "\n",
    "1. set the `record_path` to be the nested list `'Items'`. This tells `json_normalize()` to use that JSON key as the row level. So now we will have 5 rows (one for each item) instead of 3. \n",
    "2. Then we set the `meta` named argument to a `list` of each of the other values we wish to include, in this instance  last name and first name.\n",
    "\n",
    "NOTE: The `meta` syntax is a bit weird. Its a `list` of JSON paths (also represented as lists) to each item in the JSON. For example:\n",
    "\n",
    "    The meta Argument        ==> Matches This in the JSON           ==> And Displays As This Pandas Column\n",
    "    [\"Customer\",\"FirstName\"] ==> { \"Customer\" : { \"FirstName\": ...} ==> Customer.Firstname"
   ]
  },
  {
   "cell_type": "code",
   "execution_count": 38,
   "id": "6db60ee2-0764-46a5-8ff1-1016ec8a4c28",
   "metadata": {
    "tags": []
   },
   "outputs": [
    {
     "data": {
      "text/html": [
       "<div>\n",
       "<style scoped>\n",
       "    .dataframe tbody tr th:only-of-type {\n",
       "        vertical-align: middle;\n",
       "    }\n",
       "\n",
       "    .dataframe tbody tr th {\n",
       "        vertical-align: top;\n",
       "    }\n",
       "\n",
       "    .dataframe thead th {\n",
       "        text-align: right;\n",
       "    }\n",
       "</style>\n",
       "<table border=\"1\" class=\"dataframe\">\n",
       "  <thead>\n",
       "    <tr style=\"text-align: right;\">\n",
       "      <th></th>\n",
       "      <th>Name</th>\n",
       "      <th>Price</th>\n",
       "      <th>Quantity</th>\n",
       "      <th>Customer.FirstName</th>\n",
       "      <th>Customer.LastName</th>\n",
       "    </tr>\n",
       "  </thead>\n",
       "  <tbody>\n",
       "    <tr>\n",
       "      <th>0</th>\n",
       "      <td>T-Shirt</td>\n",
       "      <td>10.0</td>\n",
       "      <td>3</td>\n",
       "      <td>Abby</td>\n",
       "      <td>Kuss</td>\n",
       "    </tr>\n",
       "    <tr>\n",
       "      <th>1</th>\n",
       "      <td>Jacket</td>\n",
       "      <td>20.0</td>\n",
       "      <td>1</td>\n",
       "      <td>Abby</td>\n",
       "      <td>Kuss</td>\n",
       "    </tr>\n",
       "    <tr>\n",
       "      <th>2</th>\n",
       "      <td>Shoes</td>\n",
       "      <td>25.0</td>\n",
       "      <td>1</td>\n",
       "      <td>Bette</td>\n",
       "      <td>Alott</td>\n",
       "    </tr>\n",
       "    <tr>\n",
       "      <th>3</th>\n",
       "      <td>Jacket</td>\n",
       "      <td>20.0</td>\n",
       "      <td>1</td>\n",
       "      <td>Bette</td>\n",
       "      <td>Alott</td>\n",
       "    </tr>\n",
       "    <tr>\n",
       "      <th>4</th>\n",
       "      <td>T-Shirt</td>\n",
       "      <td>10.0</td>\n",
       "      <td>1</td>\n",
       "      <td>Chris</td>\n",
       "      <td>Peanugget</td>\n",
       "    </tr>\n",
       "  </tbody>\n",
       "</table>\n",
       "</div>"
      ],
      "text/plain": [
       "      Name  Price  Quantity Customer.FirstName Customer.LastName\n",
       "0  T-Shirt   10.0         3               Abby              Kuss\n",
       "1   Jacket   20.0         1               Abby              Kuss\n",
       "2    Shoes   25.0         1              Bette             Alott\n",
       "3   Jacket   20.0         1              Bette             Alott\n",
       "4  T-Shirt   10.0         1              Chris         Peanugget"
      ]
     },
     "execution_count": 38,
     "metadata": {},
     "output_type": "execute_result"
    }
   ],
   "source": [
    "orders = pd.json_normalize(json_data, record_path=\"Items\", meta=[[\"Customer\",\"FirstName\"],[\"Customer\",\"LastName\"]])\n",
    "orders"
   ]
  },
  {
   "cell_type": "markdown",
   "id": "d6c88cde-ec9f-408c-bc5b-5448f48a6210",
   "metadata": {},
   "source": [
    "Yes it seems complicated, because it is a bit complicated, let's try another example, with some abstract values.\n",
    "\n",
    "In the following example we want to generate a normalized table with 3 rows and 4 columns. \n",
    "\n",
    " - The rows are based on the \"A\" `record_path`. There are three: 101, 111 and 201\n",
    " - The meta data are based on columns \"B\", and \"C1\"\n"
   ]
  },
  {
   "cell_type": "code",
   "execution_count": 39,
   "id": "bd8b708d-340a-458f-a82f-efb5a2eb1c01",
   "metadata": {
    "tags": []
   },
   "outputs": [],
   "source": [
    "json_data = [\n",
    "    {\n",
    "        \"A\": [\n",
    "            {\"A1\": 101, \"A2\": 102},\n",
    "            {\"A1\": 111, \"A2\": 112}\n",
    "        ],\n",
    "        \"B\": 103,\n",
    "        \"C\": {\"C1\": 104}\n",
    "    },\n",
    "    {\n",
    "        \"A\": [\n",
    "            {\"A1\": 201, \"A2\": 202}\n",
    "        ],\n",
    "        \"B\": 203,\n",
    "        \"C\": {\"C1\": 204}\n",
    "    }\n",
    "]"
   ]
  },
  {
   "cell_type": "code",
   "execution_count": 40,
   "id": "f68af4f9-5e44-4048-ba36-9871bd8e6aff",
   "metadata": {
    "tags": []
   },
   "outputs": [
    {
     "data": {
      "text/html": [
       "<div>\n",
       "<style scoped>\n",
       "    .dataframe tbody tr th:only-of-type {\n",
       "        vertical-align: middle;\n",
       "    }\n",
       "\n",
       "    .dataframe tbody tr th {\n",
       "        vertical-align: top;\n",
       "    }\n",
       "\n",
       "    .dataframe thead th {\n",
       "        text-align: right;\n",
       "    }\n",
       "</style>\n",
       "<table border=\"1\" class=\"dataframe\">\n",
       "  <thead>\n",
       "    <tr style=\"text-align: right;\">\n",
       "      <th></th>\n",
       "      <th>A1</th>\n",
       "      <th>A2</th>\n",
       "      <th>B</th>\n",
       "      <th>C.C1</th>\n",
       "    </tr>\n",
       "  </thead>\n",
       "  <tbody>\n",
       "    <tr>\n",
       "      <th>0</th>\n",
       "      <td>101</td>\n",
       "      <td>102</td>\n",
       "      <td>103</td>\n",
       "      <td>104</td>\n",
       "    </tr>\n",
       "    <tr>\n",
       "      <th>1</th>\n",
       "      <td>111</td>\n",
       "      <td>112</td>\n",
       "      <td>103</td>\n",
       "      <td>104</td>\n",
       "    </tr>\n",
       "    <tr>\n",
       "      <th>2</th>\n",
       "      <td>201</td>\n",
       "      <td>202</td>\n",
       "      <td>203</td>\n",
       "      <td>204</td>\n",
       "    </tr>\n",
       "  </tbody>\n",
       "</table>\n",
       "</div>"
      ],
      "text/plain": [
       "    A1   A2    B C.C1\n",
       "0  101  102  103  104\n",
       "1  111  112  103  104\n",
       "2  201  202  203  204"
      ]
     },
     "execution_count": 40,
     "metadata": {},
     "output_type": "execute_result"
    }
   ],
   "source": [
    "df = pd.json_normalize(json_data, record_path=\"A\", meta=[\"B\", [\"C\", \"C1\"]])\n",
    "df"
   ]
  },
  {
   "cell_type": "markdown",
   "id": "4249948d-c477-4c70-8ca7-a50448d3467e",
   "metadata": {},
   "source": [
    "### 2.C Simple Web scraping with Pandas\n",
    "\n",
    "The Pandas `read_html()` method can be used to extact HTML tables from websites. For any given webpage url as input, `read_html()` will output a `list` of DataDrames. There will be one DataFrame for each table on the website.\n",
    "\n",
    "In this example we read the following wikipedia page: https://en.wikipedia.org/wiki/National_Basketball_Association\n",
    "\n",
    "NOTE: We use wayback machine to snapshot the page to the point in time this paper was written."
   ]
  },
  {
   "cell_type": "code",
   "execution_count": 41,
   "id": "e1aed7a0-660e-4650-bd63-9cbdfe6a1f97",
   "metadata": {},
   "outputs": [],
   "source": [
    "dfs = pd.read_html(\"https://web.archive.org/web/20240316160100/https://en.wikipedia.org/wiki/National_Basketball_Association\")"
   ]
  },
  {
   "cell_type": "markdown",
   "id": "4574c968-aff4-49af-807e-98d18a4c5060",
   "metadata": {},
   "source": [
    "Upon inspection the NBA teams are the 4th table in the list."
   ]
  },
  {
   "cell_type": "code",
   "execution_count": 42,
   "id": "02ddf331-8c80-47a0-bce9-264dcf4508d8",
   "metadata": {},
   "outputs": [
    {
     "data": {
      "text/html": [
       "<div>\n",
       "<style scoped>\n",
       "    .dataframe tbody tr th:only-of-type {\n",
       "        vertical-align: middle;\n",
       "    }\n",
       "\n",
       "    .dataframe tbody tr th {\n",
       "        vertical-align: top;\n",
       "    }\n",
       "\n",
       "    .dataframe thead th {\n",
       "        text-align: right;\n",
       "    }\n",
       "</style>\n",
       "<table border=\"1\" class=\"dataframe\">\n",
       "  <thead>\n",
       "    <tr style=\"text-align: right;\">\n",
       "      <th></th>\n",
       "      <th>Conference</th>\n",
       "      <th>Division</th>\n",
       "      <th>Team</th>\n",
       "      <th>Location</th>\n",
       "      <th>Arena</th>\n",
       "      <th>Capacity</th>\n",
       "      <th>Coordinates</th>\n",
       "      <th>Founded</th>\n",
       "      <th>Joined</th>\n",
       "    </tr>\n",
       "  </thead>\n",
       "  <tbody>\n",
       "    <tr>\n",
       "      <th>0</th>\n",
       "      <td>Eastern Conference</td>\n",
       "      <td>Atlantic</td>\n",
       "      <td>Boston Celtics</td>\n",
       "      <td>Boston, Massachusetts</td>\n",
       "      <td>TD Garden</td>\n",
       "      <td>19156</td>\n",
       "      <td>42°21′59″N 71°03′44″W﻿ / ﻿42.366303°N 71.062228°W</td>\n",
       "      <td>1946</td>\n",
       "      <td>1946</td>\n",
       "    </tr>\n",
       "    <tr>\n",
       "      <th>1</th>\n",
       "      <td>Eastern Conference</td>\n",
       "      <td>Atlantic</td>\n",
       "      <td>Brooklyn Nets</td>\n",
       "      <td>New York, New York</td>\n",
       "      <td>Barclays Center</td>\n",
       "      <td>17732</td>\n",
       "      <td>40°40′58″N 73°58′29″W﻿ / ﻿40.68265°N 73.974689°W</td>\n",
       "      <td>1967*</td>\n",
       "      <td>1976</td>\n",
       "    </tr>\n",
       "    <tr>\n",
       "      <th>2</th>\n",
       "      <td>Eastern Conference</td>\n",
       "      <td>Atlantic</td>\n",
       "      <td>New York Knicks</td>\n",
       "      <td>New York, New York</td>\n",
       "      <td>Madison Square Garden</td>\n",
       "      <td>19812</td>\n",
       "      <td>40°45′02″N 73°59′37″W﻿ / ﻿40.750556°N 73.993611°W</td>\n",
       "      <td>1946</td>\n",
       "      <td>1946</td>\n",
       "    </tr>\n",
       "    <tr>\n",
       "      <th>3</th>\n",
       "      <td>Eastern Conference</td>\n",
       "      <td>Atlantic</td>\n",
       "      <td>Philadelphia 76ers</td>\n",
       "      <td>Philadelphia, Pennsylvania</td>\n",
       "      <td>Wells Fargo Center</td>\n",
       "      <td>20478</td>\n",
       "      <td>39°54′04″N 75°10′19″W﻿ / ﻿39.901111°N 75.171944°W</td>\n",
       "      <td>1946*</td>\n",
       "      <td>1949</td>\n",
       "    </tr>\n",
       "    <tr>\n",
       "      <th>4</th>\n",
       "      <td>Eastern Conference</td>\n",
       "      <td>Atlantic</td>\n",
       "      <td>Toronto Raptors</td>\n",
       "      <td>Toronto, Ontario</td>\n",
       "      <td>Scotiabank Arena</td>\n",
       "      <td>19800</td>\n",
       "      <td>43°38′36″N 79°22′45″W﻿ / ﻿43.643333°N 79.379167°W</td>\n",
       "      <td>1995</td>\n",
       "      <td>1995</td>\n",
       "    </tr>\n",
       "  </tbody>\n",
       "</table>\n",
       "</div>"
      ],
      "text/plain": [
       "           Conference  Division                Team  \\\n",
       "0  Eastern Conference  Atlantic      Boston Celtics   \n",
       "1  Eastern Conference  Atlantic       Brooklyn Nets   \n",
       "2  Eastern Conference  Atlantic     New York Knicks   \n",
       "3  Eastern Conference  Atlantic  Philadelphia 76ers   \n",
       "4  Eastern Conference  Atlantic     Toronto Raptors   \n",
       "\n",
       "                     Location                  Arena  Capacity  \\\n",
       "0       Boston, Massachusetts              TD Garden     19156   \n",
       "1          New York, New York        Barclays Center     17732   \n",
       "2          New York, New York  Madison Square Garden     19812   \n",
       "3  Philadelphia, Pennsylvania     Wells Fargo Center     20478   \n",
       "4            Toronto, Ontario       Scotiabank Arena     19800   \n",
       "\n",
       "                                         Coordinates Founded Joined  \n",
       "0  42°21′59″N 71°03′44″W﻿ / ﻿42.366303°N 71.062228°W    1946   1946  \n",
       "1   40°40′58″N 73°58′29″W﻿ / ﻿40.68265°N 73.974689°W   1967*   1976  \n",
       "2  40°45′02″N 73°59′37″W﻿ / ﻿40.750556°N 73.993611°W    1946   1946  \n",
       "3  39°54′04″N 75°10′19″W﻿ / ﻿39.901111°N 75.171944°W   1946*   1949  \n",
       "4  43°38′36″N 79°22′45″W﻿ / ﻿43.643333°N 79.379167°W    1995   1995  "
      ]
     },
     "execution_count": 42,
     "metadata": {},
     "output_type": "execute_result"
    }
   ],
   "source": [
    "teams = dfs[3]\n",
    "teams.head(n=5)"
   ]
  },
  {
   "cell_type": "markdown",
   "id": "33514375-e769-426e-943b-6057b484a05d",
   "metadata": {},
   "source": [
    "A table of championships can be found as the 6th table."
   ]
  },
  {
   "cell_type": "code",
   "execution_count": 43,
   "id": "3904a1f2-ec41-4de7-8851-4c759ad2ab8a",
   "metadata": {},
   "outputs": [
    {
     "data": {
      "text/html": [
       "<div>\n",
       "<style scoped>\n",
       "    .dataframe tbody tr th:only-of-type {\n",
       "        vertical-align: middle;\n",
       "    }\n",
       "\n",
       "    .dataframe tbody tr th {\n",
       "        vertical-align: top;\n",
       "    }\n",
       "\n",
       "    .dataframe thead th {\n",
       "        text-align: right;\n",
       "    }\n",
       "</style>\n",
       "<table border=\"1\" class=\"dataframe\">\n",
       "  <thead>\n",
       "    <tr style=\"text-align: right;\">\n",
       "      <th></th>\n",
       "      <th>Teams</th>\n",
       "      <th>Win</th>\n",
       "      <th>Loss</th>\n",
       "      <th>Total</th>\n",
       "      <th>Year(s) won</th>\n",
       "      <th>Year(s) runner-up</th>\n",
       "    </tr>\n",
       "  </thead>\n",
       "  <tbody>\n",
       "    <tr>\n",
       "      <th>0</th>\n",
       "      <td>Minneapolis/Los Angeles Lakers</td>\n",
       "      <td>17</td>\n",
       "      <td>15</td>\n",
       "      <td>32</td>\n",
       "      <td>1949, 1950, 1952, 1953, 1954, 1972, 1980, 1982...</td>\n",
       "      <td>1959, 1962, 1963, 1965, 1966, 1968, 1969, 1970...</td>\n",
       "    </tr>\n",
       "    <tr>\n",
       "      <th>1</th>\n",
       "      <td>Boston Celtics</td>\n",
       "      <td>17</td>\n",
       "      <td>5</td>\n",
       "      <td>22</td>\n",
       "      <td>1957, 1959, 1960, 1961, 1962, 1963, 1964, 1965...</td>\n",
       "      <td>1958, 1985, 1987, 2010, 2022</td>\n",
       "    </tr>\n",
       "    <tr>\n",
       "      <th>2</th>\n",
       "      <td>Philadelphia/San Francisco/Golden State Warriors</td>\n",
       "      <td>7</td>\n",
       "      <td>5</td>\n",
       "      <td>12</td>\n",
       "      <td>1947, 1956, 1975, 2015, 2017, 2018, 2022</td>\n",
       "      <td>1948, 1964, 1967, 2016, 2019</td>\n",
       "    </tr>\n",
       "    <tr>\n",
       "      <th>3</th>\n",
       "      <td>Chicago Bulls</td>\n",
       "      <td>6</td>\n",
       "      <td>0</td>\n",
       "      <td>6</td>\n",
       "      <td>1991, 1992, 1993, 1996, 1997, 1998</td>\n",
       "      <td>—</td>\n",
       "    </tr>\n",
       "    <tr>\n",
       "      <th>4</th>\n",
       "      <td>San Antonio Spurs</td>\n",
       "      <td>5</td>\n",
       "      <td>1</td>\n",
       "      <td>6</td>\n",
       "      <td>1999, 2003, 2005, 2007, 2014</td>\n",
       "      <td>2013</td>\n",
       "    </tr>\n",
       "  </tbody>\n",
       "</table>\n",
       "</div>"
      ],
      "text/plain": [
       "                                              Teams  Win  Loss  Total  \\\n",
       "0                    Minneapolis/Los Angeles Lakers   17    15     32   \n",
       "1                                    Boston Celtics   17     5     22   \n",
       "2  Philadelphia/San Francisco/Golden State Warriors    7     5     12   \n",
       "3                                     Chicago Bulls    6     0      6   \n",
       "4                                 San Antonio Spurs    5     1      6   \n",
       "\n",
       "                                         Year(s) won  \\\n",
       "0  1949, 1950, 1952, 1953, 1954, 1972, 1980, 1982...   \n",
       "1  1957, 1959, 1960, 1961, 1962, 1963, 1964, 1965...   \n",
       "2           1947, 1956, 1975, 2015, 2017, 2018, 2022   \n",
       "3                 1991, 1992, 1993, 1996, 1997, 1998   \n",
       "4                       1999, 2003, 2005, 2007, 2014   \n",
       "\n",
       "                                   Year(s) runner-up  \n",
       "0  1959, 1962, 1963, 1965, 1966, 1968, 1969, 1970...  \n",
       "1                       1958, 1985, 1987, 2010, 2022  \n",
       "2                       1948, 1964, 1967, 2016, 2019  \n",
       "3                                                  —  \n",
       "4                                               2013  "
      ]
     },
     "execution_count": 43,
     "metadata": {},
     "output_type": "execute_result"
    }
   ],
   "source": [
    "championships = dfs[5]\n",
    "championships.head(n=5)"
   ]
  },
  {
   "cell_type": "markdown",
   "id": "9cc0e9a4-dd82-4f4c-8721-a3783de693ff",
   "metadata": {},
   "source": [
    "#### You'll have to investigate the output to find what you need\n",
    "\n",
    "There is no magic command you can type to find the table you want. Ultimately you will need to inspect each DataFrame returned from `read_html()` and figure out which DataFrame in the list contains the table of data you need. \n",
    "\n",
    "Here's some sample code to list every table on the webpage along with its index. We simple use a `for` loop to iterate over each DataFrame. Code like this can help you to identify the table you want from the webpage."
   ]
  },
  {
   "cell_type": "code",
   "execution_count": 44,
   "id": "65013d6e-f415-4f64-9334-505206338bff",
   "metadata": {},
   "outputs": [
    {
     "name": "stdout",
     "output_type": "stream",
     "text": [
      "INDEX: 0\n"
     ]
    },
    {
     "data": {
      "text/html": [
       "<div>\n",
       "<style scoped>\n",
       "    .dataframe tbody tr th:only-of-type {\n",
       "        vertical-align: middle;\n",
       "    }\n",
       "\n",
       "    .dataframe tbody tr th {\n",
       "        vertical-align: top;\n",
       "    }\n",
       "\n",
       "    .dataframe thead th {\n",
       "        text-align: right;\n",
       "    }\n",
       "</style>\n",
       "<table border=\"1\" class=\"dataframe\">\n",
       "  <thead>\n",
       "    <tr style=\"text-align: right;\">\n",
       "      <th></th>\n",
       "      <th>0</th>\n",
       "      <th>1</th>\n",
       "      <th>2</th>\n",
       "    </tr>\n",
       "  </thead>\n",
       "  <tbody>\n",
       "    <tr>\n",
       "      <th>0</th>\n",
       "      <td>Feb</td>\n",
       "      <td>JUN</td>\n",
       "      <td>Dec</td>\n",
       "    </tr>\n",
       "    <tr>\n",
       "      <th>1</th>\n",
       "      <td>NaN</td>\n",
       "      <td>06</td>\n",
       "      <td>NaN</td>\n",
       "    </tr>\n",
       "    <tr>\n",
       "      <th>2</th>\n",
       "      <td>2022</td>\n",
       "      <td>2023</td>\n",
       "      <td>2024</td>\n",
       "    </tr>\n",
       "  </tbody>\n",
       "</table>\n",
       "</div>"
      ],
      "text/plain": [
       "      0     1     2\n",
       "0   Feb   JUN   Dec\n",
       "1   NaN    06   NaN\n",
       "2  2022  2023  2024"
      ]
     },
     "metadata": {},
     "output_type": "display_data"
    },
    {
     "name": "stdout",
     "output_type": "stream",
     "text": [
      "INDEX: 1\n"
     ]
    },
    {
     "data": {
      "text/html": [
       "<div>\n",
       "<style scoped>\n",
       "    .dataframe tbody tr th:only-of-type {\n",
       "        vertical-align: middle;\n",
       "    }\n",
       "\n",
       "    .dataframe tbody tr th {\n",
       "        vertical-align: top;\n",
       "    }\n",
       "\n",
       "    .dataframe thead th {\n",
       "        text-align: right;\n",
       "    }\n",
       "</style>\n",
       "<table border=\"1\" class=\"dataframe\">\n",
       "  <thead>\n",
       "    <tr style=\"text-align: right;\">\n",
       "      <th></th>\n",
       "      <th>Dates</th>\n",
       "      <th>Topic (Click Link for Content and Assigned Readings)</th>\n",
       "    </tr>\n",
       "  </thead>\n",
       "  <tbody>\n",
       "    <tr>\n",
       "      <th>0</th>\n",
       "      <td>1/18 - 1/22</td>\n",
       "      <td>Wednesday is the first class.</td>\n",
       "    </tr>\n",
       "    <tr>\n",
       "      <th>1</th>\n",
       "      <td>1/23 - 1/29</td>\n",
       "      <td>Lesson 01: Introduction to Python Programming</td>\n",
       "    </tr>\n",
       "    <tr>\n",
       "      <th>2</th>\n",
       "      <td>1/30 - 2/5</td>\n",
       "      <td>Lesson 02: Input, Output, Variables and Types</td>\n",
       "    </tr>\n",
       "    <tr>\n",
       "      <th>3</th>\n",
       "      <td>2/6 - 2/12</td>\n",
       "      <td>Lesson 03: Conditionals</td>\n",
       "    </tr>\n",
       "    <tr>\n",
       "      <th>4</th>\n",
       "      <td>2/13 - 2/19</td>\n",
       "      <td>Lesson 04: Iterations</td>\n",
       "    </tr>\n",
       "  </tbody>\n",
       "</table>\n",
       "</div>"
      ],
      "text/plain": [
       "         Dates Topic (Click Link for Content and Assigned Readings)\n",
       "0  1/18 - 1/22                      Wednesday is the first class.  \n",
       "1  1/23 - 1/29      Lesson 01: Introduction to Python Programming  \n",
       "2   1/30 - 2/5      Lesson 02: Input, Output, Variables and Types  \n",
       "3   2/6 - 2/12                            Lesson 03: Conditionals  \n",
       "4  2/13 - 2/19                              Lesson 04: Iterations  "
      ]
     },
     "metadata": {},
     "output_type": "display_data"
    },
    {
     "name": "stdout",
     "output_type": "stream",
     "text": [
      "INDEX: 2\n"
     ]
    },
    {
     "data": {
      "text/html": [
       "<div>\n",
       "<style scoped>\n",
       "    .dataframe tbody tr th:only-of-type {\n",
       "        vertical-align: middle;\n",
       "    }\n",
       "\n",
       "    .dataframe tbody tr th {\n",
       "        vertical-align: top;\n",
       "    }\n",
       "\n",
       "    .dataframe thead th {\n",
       "        text-align: right;\n",
       "    }\n",
       "</style>\n",
       "<table border=\"1\" class=\"dataframe\">\n",
       "  <thead>\n",
       "    <tr style=\"text-align: right;\">\n",
       "      <th></th>\n",
       "      <th>Date Due</th>\n",
       "      <th>Time Due</th>\n",
       "      <th>Gradebook</th>\n",
       "      <th>Points</th>\n",
       "      <th>Tool</th>\n",
       "      <th>What is Due?</th>\n",
       "    </tr>\n",
       "  </thead>\n",
       "  <tbody>\n",
       "    <tr>\n",
       "      <th>0</th>\n",
       "      <td>1/24/2023</td>\n",
       "      <td>11:59 PM</td>\n",
       "      <td>L01</td>\n",
       "      <td>3</td>\n",
       "      <td>Jupyterhub</td>\n",
       "      <td>01-Intro/LAB-Intro.ipynb</td>\n",
       "    </tr>\n",
       "    <tr>\n",
       "      <th>1</th>\n",
       "      <td>1/25/2023</td>\n",
       "      <td>11:59 PM</td>\n",
       "      <td>S01</td>\n",
       "      <td>3</td>\n",
       "      <td>Jupyterhub</td>\n",
       "      <td>01-Intro/SmallGroup-Intro.ipynb</td>\n",
       "    </tr>\n",
       "    <tr>\n",
       "      <th>2</th>\n",
       "      <td>1/27/2023</td>\n",
       "      <td>11:59 PM</td>\n",
       "      <td>H01</td>\n",
       "      <td>3</td>\n",
       "      <td>Jupyterhub</td>\n",
       "      <td>01-Intro/HW-Intro.ipynb</td>\n",
       "    </tr>\n",
       "    <tr>\n",
       "      <th>3</th>\n",
       "      <td>1/31/2023</td>\n",
       "      <td>11:59 PM</td>\n",
       "      <td>L02</td>\n",
       "      <td>3</td>\n",
       "      <td>Jupyterhub</td>\n",
       "      <td>02-Variables/LAB-Variables.ipynb</td>\n",
       "    </tr>\n",
       "    <tr>\n",
       "      <th>4</th>\n",
       "      <td>2/1/2023</td>\n",
       "      <td>11:59 PM</td>\n",
       "      <td>S02</td>\n",
       "      <td>3</td>\n",
       "      <td>Jupyterhub</td>\n",
       "      <td>02-Variables/SmallGroup-Variables.ipynb</td>\n",
       "    </tr>\n",
       "  </tbody>\n",
       "</table>\n",
       "</div>"
      ],
      "text/plain": [
       "    Date Due  Time Due Gradebook  Points        Tool  \\\n",
       "0  1/24/2023  11:59 PM       L01       3  Jupyterhub   \n",
       "1  1/25/2023  11:59 PM       S01       3  Jupyterhub   \n",
       "2  1/27/2023  11:59 PM       H01       3  Jupyterhub   \n",
       "3  1/31/2023  11:59 PM       L02       3  Jupyterhub   \n",
       "4   2/1/2023  11:59 PM       S02       3  Jupyterhub   \n",
       "\n",
       "                              What is Due?  \n",
       "0                 01-Intro/LAB-Intro.ipynb  \n",
       "1          01-Intro/SmallGroup-Intro.ipynb  \n",
       "2                  01-Intro/HW-Intro.ipynb  \n",
       "3         02-Variables/LAB-Variables.ipynb  \n",
       "4  02-Variables/SmallGroup-Variables.ipynb  "
      ]
     },
     "metadata": {},
     "output_type": "display_data"
    }
   ],
   "source": [
    "from IPython.display import display\n",
    "\n",
    "webpage = \"https://web.archive.org/web/20230606035218/https://ist256.com/\"\n",
    "dataframes = pd.read_html(webpage)\n",
    "for index, df in enumerate(dataframes):\n",
    "    print(\"INDEX:\", index)\n",
    "    display(df.head(5))"
   ]
  },
  {
   "cell_type": "markdown",
   "id": "27988438-b78b-408f-83f5-6cf42f3eaa8d",
   "metadata": {},
   "source": [
    "### 2.D Advanced Dataframe Operations\n",
    "\n",
    "In this section we explore the various options for combining one or more dataframes together. We'll cover the two most common method functions:\n",
    "\n",
    "- `concat()` - Row-oriented. Combine one or more DataFrames together. Appropriate for similar sets of data. Online students + Campus students.\n",
    "- `merge()` - Column-oriented. Combine one or more DataFrames based on a matching column. Appropriate for different sets of data that share a business rule.  Students *take* Classes so we merge students + classes so we know who is taking which class.\n",
    "\n",
    "#### Concat() Example.\n",
    "\n",
    "The common use case for `concat()` is to combine two separate but similar data sets into a single data set.\n"
   ]
  },
  {
   "cell_type": "code",
   "execution_count": 45,
   "id": "46b312cf-b18d-4128-861f-0bb332b067d9",
   "metadata": {
    "tags": []
   },
   "outputs": [
    {
     "data": {
      "text/html": [
       "<div>\n",
       "<style scoped>\n",
       "    .dataframe tbody tr th:only-of-type {\n",
       "        vertical-align: middle;\n",
       "    }\n",
       "\n",
       "    .dataframe tbody tr th {\n",
       "        vertical-align: top;\n",
       "    }\n",
       "\n",
       "    .dataframe thead th {\n",
       "        text-align: right;\n",
       "    }\n",
       "</style>\n",
       "<table border=\"1\" class=\"dataframe\">\n",
       "  <thead>\n",
       "    <tr style=\"text-align: right;\">\n",
       "      <th></th>\n",
       "      <th>Name</th>\n",
       "      <th>Grade</th>\n",
       "      <th>Year</th>\n",
       "    </tr>\n",
       "  </thead>\n",
       "  <tbody>\n",
       "    <tr>\n",
       "      <th>0</th>\n",
       "      <td>Helen</td>\n",
       "      <td>NaN</td>\n",
       "      <td>Sophomore</td>\n",
       "    </tr>\n",
       "    <tr>\n",
       "      <th>1</th>\n",
       "      <td>Iris</td>\n",
       "      <td>10.0</td>\n",
       "      <td>Senior</td>\n",
       "    </tr>\n",
       "    <tr>\n",
       "      <th>2</th>\n",
       "      <td>Jimmy</td>\n",
       "      <td>8.0</td>\n",
       "      <td>Freshman</td>\n",
       "    </tr>\n",
       "    <tr>\n",
       "      <th>3</th>\n",
       "      <td>Karen</td>\n",
       "      <td>NaN</td>\n",
       "      <td>Freshman</td>\n",
       "    </tr>\n",
       "    <tr>\n",
       "      <th>4</th>\n",
       "      <td>Lynne</td>\n",
       "      <td>10.0</td>\n",
       "      <td>Sophomore</td>\n",
       "    </tr>\n",
       "    <tr>\n",
       "      <th>5</th>\n",
       "      <td>Mike</td>\n",
       "      <td>10.0</td>\n",
       "      <td>Sophomore</td>\n",
       "    </tr>\n",
       "    <tr>\n",
       "      <th>6</th>\n",
       "      <td>Nico</td>\n",
       "      <td>NaN</td>\n",
       "      <td>Junior</td>\n",
       "    </tr>\n",
       "    <tr>\n",
       "      <th>7</th>\n",
       "      <td>Pete</td>\n",
       "      <td>8.0</td>\n",
       "      <td>Freshman</td>\n",
       "    </tr>\n",
       "  </tbody>\n",
       "</table>\n",
       "</div>"
      ],
      "text/plain": [
       "    Name  Grade       Year\n",
       "0  Helen    NaN  Sophomore\n",
       "1   Iris   10.0     Senior\n",
       "2  Jimmy    8.0   Freshman\n",
       "3  Karen    NaN   Freshman\n",
       "4  Lynne   10.0  Sophomore\n",
       "5   Mike   10.0  Sophomore\n",
       "6   Nico    NaN     Junior\n",
       "7   Pete    8.0   Freshman"
      ]
     },
     "execution_count": 45,
     "metadata": {},
     "output_type": "execute_result"
    }
   ],
   "source": [
    "campus_students = pd.read_csv(\"https://raw.githubusercontent.com/mafudge/datasets/master/delimited/campus-students.csv\")\n",
    "campus_students"
   ]
  },
  {
   "cell_type": "code",
   "execution_count": 46,
   "id": "0995022d-3fca-4e38-97f0-905055d96c52",
   "metadata": {
    "tags": []
   },
   "outputs": [
    {
     "data": {
      "text/html": [
       "<div>\n",
       "<style scoped>\n",
       "    .dataframe tbody tr th:only-of-type {\n",
       "        vertical-align: middle;\n",
       "    }\n",
       "\n",
       "    .dataframe tbody tr th {\n",
       "        vertical-align: top;\n",
       "    }\n",
       "\n",
       "    .dataframe thead th {\n",
       "        text-align: right;\n",
       "    }\n",
       "</style>\n",
       "<table border=\"1\" class=\"dataframe\">\n",
       "  <thead>\n",
       "    <tr style=\"text-align: right;\">\n",
       "      <th></th>\n",
       "      <th>Name</th>\n",
       "      <th>Grade</th>\n",
       "      <th>Year</th>\n",
       "      <th>Location</th>\n",
       "    </tr>\n",
       "  </thead>\n",
       "  <tbody>\n",
       "    <tr>\n",
       "      <th>0</th>\n",
       "      <td>Abby</td>\n",
       "      <td>7.0</td>\n",
       "      <td>Freshman</td>\n",
       "      <td>NY</td>\n",
       "    </tr>\n",
       "    <tr>\n",
       "      <th>1</th>\n",
       "      <td>Bob</td>\n",
       "      <td>9.0</td>\n",
       "      <td>Sophomore</td>\n",
       "      <td>CA</td>\n",
       "    </tr>\n",
       "    <tr>\n",
       "      <th>2</th>\n",
       "      <td>Chris</td>\n",
       "      <td>10.0</td>\n",
       "      <td>Senior</td>\n",
       "      <td>CA</td>\n",
       "    </tr>\n",
       "    <tr>\n",
       "      <th>3</th>\n",
       "      <td>Dave</td>\n",
       "      <td>8.0</td>\n",
       "      <td>Freshman</td>\n",
       "      <td>NY</td>\n",
       "    </tr>\n",
       "    <tr>\n",
       "      <th>4</th>\n",
       "      <td>Ellen</td>\n",
       "      <td>7.0</td>\n",
       "      <td>Sophomore</td>\n",
       "      <td>TX</td>\n",
       "    </tr>\n",
       "    <tr>\n",
       "      <th>5</th>\n",
       "      <td>Fran</td>\n",
       "      <td>10.0</td>\n",
       "      <td>Senior</td>\n",
       "      <td>FL</td>\n",
       "    </tr>\n",
       "    <tr>\n",
       "      <th>6</th>\n",
       "      <td>Greg</td>\n",
       "      <td>8.0</td>\n",
       "      <td>Freshman</td>\n",
       "      <td>NY</td>\n",
       "    </tr>\n",
       "  </tbody>\n",
       "</table>\n",
       "</div>"
      ],
      "text/plain": [
       "    Name  Grade       Year Location\n",
       "0   Abby    7.0   Freshman       NY\n",
       "1    Bob    9.0  Sophomore       CA\n",
       "2  Chris   10.0     Senior       CA\n",
       "3   Dave    8.0   Freshman       NY\n",
       "4  Ellen    7.0  Sophomore       TX\n",
       "5   Fran   10.0     Senior       FL\n",
       "6   Greg    8.0   Freshman       NY"
      ]
     },
     "execution_count": 46,
     "metadata": {},
     "output_type": "execute_result"
    }
   ],
   "source": [
    "online_students = pd.read_csv(\"https://raw.githubusercontent.com/mafudge/datasets/master/delimited/online-students.csv\")\n",
    "online_students"
   ]
  },
  {
   "cell_type": "markdown",
   "id": "1e0a58b5-a633-4384-84ef-e59b7a72ff1c",
   "metadata": {},
   "source": [
    "To perform the `concat()` we provide a `list` of DataFrames to concatenate."
   ]
  },
  {
   "cell_type": "code",
   "execution_count": 47,
   "id": "4605e649-8242-4550-8677-3c6c29dd2d57",
   "metadata": {
    "tags": []
   },
   "outputs": [
    {
     "data": {
      "text/html": [
       "<div>\n",
       "<style scoped>\n",
       "    .dataframe tbody tr th:only-of-type {\n",
       "        vertical-align: middle;\n",
       "    }\n",
       "\n",
       "    .dataframe tbody tr th {\n",
       "        vertical-align: top;\n",
       "    }\n",
       "\n",
       "    .dataframe thead th {\n",
       "        text-align: right;\n",
       "    }\n",
       "</style>\n",
       "<table border=\"1\" class=\"dataframe\">\n",
       "  <thead>\n",
       "    <tr style=\"text-align: right;\">\n",
       "      <th></th>\n",
       "      <th>Name</th>\n",
       "      <th>Grade</th>\n",
       "      <th>Year</th>\n",
       "      <th>Location</th>\n",
       "    </tr>\n",
       "  </thead>\n",
       "  <tbody>\n",
       "    <tr>\n",
       "      <th>0</th>\n",
       "      <td>Helen</td>\n",
       "      <td>NaN</td>\n",
       "      <td>Sophomore</td>\n",
       "      <td>NaN</td>\n",
       "    </tr>\n",
       "    <tr>\n",
       "      <th>1</th>\n",
       "      <td>Iris</td>\n",
       "      <td>10.0</td>\n",
       "      <td>Senior</td>\n",
       "      <td>NaN</td>\n",
       "    </tr>\n",
       "    <tr>\n",
       "      <th>2</th>\n",
       "      <td>Jimmy</td>\n",
       "      <td>8.0</td>\n",
       "      <td>Freshman</td>\n",
       "      <td>NaN</td>\n",
       "    </tr>\n",
       "    <tr>\n",
       "      <th>3</th>\n",
       "      <td>Karen</td>\n",
       "      <td>NaN</td>\n",
       "      <td>Freshman</td>\n",
       "      <td>NaN</td>\n",
       "    </tr>\n",
       "    <tr>\n",
       "      <th>4</th>\n",
       "      <td>Lynne</td>\n",
       "      <td>10.0</td>\n",
       "      <td>Sophomore</td>\n",
       "      <td>NaN</td>\n",
       "    </tr>\n",
       "    <tr>\n",
       "      <th>5</th>\n",
       "      <td>Mike</td>\n",
       "      <td>10.0</td>\n",
       "      <td>Sophomore</td>\n",
       "      <td>NaN</td>\n",
       "    </tr>\n",
       "    <tr>\n",
       "      <th>6</th>\n",
       "      <td>Nico</td>\n",
       "      <td>NaN</td>\n",
       "      <td>Junior</td>\n",
       "      <td>NaN</td>\n",
       "    </tr>\n",
       "    <tr>\n",
       "      <th>7</th>\n",
       "      <td>Pete</td>\n",
       "      <td>8.0</td>\n",
       "      <td>Freshman</td>\n",
       "      <td>NaN</td>\n",
       "    </tr>\n",
       "    <tr>\n",
       "      <th>0</th>\n",
       "      <td>Abby</td>\n",
       "      <td>7.0</td>\n",
       "      <td>Freshman</td>\n",
       "      <td>NY</td>\n",
       "    </tr>\n",
       "    <tr>\n",
       "      <th>1</th>\n",
       "      <td>Bob</td>\n",
       "      <td>9.0</td>\n",
       "      <td>Sophomore</td>\n",
       "      <td>CA</td>\n",
       "    </tr>\n",
       "    <tr>\n",
       "      <th>2</th>\n",
       "      <td>Chris</td>\n",
       "      <td>10.0</td>\n",
       "      <td>Senior</td>\n",
       "      <td>CA</td>\n",
       "    </tr>\n",
       "    <tr>\n",
       "      <th>3</th>\n",
       "      <td>Dave</td>\n",
       "      <td>8.0</td>\n",
       "      <td>Freshman</td>\n",
       "      <td>NY</td>\n",
       "    </tr>\n",
       "    <tr>\n",
       "      <th>4</th>\n",
       "      <td>Ellen</td>\n",
       "      <td>7.0</td>\n",
       "      <td>Sophomore</td>\n",
       "      <td>TX</td>\n",
       "    </tr>\n",
       "    <tr>\n",
       "      <th>5</th>\n",
       "      <td>Fran</td>\n",
       "      <td>10.0</td>\n",
       "      <td>Senior</td>\n",
       "      <td>FL</td>\n",
       "    </tr>\n",
       "    <tr>\n",
       "      <th>6</th>\n",
       "      <td>Greg</td>\n",
       "      <td>8.0</td>\n",
       "      <td>Freshman</td>\n",
       "      <td>NY</td>\n",
       "    </tr>\n",
       "  </tbody>\n",
       "</table>\n",
       "</div>"
      ],
      "text/plain": [
       "    Name  Grade       Year Location\n",
       "0  Helen    NaN  Sophomore      NaN\n",
       "1   Iris   10.0     Senior      NaN\n",
       "2  Jimmy    8.0   Freshman      NaN\n",
       "3  Karen    NaN   Freshman      NaN\n",
       "4  Lynne   10.0  Sophomore      NaN\n",
       "5   Mike   10.0  Sophomore      NaN\n",
       "6   Nico    NaN     Junior      NaN\n",
       "7   Pete    8.0   Freshman      NaN\n",
       "0   Abby    7.0   Freshman       NY\n",
       "1    Bob    9.0  Sophomore       CA\n",
       "2  Chris   10.0     Senior       CA\n",
       "3   Dave    8.0   Freshman       NY\n",
       "4  Ellen    7.0  Sophomore       TX\n",
       "5   Fran   10.0     Senior       FL\n",
       "6   Greg    8.0   Freshman       NY"
      ]
     },
     "execution_count": 47,
     "metadata": {},
     "output_type": "execute_result"
    }
   ],
   "source": [
    "students = pd.concat([campus_students, online_students])\n",
    "students"
   ]
  },
  {
   "cell_type": "markdown",
   "id": "a0eae6d6-df73-45fb-a29b-a12abf98145a",
   "metadata": {},
   "source": [
    "#### concat() - Ignoring the index\n",
    "\n",
    "As you can see from the code above the index from the original DataFrames was used. For example `Helen` and `Abby` both share the index `0`. While this is acceptable, there are situations where a new index based on combined values is desirable. To make this happen include the `ignore_index=True` named argument. This will create a new index from the output DataFrame."
   ]
  },
  {
   "cell_type": "code",
   "execution_count": 48,
   "id": "f04d1cea-f4aa-4177-ae24-0baeece4011d",
   "metadata": {
    "tags": []
   },
   "outputs": [
    {
     "data": {
      "text/html": [
       "<div>\n",
       "<style scoped>\n",
       "    .dataframe tbody tr th:only-of-type {\n",
       "        vertical-align: middle;\n",
       "    }\n",
       "\n",
       "    .dataframe tbody tr th {\n",
       "        vertical-align: top;\n",
       "    }\n",
       "\n",
       "    .dataframe thead th {\n",
       "        text-align: right;\n",
       "    }\n",
       "</style>\n",
       "<table border=\"1\" class=\"dataframe\">\n",
       "  <thead>\n",
       "    <tr style=\"text-align: right;\">\n",
       "      <th></th>\n",
       "      <th>Name</th>\n",
       "      <th>Grade</th>\n",
       "      <th>Year</th>\n",
       "      <th>Location</th>\n",
       "    </tr>\n",
       "  </thead>\n",
       "  <tbody>\n",
       "    <tr>\n",
       "      <th>0</th>\n",
       "      <td>Helen</td>\n",
       "      <td>NaN</td>\n",
       "      <td>Sophomore</td>\n",
       "      <td>NaN</td>\n",
       "    </tr>\n",
       "    <tr>\n",
       "      <th>1</th>\n",
       "      <td>Iris</td>\n",
       "      <td>10.0</td>\n",
       "      <td>Senior</td>\n",
       "      <td>NaN</td>\n",
       "    </tr>\n",
       "    <tr>\n",
       "      <th>2</th>\n",
       "      <td>Jimmy</td>\n",
       "      <td>8.0</td>\n",
       "      <td>Freshman</td>\n",
       "      <td>NaN</td>\n",
       "    </tr>\n",
       "    <tr>\n",
       "      <th>3</th>\n",
       "      <td>Karen</td>\n",
       "      <td>NaN</td>\n",
       "      <td>Freshman</td>\n",
       "      <td>NaN</td>\n",
       "    </tr>\n",
       "    <tr>\n",
       "      <th>4</th>\n",
       "      <td>Lynne</td>\n",
       "      <td>10.0</td>\n",
       "      <td>Sophomore</td>\n",
       "      <td>NaN</td>\n",
       "    </tr>\n",
       "    <tr>\n",
       "      <th>5</th>\n",
       "      <td>Mike</td>\n",
       "      <td>10.0</td>\n",
       "      <td>Sophomore</td>\n",
       "      <td>NaN</td>\n",
       "    </tr>\n",
       "    <tr>\n",
       "      <th>6</th>\n",
       "      <td>Nico</td>\n",
       "      <td>NaN</td>\n",
       "      <td>Junior</td>\n",
       "      <td>NaN</td>\n",
       "    </tr>\n",
       "    <tr>\n",
       "      <th>7</th>\n",
       "      <td>Pete</td>\n",
       "      <td>8.0</td>\n",
       "      <td>Freshman</td>\n",
       "      <td>NaN</td>\n",
       "    </tr>\n",
       "    <tr>\n",
       "      <th>8</th>\n",
       "      <td>Abby</td>\n",
       "      <td>7.0</td>\n",
       "      <td>Freshman</td>\n",
       "      <td>NY</td>\n",
       "    </tr>\n",
       "    <tr>\n",
       "      <th>9</th>\n",
       "      <td>Bob</td>\n",
       "      <td>9.0</td>\n",
       "      <td>Sophomore</td>\n",
       "      <td>CA</td>\n",
       "    </tr>\n",
       "    <tr>\n",
       "      <th>10</th>\n",
       "      <td>Chris</td>\n",
       "      <td>10.0</td>\n",
       "      <td>Senior</td>\n",
       "      <td>CA</td>\n",
       "    </tr>\n",
       "    <tr>\n",
       "      <th>11</th>\n",
       "      <td>Dave</td>\n",
       "      <td>8.0</td>\n",
       "      <td>Freshman</td>\n",
       "      <td>NY</td>\n",
       "    </tr>\n",
       "    <tr>\n",
       "      <th>12</th>\n",
       "      <td>Ellen</td>\n",
       "      <td>7.0</td>\n",
       "      <td>Sophomore</td>\n",
       "      <td>TX</td>\n",
       "    </tr>\n",
       "    <tr>\n",
       "      <th>13</th>\n",
       "      <td>Fran</td>\n",
       "      <td>10.0</td>\n",
       "      <td>Senior</td>\n",
       "      <td>FL</td>\n",
       "    </tr>\n",
       "    <tr>\n",
       "      <th>14</th>\n",
       "      <td>Greg</td>\n",
       "      <td>8.0</td>\n",
       "      <td>Freshman</td>\n",
       "      <td>NY</td>\n",
       "    </tr>\n",
       "  </tbody>\n",
       "</table>\n",
       "</div>"
      ],
      "text/plain": [
       "     Name  Grade       Year Location\n",
       "0   Helen    NaN  Sophomore      NaN\n",
       "1    Iris   10.0     Senior      NaN\n",
       "2   Jimmy    8.0   Freshman      NaN\n",
       "3   Karen    NaN   Freshman      NaN\n",
       "4   Lynne   10.0  Sophomore      NaN\n",
       "5    Mike   10.0  Sophomore      NaN\n",
       "6    Nico    NaN     Junior      NaN\n",
       "7    Pete    8.0   Freshman      NaN\n",
       "8    Abby    7.0   Freshman       NY\n",
       "9     Bob    9.0  Sophomore       CA\n",
       "10  Chris   10.0     Senior       CA\n",
       "11   Dave    8.0   Freshman       NY\n",
       "12  Ellen    7.0  Sophomore       TX\n",
       "13   Fran   10.0     Senior       FL\n",
       "14   Greg    8.0   Freshman       NY"
      ]
     },
     "execution_count": 48,
     "metadata": {},
     "output_type": "execute_result"
    }
   ],
   "source": [
    "students = pd.concat([campus_students, online_students], ignore_index=True)\n",
    "students"
   ]
  },
  {
   "cell_type": "markdown",
   "id": "c70e2453-124b-49aa-a47b-95cce2068055",
   "metadata": {},
   "source": [
    "#### merge() Example.\n",
    "\n",
    "The common use case for `merge()` is to combine two separate but dissimilar data sets into a single data set. These DataFrames **share a common column** so you can match the output of each DataFrame to the other on matching rows.\n"
   ]
  },
  {
   "cell_type": "code",
   "execution_count": 49,
   "id": "2e93dde4-1778-4c6d-9780-30738c27eb81",
   "metadata": {
    "tags": []
   },
   "outputs": [
    {
     "data": {
      "text/html": [
       "<div>\n",
       "<style scoped>\n",
       "    .dataframe tbody tr th:only-of-type {\n",
       "        vertical-align: middle;\n",
       "    }\n",
       "\n",
       "    .dataframe tbody tr th {\n",
       "        vertical-align: top;\n",
       "    }\n",
       "\n",
       "    .dataframe thead th {\n",
       "        text-align: right;\n",
       "    }\n",
       "</style>\n",
       "<table border=\"1\" class=\"dataframe\">\n",
       "  <thead>\n",
       "    <tr style=\"text-align: right;\">\n",
       "      <th></th>\n",
       "      <th>customer_id</th>\n",
       "      <th>firstname</th>\n",
       "      <th>lastname</th>\n",
       "    </tr>\n",
       "  </thead>\n",
       "  <tbody>\n",
       "    <tr>\n",
       "      <th>0</th>\n",
       "      <td>10</td>\n",
       "      <td>Abby</td>\n",
       "      <td>Kuss</td>\n",
       "    </tr>\n",
       "    <tr>\n",
       "      <th>1</th>\n",
       "      <td>20</td>\n",
       "      <td>Bette</td>\n",
       "      <td>Alott</td>\n",
       "    </tr>\n",
       "    <tr>\n",
       "      <th>2</th>\n",
       "      <td>30</td>\n",
       "      <td>Chris</td>\n",
       "      <td>Peanugget</td>\n",
       "    </tr>\n",
       "    <tr>\n",
       "      <th>3</th>\n",
       "      <td>40</td>\n",
       "      <td>Don</td>\n",
       "      <td>Atello</td>\n",
       "    </tr>\n",
       "  </tbody>\n",
       "</table>\n",
       "</div>"
      ],
      "text/plain": [
       "   customer_id  firstname   lastname\n",
       "0           10       Abby       Kuss\n",
       "1           20      Bette      Alott\n",
       "2           30      Chris  Peanugget\n",
       "3           40        Don     Atello"
      ]
     },
     "execution_count": 49,
     "metadata": {},
     "output_type": "execute_result"
    }
   ],
   "source": [
    "customers = pd.read_csv(\"https://raw.githubusercontent.com/mafudge/datasets/master/delimited/customers.csv\")\n",
    "customers"
   ]
  },
  {
   "cell_type": "code",
   "execution_count": 50,
   "id": "80ca13b9-b177-40b3-bdbd-1ad2ca0ad83f",
   "metadata": {
    "tags": []
   },
   "outputs": [
    {
     "data": {
      "text/html": [
       "<div>\n",
       "<style scoped>\n",
       "    .dataframe tbody tr th:only-of-type {\n",
       "        vertical-align: middle;\n",
       "    }\n",
       "\n",
       "    .dataframe tbody tr th {\n",
       "        vertical-align: top;\n",
       "    }\n",
       "\n",
       "    .dataframe thead th {\n",
       "        text-align: right;\n",
       "    }\n",
       "</style>\n",
       "<table border=\"1\" class=\"dataframe\">\n",
       "  <thead>\n",
       "    <tr style=\"text-align: right;\">\n",
       "      <th></th>\n",
       "      <th>order_id</th>\n",
       "      <th>order_customer_id</th>\n",
       "      <th>item</th>\n",
       "      <th>price</th>\n",
       "      <th>qty</th>\n",
       "    </tr>\n",
       "  </thead>\n",
       "  <tbody>\n",
       "    <tr>\n",
       "      <th>0</th>\n",
       "      <td>1001</td>\n",
       "      <td>10</td>\n",
       "      <td>T-Shirt</td>\n",
       "      <td>10</td>\n",
       "      <td>3</td>\n",
       "    </tr>\n",
       "    <tr>\n",
       "      <th>1</th>\n",
       "      <td>1002</td>\n",
       "      <td>10</td>\n",
       "      <td>Jacket</td>\n",
       "      <td>20</td>\n",
       "      <td>1</td>\n",
       "    </tr>\n",
       "    <tr>\n",
       "      <th>2</th>\n",
       "      <td>1003</td>\n",
       "      <td>20</td>\n",
       "      <td>Shoes</td>\n",
       "      <td>25</td>\n",
       "      <td>1</td>\n",
       "    </tr>\n",
       "    <tr>\n",
       "      <th>3</th>\n",
       "      <td>1004</td>\n",
       "      <td>20</td>\n",
       "      <td>Jacket</td>\n",
       "      <td>20</td>\n",
       "      <td>1</td>\n",
       "    </tr>\n",
       "    <tr>\n",
       "      <th>4</th>\n",
       "      <td>1005</td>\n",
       "      <td>30</td>\n",
       "      <td>T-Shirt</td>\n",
       "      <td>10</td>\n",
       "      <td>1</td>\n",
       "    </tr>\n",
       "  </tbody>\n",
       "</table>\n",
       "</div>"
      ],
      "text/plain": [
       "   order_id  order_customer_id     item  price  qty\n",
       "0      1001                 10  T-Shirt     10    3\n",
       "1      1002                 10   Jacket     20    1\n",
       "2      1003                 20    Shoes     25    1\n",
       "3      1004                 20   Jacket     20    1\n",
       "4      1005                 30  T-Shirt     10    1"
      ]
     },
     "execution_count": 50,
     "metadata": {},
     "output_type": "execute_result"
    }
   ],
   "source": [
    "orders = pd.read_csv(\"https://raw.githubusercontent.com/mafudge/datasets/master/delimited/orders.csv\")\n",
    "orders"
   ]
  },
  {
   "cell_type": "markdown",
   "id": "57534a65-1019-4073-97bf-fc7fe05ba42c",
   "metadata": {},
   "source": [
    "For the `customers` and `orders` DataFrames we want to combine them together so that each customer is matched to their order. In this case the common column in both DataFrames is `customer_id` (from `customers`) and `order_customer_id` (from `orders`). \n",
    "\n",
    "To perform the merge we need at least 4 named arguments are as follows:\n",
    "\n",
    "- `left` the DataFrame on the left.\n",
    "- `right` the DataFrame on the right.\n",
    "- `left_on` - the column from the `left` dataframe to match \n",
    "- `right_on` - the column from the `right` dataframe to match "
   ]
  },
  {
   "cell_type": "code",
   "execution_count": 51,
   "id": "e6d82b84-9423-4635-9f0c-497737f2d790",
   "metadata": {
    "tags": []
   },
   "outputs": [
    {
     "data": {
      "text/html": [
       "<div>\n",
       "<style scoped>\n",
       "    .dataframe tbody tr th:only-of-type {\n",
       "        vertical-align: middle;\n",
       "    }\n",
       "\n",
       "    .dataframe tbody tr th {\n",
       "        vertical-align: top;\n",
       "    }\n",
       "\n",
       "    .dataframe thead th {\n",
       "        text-align: right;\n",
       "    }\n",
       "</style>\n",
       "<table border=\"1\" class=\"dataframe\">\n",
       "  <thead>\n",
       "    <tr style=\"text-align: right;\">\n",
       "      <th></th>\n",
       "      <th>customer_id</th>\n",
       "      <th>firstname</th>\n",
       "      <th>lastname</th>\n",
       "      <th>order_id</th>\n",
       "      <th>order_customer_id</th>\n",
       "      <th>item</th>\n",
       "      <th>price</th>\n",
       "      <th>qty</th>\n",
       "    </tr>\n",
       "  </thead>\n",
       "  <tbody>\n",
       "    <tr>\n",
       "      <th>0</th>\n",
       "      <td>10</td>\n",
       "      <td>Abby</td>\n",
       "      <td>Kuss</td>\n",
       "      <td>1001</td>\n",
       "      <td>10</td>\n",
       "      <td>T-Shirt</td>\n",
       "      <td>10</td>\n",
       "      <td>3</td>\n",
       "    </tr>\n",
       "    <tr>\n",
       "      <th>1</th>\n",
       "      <td>10</td>\n",
       "      <td>Abby</td>\n",
       "      <td>Kuss</td>\n",
       "      <td>1002</td>\n",
       "      <td>10</td>\n",
       "      <td>Jacket</td>\n",
       "      <td>20</td>\n",
       "      <td>1</td>\n",
       "    </tr>\n",
       "    <tr>\n",
       "      <th>2</th>\n",
       "      <td>20</td>\n",
       "      <td>Bette</td>\n",
       "      <td>Alott</td>\n",
       "      <td>1003</td>\n",
       "      <td>20</td>\n",
       "      <td>Shoes</td>\n",
       "      <td>25</td>\n",
       "      <td>1</td>\n",
       "    </tr>\n",
       "    <tr>\n",
       "      <th>3</th>\n",
       "      <td>20</td>\n",
       "      <td>Bette</td>\n",
       "      <td>Alott</td>\n",
       "      <td>1004</td>\n",
       "      <td>20</td>\n",
       "      <td>Jacket</td>\n",
       "      <td>20</td>\n",
       "      <td>1</td>\n",
       "    </tr>\n",
       "    <tr>\n",
       "      <th>4</th>\n",
       "      <td>30</td>\n",
       "      <td>Chris</td>\n",
       "      <td>Peanugget</td>\n",
       "      <td>1005</td>\n",
       "      <td>30</td>\n",
       "      <td>T-Shirt</td>\n",
       "      <td>10</td>\n",
       "      <td>1</td>\n",
       "    </tr>\n",
       "  </tbody>\n",
       "</table>\n",
       "</div>"
      ],
      "text/plain": [
       "   customer_id  firstname   lastname  order_id  order_customer_id     item  \\\n",
       "0           10       Abby       Kuss      1001                 10  T-Shirt   \n",
       "1           10       Abby       Kuss      1002                 10   Jacket   \n",
       "2           20      Bette      Alott      1003                 20    Shoes   \n",
       "3           20      Bette      Alott      1004                 20   Jacket   \n",
       "4           30      Chris  Peanugget      1005                 30  T-Shirt   \n",
       "\n",
       "   price  qty  \n",
       "0     10    3  \n",
       "1     20    1  \n",
       "2     25    1  \n",
       "3     20    1  \n",
       "4     10    1  "
      ]
     },
     "execution_count": 51,
     "metadata": {},
     "output_type": "execute_result"
    }
   ],
   "source": [
    "combined = pd.merge(left=customers, right=orders, left_on=\"customer_id\", right_on=\"order_customer_id\")\n",
    "combined"
   ]
  },
  {
   "cell_type": "markdown",
   "id": "e5784cce-dbae-4a0e-bce2-8e5f537de41e",
   "metadata": {},
   "source": [
    "#### Left and Right are relative\n",
    "\n",
    "Of course left and right are relative, as we need to know which dataframe we are referring to as part of the merge. For example this is the same merge:"
   ]
  },
  {
   "cell_type": "code",
   "execution_count": 52,
   "id": "6a0869aa-539d-40e1-aefd-30f1c4bc40b4",
   "metadata": {
    "tags": []
   },
   "outputs": [
    {
     "data": {
      "text/html": [
       "<div>\n",
       "<style scoped>\n",
       "    .dataframe tbody tr th:only-of-type {\n",
       "        vertical-align: middle;\n",
       "    }\n",
       "\n",
       "    .dataframe tbody tr th {\n",
       "        vertical-align: top;\n",
       "    }\n",
       "\n",
       "    .dataframe thead th {\n",
       "        text-align: right;\n",
       "    }\n",
       "</style>\n",
       "<table border=\"1\" class=\"dataframe\">\n",
       "  <thead>\n",
       "    <tr style=\"text-align: right;\">\n",
       "      <th></th>\n",
       "      <th>order_id</th>\n",
       "      <th>order_customer_id</th>\n",
       "      <th>item</th>\n",
       "      <th>price</th>\n",
       "      <th>qty</th>\n",
       "      <th>customer_id</th>\n",
       "      <th>firstname</th>\n",
       "      <th>lastname</th>\n",
       "    </tr>\n",
       "  </thead>\n",
       "  <tbody>\n",
       "    <tr>\n",
       "      <th>0</th>\n",
       "      <td>1001</td>\n",
       "      <td>10</td>\n",
       "      <td>T-Shirt</td>\n",
       "      <td>10</td>\n",
       "      <td>3</td>\n",
       "      <td>10</td>\n",
       "      <td>Abby</td>\n",
       "      <td>Kuss</td>\n",
       "    </tr>\n",
       "    <tr>\n",
       "      <th>1</th>\n",
       "      <td>1002</td>\n",
       "      <td>10</td>\n",
       "      <td>Jacket</td>\n",
       "      <td>20</td>\n",
       "      <td>1</td>\n",
       "      <td>10</td>\n",
       "      <td>Abby</td>\n",
       "      <td>Kuss</td>\n",
       "    </tr>\n",
       "    <tr>\n",
       "      <th>2</th>\n",
       "      <td>1003</td>\n",
       "      <td>20</td>\n",
       "      <td>Shoes</td>\n",
       "      <td>25</td>\n",
       "      <td>1</td>\n",
       "      <td>20</td>\n",
       "      <td>Bette</td>\n",
       "      <td>Alott</td>\n",
       "    </tr>\n",
       "    <tr>\n",
       "      <th>3</th>\n",
       "      <td>1004</td>\n",
       "      <td>20</td>\n",
       "      <td>Jacket</td>\n",
       "      <td>20</td>\n",
       "      <td>1</td>\n",
       "      <td>20</td>\n",
       "      <td>Bette</td>\n",
       "      <td>Alott</td>\n",
       "    </tr>\n",
       "    <tr>\n",
       "      <th>4</th>\n",
       "      <td>1005</td>\n",
       "      <td>30</td>\n",
       "      <td>T-Shirt</td>\n",
       "      <td>10</td>\n",
       "      <td>1</td>\n",
       "      <td>30</td>\n",
       "      <td>Chris</td>\n",
       "      <td>Peanugget</td>\n",
       "    </tr>\n",
       "  </tbody>\n",
       "</table>\n",
       "</div>"
      ],
      "text/plain": [
       "   order_id  order_customer_id     item  price  qty  customer_id  firstname  \\\n",
       "0      1001                 10  T-Shirt     10    3           10       Abby   \n",
       "1      1002                 10   Jacket     20    1           10       Abby   \n",
       "2      1003                 20    Shoes     25    1           20      Bette   \n",
       "3      1004                 20   Jacket     20    1           20      Bette   \n",
       "4      1005                 30  T-Shirt     10    1           30      Chris   \n",
       "\n",
       "    lastname  \n",
       "0       Kuss  \n",
       "1       Kuss  \n",
       "2      Alott  \n",
       "3      Alott  \n",
       "4  Peanugget  "
      ]
     },
     "execution_count": 52,
     "metadata": {},
     "output_type": "execute_result"
    }
   ],
   "source": [
    "combined = pd.merge(left=orders, right=customers, left_on=\"order_customer_id\", right_on=\"customer_id\")\n",
    "combined"
   ]
  },
  {
   "cell_type": "markdown",
   "id": "2cdc87ed-42e4-4916-8428-2186b073349d",
   "metadata": {},
   "source": [
    "### 2.E Generating Columns, Lambdas and the apply() function\n",
    "\n",
    "In this section we demonstrate how to derive new columns in the DataFrame from the existing data.\n"
   ]
  },
  {
   "cell_type": "code",
   "execution_count": 53,
   "id": "8499f4e2-4416-4277-b124-8f6917182efb",
   "metadata": {
    "tags": []
   },
   "outputs": [
    {
     "data": {
      "text/html": [
       "<div>\n",
       "<style scoped>\n",
       "    .dataframe tbody tr th:only-of-type {\n",
       "        vertical-align: middle;\n",
       "    }\n",
       "\n",
       "    .dataframe tbody tr th {\n",
       "        vertical-align: top;\n",
       "    }\n",
       "\n",
       "    .dataframe thead th {\n",
       "        text-align: right;\n",
       "    }\n",
       "</style>\n",
       "<table border=\"1\" class=\"dataframe\">\n",
       "  <thead>\n",
       "    <tr style=\"text-align: right;\">\n",
       "      <th></th>\n",
       "      <th>Name</th>\n",
       "      <th>GPA</th>\n",
       "      <th>Year</th>\n",
       "    </tr>\n",
       "  </thead>\n",
       "  <tbody>\n",
       "    <tr>\n",
       "      <th>0</th>\n",
       "      <td>Allen</td>\n",
       "      <td>4.0</td>\n",
       "      <td>So</td>\n",
       "    </tr>\n",
       "    <tr>\n",
       "      <th>1</th>\n",
       "      <td>Bob</td>\n",
       "      <td>NaN</td>\n",
       "      <td>Fr</td>\n",
       "    </tr>\n",
       "    <tr>\n",
       "      <th>2</th>\n",
       "      <td>Chris</td>\n",
       "      <td>3.4</td>\n",
       "      <td>Fr</td>\n",
       "    </tr>\n",
       "    <tr>\n",
       "      <th>3</th>\n",
       "      <td>Dave</td>\n",
       "      <td>2.8</td>\n",
       "      <td>Jr</td>\n",
       "    </tr>\n",
       "    <tr>\n",
       "      <th>4</th>\n",
       "      <td>Ed</td>\n",
       "      <td>2.5</td>\n",
       "      <td>Sr</td>\n",
       "    </tr>\n",
       "    <tr>\n",
       "      <th>5</th>\n",
       "      <td>Frank</td>\n",
       "      <td>3.8</td>\n",
       "      <td>Sr</td>\n",
       "    </tr>\n",
       "    <tr>\n",
       "      <th>6</th>\n",
       "      <td>Gus</td>\n",
       "      <td>3.0</td>\n",
       "      <td>Fr</td>\n",
       "    </tr>\n",
       "  </tbody>\n",
       "</table>\n",
       "</div>"
      ],
      "text/plain": [
       "    Name  GPA Year\n",
       "0  Allen  4.0   So\n",
       "1    Bob  NaN   Fr\n",
       "2  Chris  3.4   Fr\n",
       "3   Dave  2.8   Jr\n",
       "4     Ed  2.5   Sr\n",
       "5  Frank  3.8   Sr\n",
       "6    Gus  3.0   Fr"
      ]
     },
     "execution_count": 53,
     "metadata": {},
     "output_type": "execute_result"
    }
   ],
   "source": [
    "data_dict = { \n",
    "    'Name':  ['Allen','Bob','Chris','Dave','Ed','Frank','Gus'], \n",
    "    'GPA': [4.0, np.nan, 3.4, 2.8, 2.5, 3.8, 3.0], \n",
    "    'Year' : ['So', 'Fr', 'Fr', 'Jr', 'Sr', 'Sr', 'Fr'] } \n",
    "students = pd.DataFrame( data_dict )\n",
    "students"
   ]
  },
  {
   "cell_type": "markdown",
   "id": "b48ec7d2-21a7-4639-9a9f-d6af53ea4694",
   "metadata": {
    "tags": []
   },
   "source": [
    "#### Column generation\n",
    "\n",
    "Pandas allows us to create new columns from existing data. This is simple to do when the values are constants or simple formulas.\n",
    "\n",
    "This adds a column `\"MaxGPA\"` with the set value of `4.0` for every value in the series."
   ]
  },
  {
   "cell_type": "code",
   "execution_count": 54,
   "id": "bc6d7b0d-9d7d-4ce4-907a-8b035018f2d3",
   "metadata": {
    "tags": []
   },
   "outputs": [
    {
     "data": {
      "text/html": [
       "<div>\n",
       "<style scoped>\n",
       "    .dataframe tbody tr th:only-of-type {\n",
       "        vertical-align: middle;\n",
       "    }\n",
       "\n",
       "    .dataframe tbody tr th {\n",
       "        vertical-align: top;\n",
       "    }\n",
       "\n",
       "    .dataframe thead th {\n",
       "        text-align: right;\n",
       "    }\n",
       "</style>\n",
       "<table border=\"1\" class=\"dataframe\">\n",
       "  <thead>\n",
       "    <tr style=\"text-align: right;\">\n",
       "      <th></th>\n",
       "      <th>Name</th>\n",
       "      <th>GPA</th>\n",
       "      <th>Year</th>\n",
       "      <th>MaxGPA</th>\n",
       "    </tr>\n",
       "  </thead>\n",
       "  <tbody>\n",
       "    <tr>\n",
       "      <th>0</th>\n",
       "      <td>Allen</td>\n",
       "      <td>4.0</td>\n",
       "      <td>So</td>\n",
       "      <td>4.0</td>\n",
       "    </tr>\n",
       "    <tr>\n",
       "      <th>1</th>\n",
       "      <td>Bob</td>\n",
       "      <td>NaN</td>\n",
       "      <td>Fr</td>\n",
       "      <td>4.0</td>\n",
       "    </tr>\n",
       "    <tr>\n",
       "      <th>2</th>\n",
       "      <td>Chris</td>\n",
       "      <td>3.4</td>\n",
       "      <td>Fr</td>\n",
       "      <td>4.0</td>\n",
       "    </tr>\n",
       "    <tr>\n",
       "      <th>3</th>\n",
       "      <td>Dave</td>\n",
       "      <td>2.8</td>\n",
       "      <td>Jr</td>\n",
       "      <td>4.0</td>\n",
       "    </tr>\n",
       "    <tr>\n",
       "      <th>4</th>\n",
       "      <td>Ed</td>\n",
       "      <td>2.5</td>\n",
       "      <td>Sr</td>\n",
       "      <td>4.0</td>\n",
       "    </tr>\n",
       "    <tr>\n",
       "      <th>5</th>\n",
       "      <td>Frank</td>\n",
       "      <td>3.8</td>\n",
       "      <td>Sr</td>\n",
       "      <td>4.0</td>\n",
       "    </tr>\n",
       "    <tr>\n",
       "      <th>6</th>\n",
       "      <td>Gus</td>\n",
       "      <td>3.0</td>\n",
       "      <td>Fr</td>\n",
       "      <td>4.0</td>\n",
       "    </tr>\n",
       "  </tbody>\n",
       "</table>\n",
       "</div>"
      ],
      "text/plain": [
       "    Name  GPA Year  MaxGPA\n",
       "0  Allen  4.0   So     4.0\n",
       "1    Bob  NaN   Fr     4.0\n",
       "2  Chris  3.4   Fr     4.0\n",
       "3   Dave  2.8   Jr     4.0\n",
       "4     Ed  2.5   Sr     4.0\n",
       "5  Frank  3.8   Sr     4.0\n",
       "6    Gus  3.0   Fr     4.0"
      ]
     },
     "execution_count": 54,
     "metadata": {},
     "output_type": "execute_result"
    }
   ],
   "source": [
    "students[\"MaxGPA\"] = 4.0\n",
    "students"
   ]
  },
  {
   "cell_type": "markdown",
   "id": "42b44bcd-bf36-4b12-a933-12b85ab8fff5",
   "metadata": {},
   "source": [
    "This creates a calculated column `\"DiffGPA\"` which is the difference between two columns:"
   ]
  },
  {
   "cell_type": "code",
   "execution_count": 55,
   "id": "3e1478a7-2827-4ecb-961a-a18980ed0400",
   "metadata": {
    "tags": []
   },
   "outputs": [
    {
     "data": {
      "text/html": [
       "<div>\n",
       "<style scoped>\n",
       "    .dataframe tbody tr th:only-of-type {\n",
       "        vertical-align: middle;\n",
       "    }\n",
       "\n",
       "    .dataframe tbody tr th {\n",
       "        vertical-align: top;\n",
       "    }\n",
       "\n",
       "    .dataframe thead th {\n",
       "        text-align: right;\n",
       "    }\n",
       "</style>\n",
       "<table border=\"1\" class=\"dataframe\">\n",
       "  <thead>\n",
       "    <tr style=\"text-align: right;\">\n",
       "      <th></th>\n",
       "      <th>Name</th>\n",
       "      <th>GPA</th>\n",
       "      <th>Year</th>\n",
       "      <th>MaxGPA</th>\n",
       "      <th>DiffGPA</th>\n",
       "    </tr>\n",
       "  </thead>\n",
       "  <tbody>\n",
       "    <tr>\n",
       "      <th>0</th>\n",
       "      <td>Allen</td>\n",
       "      <td>4.0</td>\n",
       "      <td>So</td>\n",
       "      <td>4.0</td>\n",
       "      <td>0.0</td>\n",
       "    </tr>\n",
       "    <tr>\n",
       "      <th>1</th>\n",
       "      <td>Bob</td>\n",
       "      <td>NaN</td>\n",
       "      <td>Fr</td>\n",
       "      <td>4.0</td>\n",
       "      <td>NaN</td>\n",
       "    </tr>\n",
       "    <tr>\n",
       "      <th>2</th>\n",
       "      <td>Chris</td>\n",
       "      <td>3.4</td>\n",
       "      <td>Fr</td>\n",
       "      <td>4.0</td>\n",
       "      <td>0.6</td>\n",
       "    </tr>\n",
       "    <tr>\n",
       "      <th>3</th>\n",
       "      <td>Dave</td>\n",
       "      <td>2.8</td>\n",
       "      <td>Jr</td>\n",
       "      <td>4.0</td>\n",
       "      <td>1.2</td>\n",
       "    </tr>\n",
       "    <tr>\n",
       "      <th>4</th>\n",
       "      <td>Ed</td>\n",
       "      <td>2.5</td>\n",
       "      <td>Sr</td>\n",
       "      <td>4.0</td>\n",
       "      <td>1.5</td>\n",
       "    </tr>\n",
       "    <tr>\n",
       "      <th>5</th>\n",
       "      <td>Frank</td>\n",
       "      <td>3.8</td>\n",
       "      <td>Sr</td>\n",
       "      <td>4.0</td>\n",
       "      <td>0.2</td>\n",
       "    </tr>\n",
       "    <tr>\n",
       "      <th>6</th>\n",
       "      <td>Gus</td>\n",
       "      <td>3.0</td>\n",
       "      <td>Fr</td>\n",
       "      <td>4.0</td>\n",
       "      <td>1.0</td>\n",
       "    </tr>\n",
       "  </tbody>\n",
       "</table>\n",
       "</div>"
      ],
      "text/plain": [
       "    Name  GPA Year  MaxGPA  DiffGPA\n",
       "0  Allen  4.0   So     4.0      0.0\n",
       "1    Bob  NaN   Fr     4.0      NaN\n",
       "2  Chris  3.4   Fr     4.0      0.6\n",
       "3   Dave  2.8   Jr     4.0      1.2\n",
       "4     Ed  2.5   Sr     4.0      1.5\n",
       "5  Frank  3.8   Sr     4.0      0.2\n",
       "6    Gus  3.0   Fr     4.0      1.0"
      ]
     },
     "execution_count": 55,
     "metadata": {},
     "output_type": "execute_result"
    }
   ],
   "source": [
    "students[\"DiffGPA\"] = students[\"MaxGPA\"] - students[\"GPA\"]\n",
    "students"
   ]
  },
  {
   "cell_type": "markdown",
   "id": "fd877660-19e1-4eef-b171-f7eb602b7590",
   "metadata": {
    "tags": []
   },
   "source": [
    "#### Lambda Functions\n",
    "\n",
    "For more complex logic, a user-defined function can be created and then executed for each value using the `apply()` method function.\n",
    "\n",
    "For example, consider the following function code to calculate whether an input GPA is on the deans list >=3.4:"
   ]
  },
  {
   "cell_type": "code",
   "execution_count": 56,
   "id": "386ce5e5-030d-44e5-ae4c-b3ad69ca0136",
   "metadata": {
    "tags": []
   },
   "outputs": [
    {
     "data": {
      "text/plain": [
       "'Yes'"
      ]
     },
     "execution_count": 56,
     "metadata": {},
     "output_type": "execute_result"
    }
   ],
   "source": [
    "def deans_list(gpa: float) -> str:\n",
    "    if gpa >= 3.4:\n",
    "        return \"Yes\"\n",
    "    else:\n",
    "        return \"No\"\n",
    "    \n",
    "deans_list(3.4)"
   ]
  },
  {
   "cell_type": "markdown",
   "id": "e2e5eb5e-3509-40c5-9855-308e476cbe1c",
   "metadata": {},
   "source": [
    "Here's how we use the function with the `apply()` method to create a new Pandas column, breaking it down:\n",
    "\n",
    "- `apply()` operates on a DataFrame, in this case `students`.\n",
    "- `apply()` returns a Series, which we add to the column `\"DeansList\"`\n",
    "- `lambda row:` is a way of saying \"do this for each row\"\n",
    "- `row` becomes an iterator of `dict` of values in each row. For example in the first row (index=0) `row['Name'] == 'Allen'` and `row['GPA'] == 4.0`\n",
    "- `axis=1` tells `apply()` to loop over rows. This is almost always what we want."
   ]
  },
  {
   "cell_type": "code",
   "execution_count": 57,
   "id": "9bec1cdc-08ce-4d52-97ad-4f32f891c3da",
   "metadata": {
    "tags": []
   },
   "outputs": [
    {
     "data": {
      "text/html": [
       "<div>\n",
       "<style scoped>\n",
       "    .dataframe tbody tr th:only-of-type {\n",
       "        vertical-align: middle;\n",
       "    }\n",
       "\n",
       "    .dataframe tbody tr th {\n",
       "        vertical-align: top;\n",
       "    }\n",
       "\n",
       "    .dataframe thead th {\n",
       "        text-align: right;\n",
       "    }\n",
       "</style>\n",
       "<table border=\"1\" class=\"dataframe\">\n",
       "  <thead>\n",
       "    <tr style=\"text-align: right;\">\n",
       "      <th></th>\n",
       "      <th>Name</th>\n",
       "      <th>GPA</th>\n",
       "      <th>Year</th>\n",
       "      <th>MaxGPA</th>\n",
       "      <th>DiffGPA</th>\n",
       "      <th>DeansList</th>\n",
       "    </tr>\n",
       "  </thead>\n",
       "  <tbody>\n",
       "    <tr>\n",
       "      <th>0</th>\n",
       "      <td>Allen</td>\n",
       "      <td>4.0</td>\n",
       "      <td>So</td>\n",
       "      <td>4.0</td>\n",
       "      <td>0.0</td>\n",
       "      <td>Yes</td>\n",
       "    </tr>\n",
       "    <tr>\n",
       "      <th>1</th>\n",
       "      <td>Bob</td>\n",
       "      <td>NaN</td>\n",
       "      <td>Fr</td>\n",
       "      <td>4.0</td>\n",
       "      <td>NaN</td>\n",
       "      <td>No</td>\n",
       "    </tr>\n",
       "    <tr>\n",
       "      <th>2</th>\n",
       "      <td>Chris</td>\n",
       "      <td>3.4</td>\n",
       "      <td>Fr</td>\n",
       "      <td>4.0</td>\n",
       "      <td>0.6</td>\n",
       "      <td>Yes</td>\n",
       "    </tr>\n",
       "    <tr>\n",
       "      <th>3</th>\n",
       "      <td>Dave</td>\n",
       "      <td>2.8</td>\n",
       "      <td>Jr</td>\n",
       "      <td>4.0</td>\n",
       "      <td>1.2</td>\n",
       "      <td>No</td>\n",
       "    </tr>\n",
       "    <tr>\n",
       "      <th>4</th>\n",
       "      <td>Ed</td>\n",
       "      <td>2.5</td>\n",
       "      <td>Sr</td>\n",
       "      <td>4.0</td>\n",
       "      <td>1.5</td>\n",
       "      <td>No</td>\n",
       "    </tr>\n",
       "    <tr>\n",
       "      <th>5</th>\n",
       "      <td>Frank</td>\n",
       "      <td>3.8</td>\n",
       "      <td>Sr</td>\n",
       "      <td>4.0</td>\n",
       "      <td>0.2</td>\n",
       "      <td>Yes</td>\n",
       "    </tr>\n",
       "    <tr>\n",
       "      <th>6</th>\n",
       "      <td>Gus</td>\n",
       "      <td>3.0</td>\n",
       "      <td>Fr</td>\n",
       "      <td>4.0</td>\n",
       "      <td>1.0</td>\n",
       "      <td>No</td>\n",
       "    </tr>\n",
       "  </tbody>\n",
       "</table>\n",
       "</div>"
      ],
      "text/plain": [
       "    Name  GPA Year  MaxGPA  DiffGPA DeansList\n",
       "0  Allen  4.0   So     4.0      0.0       Yes\n",
       "1    Bob  NaN   Fr     4.0      NaN        No\n",
       "2  Chris  3.4   Fr     4.0      0.6       Yes\n",
       "3   Dave  2.8   Jr     4.0      1.2        No\n",
       "4     Ed  2.5   Sr     4.0      1.5        No\n",
       "5  Frank  3.8   Sr     4.0      0.2       Yes\n",
       "6    Gus  3.0   Fr     4.0      1.0        No"
      ]
     },
     "execution_count": 57,
     "metadata": {},
     "output_type": "execute_result"
    }
   ],
   "source": [
    "students['DeansList'] = students.apply(lambda row: deans_list(row['GPA']), axis=1)\n",
    "students"
   ]
  },
  {
   "cell_type": "markdown",
   "id": "26f36dad-06e0-448f-8cbc-3d8d082a5f4f",
   "metadata": {
    "tags": []
   },
   "source": [
    "### 2.F DataFrames as output\n",
    "\n",
    "Throughout most of this tutorial we have been echoing the DataFrame content to the Jupyter cell. In this section we discuss your options for rendering the DataFrame as output when part of a larger program."
   ]
  },
  {
   "cell_type": "code",
   "execution_count": 58,
   "id": "c8dd0126-dc9a-4940-96a1-6e8d7323ee48",
   "metadata": {},
   "outputs": [],
   "source": [
    "data_dict = { \n",
    "    'Name':  ['Allen','Bob','Chris','Dave','Ed','Frank','Gus'], \n",
    "    'GPA': [4.0, np.nan, 3.4, 2.8, 2.5, 3.8, 3.0], \n",
    "    'Year' : ['So', 'Fr', 'Fr', 'Jr', 'Sr', 'Sr', 'Fr'] } \n",
    "students = pd.DataFrame( data_dict )"
   ]
  },
  {
   "cell_type": "markdown",
   "id": "6fadcafb-a126-4b3e-bab6-13f316644bd0",
   "metadata": {},
   "source": [
    "#### Printing\n",
    "\n",
    "To output a dataframe in code, you can `print()` it. You'll get a text-based version of the dataframe. For example:"
   ]
  },
  {
   "cell_type": "code",
   "execution_count": 59,
   "id": "fc9f4e80-b46e-4391-a0c1-cda4a6b0960a",
   "metadata": {
    "tags": []
   },
   "outputs": [
    {
     "name": "stdin",
     "output_type": "stream",
     "text": [
      "How many students to display at random?  4\n"
     ]
    },
    {
     "name": "stdout",
     "output_type": "stream",
     "text": [
      "    Name  GPA Year\n",
      "1    Bob  NaN   Fr\n",
      "5  Frank  3.8   Sr\n",
      "2  Chris  3.4   Fr\n",
      "3   Dave  2.8   Jr\n"
     ]
    }
   ],
   "source": [
    "size = int(input(\"How many students to display at random? \"))\n",
    "random_students = students.sample(n=size)\n",
    "print(random_students)"
   ]
  },
  {
   "cell_type": "markdown",
   "id": "5a6252c8-1bfb-489e-8c9e-8ad0d38582bf",
   "metadata": {},
   "source": [
    "#### IPython.display\n",
    "\n",
    "To get a well-formatted dataframe you can pass it in as an argument to `IPython.display`. The same example:"
   ]
  },
  {
   "cell_type": "code",
   "execution_count": 60,
   "id": "65e0ec12-c4f4-469f-b8e6-98a2eb7cb9c4",
   "metadata": {
    "tags": []
   },
   "outputs": [
    {
     "data": {
      "application/vnd.jupyter.widget-view+json": {
       "model_id": "d5ad26bd44a040048b878ccf247c988f",
       "version_major": 2,
       "version_minor": 0
      },
      "text/plain": [
       "interactive(children=(IntSlider(value=4, description='size', max=7, min=1), Button(description='Run Interact',…"
      ]
     },
     "metadata": {},
     "output_type": "display_data"
    }
   ],
   "source": [
    "from IPython.display import display\n",
    "from ipywidgets import interact_manual\n",
    "max_students = len(students)\n",
    "@interact_manual(size=(1,max_students,1))\n",
    "def on_click(size):\n",
    "    random_students = students.sample(n=size)\n",
    "    display(random_students)"
   ]
  },
  {
   "cell_type": "code",
   "execution_count": null,
   "id": "afbe6629-f8fd-45af-bc24-8d2431cc90d3",
   "metadata": {},
   "outputs": [],
   "source": []
  },
  {
   "cell_type": "code",
   "execution_count": null,
   "id": "4f03c549-0151-4832-b0b5-e3a626260008",
   "metadata": {},
   "outputs": [],
   "source": []
  },
  {
   "cell_type": "code",
   "execution_count": null,
   "id": "844dbfba-04dc-4cd3-b9f7-437ecf9fbf2c",
   "metadata": {},
   "outputs": [],
   "source": []
  }
 ],
 "metadata": {
  "kernelspec": {
   "display_name": "Python 3 (ipykernel)",
   "language": "python",
   "name": "python3"
  },
  "language_info": {
   "codemirror_mode": {
    "name": "ipython",
    "version": 3
   },
   "file_extension": ".py",
   "mimetype": "text/x-python",
   "name": "python",
   "nbconvert_exporter": "python",
   "pygments_lexer": "ipython3",
   "version": "3.11.7"
  }
 },
 "nbformat": 4,
 "nbformat_minor": 5
}
