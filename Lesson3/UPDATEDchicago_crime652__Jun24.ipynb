{
 "cells": [
  {
   "cell_type": "markdown",
   "metadata": {
    "id": "5cAzf20c7_Kc"
   },
   "source": [
    "# Structured data analysis example\n",
    "\n",
    "This example will use subsets of a dataset of reported incidents of crime (with the exception of murders where data exists for each victim) that occurred in the City of Chicago in 2021. Source – Chicago data portal. URL https://data.cityofchicago.org/Public-Safety/Crimes-2021/dwme-t96c\n",
    "\n",
    "\n",
    "Only a portion of the data entries in the dataset will be used to illustrate how to work with structured data using Pandas.\n"
   ]
  },
  {
   "cell_type": "markdown",
   "metadata": {
    "id": "oAnk_Fzh7_Kf"
   },
   "source": [
    "### Let us begin by bringing in the libraries we are interested in using for this exercise. We are using pandas, numpy and Matplotlib. We have have set up the plots to render in our notebook by using *%matplotlib inline*."
   ]
  },
  {
   "cell_type": "code",
   "execution_count": 1,
   "metadata": {
    "id": "vRjd_vca7_Kf",
    "tags": []
   },
   "outputs": [],
   "source": [
    "%matplotlib inline\n",
    "\n",
    "import pandas as pd\n",
    "import numpy as np\n",
    "\n",
    "#import requests\n",
    "#from io import StringIO"
   ]
  },
  {
   "cell_type": "markdown",
   "metadata": {
    "id": "GNyEdX2E7_Kg"
   },
   "source": [
    "## Now to bring the data into our notebook. Our data set is a .csv file stored on the class server in the datasets folder. You are given the file path. We will get the data from a data repository (inside SU) and bring it into the notebook.\n",
    "\n",
    "## Read the data using *pd.read_csv* . This is a small version on the dataset we are bringing into our notebook.\n",
    "\n"
   ]
  },
  {
   "cell_type": "code",
   "execution_count": 2,
   "metadata": {
    "id": "bIIZ3t1t7_Kg",
    "tags": []
   },
   "outputs": [],
   "source": [
    "#Defining location of dataset\n",
    "filepath=\"/opt//datasets/ist652/Crimes/Crimes_small.csv\"\n",
    "\n",
    "crimes_small=pd.read_csv(filepath)"
   ]
  },
  {
   "cell_type": "markdown",
   "metadata": {
    "id": "bJvDJxrJ7_Kh"
   },
   "source": [
    "## Let's see the data from the CSV file looks like… we use the head function to get the top 5 rows.  There are 22 columns. This is a good point to go to the data source to see what these columns mean. See URL https://data.cityofchicago.org/Public-Safety/Crimes-2021/dwme-t96c"
   ]
  },
  {
   "cell_type": "code",
   "execution_count": 3,
   "metadata": {
    "id": "ldrUxYLG7_Kh",
    "outputId": "688d2e57-2a83-406f-9bdd-167b9dd57bb7",
    "tags": []
   },
   "outputs": [
    {
     "data": {
      "text/html": [
       "<div>\n",
       "<style scoped>\n",
       "    .dataframe tbody tr th:only-of-type {\n",
       "        vertical-align: middle;\n",
       "    }\n",
       "\n",
       "    .dataframe tbody tr th {\n",
       "        vertical-align: top;\n",
       "    }\n",
       "\n",
       "    .dataframe thead th {\n",
       "        text-align: right;\n",
       "    }\n",
       "</style>\n",
       "<table border=\"1\" class=\"dataframe\">\n",
       "  <thead>\n",
       "    <tr style=\"text-align: right;\">\n",
       "      <th></th>\n",
       "      <th>ID</th>\n",
       "      <th>Case Number</th>\n",
       "      <th>Date</th>\n",
       "      <th>Block</th>\n",
       "      <th>IUCR</th>\n",
       "      <th>Primary Type</th>\n",
       "      <th>Description</th>\n",
       "      <th>Location Description</th>\n",
       "      <th>Arrest</th>\n",
       "      <th>Domestic</th>\n",
       "      <th>...</th>\n",
       "      <th>Ward</th>\n",
       "      <th>Community Area</th>\n",
       "      <th>FBI Code</th>\n",
       "      <th>X Coordinate</th>\n",
       "      <th>Y Coordinate</th>\n",
       "      <th>Year</th>\n",
       "      <th>Updated On</th>\n",
       "      <th>Latitude</th>\n",
       "      <th>Longitude</th>\n",
       "      <th>Location</th>\n",
       "    </tr>\n",
       "  </thead>\n",
       "  <tbody>\n",
       "    <tr>\n",
       "      <th>0</th>\n",
       "      <td>12571973</td>\n",
       "      <td>JE482457</td>\n",
       "      <td>12/19/2021 7:23</td>\n",
       "      <td>042XX S MOZART ST</td>\n",
       "      <td>460</td>\n",
       "      <td>BATTERY</td>\n",
       "      <td>SIMPLE</td>\n",
       "      <td>SIDEWALK</td>\n",
       "      <td>True</td>\n",
       "      <td>True</td>\n",
       "      <td>...</td>\n",
       "      <td>15</td>\n",
       "      <td>58</td>\n",
       "      <td>08B</td>\n",
       "      <td>1158067.0</td>\n",
       "      <td>1876425.0</td>\n",
       "      <td>2021</td>\n",
       "      <td>9/12/2022 16:45</td>\n",
       "      <td>41.816657</td>\n",
       "      <td>-87.695689</td>\n",
       "      <td>(41.81665685, -87.695688608)</td>\n",
       "    </tr>\n",
       "    <tr>\n",
       "      <th>1</th>\n",
       "      <td>12343475</td>\n",
       "      <td>JE202728</td>\n",
       "      <td>4/16/2021 20:45</td>\n",
       "      <td>056XX N RIDGE AVE</td>\n",
       "      <td>820</td>\n",
       "      <td>THEFT</td>\n",
       "      <td>$500 AND UNDER</td>\n",
       "      <td>OTHER (SPECIFY)</td>\n",
       "      <td>False</td>\n",
       "      <td>False</td>\n",
       "      <td>...</td>\n",
       "      <td>48</td>\n",
       "      <td>77</td>\n",
       "      <td>6</td>\n",
       "      <td>NaN</td>\n",
       "      <td>NaN</td>\n",
       "      <td>2021</td>\n",
       "      <td>4/23/2021 16:51</td>\n",
       "      <td>NaN</td>\n",
       "      <td>NaN</td>\n",
       "      <td>NaN</td>\n",
       "    </tr>\n",
       "    <tr>\n",
       "      <th>2</th>\n",
       "      <td>12602803</td>\n",
       "      <td>JF125633</td>\n",
       "      <td>10/21/2021 11:00</td>\n",
       "      <td>083XX S STONY ISLAND AVE</td>\n",
       "      <td>500E</td>\n",
       "      <td>OTHER OFFENSE</td>\n",
       "      <td>EAVESDROPPING</td>\n",
       "      <td>OTHER (SPECIFY)</td>\n",
       "      <td>False</td>\n",
       "      <td>False</td>\n",
       "      <td>...</td>\n",
       "      <td>8</td>\n",
       "      <td>45</td>\n",
       "      <td>26</td>\n",
       "      <td>1188260.0</td>\n",
       "      <td>1849805.0</td>\n",
       "      <td>2021</td>\n",
       "      <td>2/27/2022 15:46</td>\n",
       "      <td>41.742941</td>\n",
       "      <td>-87.585783</td>\n",
       "      <td>(41.74294124, -87.585783412)</td>\n",
       "    </tr>\n",
       "    <tr>\n",
       "      <th>3</th>\n",
       "      <td>12540388</td>\n",
       "      <td>JE444591</td>\n",
       "      <td>11/14/2021 6:00</td>\n",
       "      <td>086XX S COTTAGE GROVE AVE</td>\n",
       "      <td>850</td>\n",
       "      <td>THEFT</td>\n",
       "      <td>ATTEMPT THEFT</td>\n",
       "      <td>CONVENIENCE STORE</td>\n",
       "      <td>False</td>\n",
       "      <td>False</td>\n",
       "      <td>...</td>\n",
       "      <td>6</td>\n",
       "      <td>44</td>\n",
       "      <td>6</td>\n",
       "      <td>1183071.0</td>\n",
       "      <td>1847869.0</td>\n",
       "      <td>2021</td>\n",
       "      <td>11/21/2021 15:48</td>\n",
       "      <td>41.737751</td>\n",
       "      <td>-87.604856</td>\n",
       "      <td>(41.737750767, -87.604855911)</td>\n",
       "    </tr>\n",
       "    <tr>\n",
       "      <th>4</th>\n",
       "      <td>12541139</td>\n",
       "      <td>JE445494</td>\n",
       "      <td>11/14/2021 4:00</td>\n",
       "      <td>034XX W 38TH ST</td>\n",
       "      <td>486</td>\n",
       "      <td>BATTERY</td>\n",
       "      <td>DOMESTIC BATTERY SIMPLE</td>\n",
       "      <td>RESIDENCE</td>\n",
       "      <td>False</td>\n",
       "      <td>True</td>\n",
       "      <td>...</td>\n",
       "      <td>12</td>\n",
       "      <td>58</td>\n",
       "      <td>08B</td>\n",
       "      <td>1154073.0</td>\n",
       "      <td>1879187.0</td>\n",
       "      <td>2021</td>\n",
       "      <td>11/21/2021 15:48</td>\n",
       "      <td>41.824317</td>\n",
       "      <td>-87.710266</td>\n",
       "      <td>(41.824316537, -87.710266215)</td>\n",
       "    </tr>\n",
       "  </tbody>\n",
       "</table>\n",
       "<p>5 rows × 22 columns</p>\n",
       "</div>"
      ],
      "text/plain": [
       "         ID Case Number              Date                      Block  IUCR  \\\n",
       "0  12571973    JE482457   12/19/2021 7:23          042XX S MOZART ST   460   \n",
       "1  12343475    JE202728   4/16/2021 20:45          056XX N RIDGE AVE   820   \n",
       "2  12602803    JF125633  10/21/2021 11:00   083XX S STONY ISLAND AVE  500E   \n",
       "3  12540388    JE444591   11/14/2021 6:00  086XX S COTTAGE GROVE AVE   850   \n",
       "4  12541139    JE445494   11/14/2021 4:00            034XX W 38TH ST   486   \n",
       "\n",
       "    Primary Type              Description Location Description  Arrest  \\\n",
       "0        BATTERY                   SIMPLE             SIDEWALK    True   \n",
       "1          THEFT           $500 AND UNDER      OTHER (SPECIFY)   False   \n",
       "2  OTHER OFFENSE            EAVESDROPPING      OTHER (SPECIFY)   False   \n",
       "3          THEFT            ATTEMPT THEFT    CONVENIENCE STORE   False   \n",
       "4        BATTERY  DOMESTIC BATTERY SIMPLE            RESIDENCE   False   \n",
       "\n",
       "   Domestic  ...  Ward  Community Area  FBI Code  X Coordinate Y Coordinate  \\\n",
       "0      True  ...    15              58       08B     1158067.0    1876425.0   \n",
       "1     False  ...    48              77         6           NaN          NaN   \n",
       "2     False  ...     8              45        26     1188260.0    1849805.0   \n",
       "3     False  ...     6              44         6     1183071.0    1847869.0   \n",
       "4      True  ...    12              58       08B     1154073.0    1879187.0   \n",
       "\n",
       "   Year        Updated On   Latitude  Longitude                       Location  \n",
       "0  2021   9/12/2022 16:45  41.816657 -87.695689   (41.81665685, -87.695688608)  \n",
       "1  2021   4/23/2021 16:51        NaN        NaN                            NaN  \n",
       "2  2021   2/27/2022 15:46  41.742941 -87.585783   (41.74294124, -87.585783412)  \n",
       "3  2021  11/21/2021 15:48  41.737751 -87.604856  (41.737750767, -87.604855911)  \n",
       "4  2021  11/21/2021 15:48  41.824317 -87.710266  (41.824316537, -87.710266215)  \n",
       "\n",
       "[5 rows x 22 columns]"
      ]
     },
     "execution_count": 3,
     "metadata": {},
     "output_type": "execute_result"
    }
   ],
   "source": [
    "crimes_small.head()"
   ]
  },
  {
   "cell_type": "markdown",
   "metadata": {
    "id": "EHoGHOlD7_Ki"
   },
   "source": [
    "# DATE DATATYPE AND SETTING INDEXES"
   ]
  },
  {
   "cell_type": "markdown",
   "metadata": {
    "id": "OQrQ7PZH7_Ki"
   },
   "source": [
    "## To get more infomation on the dataframe we use the *.info()* function. Inspect the data types."
   ]
  },
  {
   "cell_type": "code",
   "execution_count": null,
   "metadata": {
    "id": "7S4wgdaj7_Ki",
    "outputId": "7c307329-b5ad-42c9-8b63-7312cfbdc2b4"
   },
   "outputs": [
    {
     "name": "stdout",
     "output_type": "stream",
     "text": [
      "<class 'pandas.core.frame.DataFrame'>\n",
      "RangeIndex: 9 entries, 0 to 8\n",
      "Data columns (total 22 columns):\n",
      " #   Column                Non-Null Count  Dtype  \n",
      "---  ------                --------------  -----  \n",
      " 0   ID                    9 non-null      int64  \n",
      " 1   Case Number           9 non-null      object \n",
      " 2   Date                  9 non-null      object \n",
      " 3   Block                 9 non-null      object \n",
      " 4   IUCR                  9 non-null      object \n",
      " 5   Primary Type          9 non-null      object \n",
      " 6   Description           9 non-null      object \n",
      " 7   Location Description  9 non-null      object \n",
      " 8   Arrest                9 non-null      bool   \n",
      " 9   Domestic              9 non-null      bool   \n",
      " 10  Beat                  9 non-null      int64  \n",
      " 11  District              9 non-null      int64  \n",
      " 12  Ward                  9 non-null      int64  \n",
      " 13  Community Area        9 non-null      int64  \n",
      " 14  FBI Code              9 non-null      object \n",
      " 15  X Coordinate          8 non-null      float64\n",
      " 16  Y Coordinate          8 non-null      float64\n",
      " 17  Year                  9 non-null      int64  \n",
      " 18  Updated On            9 non-null      object \n",
      " 19  Latitude              8 non-null      float64\n",
      " 20  Longitude             8 non-null      float64\n",
      " 21  Location              8 non-null      object \n",
      "dtypes: bool(2), float64(4), int64(6), object(10)\n",
      "memory usage: 1.5+ KB\n"
     ]
    }
   ],
   "source": [
    "crimes_small.info() # about the dataframe"
   ]
  },
  {
   "cell_type": "markdown",
   "metadata": {
    "id": "szDPsuOX7_Ki"
   },
   "source": [
    "## The immediate red flag is the \"Date\" column does not have the correct data type to make good use of it as a date column. It is an object type therefore a string, this is the default when parsing. If you recall Pandas has a datatype for dates and time.\n",
    "\n",
    "## We need to parse that column so that it gets correctly formatted. (See this link for more tricks with dates: https://towardsdatascience.com/4-tricks-you-should-know-to-parse-date-columns-with-pandas-read-csv-27355bb2ad0e)\n",
    "\n",
    "## We use *parse_dates* which by default is month/day/year. You can customize the manner in which the date is parsed. Here we are specifying that the date/time column is located in the third column, hence *parse_dates=[2]*."
   ]
  },
  {
   "cell_type": "code",
   "execution_count": null,
   "metadata": {
    "id": "94vBgtaP7_Ki"
   },
   "outputs": [],
   "source": [
    "crimes_small=pd.read_csv(filepath,parse_dates=[2]) #getting the data into a pandas dataframe with the correct format for dates"
   ]
  },
  {
   "cell_type": "code",
   "execution_count": null,
   "metadata": {
    "id": "2dlFozc67_Ki",
    "outputId": "8d19ac90-7770-4c58-9672-5838294cbc27"
   },
   "outputs": [
    {
     "name": "stdout",
     "output_type": "stream",
     "text": [
      "<class 'pandas.core.frame.DataFrame'>\n",
      "RangeIndex: 9 entries, 0 to 8\n",
      "Data columns (total 22 columns):\n",
      " #   Column                Non-Null Count  Dtype         \n",
      "---  ------                --------------  -----         \n",
      " 0   ID                    9 non-null      int64         \n",
      " 1   Case Number           9 non-null      object        \n",
      " 2   Date                  9 non-null      datetime64[ns]\n",
      " 3   Block                 9 non-null      object        \n",
      " 4   IUCR                  9 non-null      object        \n",
      " 5   Primary Type          9 non-null      object        \n",
      " 6   Description           9 non-null      object        \n",
      " 7   Location Description  9 non-null      object        \n",
      " 8   Arrest                9 non-null      bool          \n",
      " 9   Domestic              9 non-null      bool          \n",
      " 10  Beat                  9 non-null      int64         \n",
      " 11  District              9 non-null      int64         \n",
      " 12  Ward                  9 non-null      int64         \n",
      " 13  Community Area        9 non-null      int64         \n",
      " 14  FBI Code              9 non-null      object        \n",
      " 15  X Coordinate          8 non-null      float64       \n",
      " 16  Y Coordinate          8 non-null      float64       \n",
      " 17  Year                  9 non-null      int64         \n",
      " 18  Updated On            9 non-null      object        \n",
      " 19  Latitude              8 non-null      float64       \n",
      " 20  Longitude             8 non-null      float64       \n",
      " 21  Location              8 non-null      object        \n",
      "dtypes: bool(2), datetime64[ns](1), float64(4), int64(6), object(9)\n",
      "memory usage: 1.5+ KB\n"
     ]
    }
   ],
   "source": [
    "crimes_small.info()"
   ]
  },
  {
   "cell_type": "markdown",
   "metadata": {
    "id": "-jt9CGlH7_Kj"
   },
   "source": [
    "### The dataset in indexed automatically... 0, 1, 2. Let's index the dataset by date. It will make it easier to work with. To do this we use* set_index* and set the *inplace* parameter as True to make the change to our dataset. This parameter is set as False by default. You can add your own index series with *set_index*"
   ]
  },
  {
   "cell_type": "code",
   "execution_count": null,
   "metadata": {
    "id": "7GhssLkV7_Kj"
   },
   "outputs": [],
   "source": [
    "crimes_small.set_index(\"Date\",inplace=True) # setting datetime as the index"
   ]
  },
  {
   "cell_type": "code",
   "execution_count": null,
   "metadata": {
    "id": "64dsGlkU7_Kj",
    "outputId": "0b54b1cf-3405-49f5-d35c-0b05fc52f34d"
   },
   "outputs": [
    {
     "data": {
      "text/plain": [
       "DatetimeIndex(['2021-12-19 07:23:00', '2021-04-16 20:45:00',\n",
       "               '2021-10-21 11:00:00', '2021-11-14 06:00:00',\n",
       "               '2021-11-14 04:00:00', '2021-11-14 09:00:00',\n",
       "               '2021-11-14 14:00:00', '2021-11-14 00:00:00',\n",
       "               '2021-01-09 15:59:00'],\n",
       "              dtype='datetime64[ns]', name='Date', freq=None)"
      ]
     },
     "execution_count": 86,
     "metadata": {},
     "output_type": "execute_result"
    }
   ],
   "source": [
    "crimes_small.index"
   ]
  },
  {
   "cell_type": "code",
   "execution_count": null,
   "metadata": {
    "id": "Q2BANszV7_Kj",
    "outputId": "ec0bed9b-2a06-4582-d2d5-17f53c52aff3"
   },
   "outputs": [
    {
     "data": {
      "text/html": [
       "<div>\n",
       "<style scoped>\n",
       "    .dataframe tbody tr th:only-of-type {\n",
       "        vertical-align: middle;\n",
       "    }\n",
       "\n",
       "    .dataframe tbody tr th {\n",
       "        vertical-align: top;\n",
       "    }\n",
       "\n",
       "    .dataframe thead th {\n",
       "        text-align: right;\n",
       "    }\n",
       "</style>\n",
       "<table border=\"1\" class=\"dataframe\">\n",
       "  <thead>\n",
       "    <tr style=\"text-align: right;\">\n",
       "      <th></th>\n",
       "      <th>ID</th>\n",
       "      <th>Case Number</th>\n",
       "      <th>Block</th>\n",
       "      <th>IUCR</th>\n",
       "      <th>Primary Type</th>\n",
       "      <th>Description</th>\n",
       "      <th>Location Description</th>\n",
       "      <th>Arrest</th>\n",
       "      <th>Domestic</th>\n",
       "      <th>Beat</th>\n",
       "      <th>...</th>\n",
       "      <th>Ward</th>\n",
       "      <th>Community Area</th>\n",
       "      <th>FBI Code</th>\n",
       "      <th>X Coordinate</th>\n",
       "      <th>Y Coordinate</th>\n",
       "      <th>Year</th>\n",
       "      <th>Updated On</th>\n",
       "      <th>Latitude</th>\n",
       "      <th>Longitude</th>\n",
       "      <th>Location</th>\n",
       "    </tr>\n",
       "    <tr>\n",
       "      <th>Date</th>\n",
       "      <th></th>\n",
       "      <th></th>\n",
       "      <th></th>\n",
       "      <th></th>\n",
       "      <th></th>\n",
       "      <th></th>\n",
       "      <th></th>\n",
       "      <th></th>\n",
       "      <th></th>\n",
       "      <th></th>\n",
       "      <th></th>\n",
       "      <th></th>\n",
       "      <th></th>\n",
       "      <th></th>\n",
       "      <th></th>\n",
       "      <th></th>\n",
       "      <th></th>\n",
       "      <th></th>\n",
       "      <th></th>\n",
       "      <th></th>\n",
       "      <th></th>\n",
       "    </tr>\n",
       "  </thead>\n",
       "  <tbody>\n",
       "    <tr>\n",
       "      <th>2021-12-19 07:23:00</th>\n",
       "      <td>12571973</td>\n",
       "      <td>JE482457</td>\n",
       "      <td>042XX S MOZART ST</td>\n",
       "      <td>460</td>\n",
       "      <td>BATTERY</td>\n",
       "      <td>SIMPLE</td>\n",
       "      <td>SIDEWALK</td>\n",
       "      <td>True</td>\n",
       "      <td>True</td>\n",
       "      <td>921</td>\n",
       "      <td>...</td>\n",
       "      <td>15</td>\n",
       "      <td>58</td>\n",
       "      <td>08B</td>\n",
       "      <td>1158067.0</td>\n",
       "      <td>1876425.0</td>\n",
       "      <td>2021</td>\n",
       "      <td>9/12/2022 16:45</td>\n",
       "      <td>41.816657</td>\n",
       "      <td>-87.695689</td>\n",
       "      <td>(41.81665685, -87.695688608)</td>\n",
       "    </tr>\n",
       "    <tr>\n",
       "      <th>2021-04-16 20:45:00</th>\n",
       "      <td>12343475</td>\n",
       "      <td>JE202728</td>\n",
       "      <td>056XX N RIDGE AVE</td>\n",
       "      <td>820</td>\n",
       "      <td>THEFT</td>\n",
       "      <td>$500 AND UNDER</td>\n",
       "      <td>OTHER (SPECIFY)</td>\n",
       "      <td>False</td>\n",
       "      <td>False</td>\n",
       "      <td>2013</td>\n",
       "      <td>...</td>\n",
       "      <td>48</td>\n",
       "      <td>77</td>\n",
       "      <td>6</td>\n",
       "      <td>NaN</td>\n",
       "      <td>NaN</td>\n",
       "      <td>2021</td>\n",
       "      <td>4/23/2021 16:51</td>\n",
       "      <td>NaN</td>\n",
       "      <td>NaN</td>\n",
       "      <td>NaN</td>\n",
       "    </tr>\n",
       "    <tr>\n",
       "      <th>2021-10-21 11:00:00</th>\n",
       "      <td>12602803</td>\n",
       "      <td>JF125633</td>\n",
       "      <td>083XX S STONY ISLAND AVE</td>\n",
       "      <td>500E</td>\n",
       "      <td>OTHER OFFENSE</td>\n",
       "      <td>EAVESDROPPING</td>\n",
       "      <td>OTHER (SPECIFY)</td>\n",
       "      <td>False</td>\n",
       "      <td>False</td>\n",
       "      <td>412</td>\n",
       "      <td>...</td>\n",
       "      <td>8</td>\n",
       "      <td>45</td>\n",
       "      <td>26</td>\n",
       "      <td>1188260.0</td>\n",
       "      <td>1849805.0</td>\n",
       "      <td>2021</td>\n",
       "      <td>2/27/2022 15:46</td>\n",
       "      <td>41.742941</td>\n",
       "      <td>-87.585783</td>\n",
       "      <td>(41.74294124, -87.585783412)</td>\n",
       "    </tr>\n",
       "    <tr>\n",
       "      <th>2021-11-14 06:00:00</th>\n",
       "      <td>12540388</td>\n",
       "      <td>JE444591</td>\n",
       "      <td>086XX S COTTAGE GROVE AVE</td>\n",
       "      <td>850</td>\n",
       "      <td>THEFT</td>\n",
       "      <td>ATTEMPT THEFT</td>\n",
       "      <td>CONVENIENCE STORE</td>\n",
       "      <td>False</td>\n",
       "      <td>False</td>\n",
       "      <td>632</td>\n",
       "      <td>...</td>\n",
       "      <td>6</td>\n",
       "      <td>44</td>\n",
       "      <td>6</td>\n",
       "      <td>1183071.0</td>\n",
       "      <td>1847869.0</td>\n",
       "      <td>2021</td>\n",
       "      <td>11/21/2021 15:48</td>\n",
       "      <td>41.737751</td>\n",
       "      <td>-87.604856</td>\n",
       "      <td>(41.737750767, -87.604855911)</td>\n",
       "    </tr>\n",
       "    <tr>\n",
       "      <th>2021-11-14 04:00:00</th>\n",
       "      <td>12541139</td>\n",
       "      <td>JE445494</td>\n",
       "      <td>034XX W 38TH ST</td>\n",
       "      <td>486</td>\n",
       "      <td>BATTERY</td>\n",
       "      <td>DOMESTIC BATTERY SIMPLE</td>\n",
       "      <td>RESIDENCE</td>\n",
       "      <td>False</td>\n",
       "      <td>True</td>\n",
       "      <td>911</td>\n",
       "      <td>...</td>\n",
       "      <td>12</td>\n",
       "      <td>58</td>\n",
       "      <td>08B</td>\n",
       "      <td>1154073.0</td>\n",
       "      <td>1879187.0</td>\n",
       "      <td>2021</td>\n",
       "      <td>11/21/2021 15:48</td>\n",
       "      <td>41.824317</td>\n",
       "      <td>-87.710266</td>\n",
       "      <td>(41.824316537, -87.710266215)</td>\n",
       "    </tr>\n",
       "  </tbody>\n",
       "</table>\n",
       "<p>5 rows × 21 columns</p>\n",
       "</div>"
      ],
      "text/plain": [
       "                           ID Case Number                      Block  IUCR  \\\n",
       "Date                                                                         \n",
       "2021-12-19 07:23:00  12571973    JE482457          042XX S MOZART ST   460   \n",
       "2021-04-16 20:45:00  12343475    JE202728          056XX N RIDGE AVE   820   \n",
       "2021-10-21 11:00:00  12602803    JF125633   083XX S STONY ISLAND AVE  500E   \n",
       "2021-11-14 06:00:00  12540388    JE444591  086XX S COTTAGE GROVE AVE   850   \n",
       "2021-11-14 04:00:00  12541139    JE445494            034XX W 38TH ST   486   \n",
       "\n",
       "                      Primary Type              Description  \\\n",
       "Date                                                          \n",
       "2021-12-19 07:23:00        BATTERY                   SIMPLE   \n",
       "2021-04-16 20:45:00          THEFT           $500 AND UNDER   \n",
       "2021-10-21 11:00:00  OTHER OFFENSE            EAVESDROPPING   \n",
       "2021-11-14 06:00:00          THEFT            ATTEMPT THEFT   \n",
       "2021-11-14 04:00:00        BATTERY  DOMESTIC BATTERY SIMPLE   \n",
       "\n",
       "                    Location Description  Arrest  Domestic  Beat  ...  Ward  \\\n",
       "Date                                                              ...         \n",
       "2021-12-19 07:23:00             SIDEWALK    True      True   921  ...    15   \n",
       "2021-04-16 20:45:00      OTHER (SPECIFY)   False     False  2013  ...    48   \n",
       "2021-10-21 11:00:00      OTHER (SPECIFY)   False     False   412  ...     8   \n",
       "2021-11-14 06:00:00    CONVENIENCE STORE   False     False   632  ...     6   \n",
       "2021-11-14 04:00:00            RESIDENCE   False      True   911  ...    12   \n",
       "\n",
       "                     Community Area  FBI Code X Coordinate  Y Coordinate  \\\n",
       "Date                                                                       \n",
       "2021-12-19 07:23:00              58       08B    1158067.0     1876425.0   \n",
       "2021-04-16 20:45:00              77         6          NaN           NaN   \n",
       "2021-10-21 11:00:00              45        26    1188260.0     1849805.0   \n",
       "2021-11-14 06:00:00              44         6    1183071.0     1847869.0   \n",
       "2021-11-14 04:00:00              58       08B    1154073.0     1879187.0   \n",
       "\n",
       "                     Year        Updated On   Latitude  Longitude  \\\n",
       "Date                                                                \n",
       "2021-12-19 07:23:00  2021   9/12/2022 16:45  41.816657 -87.695689   \n",
       "2021-04-16 20:45:00  2021   4/23/2021 16:51        NaN        NaN   \n",
       "2021-10-21 11:00:00  2021   2/27/2022 15:46  41.742941 -87.585783   \n",
       "2021-11-14 06:00:00  2021  11/21/2021 15:48  41.737751 -87.604856   \n",
       "2021-11-14 04:00:00  2021  11/21/2021 15:48  41.824317 -87.710266   \n",
       "\n",
       "                                          Location  \n",
       "Date                                                \n",
       "2021-12-19 07:23:00   (41.81665685, -87.695688608)  \n",
       "2021-04-16 20:45:00                            NaN  \n",
       "2021-10-21 11:00:00   (41.74294124, -87.585783412)  \n",
       "2021-11-14 06:00:00  (41.737750767, -87.604855911)  \n",
       "2021-11-14 04:00:00  (41.824316537, -87.710266215)  \n",
       "\n",
       "[5 rows x 21 columns]"
      ]
     },
     "execution_count": 43,
     "metadata": {},
     "output_type": "execute_result"
    }
   ],
   "source": [
    "crimes_small.head()"
   ]
  },
  {
   "cell_type": "markdown",
   "metadata": {
    "id": "SRAIM1vO7_Kj"
   },
   "source": [
    "### Confirming date is set as our index"
   ]
  },
  {
   "cell_type": "code",
   "execution_count": null,
   "metadata": {
    "id": "6DtPW_E87_Kj",
    "outputId": "fbe9b5f9-fb5c-430c-f6fa-3195a8b9f217"
   },
   "outputs": [
    {
     "name": "stdout",
     "output_type": "stream",
     "text": [
      "<class 'pandas.core.frame.DataFrame'>\n",
      "DatetimeIndex: 9 entries, 2021-12-19 07:23:00 to 2021-01-09 15:59:00\n",
      "Data columns (total 21 columns):\n",
      " #   Column                Non-Null Count  Dtype  \n",
      "---  ------                --------------  -----  \n",
      " 0   ID                    9 non-null      int64  \n",
      " 1   Case Number           9 non-null      object \n",
      " 2   Block                 9 non-null      object \n",
      " 3   IUCR                  9 non-null      object \n",
      " 4   Primary Type          9 non-null      object \n",
      " 5   Description           9 non-null      object \n",
      " 6   Location Description  9 non-null      object \n",
      " 7   Arrest                9 non-null      bool   \n",
      " 8   Domestic              9 non-null      bool   \n",
      " 9   Beat                  9 non-null      int64  \n",
      " 10  District              9 non-null      int64  \n",
      " 11  Ward                  9 non-null      int64  \n",
      " 12  Community Area        9 non-null      int64  \n",
      " 13  FBI Code              9 non-null      object \n",
      " 14  X Coordinate          8 non-null      float64\n",
      " 15  Y Coordinate          8 non-null      float64\n",
      " 16  Year                  9 non-null      int64  \n",
      " 17  Updated On            9 non-null      object \n",
      " 18  Latitude              8 non-null      float64\n",
      " 19  Longitude             8 non-null      float64\n",
      " 20  Location              8 non-null      object \n",
      "dtypes: bool(2), float64(4), int64(6), object(9)\n",
      "memory usage: 1.4+ KB\n"
     ]
    }
   ],
   "source": [
    "crimes_small.info()"
   ]
  },
  {
   "cell_type": "markdown",
   "metadata": {
    "id": "14HRFXKM7_Kj"
   },
   "source": [
    "### If I want to see the values for a specific date. I can use my index value."
   ]
  },
  {
   "cell_type": "code",
   "execution_count": null,
   "metadata": {
    "id": "G066kuKk7_Kj",
    "outputId": "6b46f64b-124f-4603-e073-cdd3e7798bff"
   },
   "outputs": [
    {
     "name": "stderr",
     "output_type": "stream",
     "text": [
      "/tmp/ipykernel_148/3847741123.py:1: FutureWarning: Indexing a DataFrame with a datetimelike index using a single string to slice the rows, like `frame[string]`, is deprecated and will be removed in a future version. Use `frame.loc[string]` instead.\n",
      "  crimes_small['2021-12-19']\n"
     ]
    },
    {
     "data": {
      "text/html": [
       "<div>\n",
       "<style scoped>\n",
       "    .dataframe tbody tr th:only-of-type {\n",
       "        vertical-align: middle;\n",
       "    }\n",
       "\n",
       "    .dataframe tbody tr th {\n",
       "        vertical-align: top;\n",
       "    }\n",
       "\n",
       "    .dataframe thead th {\n",
       "        text-align: right;\n",
       "    }\n",
       "</style>\n",
       "<table border=\"1\" class=\"dataframe\">\n",
       "  <thead>\n",
       "    <tr style=\"text-align: right;\">\n",
       "      <th></th>\n",
       "      <th>ID</th>\n",
       "      <th>Case Number</th>\n",
       "      <th>Block</th>\n",
       "      <th>IUCR</th>\n",
       "      <th>Primary Type</th>\n",
       "      <th>Description</th>\n",
       "      <th>Location Description</th>\n",
       "      <th>Arrest</th>\n",
       "      <th>Domestic</th>\n",
       "      <th>Beat</th>\n",
       "      <th>...</th>\n",
       "      <th>Ward</th>\n",
       "      <th>Community Area</th>\n",
       "      <th>FBI Code</th>\n",
       "      <th>X Coordinate</th>\n",
       "      <th>Y Coordinate</th>\n",
       "      <th>Year</th>\n",
       "      <th>Updated On</th>\n",
       "      <th>Latitude</th>\n",
       "      <th>Longitude</th>\n",
       "      <th>Location</th>\n",
       "    </tr>\n",
       "    <tr>\n",
       "      <th>Date</th>\n",
       "      <th></th>\n",
       "      <th></th>\n",
       "      <th></th>\n",
       "      <th></th>\n",
       "      <th></th>\n",
       "      <th></th>\n",
       "      <th></th>\n",
       "      <th></th>\n",
       "      <th></th>\n",
       "      <th></th>\n",
       "      <th></th>\n",
       "      <th></th>\n",
       "      <th></th>\n",
       "      <th></th>\n",
       "      <th></th>\n",
       "      <th></th>\n",
       "      <th></th>\n",
       "      <th></th>\n",
       "      <th></th>\n",
       "      <th></th>\n",
       "      <th></th>\n",
       "    </tr>\n",
       "  </thead>\n",
       "  <tbody>\n",
       "    <tr>\n",
       "      <th>2021-12-19 07:23:00</th>\n",
       "      <td>12571973</td>\n",
       "      <td>JE482457</td>\n",
       "      <td>042XX S MOZART ST</td>\n",
       "      <td>460</td>\n",
       "      <td>BATTERY</td>\n",
       "      <td>SIMPLE</td>\n",
       "      <td>SIDEWALK</td>\n",
       "      <td>True</td>\n",
       "      <td>True</td>\n",
       "      <td>921</td>\n",
       "      <td>...</td>\n",
       "      <td>15</td>\n",
       "      <td>58</td>\n",
       "      <td>08B</td>\n",
       "      <td>1158067.0</td>\n",
       "      <td>1876425.0</td>\n",
       "      <td>2021</td>\n",
       "      <td>9/12/2022 16:45</td>\n",
       "      <td>41.816657</td>\n",
       "      <td>-87.695689</td>\n",
       "      <td>(41.81665685, -87.695688608)</td>\n",
       "    </tr>\n",
       "  </tbody>\n",
       "</table>\n",
       "<p>1 rows × 21 columns</p>\n",
       "</div>"
      ],
      "text/plain": [
       "                           ID Case Number              Block IUCR  \\\n",
       "Date                                                                \n",
       "2021-12-19 07:23:00  12571973    JE482457  042XX S MOZART ST  460   \n",
       "\n",
       "                    Primary Type Description Location Description  Arrest  \\\n",
       "Date                                                                        \n",
       "2021-12-19 07:23:00      BATTERY      SIMPLE             SIDEWALK    True   \n",
       "\n",
       "                     Domestic  Beat  ...  Ward  Community Area  FBI Code  \\\n",
       "Date                                 ...                                   \n",
       "2021-12-19 07:23:00      True   921  ...    15              58       08B   \n",
       "\n",
       "                    X Coordinate  Y Coordinate  Year       Updated On  \\\n",
       "Date                                                                    \n",
       "2021-12-19 07:23:00    1158067.0     1876425.0  2021  9/12/2022 16:45   \n",
       "\n",
       "                      Latitude  Longitude                      Location  \n",
       "Date                                                                     \n",
       "2021-12-19 07:23:00  41.816657 -87.695689  (41.81665685, -87.695688608)  \n",
       "\n",
       "[1 rows x 21 columns]"
      ]
     },
     "execution_count": 89,
     "metadata": {},
     "output_type": "execute_result"
    }
   ],
   "source": [
    "crimes_small['2021-12-19']"
   ]
  },
  {
   "cell_type": "markdown",
   "metadata": {
    "id": "YQoQ23NS7_Kk"
   },
   "source": [
    "### I can also use a date range"
   ]
  },
  {
   "cell_type": "code",
   "execution_count": null,
   "metadata": {
    "id": "Hh31xras7_Kk",
    "outputId": "44aaaa41-e423-4d88-81af-891a563d5db3"
   },
   "outputs": [
    {
     "name": "stderr",
     "output_type": "stream",
     "text": [
      "/tmp/ipykernel_148/2432631776.py:1: FutureWarning: Value based partial slicing on non-monotonic DatetimeIndexes with non-existing keys is deprecated and will raise a KeyError in a future Version.\n",
      "  crimes_small['2021-10-19' : '2021-12-30']\n"
     ]
    },
    {
     "data": {
      "text/html": [
       "<div>\n",
       "<style scoped>\n",
       "    .dataframe tbody tr th:only-of-type {\n",
       "        vertical-align: middle;\n",
       "    }\n",
       "\n",
       "    .dataframe tbody tr th {\n",
       "        vertical-align: top;\n",
       "    }\n",
       "\n",
       "    .dataframe thead th {\n",
       "        text-align: right;\n",
       "    }\n",
       "</style>\n",
       "<table border=\"1\" class=\"dataframe\">\n",
       "  <thead>\n",
       "    <tr style=\"text-align: right;\">\n",
       "      <th></th>\n",
       "      <th>ID</th>\n",
       "      <th>Case Number</th>\n",
       "      <th>Block</th>\n",
       "      <th>IUCR</th>\n",
       "      <th>Primary Type</th>\n",
       "      <th>Description</th>\n",
       "      <th>Location Description</th>\n",
       "      <th>Arrest</th>\n",
       "      <th>Domestic</th>\n",
       "      <th>Beat</th>\n",
       "      <th>...</th>\n",
       "      <th>Ward</th>\n",
       "      <th>Community Area</th>\n",
       "      <th>FBI Code</th>\n",
       "      <th>X Coordinate</th>\n",
       "      <th>Y Coordinate</th>\n",
       "      <th>Year</th>\n",
       "      <th>Updated On</th>\n",
       "      <th>Latitude</th>\n",
       "      <th>Longitude</th>\n",
       "      <th>Location</th>\n",
       "    </tr>\n",
       "    <tr>\n",
       "      <th>Date</th>\n",
       "      <th></th>\n",
       "      <th></th>\n",
       "      <th></th>\n",
       "      <th></th>\n",
       "      <th></th>\n",
       "      <th></th>\n",
       "      <th></th>\n",
       "      <th></th>\n",
       "      <th></th>\n",
       "      <th></th>\n",
       "      <th></th>\n",
       "      <th></th>\n",
       "      <th></th>\n",
       "      <th></th>\n",
       "      <th></th>\n",
       "      <th></th>\n",
       "      <th></th>\n",
       "      <th></th>\n",
       "      <th></th>\n",
       "      <th></th>\n",
       "      <th></th>\n",
       "    </tr>\n",
       "  </thead>\n",
       "  <tbody>\n",
       "    <tr>\n",
       "      <th>2021-12-19 07:23:00</th>\n",
       "      <td>12571973</td>\n",
       "      <td>JE482457</td>\n",
       "      <td>042XX S MOZART ST</td>\n",
       "      <td>460</td>\n",
       "      <td>BATTERY</td>\n",
       "      <td>SIMPLE</td>\n",
       "      <td>SIDEWALK</td>\n",
       "      <td>True</td>\n",
       "      <td>True</td>\n",
       "      <td>921</td>\n",
       "      <td>...</td>\n",
       "      <td>15</td>\n",
       "      <td>58</td>\n",
       "      <td>08B</td>\n",
       "      <td>1158067.0</td>\n",
       "      <td>1876425.0</td>\n",
       "      <td>2021</td>\n",
       "      <td>9/12/2022 16:45</td>\n",
       "      <td>41.816657</td>\n",
       "      <td>-87.695689</td>\n",
       "      <td>(41.81665685, -87.695688608)</td>\n",
       "    </tr>\n",
       "    <tr>\n",
       "      <th>2021-10-21 11:00:00</th>\n",
       "      <td>12602803</td>\n",
       "      <td>JF125633</td>\n",
       "      <td>083XX S STONY ISLAND AVE</td>\n",
       "      <td>500E</td>\n",
       "      <td>OTHER OFFENSE</td>\n",
       "      <td>EAVESDROPPING</td>\n",
       "      <td>OTHER (SPECIFY)</td>\n",
       "      <td>False</td>\n",
       "      <td>False</td>\n",
       "      <td>412</td>\n",
       "      <td>...</td>\n",
       "      <td>8</td>\n",
       "      <td>45</td>\n",
       "      <td>26</td>\n",
       "      <td>1188260.0</td>\n",
       "      <td>1849805.0</td>\n",
       "      <td>2021</td>\n",
       "      <td>2/27/2022 15:46</td>\n",
       "      <td>41.742941</td>\n",
       "      <td>-87.585783</td>\n",
       "      <td>(41.74294124, -87.585783412)</td>\n",
       "    </tr>\n",
       "    <tr>\n",
       "      <th>2021-11-14 06:00:00</th>\n",
       "      <td>12540388</td>\n",
       "      <td>JE444591</td>\n",
       "      <td>086XX S COTTAGE GROVE AVE</td>\n",
       "      <td>850</td>\n",
       "      <td>THEFT</td>\n",
       "      <td>ATTEMPT THEFT</td>\n",
       "      <td>CONVENIENCE STORE</td>\n",
       "      <td>False</td>\n",
       "      <td>False</td>\n",
       "      <td>632</td>\n",
       "      <td>...</td>\n",
       "      <td>6</td>\n",
       "      <td>44</td>\n",
       "      <td>6</td>\n",
       "      <td>1183071.0</td>\n",
       "      <td>1847869.0</td>\n",
       "      <td>2021</td>\n",
       "      <td>11/21/2021 15:48</td>\n",
       "      <td>41.737751</td>\n",
       "      <td>-87.604856</td>\n",
       "      <td>(41.737750767, -87.604855911)</td>\n",
       "    </tr>\n",
       "    <tr>\n",
       "      <th>2021-11-14 04:00:00</th>\n",
       "      <td>12541139</td>\n",
       "      <td>JE445494</td>\n",
       "      <td>034XX W 38TH ST</td>\n",
       "      <td>486</td>\n",
       "      <td>BATTERY</td>\n",
       "      <td>DOMESTIC BATTERY SIMPLE</td>\n",
       "      <td>RESIDENCE</td>\n",
       "      <td>False</td>\n",
       "      <td>True</td>\n",
       "      <td>911</td>\n",
       "      <td>...</td>\n",
       "      <td>12</td>\n",
       "      <td>58</td>\n",
       "      <td>08B</td>\n",
       "      <td>1154073.0</td>\n",
       "      <td>1879187.0</td>\n",
       "      <td>2021</td>\n",
       "      <td>11/21/2021 15:48</td>\n",
       "      <td>41.824317</td>\n",
       "      <td>-87.710266</td>\n",
       "      <td>(41.824316537, -87.710266215)</td>\n",
       "    </tr>\n",
       "    <tr>\n",
       "      <th>2021-11-14 09:00:00</th>\n",
       "      <td>12540496</td>\n",
       "      <td>JE444717</td>\n",
       "      <td>070XX S INDIANA AVE</td>\n",
       "      <td>820</td>\n",
       "      <td>THEFT</td>\n",
       "      <td>$500 AND UNDER</td>\n",
       "      <td>APARTMENT</td>\n",
       "      <td>False</td>\n",
       "      <td>True</td>\n",
       "      <td>322</td>\n",
       "      <td>...</td>\n",
       "      <td>6</td>\n",
       "      <td>69</td>\n",
       "      <td>6</td>\n",
       "      <td>1178811.0</td>\n",
       "      <td>1858376.0</td>\n",
       "      <td>2021</td>\n",
       "      <td>11/21/2021 15:48</td>\n",
       "      <td>41.766681</td>\n",
       "      <td>-87.620144</td>\n",
       "      <td>(41.766681066, -87.62014422)</td>\n",
       "    </tr>\n",
       "    <tr>\n",
       "      <th>2021-11-14 14:00:00</th>\n",
       "      <td>12542477</td>\n",
       "      <td>JE447028</td>\n",
       "      <td>021XX N BINGHAM ST</td>\n",
       "      <td>820</td>\n",
       "      <td>THEFT</td>\n",
       "      <td>$500 AND UNDER</td>\n",
       "      <td>RESIDENCE</td>\n",
       "      <td>False</td>\n",
       "      <td>False</td>\n",
       "      <td>1431</td>\n",
       "      <td>...</td>\n",
       "      <td>1</td>\n",
       "      <td>22</td>\n",
       "      <td>6</td>\n",
       "      <td>1158583.0</td>\n",
       "      <td>1913745.0</td>\n",
       "      <td>2021</td>\n",
       "      <td>11/21/2021 15:48</td>\n",
       "      <td>41.919056</td>\n",
       "      <td>-87.692774</td>\n",
       "      <td>(41.919056144, -87.692774252)</td>\n",
       "    </tr>\n",
       "    <tr>\n",
       "      <th>2021-11-14 00:00:00</th>\n",
       "      <td>12541098</td>\n",
       "      <td>JE444580</td>\n",
       "      <td>072XX S HAMLIN AVE</td>\n",
       "      <td>486</td>\n",
       "      <td>BATTERY</td>\n",
       "      <td>DOMESTIC BATTERY SIMPLE</td>\n",
       "      <td>RESIDENCE</td>\n",
       "      <td>False</td>\n",
       "      <td>True</td>\n",
       "      <td>833</td>\n",
       "      <td>...</td>\n",
       "      <td>13</td>\n",
       "      <td>65</td>\n",
       "      <td>08B</td>\n",
       "      <td>1152286.0</td>\n",
       "      <td>1856407.0</td>\n",
       "      <td>2021</td>\n",
       "      <td>11/21/2021 15:48</td>\n",
       "      <td>41.761840</td>\n",
       "      <td>-87.717421</td>\n",
       "      <td>(41.761840209, -87.717420956)</td>\n",
       "    </tr>\n",
       "  </tbody>\n",
       "</table>\n",
       "<p>7 rows × 21 columns</p>\n",
       "</div>"
      ],
      "text/plain": [
       "                           ID Case Number                      Block  IUCR  \\\n",
       "Date                                                                         \n",
       "2021-12-19 07:23:00  12571973    JE482457          042XX S MOZART ST   460   \n",
       "2021-10-21 11:00:00  12602803    JF125633   083XX S STONY ISLAND AVE  500E   \n",
       "2021-11-14 06:00:00  12540388    JE444591  086XX S COTTAGE GROVE AVE   850   \n",
       "2021-11-14 04:00:00  12541139    JE445494            034XX W 38TH ST   486   \n",
       "2021-11-14 09:00:00  12540496    JE444717        070XX S INDIANA AVE   820   \n",
       "2021-11-14 14:00:00  12542477    JE447028         021XX N BINGHAM ST   820   \n",
       "2021-11-14 00:00:00  12541098    JE444580         072XX S HAMLIN AVE   486   \n",
       "\n",
       "                      Primary Type              Description  \\\n",
       "Date                                                          \n",
       "2021-12-19 07:23:00        BATTERY                   SIMPLE   \n",
       "2021-10-21 11:00:00  OTHER OFFENSE            EAVESDROPPING   \n",
       "2021-11-14 06:00:00          THEFT            ATTEMPT THEFT   \n",
       "2021-11-14 04:00:00        BATTERY  DOMESTIC BATTERY SIMPLE   \n",
       "2021-11-14 09:00:00          THEFT           $500 AND UNDER   \n",
       "2021-11-14 14:00:00          THEFT           $500 AND UNDER   \n",
       "2021-11-14 00:00:00        BATTERY  DOMESTIC BATTERY SIMPLE   \n",
       "\n",
       "                    Location Description  Arrest  Domestic  Beat  ...  Ward  \\\n",
       "Date                                                              ...         \n",
       "2021-12-19 07:23:00             SIDEWALK    True      True   921  ...    15   \n",
       "2021-10-21 11:00:00      OTHER (SPECIFY)   False     False   412  ...     8   \n",
       "2021-11-14 06:00:00    CONVENIENCE STORE   False     False   632  ...     6   \n",
       "2021-11-14 04:00:00            RESIDENCE   False      True   911  ...    12   \n",
       "2021-11-14 09:00:00            APARTMENT   False      True   322  ...     6   \n",
       "2021-11-14 14:00:00            RESIDENCE   False     False  1431  ...     1   \n",
       "2021-11-14 00:00:00            RESIDENCE   False      True   833  ...    13   \n",
       "\n",
       "                     Community Area  FBI Code X Coordinate  Y Coordinate  \\\n",
       "Date                                                                       \n",
       "2021-12-19 07:23:00              58       08B    1158067.0     1876425.0   \n",
       "2021-10-21 11:00:00              45        26    1188260.0     1849805.0   \n",
       "2021-11-14 06:00:00              44         6    1183071.0     1847869.0   \n",
       "2021-11-14 04:00:00              58       08B    1154073.0     1879187.0   \n",
       "2021-11-14 09:00:00              69         6    1178811.0     1858376.0   \n",
       "2021-11-14 14:00:00              22         6    1158583.0     1913745.0   \n",
       "2021-11-14 00:00:00              65       08B    1152286.0     1856407.0   \n",
       "\n",
       "                     Year        Updated On   Latitude  Longitude  \\\n",
       "Date                                                                \n",
       "2021-12-19 07:23:00  2021   9/12/2022 16:45  41.816657 -87.695689   \n",
       "2021-10-21 11:00:00  2021   2/27/2022 15:46  41.742941 -87.585783   \n",
       "2021-11-14 06:00:00  2021  11/21/2021 15:48  41.737751 -87.604856   \n",
       "2021-11-14 04:00:00  2021  11/21/2021 15:48  41.824317 -87.710266   \n",
       "2021-11-14 09:00:00  2021  11/21/2021 15:48  41.766681 -87.620144   \n",
       "2021-11-14 14:00:00  2021  11/21/2021 15:48  41.919056 -87.692774   \n",
       "2021-11-14 00:00:00  2021  11/21/2021 15:48  41.761840 -87.717421   \n",
       "\n",
       "                                          Location  \n",
       "Date                                                \n",
       "2021-12-19 07:23:00   (41.81665685, -87.695688608)  \n",
       "2021-10-21 11:00:00   (41.74294124, -87.585783412)  \n",
       "2021-11-14 06:00:00  (41.737750767, -87.604855911)  \n",
       "2021-11-14 04:00:00  (41.824316537, -87.710266215)  \n",
       "2021-11-14 09:00:00   (41.766681066, -87.62014422)  \n",
       "2021-11-14 14:00:00  (41.919056144, -87.692774252)  \n",
       "2021-11-14 00:00:00  (41.761840209, -87.717420956)  \n",
       "\n",
       "[7 rows x 21 columns]"
      ]
     },
     "execution_count": 95,
     "metadata": {},
     "output_type": "execute_result"
    }
   ],
   "source": [
    "crimes_small['2021-10-19' : '2021-12-30']"
   ]
  },
  {
   "cell_type": "markdown",
   "metadata": {
    "id": "kPrtLmj-7_Kk"
   },
   "source": [
    "### Now, let's get the larger dataset into our notebook"
   ]
  },
  {
   "cell_type": "code",
   "execution_count": null,
   "metadata": {
    "id": "iJi8tGI17_Kk"
   },
   "outputs": [],
   "source": [
    "filepath=\"~/datasets/ist652/Crimes/Crimes_20k.csv\""
   ]
  },
  {
   "cell_type": "markdown",
   "metadata": {
    "id": "ku88LaTE7_Kk"
   },
   "source": [
    "### We can get the pandas dataframe correctly structured in one command (thanks to the work on the small version of the dataset). Let us parse the date and set date as a index. Here we are specifying with column to index using *index_col*"
   ]
  },
  {
   "cell_type": "code",
   "execution_count": null,
   "metadata": {
    "id": "npb181Pa7_Kk"
   },
   "outputs": [],
   "source": [
    "crimes=pd.read_csv(filepath,parse_dates=[2], index_col=[2])"
   ]
  },
  {
   "cell_type": "code",
   "execution_count": null,
   "metadata": {
    "id": "sjYn7KcH7_Kk",
    "outputId": "aef482d0-f1c9-4199-d9c9-6da70a2eb2fa",
    "scrolled": true
   },
   "outputs": [
    {
     "data": {
      "text/html": [
       "<div>\n",
       "<style scoped>\n",
       "    .dataframe tbody tr th:only-of-type {\n",
       "        vertical-align: middle;\n",
       "    }\n",
       "\n",
       "    .dataframe tbody tr th {\n",
       "        vertical-align: top;\n",
       "    }\n",
       "\n",
       "    .dataframe thead th {\n",
       "        text-align: right;\n",
       "    }\n",
       "</style>\n",
       "<table border=\"1\" class=\"dataframe\">\n",
       "  <thead>\n",
       "    <tr style=\"text-align: right;\">\n",
       "      <th></th>\n",
       "      <th>ID</th>\n",
       "      <th>Case Number</th>\n",
       "      <th>Block</th>\n",
       "      <th>IUCR</th>\n",
       "      <th>Primary Type</th>\n",
       "      <th>Description</th>\n",
       "      <th>Location Description</th>\n",
       "      <th>Arrest</th>\n",
       "      <th>Domestic</th>\n",
       "      <th>Beat</th>\n",
       "      <th>...</th>\n",
       "      <th>Ward</th>\n",
       "      <th>Community Area</th>\n",
       "      <th>FBI Code</th>\n",
       "      <th>X Coordinate</th>\n",
       "      <th>Y Coordinate</th>\n",
       "      <th>Year</th>\n",
       "      <th>Updated On</th>\n",
       "      <th>Latitude</th>\n",
       "      <th>Longitude</th>\n",
       "      <th>Location</th>\n",
       "    </tr>\n",
       "    <tr>\n",
       "      <th>Date</th>\n",
       "      <th></th>\n",
       "      <th></th>\n",
       "      <th></th>\n",
       "      <th></th>\n",
       "      <th></th>\n",
       "      <th></th>\n",
       "      <th></th>\n",
       "      <th></th>\n",
       "      <th></th>\n",
       "      <th></th>\n",
       "      <th></th>\n",
       "      <th></th>\n",
       "      <th></th>\n",
       "      <th></th>\n",
       "      <th></th>\n",
       "      <th></th>\n",
       "      <th></th>\n",
       "      <th></th>\n",
       "      <th></th>\n",
       "      <th></th>\n",
       "      <th></th>\n",
       "    </tr>\n",
       "  </thead>\n",
       "  <tbody>\n",
       "    <tr>\n",
       "      <th>2021-01-02 12:32:00</th>\n",
       "      <td>12259624</td>\n",
       "      <td>JE101261</td>\n",
       "      <td>046XX W VAN BUREN ST</td>\n",
       "      <td>4650</td>\n",
       "      <td>OTHER OFFENSE</td>\n",
       "      <td>SEX OFFENDER - FAIL TO REGISTER</td>\n",
       "      <td>STREET</td>\n",
       "      <td>True</td>\n",
       "      <td>False</td>\n",
       "      <td>1131</td>\n",
       "      <td>...</td>\n",
       "      <td>24.0</td>\n",
       "      <td>25</td>\n",
       "      <td>26</td>\n",
       "      <td>1145550.0</td>\n",
       "      <td>1897622.0</td>\n",
       "      <td>2021</td>\n",
       "      <td>1/16/2021 15:49</td>\n",
       "      <td>41.875070</td>\n",
       "      <td>-87.741068</td>\n",
       "      <td>(41.875069995, -87.741068317)</td>\n",
       "    </tr>\n",
       "    <tr>\n",
       "      <th>2021-01-06 12:18:00</th>\n",
       "      <td>12262739</td>\n",
       "      <td>JE104970</td>\n",
       "      <td>013XX S FAIRFIELD AVE</td>\n",
       "      <td>143A</td>\n",
       "      <td>WEAPONS VIOLATION</td>\n",
       "      <td>UNLAWFUL POSSESSION - HANDGUN</td>\n",
       "      <td>STREET</td>\n",
       "      <td>True</td>\n",
       "      <td>False</td>\n",
       "      <td>1023</td>\n",
       "      <td>...</td>\n",
       "      <td>28.0</td>\n",
       "      <td>29</td>\n",
       "      <td>15</td>\n",
       "      <td>1158247.0</td>\n",
       "      <td>1893603.0</td>\n",
       "      <td>2021</td>\n",
       "      <td>1/16/2021 15:49</td>\n",
       "      <td>41.863792</td>\n",
       "      <td>-87.694560</td>\n",
       "      <td>(41.863791576, -87.694559683)</td>\n",
       "    </tr>\n",
       "    <tr>\n",
       "      <th>2021-01-07 10:52:00</th>\n",
       "      <td>12263546</td>\n",
       "      <td>JE105815</td>\n",
       "      <td>036XX W POLK ST</td>\n",
       "      <td>143A</td>\n",
       "      <td>WEAPONS VIOLATION</td>\n",
       "      <td>UNLAWFUL POSSESSION - HANDGUN</td>\n",
       "      <td>STREET</td>\n",
       "      <td>True</td>\n",
       "      <td>False</td>\n",
       "      <td>1133</td>\n",
       "      <td>...</td>\n",
       "      <td>24.0</td>\n",
       "      <td>27</td>\n",
       "      <td>15</td>\n",
       "      <td>1152328.0</td>\n",
       "      <td>1896125.0</td>\n",
       "      <td>2021</td>\n",
       "      <td>1/16/2021 15:49</td>\n",
       "      <td>41.870831</td>\n",
       "      <td>-87.716222</td>\n",
       "      <td>(41.870831024, -87.716221583)</td>\n",
       "    </tr>\n",
       "    <tr>\n",
       "      <th>2021-01-01 01:00:00</th>\n",
       "      <td>12259461</td>\n",
       "      <td>JE100546</td>\n",
       "      <td>076XX S RHODES AVE</td>\n",
       "      <td>460</td>\n",
       "      <td>BATTERY</td>\n",
       "      <td>SIMPLE</td>\n",
       "      <td>RESIDENCE</td>\n",
       "      <td>False</td>\n",
       "      <td>False</td>\n",
       "      <td>624</td>\n",
       "      <td>...</td>\n",
       "      <td>6.0</td>\n",
       "      <td>69</td>\n",
       "      <td>08B</td>\n",
       "      <td>1181227.0</td>\n",
       "      <td>1854479.0</td>\n",
       "      <td>2021</td>\n",
       "      <td>1/16/2021 15:49</td>\n",
       "      <td>41.755932</td>\n",
       "      <td>-87.611409</td>\n",
       "      <td>(41.755931978, -87.611408601)</td>\n",
       "    </tr>\n",
       "    <tr>\n",
       "      <th>2021-01-02 23:02:00</th>\n",
       "      <td>12260076</td>\n",
       "      <td>JE101741</td>\n",
       "      <td>075XX S COLES AVE</td>\n",
       "      <td>460</td>\n",
       "      <td>BATTERY</td>\n",
       "      <td>SIMPLE</td>\n",
       "      <td>APARTMENT</td>\n",
       "      <td>False</td>\n",
       "      <td>False</td>\n",
       "      <td>421</td>\n",
       "      <td>...</td>\n",
       "      <td>7.0</td>\n",
       "      <td>43</td>\n",
       "      <td>08B</td>\n",
       "      <td>1195976.0</td>\n",
       "      <td>1855570.0</td>\n",
       "      <td>2021</td>\n",
       "      <td>1/16/2021 15:49</td>\n",
       "      <td>41.758573</td>\n",
       "      <td>-87.557322</td>\n",
       "      <td>(41.758573421, -87.557321761)</td>\n",
       "    </tr>\n",
       "  </tbody>\n",
       "</table>\n",
       "<p>5 rows × 21 columns</p>\n",
       "</div>"
      ],
      "text/plain": [
       "                           ID Case Number                  Block  IUCR  \\\n",
       "Date                                                                     \n",
       "2021-01-02 12:32:00  12259624    JE101261   046XX W VAN BUREN ST  4650   \n",
       "2021-01-06 12:18:00  12262739    JE104970  013XX S FAIRFIELD AVE  143A   \n",
       "2021-01-07 10:52:00  12263546    JE105815        036XX W POLK ST  143A   \n",
       "2021-01-01 01:00:00  12259461    JE100546     076XX S RHODES AVE   460   \n",
       "2021-01-02 23:02:00  12260076    JE101741      075XX S COLES AVE   460   \n",
       "\n",
       "                          Primary Type                      Description  \\\n",
       "Date                                                                      \n",
       "2021-01-02 12:32:00      OTHER OFFENSE  SEX OFFENDER - FAIL TO REGISTER   \n",
       "2021-01-06 12:18:00  WEAPONS VIOLATION    UNLAWFUL POSSESSION - HANDGUN   \n",
       "2021-01-07 10:52:00  WEAPONS VIOLATION    UNLAWFUL POSSESSION - HANDGUN   \n",
       "2021-01-01 01:00:00            BATTERY                           SIMPLE   \n",
       "2021-01-02 23:02:00            BATTERY                           SIMPLE   \n",
       "\n",
       "                    Location Description  Arrest  Domestic  Beat  ...  Ward  \\\n",
       "Date                                                              ...         \n",
       "2021-01-02 12:32:00               STREET    True     False  1131  ...  24.0   \n",
       "2021-01-06 12:18:00               STREET    True     False  1023  ...  28.0   \n",
       "2021-01-07 10:52:00               STREET    True     False  1133  ...  24.0   \n",
       "2021-01-01 01:00:00            RESIDENCE   False     False   624  ...   6.0   \n",
       "2021-01-02 23:02:00            APARTMENT   False     False   421  ...   7.0   \n",
       "\n",
       "                     Community Area  FBI Code X Coordinate  Y Coordinate  \\\n",
       "Date                                                                       \n",
       "2021-01-02 12:32:00              25        26    1145550.0     1897622.0   \n",
       "2021-01-06 12:18:00              29        15    1158247.0     1893603.0   \n",
       "2021-01-07 10:52:00              27        15    1152328.0     1896125.0   \n",
       "2021-01-01 01:00:00              69       08B    1181227.0     1854479.0   \n",
       "2021-01-02 23:02:00              43       08B    1195976.0     1855570.0   \n",
       "\n",
       "                     Year       Updated On   Latitude  Longitude  \\\n",
       "Date                                                               \n",
       "2021-01-02 12:32:00  2021  1/16/2021 15:49  41.875070 -87.741068   \n",
       "2021-01-06 12:18:00  2021  1/16/2021 15:49  41.863792 -87.694560   \n",
       "2021-01-07 10:52:00  2021  1/16/2021 15:49  41.870831 -87.716222   \n",
       "2021-01-01 01:00:00  2021  1/16/2021 15:49  41.755932 -87.611409   \n",
       "2021-01-02 23:02:00  2021  1/16/2021 15:49  41.758573 -87.557322   \n",
       "\n",
       "                                          Location  \n",
       "Date                                                \n",
       "2021-01-02 12:32:00  (41.875069995, -87.741068317)  \n",
       "2021-01-06 12:18:00  (41.863791576, -87.694559683)  \n",
       "2021-01-07 10:52:00  (41.870831024, -87.716221583)  \n",
       "2021-01-01 01:00:00  (41.755931978, -87.611408601)  \n",
       "2021-01-02 23:02:00  (41.758573421, -87.557321761)  \n",
       "\n",
       "[5 rows x 21 columns]"
      ]
     },
     "execution_count": 47,
     "metadata": {},
     "output_type": "execute_result"
    }
   ],
   "source": [
    "crimes.tail()"
   ]
  },
  {
   "cell_type": "code",
   "execution_count": null,
   "metadata": {
    "id": "VnWrFEHK7_Kk",
    "outputId": "214729e4-be88-4eb0-eec9-2dd153c580d3"
   },
   "outputs": [
    {
     "data": {
      "text/plain": [
       "DatetimeIndex(['2021-12-19 07:23:00', '2021-04-16 20:45:00',\n",
       "               '2021-10-21 11:00:00', '2021-11-14 06:00:00',\n",
       "               '2021-11-14 04:00:00', '2021-11-14 09:00:00',\n",
       "               '2021-11-14 14:00:00', '2021-11-14 00:00:00',\n",
       "               '2021-01-09 15:59:00', '2021-04-28 20:18:00',\n",
       "               ...\n",
       "               '2021-01-04 18:30:00', '2021-01-04 11:00:00',\n",
       "               '2021-01-04 09:00:00', '2021-01-09 04:19:00',\n",
       "               '2021-01-05 00:46:00', '2021-01-02 12:32:00',\n",
       "               '2021-01-06 12:18:00', '2021-01-07 10:52:00',\n",
       "               '2021-01-01 01:00:00', '2021-01-02 23:02:00'],\n",
       "              dtype='datetime64[ns]', name='Date', length=20000, freq=None)"
      ]
     },
     "execution_count": 48,
     "metadata": {},
     "output_type": "execute_result"
    }
   ],
   "source": [
    "crimes.index # Confirming our index column"
   ]
  },
  {
   "cell_type": "code",
   "execution_count": null,
   "metadata": {
    "id": "HPHrgPU07_Kk",
    "outputId": "76b61b7a-e91d-41f0-fdfa-afa41e8c04de"
   },
   "outputs": [
    {
     "name": "stdout",
     "output_type": "stream",
     "text": [
      "<class 'pandas.core.frame.DataFrame'>\n",
      "DatetimeIndex: 20000 entries, 2021-12-19 07:23:00 to 2021-01-02 23:02:00\n",
      "Data columns (total 21 columns):\n",
      " #   Column                Non-Null Count  Dtype  \n",
      "---  ------                --------------  -----  \n",
      " 0   ID                    20000 non-null  int64  \n",
      " 1   Case Number           20000 non-null  object \n",
      " 2   Block                 20000 non-null  object \n",
      " 3   IUCR                  20000 non-null  object \n",
      " 4   Primary Type          20000 non-null  object \n",
      " 5   Description           20000 non-null  object \n",
      " 6   Location Description  19936 non-null  object \n",
      " 7   Arrest                20000 non-null  bool   \n",
      " 8   Domestic              20000 non-null  bool   \n",
      " 9   Beat                  20000 non-null  int64  \n",
      " 10  District              20000 non-null  int64  \n",
      " 11  Ward                  19999 non-null  float64\n",
      " 12  Community Area        20000 non-null  int64  \n",
      " 13  FBI Code              20000 non-null  object \n",
      " 14  X Coordinate          19789 non-null  float64\n",
      " 15  Y Coordinate          19789 non-null  float64\n",
      " 16  Year                  20000 non-null  int64  \n",
      " 17  Updated On            20000 non-null  object \n",
      " 18  Latitude              19789 non-null  float64\n",
      " 19  Longitude             19789 non-null  float64\n",
      " 20  Location              19789 non-null  object \n",
      "dtypes: bool(2), float64(5), int64(5), object(9)\n",
      "memory usage: 3.1+ MB\n"
     ]
    }
   ],
   "source": [
    "crimes.info(verbose=True) # setting verbose to true gives us detailed information."
   ]
  },
  {
   "cell_type": "markdown",
   "metadata": {
    "id": "zOfjdu997_Kk"
   },
   "source": [
    "# RESAMPLING"
   ]
  },
  {
   "cell_type": "markdown",
   "metadata": {
    "id": "WBpP6Of97_Kk"
   },
   "source": [
    "### Resampling is used to enhance your analysis. You can leverage if you have a datetime type index in your dataset. You can think of this as a sampling distribution. You can resample by time series frequecies  like day, week, month ... (upsampling). Let's resample the dataset by day for the categories of crimes(the series \"Primary Type\")\n",
    "\n",
    "### (For more information on re-sampling, look at https://towardsdatascience.com/using-the-pandas-resample-function-a231144194c4 )"
   ]
  },
  {
   "cell_type": "code",
   "execution_count": null,
   "metadata": {
    "id": "fGuWJB_r7_Kk"
   },
   "outputs": [],
   "source": [
    "daily_crimes = crimes['Primary Type'].resample('D').count()  #resample, count crimes per day\n",
    "daily_crimes.sort_index(inplace=True) # set your inplace as True"
   ]
  },
  {
   "cell_type": "code",
   "execution_count": null,
   "metadata": {
    "id": "FTZ17yLf7_Kk",
    "outputId": "94262344-555a-4617-90cc-12aa252536ec"
   },
   "outputs": [
    {
     "data": {
      "text/plain": [
       "Date\n",
       "2021-12-24    0\n",
       "2021-12-25    0\n",
       "2021-12-26    1\n",
       "2021-12-27    0\n",
       "2021-12-28    1\n",
       "Freq: D, Name: Primary Type, dtype: int64"
      ]
     },
     "execution_count": 99,
     "metadata": {},
     "output_type": "execute_result"
    }
   ],
   "source": [
    "daily_crimes.tail()"
   ]
  },
  {
   "cell_type": "code",
   "execution_count": null,
   "metadata": {
    "id": "BEGIPDIN7_Kl",
    "outputId": "4ba23386-0545-419a-d98c-c0557a509739"
   },
   "outputs": [
    {
     "data": {
      "text/plain": [
       "<AxesSubplot:xlabel='Date'>"
      ]
     },
     "execution_count": 52,
     "metadata": {},
     "output_type": "execute_result"
    },
    {
     "data": {
      "image/png": "[encoded data removed]",
      "text/plain": [
       "<Figure size 432x288 with 1 Axes>"
      ]
     },
     "metadata": {
      "needs_background": "light"
     },
     "output_type": "display_data"
    }
   ],
   "source": [
    "daily_crimesDec = daily_crimes['2021-12']\n",
    "daily_crimesDec.plot()  # Let us narrow to the month of December and plot"
   ]
  },
  {
   "cell_type": "code",
   "execution_count": null,
   "metadata": {
    "id": "QJ3VkNxg7_Kl",
    "outputId": "2338e191-9734-4c9d-939d-2199fe05123c"
   },
   "outputs": [
    {
     "data": {
      "text/plain": [
       "<AxesSubplot:xlabel='Date'>"
      ]
     },
     "execution_count": 101,
     "metadata": {},
     "output_type": "execute_result"
    },
    {
     "data": {
      "image/png": "[encoded data removed]",
      "text/plain": [
       "<Figure size 432x288 with 1 Axes>"
      ]
     },
     "metadata": {
      "needs_background": "light"
     },
     "output_type": "display_data"
    }
   ],
   "source": [
    "daily_crimesFeb = daily_crimes['2021-02']\n",
    "daily_crimesFeb.plot()   # let us look at the month of Feb and plot"
   ]
  },
  {
   "cell_type": "markdown",
   "metadata": {
    "id": "kU1Zl-sb7_Kl"
   },
   "source": [
    "# PANDAS DATA STRUCTURES"
   ]
  },
  {
   "cell_type": "markdown",
   "metadata": {
    "id": "UjJEIlGr7_Kl"
   },
   "source": [
    "### Let's explain them on the data we have…\n",
    "\n",
    "### Series. Series is a one-dimensional labeled array capable of holding any data type (integers, strings, floating point numbers, Python objects, etc.). So, the variable `crime_types` is a series of strings designating types of crimes and labeled with the crime's time of occurrence."
   ]
  },
  {
   "cell_type": "code",
   "execution_count": null,
   "metadata": {
    "id": "HmtVV9zS7_Kl",
    "outputId": "6506313c-d5d0-4e21-fe0a-715e20696d25"
   },
   "outputs": [
    {
     "data": {
      "text/plain": [
       "Date\n",
       "2021-12-19 07:23:00              BATTERY\n",
       "2021-04-16 20:45:00                THEFT\n",
       "2021-10-21 11:00:00        OTHER OFFENSE\n",
       "2021-11-14 06:00:00                THEFT\n",
       "2021-11-14 04:00:00              BATTERY\n",
       "                             ...        \n",
       "2021-01-02 12:32:00        OTHER OFFENSE\n",
       "2021-01-06 12:18:00    WEAPONS VIOLATION\n",
       "2021-01-07 10:52:00    WEAPONS VIOLATION\n",
       "2021-01-01 01:00:00              BATTERY\n",
       "2021-01-02 23:02:00              BATTERY\n",
       "Name: Primary Type, Length: 20000, dtype: object"
      ]
     },
     "execution_count": 104,
     "metadata": {},
     "output_type": "execute_result"
    }
   ],
   "source": [
    "crime_types = crimes['Primary Type']\n",
    "crime_types"
   ]
  },
  {
   "cell_type": "markdown",
   "metadata": {
    "id": "jREBlNnE7_Ko"
   },
   "source": [
    "### On the other hand, `daily_crimesDec` is a series with the number of crimes per day."
   ]
  },
  {
   "cell_type": "code",
   "execution_count": null,
   "metadata": {
    "id": "D6tfxFdo7_Kp",
    "outputId": "39e09792-f0f4-4430-bf13-53817761988b"
   },
   "outputs": [
    {
     "data": {
      "text/plain": [
       "Date\n",
       "2021-12-01    0\n",
       "2021-12-02    2\n",
       "2021-12-03    0\n",
       "2021-12-04    1\n",
       "2021-12-05    0\n",
       "2021-12-06    0\n",
       "2021-12-07    1\n",
       "2021-12-08    0\n",
       "2021-12-09    0\n",
       "2021-12-10    0\n",
       "2021-12-11    0\n",
       "2021-12-12    0\n",
       "2021-12-13    0\n",
       "2021-12-14    0\n",
       "2021-12-15    0\n",
       "2021-12-16    1\n",
       "2021-12-17    1\n",
       "2021-12-18    0\n",
       "2021-12-19    1\n",
       "2021-12-20    1\n",
       "2021-12-21    1\n",
       "2021-12-22    2\n",
       "2021-12-23    0\n",
       "2021-12-24    0\n",
       "2021-12-25    0\n",
       "2021-12-26    1\n",
       "2021-12-27    0\n",
       "2021-12-28    1\n",
       "Freq: D, Name: Primary Type, dtype: int64"
      ]
     },
     "execution_count": 54,
     "metadata": {},
     "output_type": "execute_result"
    }
   ],
   "source": [
    "daily_crimesDec"
   ]
  },
  {
   "cell_type": "markdown",
   "metadata": {
    "id": "nOh8aFKC7_Kp"
   },
   "source": [
    "### `crime_type` has an index which is a NumPy array. You will recall we set out date as our index"
   ]
  },
  {
   "cell_type": "code",
   "execution_count": null,
   "metadata": {
    "id": "rEtpVCPc7_Kp",
    "outputId": "d558f963-19e4-4015-bc6c-5efc02e02403"
   },
   "outputs": [
    {
     "data": {
      "text/plain": [
       "DatetimeIndex(['2021-12-19 07:23:00', '2021-04-16 20:45:00',\n",
       "               '2021-10-21 11:00:00', '2021-11-14 06:00:00',\n",
       "               '2021-11-14 04:00:00', '2021-11-14 09:00:00',\n",
       "               '2021-11-14 14:00:00', '2021-11-14 00:00:00',\n",
       "               '2021-01-09 15:59:00', '2021-04-28 20:18:00',\n",
       "               ...\n",
       "               '2021-01-04 18:30:00', '2021-01-04 11:00:00',\n",
       "               '2021-01-04 09:00:00', '2021-01-09 04:19:00',\n",
       "               '2021-01-05 00:46:00', '2021-01-02 12:32:00',\n",
       "               '2021-01-06 12:18:00', '2021-01-07 10:52:00',\n",
       "               '2021-01-01 01:00:00', '2021-01-02 23:02:00'],\n",
       "              dtype='datetime64[ns]', name='Date', length=20000, freq=None)"
      ]
     },
     "execution_count": 105,
     "metadata": {},
     "output_type": "execute_result"
    }
   ],
   "source": [
    "crime_types.index"
   ]
  },
  {
   "cell_type": "markdown",
   "metadata": {
    "id": "UuUW_xgJ7_Kp"
   },
   "source": [
    "### … and array of values too"
   ]
  },
  {
   "cell_type": "code",
   "execution_count": null,
   "metadata": {
    "id": "vqMo7eve7_Kp",
    "outputId": "a2c8492f-fd3c-4344-9410-1ea0713c6a8a"
   },
   "outputs": [
    {
     "data": {
      "text/plain": [
       "array(['BATTERY', 'THEFT', 'OTHER OFFENSE', ..., 'WEAPONS VIOLATION',\n",
       "       'BATTERY', 'BATTERY'], dtype=object)"
      ]
     },
     "execution_count": 56,
     "metadata": {},
     "output_type": "execute_result"
    }
   ],
   "source": [
    "crime_types.values"
   ]
  },
  {
   "cell_type": "markdown",
   "metadata": {
    "id": "hil4UoX87_Kp"
   },
   "source": [
    "### Remember, **data alignment is intrinsic**. If we sort the index, values are still correctly matched to corresponding dates."
   ]
  },
  {
   "cell_type": "code",
   "execution_count": null,
   "metadata": {
    "id": "rzBs2ZF-7_Kp",
    "outputId": "ef75b6c7-64e4-4904-b93d-66aeeac2eff2"
   },
   "outputs": [
    {
     "data": {
      "text/plain": [
       "Date\n",
       "2021-01-01 00:00:00                         THEFT\n",
       "2021-01-01 00:00:00                       ASSAULT\n",
       "2021-01-01 00:00:00                       BATTERY\n",
       "2021-01-01 00:00:00                 OTHER OFFENSE\n",
       "2021-01-01 00:00:00            DECEPTIVE PRACTICE\n",
       "2021-01-01 00:00:00    OFFENSE INVOLVING CHILDREN\n",
       "2021-01-01 00:00:00               CRIMINAL DAMAGE\n",
       "2021-01-01 00:00:00            DECEPTIVE PRACTICE\n",
       "2021-01-01 00:00:00               CRIMINAL DAMAGE\n",
       "2021-01-01 00:01:00                       BATTERY\n",
       "Name: Primary Type, dtype: object"
      ]
     },
     "execution_count": 57,
     "metadata": {},
     "output_type": "execute_result"
    }
   ],
   "source": [
    "crime_types.sort_index(ascending=True).head(10)"
   ]
  },
  {
   "cell_type": "code",
   "execution_count": null,
   "metadata": {
    "id": "3dc3_aUc7_Kp",
    "outputId": "83b59afb-16f0-4d45-99d3-68ffc62a016a"
   },
   "outputs": [
    {
     "data": {
      "text/plain": [
       "Date\n",
       "2021-12-28 00:00:00               ROBBERY\n",
       "2021-12-26 12:00:00    DECEPTIVE PRACTICE\n",
       "2021-12-22 09:00:00    DECEPTIVE PRACTICE\n",
       "2021-12-22 00:01:00    DECEPTIVE PRACTICE\n",
       "2021-12-21 18:30:00               BATTERY\n",
       "Name: Primary Type, dtype: object"
      ]
     },
     "execution_count": 58,
     "metadata": {},
     "output_type": "execute_result"
    }
   ],
   "source": [
    "crime_types.sort_index(ascending=False).head()"
   ]
  },
  {
   "cell_type": "markdown",
   "metadata": {
    "id": "duMzjSqw7_Kp"
   },
   "source": [
    "### The other date structure..."
   ]
  },
  {
   "cell_type": "markdown",
   "metadata": {
    "id": "sxLL7j_f7_Kp"
   },
   "source": [
    "### DataFrame\n",
    "\n",
    "A table-like data structure. Essentially the whole crimes object is a DataFrame."
   ]
  },
  {
   "cell_type": "code",
   "execution_count": null,
   "metadata": {
    "id": "Mv06WdiO7_Kp",
    "outputId": "bcfda602-0b9d-47f7-b33e-052345a3e674"
   },
   "outputs": [
    {
     "data": {
      "text/html": [
       "<div>\n",
       "<style scoped>\n",
       "    .dataframe tbody tr th:only-of-type {\n",
       "        vertical-align: middle;\n",
       "    }\n",
       "\n",
       "    .dataframe tbody tr th {\n",
       "        vertical-align: top;\n",
       "    }\n",
       "\n",
       "    .dataframe thead th {\n",
       "        text-align: right;\n",
       "    }\n",
       "</style>\n",
       "<table border=\"1\" class=\"dataframe\">\n",
       "  <thead>\n",
       "    <tr style=\"text-align: right;\">\n",
       "      <th></th>\n",
       "      <th>ID</th>\n",
       "      <th>Case Number</th>\n",
       "      <th>Block</th>\n",
       "      <th>IUCR</th>\n",
       "      <th>Primary Type</th>\n",
       "      <th>Description</th>\n",
       "      <th>Location Description</th>\n",
       "      <th>Arrest</th>\n",
       "      <th>Domestic</th>\n",
       "      <th>Beat</th>\n",
       "      <th>...</th>\n",
       "      <th>Ward</th>\n",
       "      <th>Community Area</th>\n",
       "      <th>FBI Code</th>\n",
       "      <th>X Coordinate</th>\n",
       "      <th>Y Coordinate</th>\n",
       "      <th>Year</th>\n",
       "      <th>Updated On</th>\n",
       "      <th>Latitude</th>\n",
       "      <th>Longitude</th>\n",
       "      <th>Location</th>\n",
       "    </tr>\n",
       "    <tr>\n",
       "      <th>Date</th>\n",
       "      <th></th>\n",
       "      <th></th>\n",
       "      <th></th>\n",
       "      <th></th>\n",
       "      <th></th>\n",
       "      <th></th>\n",
       "      <th></th>\n",
       "      <th></th>\n",
       "      <th></th>\n",
       "      <th></th>\n",
       "      <th></th>\n",
       "      <th></th>\n",
       "      <th></th>\n",
       "      <th></th>\n",
       "      <th></th>\n",
       "      <th></th>\n",
       "      <th></th>\n",
       "      <th></th>\n",
       "      <th></th>\n",
       "      <th></th>\n",
       "      <th></th>\n",
       "    </tr>\n",
       "  </thead>\n",
       "  <tbody>\n",
       "    <tr>\n",
       "      <th>2021-12-19 07:23:00</th>\n",
       "      <td>12571973</td>\n",
       "      <td>JE482457</td>\n",
       "      <td>042XX S MOZART ST</td>\n",
       "      <td>460</td>\n",
       "      <td>BATTERY</td>\n",
       "      <td>SIMPLE</td>\n",
       "      <td>SIDEWALK</td>\n",
       "      <td>True</td>\n",
       "      <td>True</td>\n",
       "      <td>921</td>\n",
       "      <td>...</td>\n",
       "      <td>15.0</td>\n",
       "      <td>58</td>\n",
       "      <td>08B</td>\n",
       "      <td>1158067.0</td>\n",
       "      <td>1876425.0</td>\n",
       "      <td>2021</td>\n",
       "      <td>9/12/2022 16:45</td>\n",
       "      <td>41.816657</td>\n",
       "      <td>-87.695689</td>\n",
       "      <td>(41.81665685, -87.695688608)</td>\n",
       "    </tr>\n",
       "    <tr>\n",
       "      <th>2021-04-16 20:45:00</th>\n",
       "      <td>12343475</td>\n",
       "      <td>JE202728</td>\n",
       "      <td>056XX N RIDGE AVE</td>\n",
       "      <td>820</td>\n",
       "      <td>THEFT</td>\n",
       "      <td>$500 AND UNDER</td>\n",
       "      <td>OTHER (SPECIFY)</td>\n",
       "      <td>False</td>\n",
       "      <td>False</td>\n",
       "      <td>2013</td>\n",
       "      <td>...</td>\n",
       "      <td>48.0</td>\n",
       "      <td>77</td>\n",
       "      <td>6</td>\n",
       "      <td>NaN</td>\n",
       "      <td>NaN</td>\n",
       "      <td>2021</td>\n",
       "      <td>4/23/2021 16:51</td>\n",
       "      <td>NaN</td>\n",
       "      <td>NaN</td>\n",
       "      <td>NaN</td>\n",
       "    </tr>\n",
       "    <tr>\n",
       "      <th>2021-10-21 11:00:00</th>\n",
       "      <td>12602803</td>\n",
       "      <td>JF125633</td>\n",
       "      <td>083XX S STONY ISLAND AVE</td>\n",
       "      <td>500E</td>\n",
       "      <td>OTHER OFFENSE</td>\n",
       "      <td>EAVESDROPPING</td>\n",
       "      <td>OTHER (SPECIFY)</td>\n",
       "      <td>False</td>\n",
       "      <td>False</td>\n",
       "      <td>412</td>\n",
       "      <td>...</td>\n",
       "      <td>8.0</td>\n",
       "      <td>45</td>\n",
       "      <td>26</td>\n",
       "      <td>1188260.0</td>\n",
       "      <td>1849805.0</td>\n",
       "      <td>2021</td>\n",
       "      <td>2/27/2022 15:46</td>\n",
       "      <td>41.742941</td>\n",
       "      <td>-87.585783</td>\n",
       "      <td>(41.74294124, -87.585783412)</td>\n",
       "    </tr>\n",
       "    <tr>\n",
       "      <th>2021-11-14 06:00:00</th>\n",
       "      <td>12540388</td>\n",
       "      <td>JE444591</td>\n",
       "      <td>086XX S COTTAGE GROVE AVE</td>\n",
       "      <td>850</td>\n",
       "      <td>THEFT</td>\n",
       "      <td>ATTEMPT THEFT</td>\n",
       "      <td>CONVENIENCE STORE</td>\n",
       "      <td>False</td>\n",
       "      <td>False</td>\n",
       "      <td>632</td>\n",
       "      <td>...</td>\n",
       "      <td>6.0</td>\n",
       "      <td>44</td>\n",
       "      <td>6</td>\n",
       "      <td>1183071.0</td>\n",
       "      <td>1847869.0</td>\n",
       "      <td>2021</td>\n",
       "      <td>11/21/2021 15:48</td>\n",
       "      <td>41.737751</td>\n",
       "      <td>-87.604856</td>\n",
       "      <td>(41.737750767, -87.604855911)</td>\n",
       "    </tr>\n",
       "    <tr>\n",
       "      <th>2021-11-14 04:00:00</th>\n",
       "      <td>12541139</td>\n",
       "      <td>JE445494</td>\n",
       "      <td>034XX W 38TH ST</td>\n",
       "      <td>486</td>\n",
       "      <td>BATTERY</td>\n",
       "      <td>DOMESTIC BATTERY SIMPLE</td>\n",
       "      <td>RESIDENCE</td>\n",
       "      <td>False</td>\n",
       "      <td>True</td>\n",
       "      <td>911</td>\n",
       "      <td>...</td>\n",
       "      <td>12.0</td>\n",
       "      <td>58</td>\n",
       "      <td>08B</td>\n",
       "      <td>1154073.0</td>\n",
       "      <td>1879187.0</td>\n",
       "      <td>2021</td>\n",
       "      <td>11/21/2021 15:48</td>\n",
       "      <td>41.824317</td>\n",
       "      <td>-87.710266</td>\n",
       "      <td>(41.824316537, -87.710266215)</td>\n",
       "    </tr>\n",
       "  </tbody>\n",
       "</table>\n",
       "<p>5 rows × 21 columns</p>\n",
       "</div>"
      ],
      "text/plain": [
       "                           ID Case Number                      Block  IUCR  \\\n",
       "Date                                                                         \n",
       "2021-12-19 07:23:00  12571973    JE482457          042XX S MOZART ST   460   \n",
       "2021-04-16 20:45:00  12343475    JE202728          056XX N RIDGE AVE   820   \n",
       "2021-10-21 11:00:00  12602803    JF125633   083XX S STONY ISLAND AVE  500E   \n",
       "2021-11-14 06:00:00  12540388    JE444591  086XX S COTTAGE GROVE AVE   850   \n",
       "2021-11-14 04:00:00  12541139    JE445494            034XX W 38TH ST   486   \n",
       "\n",
       "                      Primary Type              Description  \\\n",
       "Date                                                          \n",
       "2021-12-19 07:23:00        BATTERY                   SIMPLE   \n",
       "2021-04-16 20:45:00          THEFT           $500 AND UNDER   \n",
       "2021-10-21 11:00:00  OTHER OFFENSE            EAVESDROPPING   \n",
       "2021-11-14 06:00:00          THEFT            ATTEMPT THEFT   \n",
       "2021-11-14 04:00:00        BATTERY  DOMESTIC BATTERY SIMPLE   \n",
       "\n",
       "                    Location Description  Arrest  Domestic  Beat  ...  Ward  \\\n",
       "Date                                                              ...         \n",
       "2021-12-19 07:23:00             SIDEWALK    True      True   921  ...  15.0   \n",
       "2021-04-16 20:45:00      OTHER (SPECIFY)   False     False  2013  ...  48.0   \n",
       "2021-10-21 11:00:00      OTHER (SPECIFY)   False     False   412  ...   8.0   \n",
       "2021-11-14 06:00:00    CONVENIENCE STORE   False     False   632  ...   6.0   \n",
       "2021-11-14 04:00:00            RESIDENCE   False      True   911  ...  12.0   \n",
       "\n",
       "                     Community Area  FBI Code X Coordinate  Y Coordinate  \\\n",
       "Date                                                                       \n",
       "2021-12-19 07:23:00              58       08B    1158067.0     1876425.0   \n",
       "2021-04-16 20:45:00              77         6          NaN           NaN   \n",
       "2021-10-21 11:00:00              45        26    1188260.0     1849805.0   \n",
       "2021-11-14 06:00:00              44         6    1183071.0     1847869.0   \n",
       "2021-11-14 04:00:00              58       08B    1154073.0     1879187.0   \n",
       "\n",
       "                     Year        Updated On   Latitude  Longitude  \\\n",
       "Date                                                                \n",
       "2021-12-19 07:23:00  2021   9/12/2022 16:45  41.816657 -87.695689   \n",
       "2021-04-16 20:45:00  2021   4/23/2021 16:51        NaN        NaN   \n",
       "2021-10-21 11:00:00  2021   2/27/2022 15:46  41.742941 -87.585783   \n",
       "2021-11-14 06:00:00  2021  11/21/2021 15:48  41.737751 -87.604856   \n",
       "2021-11-14 04:00:00  2021  11/21/2021 15:48  41.824317 -87.710266   \n",
       "\n",
       "                                          Location  \n",
       "Date                                                \n",
       "2021-12-19 07:23:00   (41.81665685, -87.695688608)  \n",
       "2021-04-16 20:45:00                            NaN  \n",
       "2021-10-21 11:00:00   (41.74294124, -87.585783412)  \n",
       "2021-11-14 06:00:00  (41.737750767, -87.604855911)  \n",
       "2021-11-14 04:00:00  (41.824316537, -87.710266215)  \n",
       "\n",
       "[5 rows x 21 columns]"
      ]
     },
     "execution_count": 106,
     "metadata": {},
     "output_type": "execute_result"
    }
   ],
   "source": [
    "crimes.head()"
   ]
  },
  {
   "cell_type": "markdown",
   "metadata": {
    "id": "wKF5AYYO7_Kq"
   },
   "source": [
    "It also has an index of rows:"
   ]
  },
  {
   "cell_type": "code",
   "execution_count": null,
   "metadata": {
    "id": "HyQhb-8H7_Kq",
    "outputId": "cba3849c-a72d-4f1d-f6e5-6909c9ab5462"
   },
   "outputs": [
    {
     "data": {
      "text/plain": [
       "DatetimeIndex(['2021-12-19 07:23:00', '2021-04-16 20:45:00',\n",
       "               '2021-10-21 11:00:00', '2021-11-14 06:00:00',\n",
       "               '2021-11-14 04:00:00', '2021-11-14 09:00:00',\n",
       "               '2021-11-14 14:00:00', '2021-11-14 00:00:00',\n",
       "               '2021-01-09 15:59:00', '2021-04-28 20:18:00',\n",
       "               ...\n",
       "               '2021-01-04 18:30:00', '2021-01-04 11:00:00',\n",
       "               '2021-01-04 09:00:00', '2021-01-09 04:19:00',\n",
       "               '2021-01-05 00:46:00', '2021-01-02 12:32:00',\n",
       "               '2021-01-06 12:18:00', '2021-01-07 10:52:00',\n",
       "               '2021-01-01 01:00:00', '2021-01-02 23:02:00'],\n",
       "              dtype='datetime64[ns]', name='Date', length=20000, freq=None)"
      ]
     },
     "execution_count": 60,
     "metadata": {},
     "output_type": "execute_result"
    }
   ],
   "source": [
    "crimes.index"
   ]
  },
  {
   "cell_type": "markdown",
   "metadata": {
    "id": "LfNjIqkq7_Kq"
   },
   "source": [
    "… but also an index of columns"
   ]
  },
  {
   "cell_type": "code",
   "execution_count": null,
   "metadata": {
    "id": "MwhY7xOl7_Kq",
    "outputId": "36570b46-7105-4aa1-c2a0-84377d192bb6"
   },
   "outputs": [
    {
     "data": {
      "text/plain": [
       "Index(['ID', 'Case Number', 'Block', 'IUCR', 'Primary Type', 'Description',\n",
       "       'Location Description', 'Arrest', 'Domestic', 'Beat', 'District',\n",
       "       'Ward', 'Community Area', 'FBI Code', 'X Coordinate', 'Y Coordinate',\n",
       "       'Year', 'Updated On', 'Latitude', 'Longitude', 'Location'],\n",
       "      dtype='object')"
      ]
     },
     "execution_count": 107,
     "metadata": {},
     "output_type": "execute_result"
    }
   ],
   "source": [
    "crimes.columns"
   ]
  },
  {
   "cell_type": "markdown",
   "metadata": {
    "id": "tocBgEuu7_Kq"
   },
   "source": [
    "## TANGENT : CREATING PANDA OBJECTS"
   ]
  },
  {
   "cell_type": "markdown",
   "metadata": {
    "id": "OlokBVvx7_Kq"
   },
   "source": [
    "### So far we've only been creating Pandas objects from CSV files using the `pd.read_csv` function, but we can also create new ones from other Python data structures (which will come in handy later when we get to scraping data from the web).\n",
    "\n",
    "### Let us create a series with a Python object"
   ]
  },
  {
   "cell_type": "code",
   "execution_count": null,
   "metadata": {
    "id": "3wznyGZm7_Kq",
    "outputId": "61ecb638-187e-4d70-e67b-ab3d5c570e20"
   },
   "outputs": [
    {
     "data": {
      "text/plain": [
       "A    15\n",
       "B     8\n",
       "C     6\n",
       "D     2\n",
       "E    10\n",
       "dtype: int64"
      ]
     },
     "execution_count": 62,
     "metadata": {},
     "output_type": "execute_result"
    }
   ],
   "source": [
    "s = pd.Series({'A': 15, 'B': 8, 'C': 6, 'D': 2, 'E': 10})\n",
    "s"
   ]
  },
  {
   "cell_type": "code",
   "execution_count": null,
   "metadata": {
    "id": "sEH8evee7_Kq",
    "outputId": "b64e115c-efe2-4a41-f90d-194834241458"
   },
   "outputs": [
    {
     "data": {
      "text/html": [
       "<div>\n",
       "<style scoped>\n",
       "    .dataframe tbody tr th:only-of-type {\n",
       "        vertical-align: middle;\n",
       "    }\n",
       "\n",
       "    .dataframe tbody tr th {\n",
       "        vertical-align: top;\n",
       "    }\n",
       "\n",
       "    .dataframe thead th {\n",
       "        text-align: right;\n",
       "    }\n",
       "</style>\n",
       "<table border=\"1\" class=\"dataframe\">\n",
       "  <thead>\n",
       "    <tr style=\"text-align: right;\">\n",
       "      <th></th>\n",
       "      <th>age</th>\n",
       "      <th>test</th>\n",
       "    </tr>\n",
       "  </thead>\n",
       "  <tbody>\n",
       "    <tr>\n",
       "      <th>A</th>\n",
       "      <td>15</td>\n",
       "      <td>2.60</td>\n",
       "    </tr>\n",
       "    <tr>\n",
       "      <th>B</th>\n",
       "      <td>8</td>\n",
       "      <td>69.27</td>\n",
       "    </tr>\n",
       "    <tr>\n",
       "      <th>C</th>\n",
       "      <td>6</td>\n",
       "      <td>14.20</td>\n",
       "    </tr>\n",
       "    <tr>\n",
       "      <th>D</th>\n",
       "      <td>2</td>\n",
       "      <td>8.00</td>\n",
       "    </tr>\n",
       "    <tr>\n",
       "      <th>E</th>\n",
       "      <td>10</td>\n",
       "      <td>5.93</td>\n",
       "    </tr>\n",
       "  </tbody>\n",
       "</table>\n",
       "</div>"
      ],
      "text/plain": [
       "   age   test\n",
       "A   15   2.60\n",
       "B    8  69.27\n",
       "C    6  14.20\n",
       "D    2   8.00\n",
       "E   10   5.93"
      ]
     },
     "execution_count": 109,
     "metadata": {},
     "output_type": "execute_result"
    }
   ],
   "source": [
    "df = pd.DataFrame({'age': s, 'test': {'A': 2.6, 'B': 69.27, 'C': 14.2, 'D': 8.0, 'E': 5.93}})\n",
    "df  # we set age to the series s"
   ]
  },
  {
   "cell_type": "markdown",
   "metadata": {
    "id": "eDc8Av7L7_Kq"
   },
   "source": [
    "## SELECTING VALUES"
   ]
  },
  {
   "cell_type": "markdown",
   "metadata": {
    "id": "DFZtmMsW7_Kq"
   },
   "source": [
    "###  Now let's give a very quick overview of the many ways of data selection in Pandas.\n",
    "\n",
    "### Selecting by label ... Label-based using `.loc`\n",
    "\n",
    "### By single value – this actually returns a series when we select a single column/row in a DataFrame"
   ]
  },
  {
   "cell_type": "code",
   "execution_count": null,
   "metadata": {
    "id": "8PoTkS0a7_Kq",
    "outputId": "b755661d-77b0-41fd-d530-c0be9e918c67"
   },
   "outputs": [
    {
     "data": {
      "text/plain": [
       "age     15.0\n",
       "test     2.6\n",
       "Name: A, dtype: float64"
      ]
     },
     "execution_count": 110,
     "metadata": {},
     "output_type": "execute_result"
    }
   ],
   "source": [
    "df.loc['A'] #selecting from the dataframe"
   ]
  },
  {
   "cell_type": "markdown",
   "metadata": {
    "id": "bHy2eyAC7_Kr"
   },
   "source": [
    "#### If we're selecting in a Series, we get back a scalar. Note the difference."
   ]
  },
  {
   "cell_type": "code",
   "execution_count": null,
   "metadata": {
    "id": "a0HGN1-D7_Kr",
    "outputId": "b566a721-d3a0-4258-b9b7-3b4965ff59c1"
   },
   "outputs": [
    {
     "data": {
      "text/plain": [
       "15"
      ]
     },
     "execution_count": 111,
     "metadata": {},
     "output_type": "execute_result"
    }
   ],
   "source": [
    "s.loc['A'] #seleting from the series"
   ]
  },
  {
   "cell_type": "markdown",
   "metadata": {
    "id": "zwGvopjX7_Kr"
   },
   "source": [
    "Or we can select by passing a list of labels to select (which keeps the same dimensionality)"
   ]
  },
  {
   "cell_type": "code",
   "execution_count": null,
   "metadata": {
    "id": "EYUbsP_V7_Kr",
    "outputId": "96d73764-496f-45e6-d4c4-c46841527b77"
   },
   "outputs": [
    {
     "data": {
      "text/html": [
       "<div>\n",
       "<style scoped>\n",
       "    .dataframe tbody tr th:only-of-type {\n",
       "        vertical-align: middle;\n",
       "    }\n",
       "\n",
       "    .dataframe tbody tr th {\n",
       "        vertical-align: top;\n",
       "    }\n",
       "\n",
       "    .dataframe thead th {\n",
       "        text-align: right;\n",
       "    }\n",
       "</style>\n",
       "<table border=\"1\" class=\"dataframe\">\n",
       "  <thead>\n",
       "    <tr style=\"text-align: right;\">\n",
       "      <th></th>\n",
       "      <th>age</th>\n",
       "      <th>test</th>\n",
       "    </tr>\n",
       "  </thead>\n",
       "  <tbody>\n",
       "    <tr>\n",
       "      <th>A</th>\n",
       "      <td>15</td>\n",
       "      <td>2.60</td>\n",
       "    </tr>\n",
       "    <tr>\n",
       "      <th>B</th>\n",
       "      <td>8</td>\n",
       "      <td>69.27</td>\n",
       "    </tr>\n",
       "  </tbody>\n",
       "</table>\n",
       "</div>"
      ],
      "text/plain": [
       "   age   test\n",
       "A   15   2.60\n",
       "B    8  69.27"
      ]
     },
     "execution_count": 66,
     "metadata": {},
     "output_type": "execute_result"
    }
   ],
   "source": [
    "# using lists\n",
    "df.loc[['A', 'B']]"
   ]
  },
  {
   "cell_type": "code",
   "execution_count": null,
   "metadata": {
    "id": "oIvGjv0v7_Kr",
    "outputId": "4ae52189-6b52-4147-8e2e-b0e00702b7d8"
   },
   "outputs": [
    {
     "data": {
      "text/plain": [
       "A    15\n",
       "B     8\n",
       "dtype: int64"
      ]
     },
     "execution_count": 67,
     "metadata": {},
     "output_type": "execute_result"
    }
   ],
   "source": [
    "s.loc[['A', 'B']]"
   ]
  },
  {
   "cell_type": "markdown",
   "metadata": {
    "id": "BQRZ7K337_Kr"
   },
   "source": [
    "We can also select columns"
   ]
  },
  {
   "cell_type": "code",
   "execution_count": null,
   "metadata": {
    "id": "Dx-amMB57_Kr",
    "outputId": "0eadf0b4-e4df-438b-8157-8c2a4af1554c"
   },
   "outputs": [
    {
     "data": {
      "text/html": [
       "<div>\n",
       "<style scoped>\n",
       "    .dataframe tbody tr th:only-of-type {\n",
       "        vertical-align: middle;\n",
       "    }\n",
       "\n",
       "    .dataframe tbody tr th {\n",
       "        vertical-align: top;\n",
       "    }\n",
       "\n",
       "    .dataframe thead th {\n",
       "        text-align: right;\n",
       "    }\n",
       "</style>\n",
       "<table border=\"1\" class=\"dataframe\">\n",
       "  <thead>\n",
       "    <tr style=\"text-align: right;\">\n",
       "      <th></th>\n",
       "      <th>age</th>\n",
       "    </tr>\n",
       "  </thead>\n",
       "  <tbody>\n",
       "    <tr>\n",
       "      <th>A</th>\n",
       "      <td>15</td>\n",
       "    </tr>\n",
       "    <tr>\n",
       "      <th>B</th>\n",
       "      <td>8</td>\n",
       "    </tr>\n",
       "    <tr>\n",
       "      <th>C</th>\n",
       "      <td>6</td>\n",
       "    </tr>\n",
       "    <tr>\n",
       "      <th>D</th>\n",
       "      <td>2</td>\n",
       "    </tr>\n",
       "    <tr>\n",
       "      <th>E</th>\n",
       "      <td>10</td>\n",
       "    </tr>\n",
       "  </tbody>\n",
       "</table>\n",
       "</div>"
      ],
      "text/plain": [
       "   age\n",
       "A   15\n",
       "B    8\n",
       "C    6\n",
       "D    2\n",
       "E   10"
      ]
     },
     "execution_count": 68,
     "metadata": {},
     "output_type": "execute_result"
    }
   ],
   "source": [
    "df.loc[:, ['age']]"
   ]
  },
  {
   "cell_type": "markdown",
   "metadata": {
    "id": "fFzPv1oW7_Kr"
   },
   "source": [
    "… or both by row and column"
   ]
  },
  {
   "cell_type": "code",
   "execution_count": null,
   "metadata": {
    "id": "yNdn8VaF7_Kr",
    "outputId": "a5e3f4c7-f55d-478b-b366-6498532dbc64"
   },
   "outputs": [
    {
     "data": {
      "text/html": [
       "<div>\n",
       "<style scoped>\n",
       "    .dataframe tbody tr th:only-of-type {\n",
       "        vertical-align: middle;\n",
       "    }\n",
       "\n",
       "    .dataframe tbody tr th {\n",
       "        vertical-align: top;\n",
       "    }\n",
       "\n",
       "    .dataframe thead th {\n",
       "        text-align: right;\n",
       "    }\n",
       "</style>\n",
       "<table border=\"1\" class=\"dataframe\">\n",
       "  <thead>\n",
       "    <tr style=\"text-align: right;\">\n",
       "      <th></th>\n",
       "      <th>age</th>\n",
       "    </tr>\n",
       "  </thead>\n",
       "  <tbody>\n",
       "    <tr>\n",
       "      <th>A</th>\n",
       "      <td>15</td>\n",
       "    </tr>\n",
       "    <tr>\n",
       "      <th>B</th>\n",
       "      <td>8</td>\n",
       "    </tr>\n",
       "  </tbody>\n",
       "</table>\n",
       "</div>"
      ],
      "text/plain": [
       "   age\n",
       "A   15\n",
       "B    8"
      ]
     },
     "execution_count": 69,
     "metadata": {},
     "output_type": "execute_result"
    }
   ],
   "source": [
    "df.loc[['A','B'], ['age']]"
   ]
  },
  {
   "cell_type": "markdown",
   "metadata": {
    "id": "cwOOogaB7_Kr"
   },
   "source": [
    "Shorthand we've been using already for selecting a whole column"
   ]
  },
  {
   "cell_type": "code",
   "execution_count": null,
   "metadata": {
    "id": "IjKZxG5R7_Kr",
    "outputId": "78292b52-53ab-463b-9744-cf791912a342"
   },
   "outputs": [
    {
     "data": {
      "text/plain": [
       "A    15\n",
       "B     8\n",
       "C     6\n",
       "D     2\n",
       "E    10\n",
       "Name: age, dtype: int64"
      ]
     },
     "execution_count": 70,
     "metadata": {},
     "output_type": "execute_result"
    }
   ],
   "source": [
    "df['age']"
   ]
  },
  {
   "cell_type": "markdown",
   "metadata": {
    "id": "2kjZ46QC7_Ku"
   },
   "source": [
    "#### If the column name doesn't contain spaces or doesn't clash with any object method names we can also use the following syntax"
   ]
  },
  {
   "cell_type": "code",
   "execution_count": null,
   "metadata": {
    "id": "YNh_3WUD7_Ku",
    "outputId": "f8e226f1-dda6-4916-f84c-fe0950d15bc5"
   },
   "outputs": [
    {
     "data": {
      "text/plain": [
       "A    15\n",
       "B     8\n",
       "C     6\n",
       "D     2\n",
       "E    10\n",
       "Name: age, dtype: int64"
      ]
     },
     "execution_count": 71,
     "metadata": {},
     "output_type": "execute_result"
    }
   ],
   "source": [
    "df.age"
   ]
  },
  {
   "cell_type": "markdown",
   "metadata": {
    "id": "HtHfB2Nl7_Ku"
   },
   "source": [
    "## Index-based using `.iloc`\n",
    "\n",
    "### Here we select using index numbers"
   ]
  },
  {
   "cell_type": "code",
   "execution_count": null,
   "metadata": {
    "id": "R5QoPEy47_Ku",
    "outputId": "e9ed99f2-34e6-4afc-d54a-53317d60ab7f"
   },
   "outputs": [
    {
     "data": {
      "text/html": [
       "<div>\n",
       "<style scoped>\n",
       "    .dataframe tbody tr th:only-of-type {\n",
       "        vertical-align: middle;\n",
       "    }\n",
       "\n",
       "    .dataframe tbody tr th {\n",
       "        vertical-align: top;\n",
       "    }\n",
       "\n",
       "    .dataframe thead th {\n",
       "        text-align: right;\n",
       "    }\n",
       "</style>\n",
       "<table border=\"1\" class=\"dataframe\">\n",
       "  <thead>\n",
       "    <tr style=\"text-align: right;\">\n",
       "      <th></th>\n",
       "      <th>age</th>\n",
       "      <th>test</th>\n",
       "    </tr>\n",
       "  </thead>\n",
       "  <tbody>\n",
       "    <tr>\n",
       "      <th>A</th>\n",
       "      <td>15</td>\n",
       "      <td>2.6</td>\n",
       "    </tr>\n",
       "    <tr>\n",
       "      <th>C</th>\n",
       "      <td>6</td>\n",
       "      <td>14.2</td>\n",
       "    </tr>\n",
       "    <tr>\n",
       "      <th>D</th>\n",
       "      <td>2</td>\n",
       "      <td>8.0</td>\n",
       "    </tr>\n",
       "  </tbody>\n",
       "</table>\n",
       "</div>"
      ],
      "text/plain": [
       "   age  test\n",
       "A   15   2.6\n",
       "C    6  14.2\n",
       "D    2   8.0"
      ]
     },
     "execution_count": 72,
     "metadata": {},
     "output_type": "execute_result"
    }
   ],
   "source": [
    "df.iloc[[0, 2, 3]]"
   ]
  },
  {
   "cell_type": "code",
   "execution_count": null,
   "metadata": {
    "id": "z_SMydf67_Ku",
    "outputId": "8c9eb156-7dfe-4ad5-856c-26fb74f46985",
    "scrolled": true
   },
   "outputs": [
    {
     "data": {
      "text/html": [
       "<div>\n",
       "<style scoped>\n",
       "    .dataframe tbody tr th:only-of-type {\n",
       "        vertical-align: middle;\n",
       "    }\n",
       "\n",
       "    .dataframe tbody tr th {\n",
       "        vertical-align: top;\n",
       "    }\n",
       "\n",
       "    .dataframe thead th {\n",
       "        text-align: right;\n",
       "    }\n",
       "</style>\n",
       "<table border=\"1\" class=\"dataframe\">\n",
       "  <thead>\n",
       "    <tr style=\"text-align: right;\">\n",
       "      <th></th>\n",
       "      <th>Description</th>\n",
       "    </tr>\n",
       "    <tr>\n",
       "      <th>Date</th>\n",
       "      <th></th>\n",
       "    </tr>\n",
       "  </thead>\n",
       "  <tbody>\n",
       "    <tr>\n",
       "      <th>2021-12-19 07:23:00</th>\n",
       "      <td>SIMPLE</td>\n",
       "    </tr>\n",
       "    <tr>\n",
       "      <th>2021-04-16 20:45:00</th>\n",
       "      <td>$500 AND UNDER</td>\n",
       "    </tr>\n",
       "    <tr>\n",
       "      <th>2021-10-21 11:00:00</th>\n",
       "      <td>EAVESDROPPING</td>\n",
       "    </tr>\n",
       "    <tr>\n",
       "      <th>2021-11-14 06:00:00</th>\n",
       "      <td>ATTEMPT THEFT</td>\n",
       "    </tr>\n",
       "    <tr>\n",
       "      <th>2021-11-14 04:00:00</th>\n",
       "      <td>DOMESTIC BATTERY SIMPLE</td>\n",
       "    </tr>\n",
       "    <tr>\n",
       "      <th>2021-11-14 09:00:00</th>\n",
       "      <td>$500 AND UNDER</td>\n",
       "    </tr>\n",
       "    <tr>\n",
       "      <th>2021-11-14 14:00:00</th>\n",
       "      <td>$500 AND UNDER</td>\n",
       "    </tr>\n",
       "    <tr>\n",
       "      <th>2021-11-14 00:00:00</th>\n",
       "      <td>DOMESTIC BATTERY SIMPLE</td>\n",
       "    </tr>\n",
       "    <tr>\n",
       "      <th>2021-01-09 15:59:00</th>\n",
       "      <td>BY FIRE</td>\n",
       "    </tr>\n",
       "    <tr>\n",
       "      <th>2021-04-28 20:18:00</th>\n",
       "      <td>VIOLATE ORDER OF PROTECTION</td>\n",
       "    </tr>\n",
       "  </tbody>\n",
       "</table>\n",
       "</div>"
      ],
      "text/plain": [
       "                                     Description\n",
       "Date                                            \n",
       "2021-12-19 07:23:00                       SIMPLE\n",
       "2021-04-16 20:45:00               $500 AND UNDER\n",
       "2021-10-21 11:00:00                EAVESDROPPING\n",
       "2021-11-14 06:00:00                ATTEMPT THEFT\n",
       "2021-11-14 04:00:00      DOMESTIC BATTERY SIMPLE\n",
       "2021-11-14 09:00:00               $500 AND UNDER\n",
       "2021-11-14 14:00:00               $500 AND UNDER\n",
       "2021-11-14 00:00:00      DOMESTIC BATTERY SIMPLE\n",
       "2021-01-09 15:59:00                      BY FIRE\n",
       "2021-04-28 20:18:00  VIOLATE ORDER OF PROTECTION"
      ]
     },
     "execution_count": 112,
     "metadata": {},
     "output_type": "execute_result"
    }
   ],
   "source": [
    "crimes.iloc[:10, [5]]  # give me the first 10 rows and the 5th column"
   ]
  },
  {
   "cell_type": "markdown",
   "metadata": {
    "id": "kDZCMh2H7_Ku"
   },
   "source": [
    "### Using iloc for slicing\n",
    "\n",
    "#### Selecting by using ranges. Back to our small dataframe."
   ]
  },
  {
   "cell_type": "code",
   "execution_count": null,
   "metadata": {
    "id": "fTmumqfw7_Ku",
    "outputId": "68d43205-da4b-49f5-be1a-8e7aaedaaac8"
   },
   "outputs": [
    {
     "data": {
      "text/html": [
       "<div>\n",
       "<style scoped>\n",
       "    .dataframe tbody tr th:only-of-type {\n",
       "        vertical-align: middle;\n",
       "    }\n",
       "\n",
       "    .dataframe tbody tr th {\n",
       "        vertical-align: top;\n",
       "    }\n",
       "\n",
       "    .dataframe thead th {\n",
       "        text-align: right;\n",
       "    }\n",
       "</style>\n",
       "<table border=\"1\" class=\"dataframe\">\n",
       "  <thead>\n",
       "    <tr style=\"text-align: right;\">\n",
       "      <th></th>\n",
       "      <th>age</th>\n",
       "      <th>test</th>\n",
       "    </tr>\n",
       "  </thead>\n",
       "  <tbody>\n",
       "    <tr>\n",
       "      <th>C</th>\n",
       "      <td>6</td>\n",
       "      <td>14.20</td>\n",
       "    </tr>\n",
       "    <tr>\n",
       "      <th>D</th>\n",
       "      <td>2</td>\n",
       "      <td>8.00</td>\n",
       "    </tr>\n",
       "    <tr>\n",
       "      <th>E</th>\n",
       "      <td>10</td>\n",
       "      <td>5.93</td>\n",
       "    </tr>\n",
       "  </tbody>\n",
       "</table>\n",
       "</div>"
      ],
      "text/plain": [
       "   age   test\n",
       "C    6  14.20\n",
       "D    2   8.00\n",
       "E   10   5.93"
      ]
     },
     "execution_count": 74,
     "metadata": {},
     "output_type": "execute_result"
    }
   ],
   "source": [
    "df.iloc[2:5] # give me rows 2 to 4"
   ]
  },
  {
   "cell_type": "markdown",
   "metadata": {
    "id": "f7m27oob7_Ku"
   },
   "source": [
    "Or for short"
   ]
  },
  {
   "cell_type": "code",
   "execution_count": null,
   "metadata": {
    "id": "1BTzmglF7_Ku",
    "outputId": "5c0623a5-ef2a-4a88-a6e6-77b538bac906"
   },
   "outputs": [
    {
     "data": {
      "text/html": [
       "<div>\n",
       "<style scoped>\n",
       "    .dataframe tbody tr th:only-of-type {\n",
       "        vertical-align: middle;\n",
       "    }\n",
       "\n",
       "    .dataframe tbody tr th {\n",
       "        vertical-align: top;\n",
       "    }\n",
       "\n",
       "    .dataframe thead th {\n",
       "        text-align: right;\n",
       "    }\n",
       "</style>\n",
       "<table border=\"1\" class=\"dataframe\">\n",
       "  <thead>\n",
       "    <tr style=\"text-align: right;\">\n",
       "      <th></th>\n",
       "      <th>age</th>\n",
       "      <th>test</th>\n",
       "    </tr>\n",
       "  </thead>\n",
       "  <tbody>\n",
       "    <tr>\n",
       "      <th>C</th>\n",
       "      <td>6</td>\n",
       "      <td>14.20</td>\n",
       "    </tr>\n",
       "    <tr>\n",
       "      <th>D</th>\n",
       "      <td>2</td>\n",
       "      <td>8.00</td>\n",
       "    </tr>\n",
       "    <tr>\n",
       "      <th>E</th>\n",
       "      <td>10</td>\n",
       "      <td>5.93</td>\n",
       "    </tr>\n",
       "  </tbody>\n",
       "</table>\n",
       "</div>"
      ],
      "text/plain": [
       "   age   test\n",
       "C    6  14.20\n",
       "D    2   8.00\n",
       "E   10   5.93"
      ]
     },
     "execution_count": 75,
     "metadata": {},
     "output_type": "execute_result"
    }
   ],
   "source": [
    "df[2:5]"
   ]
  },
  {
   "cell_type": "markdown",
   "metadata": {
    "id": "rnzAgguj7_Kv"
   },
   "source": [
    "### An awesome feature – slicing is datetime-aware"
   ]
  },
  {
   "cell_type": "code",
   "execution_count": null,
   "metadata": {
    "id": "Fw82lEr67_Kv",
    "outputId": "e078b5a8-8c92-47e3-c83e-cbe3f562d6d0"
   },
   "outputs": [
    {
     "data": {
      "text/plain": [
       "Date\n",
       "2021-12-20    1\n",
       "2021-12-21    1\n",
       "2021-12-22    2\n",
       "2021-12-23    0\n",
       "2021-12-24    0\n",
       "2021-12-25    0\n",
       "2021-12-26    1\n",
       "2021-12-27    0\n",
       "2021-12-28    1\n",
       "Freq: D, Name: Primary Type, dtype: int64"
      ]
     },
     "execution_count": 113,
     "metadata": {},
     "output_type": "execute_result"
    }
   ],
   "source": [
    "daily_crimesDec['2021-12-20':].head(10) # give me crimes from Dec 12 to the end"
   ]
  },
  {
   "cell_type": "code",
   "execution_count": null,
   "metadata": {
    "id": "I9YPMSRZ7_Kv",
    "outputId": "3c8ade5f-e210-4a6f-967b-a9f4574335fb"
   },
   "outputs": [
    {
     "data": {
      "text/plain": [
       "Date\n",
       "2021-12-01    0\n",
       "2021-12-02    2\n",
       "2021-12-03    0\n",
       "2021-12-04    1\n",
       "2021-12-05    0\n",
       "2021-12-06    0\n",
       "2021-12-07    1\n",
       "2021-12-08    0\n",
       "2021-12-09    0\n",
       "2021-12-10    0\n",
       "2021-12-11    0\n",
       "2021-12-12    0\n",
       "2021-12-13    0\n",
       "2021-12-14    0\n",
       "2021-12-15    0\n",
       "2021-12-16    1\n",
       "2021-12-17    1\n",
       "2021-12-18    0\n",
       "2021-12-19    1\n",
       "2021-12-20    1\n",
       "2021-12-21    1\n",
       "2021-12-22    2\n",
       "2021-12-23    0\n",
       "2021-12-24    0\n",
       "2021-12-25    0\n",
       "2021-12-26    1\n",
       "2021-12-27    0\n",
       "2021-12-28    1\n",
       "Freq: D, Name: Primary Type, dtype: int64"
      ]
     },
     "execution_count": 114,
     "metadata": {},
     "output_type": "execute_result"
    }
   ],
   "source": [
    "daily_crimesDec['2021-12-01':] # crimes for the month of December"
   ]
  },
  {
   "cell_type": "markdown",
   "metadata": {
    "id": "jeDV5IKK7_Kv"
   },
   "source": [
    "# BOOLEAN INDEXING\n",
    "\n",
    "### Filter based on boolean expressions. Can be used on any expression that returns boolean values…"
   ]
  },
  {
   "cell_type": "code",
   "execution_count": null,
   "metadata": {
    "id": "sdbrCZ0A7_Kv",
    "outputId": "bbb267f2-225a-4837-ea09-77b8cae08e67"
   },
   "outputs": [
    {
     "data": {
      "text/plain": [
       "Date\n",
       "2021-12-01    False\n",
       "2021-12-02     True\n",
       "2021-12-03    False\n",
       "2021-12-04    False\n",
       "2021-12-05    False\n",
       "2021-12-06    False\n",
       "2021-12-07    False\n",
       "2021-12-08    False\n",
       "2021-12-09    False\n",
       "2021-12-10    False\n",
       "2021-12-11    False\n",
       "2021-12-12    False\n",
       "2021-12-13    False\n",
       "2021-12-14    False\n",
       "2021-12-15    False\n",
       "2021-12-16    False\n",
       "2021-12-17    False\n",
       "2021-12-18    False\n",
       "2021-12-19    False\n",
       "2021-12-20    False\n",
       "2021-12-21    False\n",
       "2021-12-22     True\n",
       "2021-12-23    False\n",
       "2021-12-24    False\n",
       "2021-12-25    False\n",
       "2021-12-26    False\n",
       "2021-12-27    False\n",
       "2021-12-28    False\n",
       "Freq: D, Name: Primary Type, dtype: bool"
      ]
     },
     "execution_count": 77,
     "metadata": {},
     "output_type": "execute_result"
    }
   ],
   "source": [
    "daily_crimesDec > 1 # Here we are trying to determine the crimes for"
   ]
  },
  {
   "cell_type": "markdown",
   "metadata": {
    "id": "k3By7kXK7_Kv"
   },
   "source": [
    "… can also be used to index values where the boolean expression yields true."
   ]
  },
  {
   "cell_type": "code",
   "execution_count": null,
   "metadata": {
    "id": "bnfgzHot7_Kv",
    "outputId": "12eba647-bdd0-4d1a-ac4b-1de2f2d4759f"
   },
   "outputs": [
    {
     "data": {
      "text/plain": [
       "2"
      ]
     },
     "execution_count": 115,
     "metadata": {},
     "output_type": "execute_result"
    }
   ],
   "source": [
    "daily_crimesDec[daily_crimesDec > 1].count() # days in Dec when crimes was > 1"
   ]
  },
  {
   "cell_type": "markdown",
   "metadata": {
    "id": "Lzr_LOzr7_Kv"
   },
   "source": [
    "# RESHAPING"
   ]
  },
  {
   "cell_type": "markdown",
   "metadata": {
    "id": "nqWH0kMN7_Kv"
   },
   "source": [
    "### The input data format is often not the most useful for actually processing and visualising the information we're most interested in. Pandas' offers many useful methods for reshaping the data:\n",
    "\n",
    "### - `pivot_table` – select exactly the rows/columns you want\n",
    "### - `stack` / `unstack` – append to the index, adding more levels of a hierarchical Multindex\n",
    "### - `groupby` – similar to the SQL `Group By` command\n",
    "### - `resample` – like `groupby`, but for creating groups from time intervals (hours, days, weeks, etc.)\n",
    "\n",
    "### There are lots of operations you can express using these commands – see more documentation on them [here](https://pandas.pydata.org/pandas-docs/stable/reshaping.html). See https://pandas.pydata.org/pandas-docs/stable/user_guide/reshaping.html\n"
   ]
  },
  {
   "cell_type": "code",
   "execution_count": null,
   "metadata": {
    "id": "CwicC--D7_Kv",
    "outputId": "38892187-0c97-41b1-9d0a-703a2e860780"
   },
   "outputs": [
    {
     "data": {
      "text/html": [
       "<div>\n",
       "<style scoped>\n",
       "    .dataframe tbody tr th:only-of-type {\n",
       "        vertical-align: middle;\n",
       "    }\n",
       "\n",
       "    .dataframe tbody tr th {\n",
       "        vertical-align: top;\n",
       "    }\n",
       "\n",
       "    .dataframe thead th {\n",
       "        text-align: right;\n",
       "    }\n",
       "</style>\n",
       "<table border=\"1\" class=\"dataframe\">\n",
       "  <thead>\n",
       "    <tr style=\"text-align: right;\">\n",
       "      <th></th>\n",
       "      <th>ID</th>\n",
       "      <th>Case Number</th>\n",
       "      <th>Block</th>\n",
       "      <th>IUCR</th>\n",
       "      <th>Primary Type</th>\n",
       "      <th>Description</th>\n",
       "      <th>Location Description</th>\n",
       "      <th>Arrest</th>\n",
       "      <th>Domestic</th>\n",
       "      <th>Beat</th>\n",
       "      <th>...</th>\n",
       "      <th>Ward</th>\n",
       "      <th>Community Area</th>\n",
       "      <th>FBI Code</th>\n",
       "      <th>X Coordinate</th>\n",
       "      <th>Y Coordinate</th>\n",
       "      <th>Year</th>\n",
       "      <th>Updated On</th>\n",
       "      <th>Latitude</th>\n",
       "      <th>Longitude</th>\n",
       "      <th>Location</th>\n",
       "    </tr>\n",
       "    <tr>\n",
       "      <th>Date</th>\n",
       "      <th></th>\n",
       "      <th></th>\n",
       "      <th></th>\n",
       "      <th></th>\n",
       "      <th></th>\n",
       "      <th></th>\n",
       "      <th></th>\n",
       "      <th></th>\n",
       "      <th></th>\n",
       "      <th></th>\n",
       "      <th></th>\n",
       "      <th></th>\n",
       "      <th></th>\n",
       "      <th></th>\n",
       "      <th></th>\n",
       "      <th></th>\n",
       "      <th></th>\n",
       "      <th></th>\n",
       "      <th></th>\n",
       "      <th></th>\n",
       "      <th></th>\n",
       "    </tr>\n",
       "  </thead>\n",
       "  <tbody>\n",
       "    <tr>\n",
       "      <th>2021-12-19 07:23:00</th>\n",
       "      <td>12571973</td>\n",
       "      <td>JE482457</td>\n",
       "      <td>042XX S MOZART ST</td>\n",
       "      <td>460</td>\n",
       "      <td>BATTERY</td>\n",
       "      <td>SIMPLE</td>\n",
       "      <td>SIDEWALK</td>\n",
       "      <td>True</td>\n",
       "      <td>True</td>\n",
       "      <td>921</td>\n",
       "      <td>...</td>\n",
       "      <td>15</td>\n",
       "      <td>58</td>\n",
       "      <td>08B</td>\n",
       "      <td>1158067.0</td>\n",
       "      <td>1876425.0</td>\n",
       "      <td>2021</td>\n",
       "      <td>9/12/2022 16:45</td>\n",
       "      <td>41.816657</td>\n",
       "      <td>-87.695689</td>\n",
       "      <td>(41.81665685, -87.695688608)</td>\n",
       "    </tr>\n",
       "    <tr>\n",
       "      <th>2021-04-16 20:45:00</th>\n",
       "      <td>12343475</td>\n",
       "      <td>JE202728</td>\n",
       "      <td>056XX N RIDGE AVE</td>\n",
       "      <td>820</td>\n",
       "      <td>THEFT</td>\n",
       "      <td>$500 AND UNDER</td>\n",
       "      <td>OTHER (SPECIFY)</td>\n",
       "      <td>False</td>\n",
       "      <td>False</td>\n",
       "      <td>2013</td>\n",
       "      <td>...</td>\n",
       "      <td>48</td>\n",
       "      <td>77</td>\n",
       "      <td>6</td>\n",
       "      <td>NaN</td>\n",
       "      <td>NaN</td>\n",
       "      <td>2021</td>\n",
       "      <td>4/23/2021 16:51</td>\n",
       "      <td>NaN</td>\n",
       "      <td>NaN</td>\n",
       "      <td>NaN</td>\n",
       "    </tr>\n",
       "    <tr>\n",
       "      <th>2021-10-21 11:00:00</th>\n",
       "      <td>12602803</td>\n",
       "      <td>JF125633</td>\n",
       "      <td>083XX S STONY ISLAND AVE</td>\n",
       "      <td>500E</td>\n",
       "      <td>OTHER OFFENSE</td>\n",
       "      <td>EAVESDROPPING</td>\n",
       "      <td>OTHER (SPECIFY)</td>\n",
       "      <td>False</td>\n",
       "      <td>False</td>\n",
       "      <td>412</td>\n",
       "      <td>...</td>\n",
       "      <td>8</td>\n",
       "      <td>45</td>\n",
       "      <td>26</td>\n",
       "      <td>1188260.0</td>\n",
       "      <td>1849805.0</td>\n",
       "      <td>2021</td>\n",
       "      <td>2/27/2022 15:46</td>\n",
       "      <td>41.742941</td>\n",
       "      <td>-87.585783</td>\n",
       "      <td>(41.74294124, -87.585783412)</td>\n",
       "    </tr>\n",
       "    <tr>\n",
       "      <th>2021-11-14 06:00:00</th>\n",
       "      <td>12540388</td>\n",
       "      <td>JE444591</td>\n",
       "      <td>086XX S COTTAGE GROVE AVE</td>\n",
       "      <td>850</td>\n",
       "      <td>THEFT</td>\n",
       "      <td>ATTEMPT THEFT</td>\n",
       "      <td>CONVENIENCE STORE</td>\n",
       "      <td>False</td>\n",
       "      <td>False</td>\n",
       "      <td>632</td>\n",
       "      <td>...</td>\n",
       "      <td>6</td>\n",
       "      <td>44</td>\n",
       "      <td>6</td>\n",
       "      <td>1183071.0</td>\n",
       "      <td>1847869.0</td>\n",
       "      <td>2021</td>\n",
       "      <td>11/21/2021 15:48</td>\n",
       "      <td>41.737751</td>\n",
       "      <td>-87.604856</td>\n",
       "      <td>(41.737750767, -87.604855911)</td>\n",
       "    </tr>\n",
       "    <tr>\n",
       "      <th>2021-11-14 04:00:00</th>\n",
       "      <td>12541139</td>\n",
       "      <td>JE445494</td>\n",
       "      <td>034XX W 38TH ST</td>\n",
       "      <td>486</td>\n",
       "      <td>BATTERY</td>\n",
       "      <td>DOMESTIC BATTERY SIMPLE</td>\n",
       "      <td>RESIDENCE</td>\n",
       "      <td>False</td>\n",
       "      <td>True</td>\n",
       "      <td>911</td>\n",
       "      <td>...</td>\n",
       "      <td>12</td>\n",
       "      <td>58</td>\n",
       "      <td>08B</td>\n",
       "      <td>1154073.0</td>\n",
       "      <td>1879187.0</td>\n",
       "      <td>2021</td>\n",
       "      <td>11/21/2021 15:48</td>\n",
       "      <td>41.824317</td>\n",
       "      <td>-87.710266</td>\n",
       "      <td>(41.824316537, -87.710266215)</td>\n",
       "    </tr>\n",
       "  </tbody>\n",
       "</table>\n",
       "<p>5 rows × 21 columns</p>\n",
       "</div>"
      ],
      "text/plain": [
       "                           ID Case Number                      Block  IUCR  \\\n",
       "Date                                                                         \n",
       "2021-12-19 07:23:00  12571973    JE482457          042XX S MOZART ST   460   \n",
       "2021-04-16 20:45:00  12343475    JE202728          056XX N RIDGE AVE   820   \n",
       "2021-10-21 11:00:00  12602803    JF125633   083XX S STONY ISLAND AVE  500E   \n",
       "2021-11-14 06:00:00  12540388    JE444591  086XX S COTTAGE GROVE AVE   850   \n",
       "2021-11-14 04:00:00  12541139    JE445494            034XX W 38TH ST   486   \n",
       "\n",
       "                      Primary Type              Description  \\\n",
       "Date                                                          \n",
       "2021-12-19 07:23:00        BATTERY                   SIMPLE   \n",
       "2021-04-16 20:45:00          THEFT           $500 AND UNDER   \n",
       "2021-10-21 11:00:00  OTHER OFFENSE            EAVESDROPPING   \n",
       "2021-11-14 06:00:00          THEFT            ATTEMPT THEFT   \n",
       "2021-11-14 04:00:00        BATTERY  DOMESTIC BATTERY SIMPLE   \n",
       "\n",
       "                    Location Description  Arrest  Domestic  Beat  ...  Ward  \\\n",
       "Date                                                              ...         \n",
       "2021-12-19 07:23:00             SIDEWALK    True      True   921  ...    15   \n",
       "2021-04-16 20:45:00      OTHER (SPECIFY)   False     False  2013  ...    48   \n",
       "2021-10-21 11:00:00      OTHER (SPECIFY)   False     False   412  ...     8   \n",
       "2021-11-14 06:00:00    CONVENIENCE STORE   False     False   632  ...     6   \n",
       "2021-11-14 04:00:00            RESIDENCE   False      True   911  ...    12   \n",
       "\n",
       "                     Community Area  FBI Code X Coordinate  Y Coordinate  \\\n",
       "Date                                                                       \n",
       "2021-12-19 07:23:00              58       08B    1158067.0     1876425.0   \n",
       "2021-04-16 20:45:00              77         6          NaN           NaN   \n",
       "2021-10-21 11:00:00              45        26    1188260.0     1849805.0   \n",
       "2021-11-14 06:00:00              44         6    1183071.0     1847869.0   \n",
       "2021-11-14 04:00:00              58       08B    1154073.0     1879187.0   \n",
       "\n",
       "                     Year        Updated On   Latitude  Longitude  \\\n",
       "Date                                                                \n",
       "2021-12-19 07:23:00  2021   9/12/2022 16:45  41.816657 -87.695689   \n",
       "2021-04-16 20:45:00  2021   4/23/2021 16:51        NaN        NaN   \n",
       "2021-10-21 11:00:00  2021   2/27/2022 15:46  41.742941 -87.585783   \n",
       "2021-11-14 06:00:00  2021  11/21/2021 15:48  41.737751 -87.604856   \n",
       "2021-11-14 04:00:00  2021  11/21/2021 15:48  41.824317 -87.710266   \n",
       "\n",
       "                                          Location  \n",
       "Date                                                \n",
       "2021-12-19 07:23:00   (41.81665685, -87.695688608)  \n",
       "2021-04-16 20:45:00                            NaN  \n",
       "2021-10-21 11:00:00   (41.74294124, -87.585783412)  \n",
       "2021-11-14 06:00:00  (41.737750767, -87.604855911)  \n",
       "2021-11-14 04:00:00  (41.824316537, -87.710266215)  \n",
       "\n",
       "[5 rows x 21 columns]"
      ]
     },
     "execution_count": 117,
     "metadata": {},
     "output_type": "execute_result"
    }
   ],
   "source": [
    "crimes_small.head() #using our small data set"
   ]
  },
  {
   "cell_type": "markdown",
   "metadata": {
    "id": "wAcnej4c7_Kv"
   },
   "source": [
    "### Adding another index"
   ]
  },
  {
   "cell_type": "code",
   "execution_count": null,
   "metadata": {
    "id": "PkITkcKr7_Kv",
    "outputId": "f305aff3-fb22-4131-c59c-8c6141cc67e5"
   },
   "outputs": [
    {
     "data": {
      "text/html": [
       "<div>\n",
       "<style scoped>\n",
       "    .dataframe tbody tr th:only-of-type {\n",
       "        vertical-align: middle;\n",
       "    }\n",
       "\n",
       "    .dataframe tbody tr th {\n",
       "        vertical-align: top;\n",
       "    }\n",
       "\n",
       "    .dataframe thead th {\n",
       "        text-align: right;\n",
       "    }\n",
       "</style>\n",
       "<table border=\"1\" class=\"dataframe\">\n",
       "  <thead>\n",
       "    <tr style=\"text-align: right;\">\n",
       "      <th></th>\n",
       "      <th></th>\n",
       "      <th>ID</th>\n",
       "      <th>Case Number</th>\n",
       "      <th>Block</th>\n",
       "      <th>IUCR</th>\n",
       "      <th>Description</th>\n",
       "      <th>Location Description</th>\n",
       "      <th>Arrest</th>\n",
       "      <th>Domestic</th>\n",
       "      <th>Beat</th>\n",
       "      <th>District</th>\n",
       "      <th>Ward</th>\n",
       "      <th>Community Area</th>\n",
       "      <th>FBI Code</th>\n",
       "      <th>X Coordinate</th>\n",
       "      <th>Y Coordinate</th>\n",
       "      <th>Year</th>\n",
       "      <th>Updated On</th>\n",
       "      <th>Latitude</th>\n",
       "      <th>Longitude</th>\n",
       "      <th>Location</th>\n",
       "    </tr>\n",
       "    <tr>\n",
       "      <th>Date</th>\n",
       "      <th>Primary Type</th>\n",
       "      <th></th>\n",
       "      <th></th>\n",
       "      <th></th>\n",
       "      <th></th>\n",
       "      <th></th>\n",
       "      <th></th>\n",
       "      <th></th>\n",
       "      <th></th>\n",
       "      <th></th>\n",
       "      <th></th>\n",
       "      <th></th>\n",
       "      <th></th>\n",
       "      <th></th>\n",
       "      <th></th>\n",
       "      <th></th>\n",
       "      <th></th>\n",
       "      <th></th>\n",
       "      <th></th>\n",
       "      <th></th>\n",
       "      <th></th>\n",
       "    </tr>\n",
       "  </thead>\n",
       "  <tbody>\n",
       "    <tr>\n",
       "      <th>2021-12-19 07:23:00</th>\n",
       "      <th>BATTERY</th>\n",
       "      <td>12571973</td>\n",
       "      <td>JE482457</td>\n",
       "      <td>042XX S MOZART ST</td>\n",
       "      <td>460</td>\n",
       "      <td>SIMPLE</td>\n",
       "      <td>SIDEWALK</td>\n",
       "      <td>True</td>\n",
       "      <td>True</td>\n",
       "      <td>921</td>\n",
       "      <td>9</td>\n",
       "      <td>15</td>\n",
       "      <td>58</td>\n",
       "      <td>08B</td>\n",
       "      <td>1158067.0</td>\n",
       "      <td>1876425.0</td>\n",
       "      <td>2021</td>\n",
       "      <td>9/12/2022 16:45</td>\n",
       "      <td>41.816657</td>\n",
       "      <td>-87.695689</td>\n",
       "      <td>(41.81665685, -87.695688608)</td>\n",
       "    </tr>\n",
       "    <tr>\n",
       "      <th>2021-04-16 20:45:00</th>\n",
       "      <th>THEFT</th>\n",
       "      <td>12343475</td>\n",
       "      <td>JE202728</td>\n",
       "      <td>056XX N RIDGE AVE</td>\n",
       "      <td>820</td>\n",
       "      <td>$500 AND UNDER</td>\n",
       "      <td>OTHER (SPECIFY)</td>\n",
       "      <td>False</td>\n",
       "      <td>False</td>\n",
       "      <td>2013</td>\n",
       "      <td>20</td>\n",
       "      <td>48</td>\n",
       "      <td>77</td>\n",
       "      <td>6</td>\n",
       "      <td>NaN</td>\n",
       "      <td>NaN</td>\n",
       "      <td>2021</td>\n",
       "      <td>4/23/2021 16:51</td>\n",
       "      <td>NaN</td>\n",
       "      <td>NaN</td>\n",
       "      <td>NaN</td>\n",
       "    </tr>\n",
       "    <tr>\n",
       "      <th>2021-10-21 11:00:00</th>\n",
       "      <th>OTHER OFFENSE</th>\n",
       "      <td>12602803</td>\n",
       "      <td>JF125633</td>\n",
       "      <td>083XX S STONY ISLAND AVE</td>\n",
       "      <td>500E</td>\n",
       "      <td>EAVESDROPPING</td>\n",
       "      <td>OTHER (SPECIFY)</td>\n",
       "      <td>False</td>\n",
       "      <td>False</td>\n",
       "      <td>412</td>\n",
       "      <td>4</td>\n",
       "      <td>8</td>\n",
       "      <td>45</td>\n",
       "      <td>26</td>\n",
       "      <td>1188260.0</td>\n",
       "      <td>1849805.0</td>\n",
       "      <td>2021</td>\n",
       "      <td>2/27/2022 15:46</td>\n",
       "      <td>41.742941</td>\n",
       "      <td>-87.585783</td>\n",
       "      <td>(41.74294124, -87.585783412)</td>\n",
       "    </tr>\n",
       "    <tr>\n",
       "      <th>2021-11-14 06:00:00</th>\n",
       "      <th>THEFT</th>\n",
       "      <td>12540388</td>\n",
       "      <td>JE444591</td>\n",
       "      <td>086XX S COTTAGE GROVE AVE</td>\n",
       "      <td>850</td>\n",
       "      <td>ATTEMPT THEFT</td>\n",
       "      <td>CONVENIENCE STORE</td>\n",
       "      <td>False</td>\n",
       "      <td>False</td>\n",
       "      <td>632</td>\n",
       "      <td>6</td>\n",
       "      <td>6</td>\n",
       "      <td>44</td>\n",
       "      <td>6</td>\n",
       "      <td>1183071.0</td>\n",
       "      <td>1847869.0</td>\n",
       "      <td>2021</td>\n",
       "      <td>11/21/2021 15:48</td>\n",
       "      <td>41.737751</td>\n",
       "      <td>-87.604856</td>\n",
       "      <td>(41.737750767, -87.604855911)</td>\n",
       "    </tr>\n",
       "    <tr>\n",
       "      <th>2021-11-14 04:00:00</th>\n",
       "      <th>BATTERY</th>\n",
       "      <td>12541139</td>\n",
       "      <td>JE445494</td>\n",
       "      <td>034XX W 38TH ST</td>\n",
       "      <td>486</td>\n",
       "      <td>DOMESTIC BATTERY SIMPLE</td>\n",
       "      <td>RESIDENCE</td>\n",
       "      <td>False</td>\n",
       "      <td>True</td>\n",
       "      <td>911</td>\n",
       "      <td>9</td>\n",
       "      <td>12</td>\n",
       "      <td>58</td>\n",
       "      <td>08B</td>\n",
       "      <td>1154073.0</td>\n",
       "      <td>1879187.0</td>\n",
       "      <td>2021</td>\n",
       "      <td>11/21/2021 15:48</td>\n",
       "      <td>41.824317</td>\n",
       "      <td>-87.710266</td>\n",
       "      <td>(41.824316537, -87.710266215)</td>\n",
       "    </tr>\n",
       "    <tr>\n",
       "      <th>2021-11-14 09:00:00</th>\n",
       "      <th>THEFT</th>\n",
       "      <td>12540496</td>\n",
       "      <td>JE444717</td>\n",
       "      <td>070XX S INDIANA AVE</td>\n",
       "      <td>820</td>\n",
       "      <td>$500 AND UNDER</td>\n",
       "      <td>APARTMENT</td>\n",
       "      <td>False</td>\n",
       "      <td>True</td>\n",
       "      <td>322</td>\n",
       "      <td>3</td>\n",
       "      <td>6</td>\n",
       "      <td>69</td>\n",
       "      <td>6</td>\n",
       "      <td>1178811.0</td>\n",
       "      <td>1858376.0</td>\n",
       "      <td>2021</td>\n",
       "      <td>11/21/2021 15:48</td>\n",
       "      <td>41.766681</td>\n",
       "      <td>-87.620144</td>\n",
       "      <td>(41.766681066, -87.62014422)</td>\n",
       "    </tr>\n",
       "    <tr>\n",
       "      <th>2021-11-14 14:00:00</th>\n",
       "      <th>THEFT</th>\n",
       "      <td>12542477</td>\n",
       "      <td>JE447028</td>\n",
       "      <td>021XX N BINGHAM ST</td>\n",
       "      <td>820</td>\n",
       "      <td>$500 AND UNDER</td>\n",
       "      <td>RESIDENCE</td>\n",
       "      <td>False</td>\n",
       "      <td>False</td>\n",
       "      <td>1431</td>\n",
       "      <td>14</td>\n",
       "      <td>1</td>\n",
       "      <td>22</td>\n",
       "      <td>6</td>\n",
       "      <td>1158583.0</td>\n",
       "      <td>1913745.0</td>\n",
       "      <td>2021</td>\n",
       "      <td>11/21/2021 15:48</td>\n",
       "      <td>41.919056</td>\n",
       "      <td>-87.692774</td>\n",
       "      <td>(41.919056144, -87.692774252)</td>\n",
       "    </tr>\n",
       "    <tr>\n",
       "      <th>2021-11-14 00:00:00</th>\n",
       "      <th>BATTERY</th>\n",
       "      <td>12541098</td>\n",
       "      <td>JE444580</td>\n",
       "      <td>072XX S HAMLIN AVE</td>\n",
       "      <td>486</td>\n",
       "      <td>DOMESTIC BATTERY SIMPLE</td>\n",
       "      <td>RESIDENCE</td>\n",
       "      <td>False</td>\n",
       "      <td>True</td>\n",
       "      <td>833</td>\n",
       "      <td>8</td>\n",
       "      <td>13</td>\n",
       "      <td>65</td>\n",
       "      <td>08B</td>\n",
       "      <td>1152286.0</td>\n",
       "      <td>1856407.0</td>\n",
       "      <td>2021</td>\n",
       "      <td>11/21/2021 15:48</td>\n",
       "      <td>41.761840</td>\n",
       "      <td>-87.717421</td>\n",
       "      <td>(41.761840209, -87.717420956)</td>\n",
       "    </tr>\n",
       "    <tr>\n",
       "      <th>2021-01-09 15:59:00</th>\n",
       "      <th>ARSON</th>\n",
       "      <td>12265790</td>\n",
       "      <td>JE108071</td>\n",
       "      <td>017XX W WINNEMAC AVE</td>\n",
       "      <td>1020</td>\n",
       "      <td>BY FIRE</td>\n",
       "      <td>VEHICLE NON-COMMERCIAL</td>\n",
       "      <td>True</td>\n",
       "      <td>True</td>\n",
       "      <td>2032</td>\n",
       "      <td>20</td>\n",
       "      <td>40</td>\n",
       "      <td>3</td>\n",
       "      <td>9</td>\n",
       "      <td>1164039.0</td>\n",
       "      <td>1933591.0</td>\n",
       "      <td>2021</td>\n",
       "      <td>8/12/2021 16:59</td>\n",
       "      <td>41.973401</td>\n",
       "      <td>-87.672166</td>\n",
       "      <td>(41.973401006, -87.672165851)</td>\n",
       "    </tr>\n",
       "  </tbody>\n",
       "</table>\n",
       "</div>"
      ],
      "text/plain": [
       "                                         ID Case Number  \\\n",
       "Date                Primary Type                          \n",
       "2021-12-19 07:23:00 BATTERY        12571973    JE482457   \n",
       "2021-04-16 20:45:00 THEFT          12343475    JE202728   \n",
       "2021-10-21 11:00:00 OTHER OFFENSE  12602803    JF125633   \n",
       "2021-11-14 06:00:00 THEFT          12540388    JE444591   \n",
       "2021-11-14 04:00:00 BATTERY        12541139    JE445494   \n",
       "2021-11-14 09:00:00 THEFT          12540496    JE444717   \n",
       "2021-11-14 14:00:00 THEFT          12542477    JE447028   \n",
       "2021-11-14 00:00:00 BATTERY        12541098    JE444580   \n",
       "2021-01-09 15:59:00 ARSON          12265790    JE108071   \n",
       "\n",
       "                                                       Block  IUCR  \\\n",
       "Date                Primary Type                                     \n",
       "2021-12-19 07:23:00 BATTERY                042XX S MOZART ST   460   \n",
       "2021-04-16 20:45:00 THEFT                  056XX N RIDGE AVE   820   \n",
       "2021-10-21 11:00:00 OTHER OFFENSE   083XX S STONY ISLAND AVE  500E   \n",
       "2021-11-14 06:00:00 THEFT          086XX S COTTAGE GROVE AVE   850   \n",
       "2021-11-14 04:00:00 BATTERY                  034XX W 38TH ST   486   \n",
       "2021-11-14 09:00:00 THEFT                070XX S INDIANA AVE   820   \n",
       "2021-11-14 14:00:00 THEFT                 021XX N BINGHAM ST   820   \n",
       "2021-11-14 00:00:00 BATTERY               072XX S HAMLIN AVE   486   \n",
       "2021-01-09 15:59:00 ARSON               017XX W WINNEMAC AVE  1020   \n",
       "\n",
       "                                               Description  \\\n",
       "Date                Primary Type                             \n",
       "2021-12-19 07:23:00 BATTERY                         SIMPLE   \n",
       "2021-04-16 20:45:00 THEFT                   $500 AND UNDER   \n",
       "2021-10-21 11:00:00 OTHER OFFENSE            EAVESDROPPING   \n",
       "2021-11-14 06:00:00 THEFT                    ATTEMPT THEFT   \n",
       "2021-11-14 04:00:00 BATTERY        DOMESTIC BATTERY SIMPLE   \n",
       "2021-11-14 09:00:00 THEFT                   $500 AND UNDER   \n",
       "2021-11-14 14:00:00 THEFT                   $500 AND UNDER   \n",
       "2021-11-14 00:00:00 BATTERY        DOMESTIC BATTERY SIMPLE   \n",
       "2021-01-09 15:59:00 ARSON                          BY FIRE   \n",
       "\n",
       "                                     Location Description  Arrest  Domestic  \\\n",
       "Date                Primary Type                                              \n",
       "2021-12-19 07:23:00 BATTERY                      SIDEWALK    True      True   \n",
       "2021-04-16 20:45:00 THEFT                 OTHER (SPECIFY)   False     False   \n",
       "2021-10-21 11:00:00 OTHER OFFENSE         OTHER (SPECIFY)   False     False   \n",
       "2021-11-14 06:00:00 THEFT               CONVENIENCE STORE   False     False   \n",
       "2021-11-14 04:00:00 BATTERY                     RESIDENCE   False      True   \n",
       "2021-11-14 09:00:00 THEFT                       APARTMENT   False      True   \n",
       "2021-11-14 14:00:00 THEFT                       RESIDENCE   False     False   \n",
       "2021-11-14 00:00:00 BATTERY                     RESIDENCE   False      True   \n",
       "2021-01-09 15:59:00 ARSON          VEHICLE NON-COMMERCIAL    True      True   \n",
       "\n",
       "                                   Beat  District  Ward  Community Area  \\\n",
       "Date                Primary Type                                          \n",
       "2021-12-19 07:23:00 BATTERY         921         9    15              58   \n",
       "2021-04-16 20:45:00 THEFT          2013        20    48              77   \n",
       "2021-10-21 11:00:00 OTHER OFFENSE   412         4     8              45   \n",
       "2021-11-14 06:00:00 THEFT           632         6     6              44   \n",
       "2021-11-14 04:00:00 BATTERY         911         9    12              58   \n",
       "2021-11-14 09:00:00 THEFT           322         3     6              69   \n",
       "2021-11-14 14:00:00 THEFT          1431        14     1              22   \n",
       "2021-11-14 00:00:00 BATTERY         833         8    13              65   \n",
       "2021-01-09 15:59:00 ARSON          2032        20    40               3   \n",
       "\n",
       "                                  FBI Code  X Coordinate  Y Coordinate  Year  \\\n",
       "Date                Primary Type                                               \n",
       "2021-12-19 07:23:00 BATTERY            08B     1158067.0     1876425.0  2021   \n",
       "2021-04-16 20:45:00 THEFT                6           NaN           NaN  2021   \n",
       "2021-10-21 11:00:00 OTHER OFFENSE       26     1188260.0     1849805.0  2021   \n",
       "2021-11-14 06:00:00 THEFT                6     1183071.0     1847869.0  2021   \n",
       "2021-11-14 04:00:00 BATTERY            08B     1154073.0     1879187.0  2021   \n",
       "2021-11-14 09:00:00 THEFT                6     1178811.0     1858376.0  2021   \n",
       "2021-11-14 14:00:00 THEFT                6     1158583.0     1913745.0  2021   \n",
       "2021-11-14 00:00:00 BATTERY            08B     1152286.0     1856407.0  2021   \n",
       "2021-01-09 15:59:00 ARSON                9     1164039.0     1933591.0  2021   \n",
       "\n",
       "                                         Updated On   Latitude  Longitude  \\\n",
       "Date                Primary Type                                            \n",
       "2021-12-19 07:23:00 BATTERY         9/12/2022 16:45  41.816657 -87.695689   \n",
       "2021-04-16 20:45:00 THEFT           4/23/2021 16:51        NaN        NaN   \n",
       "2021-10-21 11:00:00 OTHER OFFENSE   2/27/2022 15:46  41.742941 -87.585783   \n",
       "2021-11-14 06:00:00 THEFT          11/21/2021 15:48  41.737751 -87.604856   \n",
       "2021-11-14 04:00:00 BATTERY        11/21/2021 15:48  41.824317 -87.710266   \n",
       "2021-11-14 09:00:00 THEFT          11/21/2021 15:48  41.766681 -87.620144   \n",
       "2021-11-14 14:00:00 THEFT          11/21/2021 15:48  41.919056 -87.692774   \n",
       "2021-11-14 00:00:00 BATTERY        11/21/2021 15:48  41.761840 -87.717421   \n",
       "2021-01-09 15:59:00 ARSON           8/12/2021 16:59  41.973401 -87.672166   \n",
       "\n",
       "                                                        Location  \n",
       "Date                Primary Type                                  \n",
       "2021-12-19 07:23:00 BATTERY         (41.81665685, -87.695688608)  \n",
       "2021-04-16 20:45:00 THEFT                                    NaN  \n",
       "2021-10-21 11:00:00 OTHER OFFENSE   (41.74294124, -87.585783412)  \n",
       "2021-11-14 06:00:00 THEFT          (41.737750767, -87.604855911)  \n",
       "2021-11-14 04:00:00 BATTERY        (41.824316537, -87.710266215)  \n",
       "2021-11-14 09:00:00 THEFT           (41.766681066, -87.62014422)  \n",
       "2021-11-14 14:00:00 THEFT          (41.919056144, -87.692774252)  \n",
       "2021-11-14 00:00:00 BATTERY        (41.761840209, -87.717420956)  \n",
       "2021-01-09 15:59:00 ARSON          (41.973401006, -87.672165851)  "
      ]
     },
     "execution_count": 80,
     "metadata": {},
     "output_type": "execute_result"
    }
   ],
   "source": [
    "crimes_small_mi = crimes_small.set_index(['Primary Type'], append=True)  #adds another index\n",
    "crimes_small_mi  #the dataframe has two indices"
   ]
  },
  {
   "cell_type": "code",
   "execution_count": null,
   "metadata": {
    "id": "7BBWHEll7_Kv",
    "outputId": "0b77564f-1155-4a43-d809-76f83431ad57"
   },
   "outputs": [
    {
     "data": {
      "text/plain": [
       "Date                 Primary Type \n",
       "2021-12-19 07:23:00  BATTERY          12571973\n",
       "2021-04-16 20:45:00  THEFT            12343475\n",
       "2021-10-21 11:00:00  OTHER OFFENSE    12602803\n",
       "2021-11-14 06:00:00  THEFT            12540388\n",
       "2021-11-14 04:00:00  BATTERY          12541139\n",
       "2021-11-14 09:00:00  THEFT            12540496\n",
       "2021-11-14 14:00:00  THEFT            12542477\n",
       "2021-11-14 00:00:00  BATTERY          12541098\n",
       "2021-01-09 15:59:00  ARSON            12265790\n",
       "Name: ID, dtype: int64"
      ]
     },
     "execution_count": 121,
     "metadata": {},
     "output_type": "execute_result"
    }
   ],
   "source": [
    "#Preparation for crime counting analysis\n",
    "crimes_small_mi.ID   # Now we have multiple indexes"
   ]
  },
  {
   "cell_type": "markdown",
   "metadata": {
    "id": "s1AeCG9M7_Kv"
   },
   "source": [
    "### Similar to when we use a pivot table we use unstack to create new columns. To do this we need to have a multiindex. See https://www.w3resource.com/pandas/dataframe/dataframe-unstack.php\n",
    "\n",
    "###  You can think of this as transposing\n"
   ]
  },
  {
   "cell_type": "code",
   "execution_count": null,
   "metadata": {
    "id": "MhHpg8ko7_Kw",
    "outputId": "1842819b-ca3c-45b4-9b17-85dd556eafab"
   },
   "outputs": [
    {
     "data": {
      "text/html": [
       "<div>\n",
       "<style scoped>\n",
       "    .dataframe tbody tr th:only-of-type {\n",
       "        vertical-align: middle;\n",
       "    }\n",
       "\n",
       "    .dataframe tbody tr th {\n",
       "        vertical-align: top;\n",
       "    }\n",
       "\n",
       "    .dataframe thead th {\n",
       "        text-align: right;\n",
       "    }\n",
       "</style>\n",
       "<table border=\"1\" class=\"dataframe\">\n",
       "  <thead>\n",
       "    <tr style=\"text-align: right;\">\n",
       "      <th>Primary Type</th>\n",
       "      <th>ARSON</th>\n",
       "      <th>BATTERY</th>\n",
       "      <th>OTHER OFFENSE</th>\n",
       "      <th>THEFT</th>\n",
       "    </tr>\n",
       "    <tr>\n",
       "      <th>Date</th>\n",
       "      <th></th>\n",
       "      <th></th>\n",
       "      <th></th>\n",
       "      <th></th>\n",
       "    </tr>\n",
       "  </thead>\n",
       "  <tbody>\n",
       "    <tr>\n",
       "      <th>2021-01-09 15:59:00</th>\n",
       "      <td>12265790.0</td>\n",
       "      <td>NaN</td>\n",
       "      <td>NaN</td>\n",
       "      <td>NaN</td>\n",
       "    </tr>\n",
       "    <tr>\n",
       "      <th>2021-04-16 20:45:00</th>\n",
       "      <td>NaN</td>\n",
       "      <td>NaN</td>\n",
       "      <td>NaN</td>\n",
       "      <td>12343475.0</td>\n",
       "    </tr>\n",
       "    <tr>\n",
       "      <th>2021-10-21 11:00:00</th>\n",
       "      <td>NaN</td>\n",
       "      <td>NaN</td>\n",
       "      <td>12602803.0</td>\n",
       "      <td>NaN</td>\n",
       "    </tr>\n",
       "    <tr>\n",
       "      <th>2021-11-14 00:00:00</th>\n",
       "      <td>NaN</td>\n",
       "      <td>12541098.0</td>\n",
       "      <td>NaN</td>\n",
       "      <td>NaN</td>\n",
       "    </tr>\n",
       "    <tr>\n",
       "      <th>2021-11-14 04:00:00</th>\n",
       "      <td>NaN</td>\n",
       "      <td>12541139.0</td>\n",
       "      <td>NaN</td>\n",
       "      <td>NaN</td>\n",
       "    </tr>\n",
       "    <tr>\n",
       "      <th>2021-11-14 06:00:00</th>\n",
       "      <td>NaN</td>\n",
       "      <td>NaN</td>\n",
       "      <td>NaN</td>\n",
       "      <td>12540388.0</td>\n",
       "    </tr>\n",
       "    <tr>\n",
       "      <th>2021-11-14 09:00:00</th>\n",
       "      <td>NaN</td>\n",
       "      <td>NaN</td>\n",
       "      <td>NaN</td>\n",
       "      <td>12540496.0</td>\n",
       "    </tr>\n",
       "    <tr>\n",
       "      <th>2021-11-14 14:00:00</th>\n",
       "      <td>NaN</td>\n",
       "      <td>NaN</td>\n",
       "      <td>NaN</td>\n",
       "      <td>12542477.0</td>\n",
       "    </tr>\n",
       "    <tr>\n",
       "      <th>2021-12-19 07:23:00</th>\n",
       "      <td>NaN</td>\n",
       "      <td>12571973.0</td>\n",
       "      <td>NaN</td>\n",
       "      <td>NaN</td>\n",
       "    </tr>\n",
       "  </tbody>\n",
       "</table>\n",
       "</div>"
      ],
      "text/plain": [
       "Primary Type              ARSON     BATTERY  OTHER OFFENSE       THEFT\n",
       "Date                                                                  \n",
       "2021-01-09 15:59:00  12265790.0         NaN            NaN         NaN\n",
       "2021-04-16 20:45:00         NaN         NaN            NaN  12343475.0\n",
       "2021-10-21 11:00:00         NaN         NaN     12602803.0         NaN\n",
       "2021-11-14 00:00:00         NaN  12541098.0            NaN         NaN\n",
       "2021-11-14 04:00:00         NaN  12541139.0            NaN         NaN\n",
       "2021-11-14 06:00:00         NaN         NaN            NaN  12540388.0\n",
       "2021-11-14 09:00:00         NaN         NaN            NaN  12540496.0\n",
       "2021-11-14 14:00:00         NaN         NaN            NaN  12542477.0\n",
       "2021-12-19 07:23:00         NaN  12571973.0            NaN         NaN"
      ]
     },
     "execution_count": 129,
     "metadata": {},
     "output_type": "execute_result"
    }
   ],
   "source": [
    "crimes_small_mi.ID.unstack(level= 1)  # primary type and transposed to create new columns.We set the level to 1... the second index"
   ]
  },
  {
   "cell_type": "code",
   "execution_count": null,
   "metadata": {
    "id": "8Qv-PGwV7_Kw",
    "outputId": "b7dc4295-8987-4462-8b88-146a3402a3fc"
   },
   "outputs": [
    {
     "data": {
      "text/html": [
       "<div>\n",
       "<style scoped>\n",
       "    .dataframe tbody tr th:only-of-type {\n",
       "        vertical-align: middle;\n",
       "    }\n",
       "\n",
       "    .dataframe tbody tr th {\n",
       "        vertical-align: top;\n",
       "    }\n",
       "\n",
       "    .dataframe thead th {\n",
       "        text-align: right;\n",
       "    }\n",
       "</style>\n",
       "<table border=\"1\" class=\"dataframe\">\n",
       "  <thead>\n",
       "    <tr style=\"text-align: right;\">\n",
       "      <th>Primary Type</th>\n",
       "      <th>ARSON</th>\n",
       "      <th>BATTERY</th>\n",
       "      <th>OTHER OFFENSE</th>\n",
       "      <th>THEFT</th>\n",
       "    </tr>\n",
       "    <tr>\n",
       "      <th>Date</th>\n",
       "      <th></th>\n",
       "      <th></th>\n",
       "      <th></th>\n",
       "      <th></th>\n",
       "    </tr>\n",
       "  </thead>\n",
       "  <tbody>\n",
       "    <tr>\n",
       "      <th>2021-01-09 15:00:00</th>\n",
       "      <td>1</td>\n",
       "      <td>0</td>\n",
       "      <td>0</td>\n",
       "      <td>0</td>\n",
       "    </tr>\n",
       "    <tr>\n",
       "      <th>2021-01-09 16:00:00</th>\n",
       "      <td>0</td>\n",
       "      <td>0</td>\n",
       "      <td>0</td>\n",
       "      <td>0</td>\n",
       "    </tr>\n",
       "    <tr>\n",
       "      <th>2021-01-09 17:00:00</th>\n",
       "      <td>0</td>\n",
       "      <td>0</td>\n",
       "      <td>0</td>\n",
       "      <td>0</td>\n",
       "    </tr>\n",
       "    <tr>\n",
       "      <th>2021-01-09 18:00:00</th>\n",
       "      <td>0</td>\n",
       "      <td>0</td>\n",
       "      <td>0</td>\n",
       "      <td>0</td>\n",
       "    </tr>\n",
       "    <tr>\n",
       "      <th>2021-01-09 19:00:00</th>\n",
       "      <td>0</td>\n",
       "      <td>0</td>\n",
       "      <td>0</td>\n",
       "      <td>0</td>\n",
       "    </tr>\n",
       "    <tr>\n",
       "      <th>...</th>\n",
       "      <td>...</td>\n",
       "      <td>...</td>\n",
       "      <td>...</td>\n",
       "      <td>...</td>\n",
       "    </tr>\n",
       "    <tr>\n",
       "      <th>2021-12-19 03:00:00</th>\n",
       "      <td>0</td>\n",
       "      <td>0</td>\n",
       "      <td>0</td>\n",
       "      <td>0</td>\n",
       "    </tr>\n",
       "    <tr>\n",
       "      <th>2021-12-19 04:00:00</th>\n",
       "      <td>0</td>\n",
       "      <td>0</td>\n",
       "      <td>0</td>\n",
       "      <td>0</td>\n",
       "    </tr>\n",
       "    <tr>\n",
       "      <th>2021-12-19 05:00:00</th>\n",
       "      <td>0</td>\n",
       "      <td>0</td>\n",
       "      <td>0</td>\n",
       "      <td>0</td>\n",
       "    </tr>\n",
       "    <tr>\n",
       "      <th>2021-12-19 06:00:00</th>\n",
       "      <td>0</td>\n",
       "      <td>0</td>\n",
       "      <td>0</td>\n",
       "      <td>0</td>\n",
       "    </tr>\n",
       "    <tr>\n",
       "      <th>2021-12-19 07:00:00</th>\n",
       "      <td>0</td>\n",
       "      <td>1</td>\n",
       "      <td>0</td>\n",
       "      <td>0</td>\n",
       "    </tr>\n",
       "  </tbody>\n",
       "</table>\n",
       "<p>8249 rows × 4 columns</p>\n",
       "</div>"
      ],
      "text/plain": [
       "Primary Type         ARSON  BATTERY  OTHER OFFENSE  THEFT\n",
       "Date                                                     \n",
       "2021-01-09 15:00:00      1        0              0      0\n",
       "2021-01-09 16:00:00      0        0              0      0\n",
       "2021-01-09 17:00:00      0        0              0      0\n",
       "2021-01-09 18:00:00      0        0              0      0\n",
       "2021-01-09 19:00:00      0        0              0      0\n",
       "...                    ...      ...            ...    ...\n",
       "2021-12-19 03:00:00      0        0              0      0\n",
       "2021-12-19 04:00:00      0        0              0      0\n",
       "2021-12-19 05:00:00      0        0              0      0\n",
       "2021-12-19 06:00:00      0        0              0      0\n",
       "2021-12-19 07:00:00      0        1              0      0\n",
       "\n",
       "[8249 rows x 4 columns]"
      ]
     },
     "execution_count": 130,
     "metadata": {},
     "output_type": "execute_result"
    }
   ],
   "source": [
    "crimes_small_mi.ID.unstack(level=1).resample('h').count()#.plot() # we rasample to Hourly"
   ]
  },
  {
   "cell_type": "markdown",
   "metadata": {
    "id": "Djcer8_t7_Kw"
   },
   "source": [
    "### Now let's do this for the big dataset"
   ]
  },
  {
   "cell_type": "code",
   "execution_count": null,
   "metadata": {
    "id": "W_Pg53jP7_Kw"
   },
   "outputs": [],
   "source": [
    "crimes_mi = crimes.set_index(['Primary Type'], append=True) # setting the second index"
   ]
  },
  {
   "cell_type": "markdown",
   "metadata": {
    "id": "X05UChcC7_Kw"
   },
   "source": [
    "### Bummer turns out the same command we used before would yield a `ValueError: Index contains duplicate entries, cannot reshape`"
   ]
  },
  {
   "cell_type": "code",
   "execution_count": null,
   "metadata": {
    "id": "FvaITj617_Kw",
    "outputId": "1723b5cd-b0fe-4778-97c2-50d7f5f926cc"
   },
   "outputs": [
    {
     "ename": "ValueError",
     "evalue": "Index contains duplicate entries, cannot reshape",
     "output_type": "error",
     "traceback": [
      "\u001b[0;31m---------------------------------------------------------------------------\u001b[0m",
      "\u001b[0;31mValueError\u001b[0m                                Traceback (most recent call last)",
      "\u001b[0;32m/tmp/ipykernel_148/2515828760.py\u001b[0m in \u001b[0;36m<module>\u001b[0;34m\u001b[0m\n\u001b[0;32m----> 1\u001b[0;31m \u001b[0mcrimes_mi\u001b[0m\u001b[0;34m.\u001b[0m\u001b[0mID\u001b[0m\u001b[0;34m.\u001b[0m\u001b[0munstack\u001b[0m\u001b[0;34m(\u001b[0m\u001b[0mlevel\u001b[0m\u001b[0;34m=\u001b[0m\u001b[0;36m1\u001b[0m\u001b[0;34m)\u001b[0m\u001b[0;34m.\u001b[0m\u001b[0mresample\u001b[0m\u001b[0;34m(\u001b[0m\u001b[0;34m'h'\u001b[0m\u001b[0;34m)\u001b[0m\u001b[0;34m.\u001b[0m\u001b[0mcount\u001b[0m\u001b[0;34m(\u001b[0m\u001b[0;34m)\u001b[0m\u001b[0;34m.\u001b[0m\u001b[0mplot\u001b[0m\u001b[0;34m(\u001b[0m\u001b[0;34m)\u001b[0m\u001b[0;34m\u001b[0m\u001b[0;34m\u001b[0m\u001b[0m\n\u001b[0m",
      "\u001b[0;32m/opt/conda/lib/python3.9/site-packages/pandas/core/series.py\u001b[0m in \u001b[0;36munstack\u001b[0;34m(self, level, fill_value)\u001b[0m\n\u001b[1;32m   4079\u001b[0m         \u001b[0;32mfrom\u001b[0m \u001b[0mpandas\u001b[0m\u001b[0;34m.\u001b[0m\u001b[0mcore\u001b[0m\u001b[0;34m.\u001b[0m\u001b[0mreshape\u001b[0m\u001b[0;34m.\u001b[0m\u001b[0mreshape\u001b[0m \u001b[0;32mimport\u001b[0m \u001b[0munstack\u001b[0m\u001b[0;34m\u001b[0m\u001b[0;34m\u001b[0m\u001b[0m\n\u001b[1;32m   4080\u001b[0m \u001b[0;34m\u001b[0m\u001b[0m\n\u001b[0;32m-> 4081\u001b[0;31m         \u001b[0;32mreturn\u001b[0m \u001b[0munstack\u001b[0m\u001b[0;34m(\u001b[0m\u001b[0mself\u001b[0m\u001b[0;34m,\u001b[0m \u001b[0mlevel\u001b[0m\u001b[0;34m,\u001b[0m \u001b[0mfill_value\u001b[0m\u001b[0;34m)\u001b[0m\u001b[0;34m\u001b[0m\u001b[0;34m\u001b[0m\u001b[0m\n\u001b[0m\u001b[1;32m   4082\u001b[0m \u001b[0;34m\u001b[0m\u001b[0m\n\u001b[1;32m   4083\u001b[0m     \u001b[0;31m# ----------------------------------------------------------------------\u001b[0m\u001b[0;34m\u001b[0m\u001b[0;34m\u001b[0m\u001b[0m\n",
      "\u001b[0;32m/opt/conda/lib/python3.9/site-packages/pandas/core/reshape/reshape.py\u001b[0m in \u001b[0;36munstack\u001b[0;34m(obj, level, fill_value)\u001b[0m\n\u001b[1;32m    458\u001b[0m         \u001b[0;32mif\u001b[0m \u001b[0mis_1d_only_ea_dtype\u001b[0m\u001b[0;34m(\u001b[0m\u001b[0mobj\u001b[0m\u001b[0;34m.\u001b[0m\u001b[0mdtype\u001b[0m\u001b[0;34m)\u001b[0m\u001b[0;34m:\u001b[0m\u001b[0;34m\u001b[0m\u001b[0;34m\u001b[0m\u001b[0m\n\u001b[1;32m    459\u001b[0m             \u001b[0;32mreturn\u001b[0m \u001b[0m_unstack_extension_series\u001b[0m\u001b[0;34m(\u001b[0m\u001b[0mobj\u001b[0m\u001b[0;34m,\u001b[0m \u001b[0mlevel\u001b[0m\u001b[0;34m,\u001b[0m \u001b[0mfill_value\u001b[0m\u001b[0;34m)\u001b[0m\u001b[0;34m\u001b[0m\u001b[0;34m\u001b[0m\u001b[0m\n\u001b[0;32m--> 460\u001b[0;31m         unstacker = _Unstacker(\n\u001b[0m\u001b[1;32m    461\u001b[0m             \u001b[0mobj\u001b[0m\u001b[0;34m.\u001b[0m\u001b[0mindex\u001b[0m\u001b[0;34m,\u001b[0m \u001b[0mlevel\u001b[0m\u001b[0;34m=\u001b[0m\u001b[0mlevel\u001b[0m\u001b[0;34m,\u001b[0m \u001b[0mconstructor\u001b[0m\u001b[0;34m=\u001b[0m\u001b[0mobj\u001b[0m\u001b[0;34m.\u001b[0m\u001b[0m_constructor_expanddim\u001b[0m\u001b[0;34m\u001b[0m\u001b[0;34m\u001b[0m\u001b[0m\n\u001b[1;32m    462\u001b[0m         )\n",
      "\u001b[0;32m/opt/conda/lib/python3.9/site-packages/pandas/core/reshape/reshape.py\u001b[0m in \u001b[0;36m__init__\u001b[0;34m(self, index, level, constructor)\u001b[0m\n\u001b[1;32m    131\u001b[0m             \u001b[0;32mraise\u001b[0m \u001b[0mValueError\u001b[0m\u001b[0;34m(\u001b[0m\u001b[0;34m\"Unstacked DataFrame is too big, causing int32 overflow\"\u001b[0m\u001b[0;34m)\u001b[0m\u001b[0;34m\u001b[0m\u001b[0;34m\u001b[0m\u001b[0m\n\u001b[1;32m    132\u001b[0m \u001b[0;34m\u001b[0m\u001b[0m\n\u001b[0;32m--> 133\u001b[0;31m         \u001b[0mself\u001b[0m\u001b[0;34m.\u001b[0m\u001b[0m_make_selectors\u001b[0m\u001b[0;34m(\u001b[0m\u001b[0;34m)\u001b[0m\u001b[0;34m\u001b[0m\u001b[0;34m\u001b[0m\u001b[0m\n\u001b[0m\u001b[1;32m    134\u001b[0m \u001b[0;34m\u001b[0m\u001b[0m\n\u001b[1;32m    135\u001b[0m     \u001b[0;34m@\u001b[0m\u001b[0mcache_readonly\u001b[0m\u001b[0;34m\u001b[0m\u001b[0;34m\u001b[0m\u001b[0m\n",
      "\u001b[0;32m/opt/conda/lib/python3.9/site-packages/pandas/core/reshape/reshape.py\u001b[0m in \u001b[0;36m_make_selectors\u001b[0;34m(self)\u001b[0m\n\u001b[1;32m    183\u001b[0m \u001b[0;34m\u001b[0m\u001b[0m\n\u001b[1;32m    184\u001b[0m         \u001b[0;32mif\u001b[0m \u001b[0mmask\u001b[0m\u001b[0;34m.\u001b[0m\u001b[0msum\u001b[0m\u001b[0;34m(\u001b[0m\u001b[0;34m)\u001b[0m \u001b[0;34m<\u001b[0m \u001b[0mlen\u001b[0m\u001b[0;34m(\u001b[0m\u001b[0mself\u001b[0m\u001b[0;34m.\u001b[0m\u001b[0mindex\u001b[0m\u001b[0;34m)\u001b[0m\u001b[0;34m:\u001b[0m\u001b[0;34m\u001b[0m\u001b[0;34m\u001b[0m\u001b[0m\n\u001b[0;32m--> 185\u001b[0;31m             \u001b[0;32mraise\u001b[0m \u001b[0mValueError\u001b[0m\u001b[0;34m(\u001b[0m\u001b[0;34m\"Index contains duplicate entries, cannot reshape\"\u001b[0m\u001b[0;34m)\u001b[0m\u001b[0;34m\u001b[0m\u001b[0;34m\u001b[0m\u001b[0m\n\u001b[0m\u001b[1;32m    186\u001b[0m \u001b[0;34m\u001b[0m\u001b[0m\n\u001b[1;32m    187\u001b[0m         \u001b[0mself\u001b[0m\u001b[0;34m.\u001b[0m\u001b[0mgroup_index\u001b[0m \u001b[0;34m=\u001b[0m \u001b[0mcomp_index\u001b[0m\u001b[0;34m\u001b[0m\u001b[0;34m\u001b[0m\u001b[0m\n",
      "\u001b[0;31mValueError\u001b[0m: Index contains duplicate entries, cannot reshape"
     ]
    }
   ],
   "source": [
    "crimes_mi.ID.unstack(level=1).resample('h').count().plot()"
   ]
  },
  {
   "cell_type": "markdown",
   "metadata": {
    "id": "Ecvvb8De7_Kw"
   },
   "source": [
    "#### How to deal with duplicates – the same crime noted under the same minute. Let's see if we can sum those up first…\n",
    "\n",
    "#### We use numpy to create a new array of ones."
   ]
  },
  {
   "cell_type": "code",
   "execution_count": null,
   "metadata": {
    "id": "BhBJbFc67_Kw",
    "outputId": "653bba34-c0a3-43c1-d40d-d4887b83efa0"
   },
   "outputs": [
    {
     "data": {
      "text/html": [
       "<div>\n",
       "<style scoped>\n",
       "    .dataframe tbody tr th:only-of-type {\n",
       "        vertical-align: middle;\n",
       "    }\n",
       "\n",
       "    .dataframe tbody tr th {\n",
       "        vertical-align: top;\n",
       "    }\n",
       "\n",
       "    .dataframe thead th {\n",
       "        text-align: right;\n",
       "    }\n",
       "</style>\n",
       "<table border=\"1\" class=\"dataframe\">\n",
       "  <thead>\n",
       "    <tr style=\"text-align: right;\">\n",
       "      <th></th>\n",
       "      <th></th>\n",
       "      <th>ID</th>\n",
       "      <th>Case Number</th>\n",
       "      <th>Block</th>\n",
       "      <th>IUCR</th>\n",
       "      <th>Description</th>\n",
       "      <th>Location Description</th>\n",
       "      <th>Arrest</th>\n",
       "      <th>Domestic</th>\n",
       "      <th>Beat</th>\n",
       "      <th>District</th>\n",
       "      <th>...</th>\n",
       "      <th>Community Area</th>\n",
       "      <th>FBI Code</th>\n",
       "      <th>X Coordinate</th>\n",
       "      <th>Y Coordinate</th>\n",
       "      <th>Year</th>\n",
       "      <th>Updated On</th>\n",
       "      <th>Latitude</th>\n",
       "      <th>Longitude</th>\n",
       "      <th>Location</th>\n",
       "      <th>ocurrences</th>\n",
       "    </tr>\n",
       "    <tr>\n",
       "      <th>Date</th>\n",
       "      <th>Primary Type</th>\n",
       "      <th></th>\n",
       "      <th></th>\n",
       "      <th></th>\n",
       "      <th></th>\n",
       "      <th></th>\n",
       "      <th></th>\n",
       "      <th></th>\n",
       "      <th></th>\n",
       "      <th></th>\n",
       "      <th></th>\n",
       "      <th></th>\n",
       "      <th></th>\n",
       "      <th></th>\n",
       "      <th></th>\n",
       "      <th></th>\n",
       "      <th></th>\n",
       "      <th></th>\n",
       "      <th></th>\n",
       "      <th></th>\n",
       "      <th></th>\n",
       "      <th></th>\n",
       "    </tr>\n",
       "  </thead>\n",
       "  <tbody>\n",
       "    <tr>\n",
       "      <th>2021-12-19 07:23:00</th>\n",
       "      <th>BATTERY</th>\n",
       "      <td>12571973</td>\n",
       "      <td>JE482457</td>\n",
       "      <td>042XX S MOZART ST</td>\n",
       "      <td>460</td>\n",
       "      <td>SIMPLE</td>\n",
       "      <td>SIDEWALK</td>\n",
       "      <td>True</td>\n",
       "      <td>True</td>\n",
       "      <td>921</td>\n",
       "      <td>9</td>\n",
       "      <td>...</td>\n",
       "      <td>58</td>\n",
       "      <td>08B</td>\n",
       "      <td>1158067.0</td>\n",
       "      <td>1876425.0</td>\n",
       "      <td>2021</td>\n",
       "      <td>9/12/2022 16:45</td>\n",
       "      <td>41.816657</td>\n",
       "      <td>-87.695689</td>\n",
       "      <td>(41.81665685, -87.695688608)</td>\n",
       "      <td>1</td>\n",
       "    </tr>\n",
       "    <tr>\n",
       "      <th>2021-04-16 20:45:00</th>\n",
       "      <th>THEFT</th>\n",
       "      <td>12343475</td>\n",
       "      <td>JE202728</td>\n",
       "      <td>056XX N RIDGE AVE</td>\n",
       "      <td>820</td>\n",
       "      <td>$500 AND UNDER</td>\n",
       "      <td>OTHER (SPECIFY)</td>\n",
       "      <td>False</td>\n",
       "      <td>False</td>\n",
       "      <td>2013</td>\n",
       "      <td>20</td>\n",
       "      <td>...</td>\n",
       "      <td>77</td>\n",
       "      <td>6</td>\n",
       "      <td>NaN</td>\n",
       "      <td>NaN</td>\n",
       "      <td>2021</td>\n",
       "      <td>4/23/2021 16:51</td>\n",
       "      <td>NaN</td>\n",
       "      <td>NaN</td>\n",
       "      <td>NaN</td>\n",
       "      <td>1</td>\n",
       "    </tr>\n",
       "    <tr>\n",
       "      <th>2021-10-21 11:00:00</th>\n",
       "      <th>OTHER OFFENSE</th>\n",
       "      <td>12602803</td>\n",
       "      <td>JF125633</td>\n",
       "      <td>083XX S STONY ISLAND AVE</td>\n",
       "      <td>500E</td>\n",
       "      <td>EAVESDROPPING</td>\n",
       "      <td>OTHER (SPECIFY)</td>\n",
       "      <td>False</td>\n",
       "      <td>False</td>\n",
       "      <td>412</td>\n",
       "      <td>4</td>\n",
       "      <td>...</td>\n",
       "      <td>45</td>\n",
       "      <td>26</td>\n",
       "      <td>1188260.0</td>\n",
       "      <td>1849805.0</td>\n",
       "      <td>2021</td>\n",
       "      <td>2/27/2022 15:46</td>\n",
       "      <td>41.742941</td>\n",
       "      <td>-87.585783</td>\n",
       "      <td>(41.74294124, -87.585783412)</td>\n",
       "      <td>1</td>\n",
       "    </tr>\n",
       "    <tr>\n",
       "      <th>2021-11-14 06:00:00</th>\n",
       "      <th>THEFT</th>\n",
       "      <td>12540388</td>\n",
       "      <td>JE444591</td>\n",
       "      <td>086XX S COTTAGE GROVE AVE</td>\n",
       "      <td>850</td>\n",
       "      <td>ATTEMPT THEFT</td>\n",
       "      <td>CONVENIENCE STORE</td>\n",
       "      <td>False</td>\n",
       "      <td>False</td>\n",
       "      <td>632</td>\n",
       "      <td>6</td>\n",
       "      <td>...</td>\n",
       "      <td>44</td>\n",
       "      <td>6</td>\n",
       "      <td>1183071.0</td>\n",
       "      <td>1847869.0</td>\n",
       "      <td>2021</td>\n",
       "      <td>11/21/2021 15:48</td>\n",
       "      <td>41.737751</td>\n",
       "      <td>-87.604856</td>\n",
       "      <td>(41.737750767, -87.604855911)</td>\n",
       "      <td>1</td>\n",
       "    </tr>\n",
       "    <tr>\n",
       "      <th>2021-11-14 04:00:00</th>\n",
       "      <th>BATTERY</th>\n",
       "      <td>12541139</td>\n",
       "      <td>JE445494</td>\n",
       "      <td>034XX W 38TH ST</td>\n",
       "      <td>486</td>\n",
       "      <td>DOMESTIC BATTERY SIMPLE</td>\n",
       "      <td>RESIDENCE</td>\n",
       "      <td>False</td>\n",
       "      <td>True</td>\n",
       "      <td>911</td>\n",
       "      <td>9</td>\n",
       "      <td>...</td>\n",
       "      <td>58</td>\n",
       "      <td>08B</td>\n",
       "      <td>1154073.0</td>\n",
       "      <td>1879187.0</td>\n",
       "      <td>2021</td>\n",
       "      <td>11/21/2021 15:48</td>\n",
       "      <td>41.824317</td>\n",
       "      <td>-87.710266</td>\n",
       "      <td>(41.824316537, -87.710266215)</td>\n",
       "      <td>1</td>\n",
       "    </tr>\n",
       "    <tr>\n",
       "      <th>...</th>\n",
       "      <th>...</th>\n",
       "      <td>...</td>\n",
       "      <td>...</td>\n",
       "      <td>...</td>\n",
       "      <td>...</td>\n",
       "      <td>...</td>\n",
       "      <td>...</td>\n",
       "      <td>...</td>\n",
       "      <td>...</td>\n",
       "      <td>...</td>\n",
       "      <td>...</td>\n",
       "      <td>...</td>\n",
       "      <td>...</td>\n",
       "      <td>...</td>\n",
       "      <td>...</td>\n",
       "      <td>...</td>\n",
       "      <td>...</td>\n",
       "      <td>...</td>\n",
       "      <td>...</td>\n",
       "      <td>...</td>\n",
       "      <td>...</td>\n",
       "      <td>...</td>\n",
       "    </tr>\n",
       "    <tr>\n",
       "      <th>2021-01-02 12:32:00</th>\n",
       "      <th>OTHER OFFENSE</th>\n",
       "      <td>12259624</td>\n",
       "      <td>JE101261</td>\n",
       "      <td>046XX W VAN BUREN ST</td>\n",
       "      <td>4650</td>\n",
       "      <td>SEX OFFENDER - FAIL TO REGISTER</td>\n",
       "      <td>STREET</td>\n",
       "      <td>True</td>\n",
       "      <td>False</td>\n",
       "      <td>1131</td>\n",
       "      <td>11</td>\n",
       "      <td>...</td>\n",
       "      <td>25</td>\n",
       "      <td>26</td>\n",
       "      <td>1145550.0</td>\n",
       "      <td>1897622.0</td>\n",
       "      <td>2021</td>\n",
       "      <td>1/16/2021 15:49</td>\n",
       "      <td>41.875070</td>\n",
       "      <td>-87.741068</td>\n",
       "      <td>(41.875069995, -87.741068317)</td>\n",
       "      <td>1</td>\n",
       "    </tr>\n",
       "    <tr>\n",
       "      <th>2021-01-06 12:18:00</th>\n",
       "      <th>WEAPONS VIOLATION</th>\n",
       "      <td>12262739</td>\n",
       "      <td>JE104970</td>\n",
       "      <td>013XX S FAIRFIELD AVE</td>\n",
       "      <td>143A</td>\n",
       "      <td>UNLAWFUL POSSESSION - HANDGUN</td>\n",
       "      <td>STREET</td>\n",
       "      <td>True</td>\n",
       "      <td>False</td>\n",
       "      <td>1023</td>\n",
       "      <td>10</td>\n",
       "      <td>...</td>\n",
       "      <td>29</td>\n",
       "      <td>15</td>\n",
       "      <td>1158247.0</td>\n",
       "      <td>1893603.0</td>\n",
       "      <td>2021</td>\n",
       "      <td>1/16/2021 15:49</td>\n",
       "      <td>41.863792</td>\n",
       "      <td>-87.694560</td>\n",
       "      <td>(41.863791576, -87.694559683)</td>\n",
       "      <td>1</td>\n",
       "    </tr>\n",
       "    <tr>\n",
       "      <th>2021-01-07 10:52:00</th>\n",
       "      <th>WEAPONS VIOLATION</th>\n",
       "      <td>12263546</td>\n",
       "      <td>JE105815</td>\n",
       "      <td>036XX W POLK ST</td>\n",
       "      <td>143A</td>\n",
       "      <td>UNLAWFUL POSSESSION - HANDGUN</td>\n",
       "      <td>STREET</td>\n",
       "      <td>True</td>\n",
       "      <td>False</td>\n",
       "      <td>1133</td>\n",
       "      <td>11</td>\n",
       "      <td>...</td>\n",
       "      <td>27</td>\n",
       "      <td>15</td>\n",
       "      <td>1152328.0</td>\n",
       "      <td>1896125.0</td>\n",
       "      <td>2021</td>\n",
       "      <td>1/16/2021 15:49</td>\n",
       "      <td>41.870831</td>\n",
       "      <td>-87.716222</td>\n",
       "      <td>(41.870831024, -87.716221583)</td>\n",
       "      <td>1</td>\n",
       "    </tr>\n",
       "    <tr>\n",
       "      <th>2021-01-01 01:00:00</th>\n",
       "      <th>BATTERY</th>\n",
       "      <td>12259461</td>\n",
       "      <td>JE100546</td>\n",
       "      <td>076XX S RHODES AVE</td>\n",
       "      <td>460</td>\n",
       "      <td>SIMPLE</td>\n",
       "      <td>RESIDENCE</td>\n",
       "      <td>False</td>\n",
       "      <td>False</td>\n",
       "      <td>624</td>\n",
       "      <td>6</td>\n",
       "      <td>...</td>\n",
       "      <td>69</td>\n",
       "      <td>08B</td>\n",
       "      <td>1181227.0</td>\n",
       "      <td>1854479.0</td>\n",
       "      <td>2021</td>\n",
       "      <td>1/16/2021 15:49</td>\n",
       "      <td>41.755932</td>\n",
       "      <td>-87.611409</td>\n",
       "      <td>(41.755931978, -87.611408601)</td>\n",
       "      <td>1</td>\n",
       "    </tr>\n",
       "    <tr>\n",
       "      <th>2021-01-02 23:02:00</th>\n",
       "      <th>BATTERY</th>\n",
       "      <td>12260076</td>\n",
       "      <td>JE101741</td>\n",
       "      <td>075XX S COLES AVE</td>\n",
       "      <td>460</td>\n",
       "      <td>SIMPLE</td>\n",
       "      <td>APARTMENT</td>\n",
       "      <td>False</td>\n",
       "      <td>False</td>\n",
       "      <td>421</td>\n",
       "      <td>4</td>\n",
       "      <td>...</td>\n",
       "      <td>43</td>\n",
       "      <td>08B</td>\n",
       "      <td>1195976.0</td>\n",
       "      <td>1855570.0</td>\n",
       "      <td>2021</td>\n",
       "      <td>1/16/2021 15:49</td>\n",
       "      <td>41.758573</td>\n",
       "      <td>-87.557322</td>\n",
       "      <td>(41.758573421, -87.557321761)</td>\n",
       "      <td>1</td>\n",
       "    </tr>\n",
       "  </tbody>\n",
       "</table>\n",
       "<p>20000 rows × 21 columns</p>\n",
       "</div>"
      ],
      "text/plain": [
       "                                             ID Case Number  \\\n",
       "Date                Primary Type                              \n",
       "2021-12-19 07:23:00 BATTERY            12571973    JE482457   \n",
       "2021-04-16 20:45:00 THEFT              12343475    JE202728   \n",
       "2021-10-21 11:00:00 OTHER OFFENSE      12602803    JF125633   \n",
       "2021-11-14 06:00:00 THEFT              12540388    JE444591   \n",
       "2021-11-14 04:00:00 BATTERY            12541139    JE445494   \n",
       "...                                         ...         ...   \n",
       "2021-01-02 12:32:00 OTHER OFFENSE      12259624    JE101261   \n",
       "2021-01-06 12:18:00 WEAPONS VIOLATION  12262739    JE104970   \n",
       "2021-01-07 10:52:00 WEAPONS VIOLATION  12263546    JE105815   \n",
       "2021-01-01 01:00:00 BATTERY            12259461    JE100546   \n",
       "2021-01-02 23:02:00 BATTERY            12260076    JE101741   \n",
       "\n",
       "                                                           Block  IUCR  \\\n",
       "Date                Primary Type                                         \n",
       "2021-12-19 07:23:00 BATTERY                    042XX S MOZART ST   460   \n",
       "2021-04-16 20:45:00 THEFT                      056XX N RIDGE AVE   820   \n",
       "2021-10-21 11:00:00 OTHER OFFENSE       083XX S STONY ISLAND AVE  500E   \n",
       "2021-11-14 06:00:00 THEFT              086XX S COTTAGE GROVE AVE   850   \n",
       "2021-11-14 04:00:00 BATTERY                      034XX W 38TH ST   486   \n",
       "...                                                          ...   ...   \n",
       "2021-01-02 12:32:00 OTHER OFFENSE           046XX W VAN BUREN ST  4650   \n",
       "2021-01-06 12:18:00 WEAPONS VIOLATION      013XX S FAIRFIELD AVE  143A   \n",
       "2021-01-07 10:52:00 WEAPONS VIOLATION            036XX W POLK ST  143A   \n",
       "2021-01-01 01:00:00 BATTERY                   076XX S RHODES AVE   460   \n",
       "2021-01-02 23:02:00 BATTERY                    075XX S COLES AVE   460   \n",
       "\n",
       "                                                           Description  \\\n",
       "Date                Primary Type                                         \n",
       "2021-12-19 07:23:00 BATTERY                                     SIMPLE   \n",
       "2021-04-16 20:45:00 THEFT                               $500 AND UNDER   \n",
       "2021-10-21 11:00:00 OTHER OFFENSE                        EAVESDROPPING   \n",
       "2021-11-14 06:00:00 THEFT                                ATTEMPT THEFT   \n",
       "2021-11-14 04:00:00 BATTERY                    DOMESTIC BATTERY SIMPLE   \n",
       "...                                                                ...   \n",
       "2021-01-02 12:32:00 OTHER OFFENSE      SEX OFFENDER - FAIL TO REGISTER   \n",
       "2021-01-06 12:18:00 WEAPONS VIOLATION    UNLAWFUL POSSESSION - HANDGUN   \n",
       "2021-01-07 10:52:00 WEAPONS VIOLATION    UNLAWFUL POSSESSION - HANDGUN   \n",
       "2021-01-01 01:00:00 BATTERY                                     SIMPLE   \n",
       "2021-01-02 23:02:00 BATTERY                                     SIMPLE   \n",
       "\n",
       "                                      Location Description  Arrest  Domestic  \\\n",
       "Date                Primary Type                                               \n",
       "2021-12-19 07:23:00 BATTERY                       SIDEWALK    True      True   \n",
       "2021-04-16 20:45:00 THEFT                  OTHER (SPECIFY)   False     False   \n",
       "2021-10-21 11:00:00 OTHER OFFENSE          OTHER (SPECIFY)   False     False   \n",
       "2021-11-14 06:00:00 THEFT                CONVENIENCE STORE   False     False   \n",
       "2021-11-14 04:00:00 BATTERY                      RESIDENCE   False      True   \n",
       "...                                                    ...     ...       ...   \n",
       "2021-01-02 12:32:00 OTHER OFFENSE                   STREET    True     False   \n",
       "2021-01-06 12:18:00 WEAPONS VIOLATION               STREET    True     False   \n",
       "2021-01-07 10:52:00 WEAPONS VIOLATION               STREET    True     False   \n",
       "2021-01-01 01:00:00 BATTERY                      RESIDENCE   False     False   \n",
       "2021-01-02 23:02:00 BATTERY                      APARTMENT   False     False   \n",
       "\n",
       "                                       Beat  District  ...  Community Area  \\\n",
       "Date                Primary Type                       ...                   \n",
       "2021-12-19 07:23:00 BATTERY             921         9  ...              58   \n",
       "2021-04-16 20:45:00 THEFT              2013        20  ...              77   \n",
       "2021-10-21 11:00:00 OTHER OFFENSE       412         4  ...              45   \n",
       "2021-11-14 06:00:00 THEFT               632         6  ...              44   \n",
       "2021-11-14 04:00:00 BATTERY             911         9  ...              58   \n",
       "...                                     ...       ...  ...             ...   \n",
       "2021-01-02 12:32:00 OTHER OFFENSE      1131        11  ...              25   \n",
       "2021-01-06 12:18:00 WEAPONS VIOLATION  1023        10  ...              29   \n",
       "2021-01-07 10:52:00 WEAPONS VIOLATION  1133        11  ...              27   \n",
       "2021-01-01 01:00:00 BATTERY             624         6  ...              69   \n",
       "2021-01-02 23:02:00 BATTERY             421         4  ...              43   \n",
       "\n",
       "                                       FBI Code X Coordinate  Y Coordinate  \\\n",
       "Date                Primary Type                                             \n",
       "2021-12-19 07:23:00 BATTERY                 08B    1158067.0     1876425.0   \n",
       "2021-04-16 20:45:00 THEFT                     6          NaN           NaN   \n",
       "2021-10-21 11:00:00 OTHER OFFENSE            26    1188260.0     1849805.0   \n",
       "2021-11-14 06:00:00 THEFT                     6    1183071.0     1847869.0   \n",
       "2021-11-14 04:00:00 BATTERY                 08B    1154073.0     1879187.0   \n",
       "...                                         ...          ...           ...   \n",
       "2021-01-02 12:32:00 OTHER OFFENSE            26    1145550.0     1897622.0   \n",
       "2021-01-06 12:18:00 WEAPONS VIOLATION        15    1158247.0     1893603.0   \n",
       "2021-01-07 10:52:00 WEAPONS VIOLATION        15    1152328.0     1896125.0   \n",
       "2021-01-01 01:00:00 BATTERY                 08B    1181227.0     1854479.0   \n",
       "2021-01-02 23:02:00 BATTERY                 08B    1195976.0     1855570.0   \n",
       "\n",
       "                                       Year        Updated On   Latitude  \\\n",
       "Date                Primary Type                                           \n",
       "2021-12-19 07:23:00 BATTERY            2021   9/12/2022 16:45  41.816657   \n",
       "2021-04-16 20:45:00 THEFT              2021   4/23/2021 16:51        NaN   \n",
       "2021-10-21 11:00:00 OTHER OFFENSE      2021   2/27/2022 15:46  41.742941   \n",
       "2021-11-14 06:00:00 THEFT              2021  11/21/2021 15:48  41.737751   \n",
       "2021-11-14 04:00:00 BATTERY            2021  11/21/2021 15:48  41.824317   \n",
       "...                                     ...               ...        ...   \n",
       "2021-01-02 12:32:00 OTHER OFFENSE      2021   1/16/2021 15:49  41.875070   \n",
       "2021-01-06 12:18:00 WEAPONS VIOLATION  2021   1/16/2021 15:49  41.863792   \n",
       "2021-01-07 10:52:00 WEAPONS VIOLATION  2021   1/16/2021 15:49  41.870831   \n",
       "2021-01-01 01:00:00 BATTERY            2021   1/16/2021 15:49  41.755932   \n",
       "2021-01-02 23:02:00 BATTERY            2021   1/16/2021 15:49  41.758573   \n",
       "\n",
       "                                       Longitude  \\\n",
       "Date                Primary Type                   \n",
       "2021-12-19 07:23:00 BATTERY           -87.695689   \n",
       "2021-04-16 20:45:00 THEFT                    NaN   \n",
       "2021-10-21 11:00:00 OTHER OFFENSE     -87.585783   \n",
       "2021-11-14 06:00:00 THEFT             -87.604856   \n",
       "2021-11-14 04:00:00 BATTERY           -87.710266   \n",
       "...                                          ...   \n",
       "2021-01-02 12:32:00 OTHER OFFENSE     -87.741068   \n",
       "2021-01-06 12:18:00 WEAPONS VIOLATION -87.694560   \n",
       "2021-01-07 10:52:00 WEAPONS VIOLATION -87.716222   \n",
       "2021-01-01 01:00:00 BATTERY           -87.611409   \n",
       "2021-01-02 23:02:00 BATTERY           -87.557322   \n",
       "\n",
       "                                                            Location  \\\n",
       "Date                Primary Type                                       \n",
       "2021-12-19 07:23:00 BATTERY             (41.81665685, -87.695688608)   \n",
       "2021-04-16 20:45:00 THEFT                                        NaN   \n",
       "2021-10-21 11:00:00 OTHER OFFENSE       (41.74294124, -87.585783412)   \n",
       "2021-11-14 06:00:00 THEFT              (41.737750767, -87.604855911)   \n",
       "2021-11-14 04:00:00 BATTERY            (41.824316537, -87.710266215)   \n",
       "...                                                              ...   \n",
       "2021-01-02 12:32:00 OTHER OFFENSE      (41.875069995, -87.741068317)   \n",
       "2021-01-06 12:18:00 WEAPONS VIOLATION  (41.863791576, -87.694559683)   \n",
       "2021-01-07 10:52:00 WEAPONS VIOLATION  (41.870831024, -87.716221583)   \n",
       "2021-01-01 01:00:00 BATTERY            (41.755931978, -87.611408601)   \n",
       "2021-01-02 23:02:00 BATTERY            (41.758573421, -87.557321761)   \n",
       "\n",
       "                                      ocurrences  \n",
       "Date                Primary Type                  \n",
       "2021-12-19 07:23:00 BATTERY                    1  \n",
       "2021-04-16 20:45:00 THEFT                      1  \n",
       "2021-10-21 11:00:00 OTHER OFFENSE              1  \n",
       "2021-11-14 06:00:00 THEFT                      1  \n",
       "2021-11-14 04:00:00 BATTERY                    1  \n",
       "...                                          ...  \n",
       "2021-01-02 12:32:00 OTHER OFFENSE              1  \n",
       "2021-01-06 12:18:00 WEAPONS VIOLATION          1  \n",
       "2021-01-07 10:52:00 WEAPONS VIOLATION          1  \n",
       "2021-01-01 01:00:00 BATTERY                    1  \n",
       "2021-01-02 23:02:00 BATTERY                    1  \n",
       "\n",
       "[20000 rows x 21 columns]"
      ]
     },
     "execution_count": 134,
     "metadata": {},
     "output_type": "execute_result"
    }
   ],
   "source": [
    "crimes_mi['ocurrences'] = np.ones(len(crimes_mi), dtype=int) # create and array of ones call occurences\n",
    "crimes_mi"
   ]
  },
  {
   "cell_type": "code",
   "execution_count": null,
   "metadata": {
    "id": "kQVRDyse7_Kw",
    "outputId": "8103952f-f0cb-4633-c49d-cc5a4456b75a"
   },
   "outputs": [
    {
     "data": {
      "text/plain": [
       "Date                 Primary Type              \n",
       "2021-01-01 00:00:00  ASSAULT                       1\n",
       "                     BATTERY                       1\n",
       "                     CRIMINAL DAMAGE               2\n",
       "                     DECEPTIVE PRACTICE            2\n",
       "                     OFFENSE INVOLVING CHILDREN    1\n",
       "                                                  ..\n",
       "2021-12-21 18:30:00  BATTERY                       1\n",
       "2021-12-22 00:01:00  DECEPTIVE PRACTICE            1\n",
       "2021-12-22 09:00:00  DECEPTIVE PRACTICE            1\n",
       "2021-12-26 12:00:00  DECEPTIVE PRACTICE            1\n",
       "2021-12-28 00:00:00  ROBBERY                       1\n",
       "Name: ocurrences, Length: 17134, dtype: int64"
      ]
     },
     "execution_count": 135,
     "metadata": {},
     "output_type": "execute_result"
    }
   ],
   "source": [
    "crimes_mi['ocurrences'] = np.ones(len(crimes_mi), dtype=int) # np.ones() returns a new array\n",
    "crimes_grouped = crimes_mi.ocurrences.groupby(level=[0,1]).sum() #group by the times in the index (level 0) and\n",
    "                                                                #also use the columns (level 1)\n",
    "crimes_grouped"
   ]
  },
  {
   "cell_type": "markdown",
   "metadata": {
    "id": "_K5af7o47_Kw"
   },
   "source": [
    "## Now that the duplicates are addressed we can transpose the categories from the series 'Primary Type' into columns. So we *unstack at level =1* .  We resample by hour. Any values that are na we interpolate with 0 and make those integers"
   ]
  },
  {
   "cell_type": "code",
   "execution_count": null,
   "metadata": {
    "id": "0H1nDwXP7_Kw",
    "outputId": "93b18ed8-044a-40ba-d710-b403b21dc752"
   },
   "outputs": [
    {
     "data": {
      "text/html": [
       "<div>\n",
       "<style scoped>\n",
       "    .dataframe tbody tr th:only-of-type {\n",
       "        vertical-align: middle;\n",
       "    }\n",
       "\n",
       "    .dataframe tbody tr th {\n",
       "        vertical-align: top;\n",
       "    }\n",
       "\n",
       "    .dataframe thead th {\n",
       "        text-align: right;\n",
       "    }\n",
       "</style>\n",
       "<table border=\"1\" class=\"dataframe\">\n",
       "  <thead>\n",
       "    <tr style=\"text-align: right;\">\n",
       "      <th>Primary Type</th>\n",
       "      <th>ARSON</th>\n",
       "      <th>ASSAULT</th>\n",
       "      <th>BATTERY</th>\n",
       "      <th>BURGLARY</th>\n",
       "      <th>CONCEALED CARRY LICENSE VIOLATION</th>\n",
       "      <th>CRIMINAL DAMAGE</th>\n",
       "      <th>CRIMINAL SEXUAL ASSAULT</th>\n",
       "      <th>CRIMINAL TRESPASS</th>\n",
       "      <th>DECEPTIVE PRACTICE</th>\n",
       "      <th>GAMBLING</th>\n",
       "      <th>...</th>\n",
       "      <th>OBSCENITY</th>\n",
       "      <th>OFFENSE INVOLVING CHILDREN</th>\n",
       "      <th>OTHER OFFENSE</th>\n",
       "      <th>PROSTITUTION</th>\n",
       "      <th>PUBLIC PEACE VIOLATION</th>\n",
       "      <th>ROBBERY</th>\n",
       "      <th>SEX OFFENSE</th>\n",
       "      <th>STALKING</th>\n",
       "      <th>THEFT</th>\n",
       "      <th>WEAPONS VIOLATION</th>\n",
       "    </tr>\n",
       "    <tr>\n",
       "      <th>Date</th>\n",
       "      <th></th>\n",
       "      <th></th>\n",
       "      <th></th>\n",
       "      <th></th>\n",
       "      <th></th>\n",
       "      <th></th>\n",
       "      <th></th>\n",
       "      <th></th>\n",
       "      <th></th>\n",
       "      <th></th>\n",
       "      <th></th>\n",
       "      <th></th>\n",
       "      <th></th>\n",
       "      <th></th>\n",
       "      <th></th>\n",
       "      <th></th>\n",
       "      <th></th>\n",
       "      <th></th>\n",
       "      <th></th>\n",
       "      <th></th>\n",
       "      <th></th>\n",
       "    </tr>\n",
       "  </thead>\n",
       "  <tbody>\n",
       "    <tr>\n",
       "      <th>2021-01-01 00:00:00</th>\n",
       "      <td>0</td>\n",
       "      <td>1</td>\n",
       "      <td>9</td>\n",
       "      <td>0</td>\n",
       "      <td>0</td>\n",
       "      <td>9</td>\n",
       "      <td>0</td>\n",
       "      <td>0</td>\n",
       "      <td>2</td>\n",
       "      <td>0</td>\n",
       "      <td>...</td>\n",
       "      <td>0</td>\n",
       "      <td>1</td>\n",
       "      <td>4</td>\n",
       "      <td>0</td>\n",
       "      <td>0</td>\n",
       "      <td>0</td>\n",
       "      <td>0</td>\n",
       "      <td>0</td>\n",
       "      <td>1</td>\n",
       "      <td>6</td>\n",
       "    </tr>\n",
       "    <tr>\n",
       "      <th>2021-01-01 01:00:00</th>\n",
       "      <td>0</td>\n",
       "      <td>0</td>\n",
       "      <td>10</td>\n",
       "      <td>1</td>\n",
       "      <td>0</td>\n",
       "      <td>1</td>\n",
       "      <td>0</td>\n",
       "      <td>0</td>\n",
       "      <td>0</td>\n",
       "      <td>0</td>\n",
       "      <td>...</td>\n",
       "      <td>0</td>\n",
       "      <td>0</td>\n",
       "      <td>1</td>\n",
       "      <td>0</td>\n",
       "      <td>0</td>\n",
       "      <td>1</td>\n",
       "      <td>0</td>\n",
       "      <td>0</td>\n",
       "      <td>0</td>\n",
       "      <td>2</td>\n",
       "    </tr>\n",
       "    <tr>\n",
       "      <th>2021-01-01 02:00:00</th>\n",
       "      <td>0</td>\n",
       "      <td>0</td>\n",
       "      <td>5</td>\n",
       "      <td>1</td>\n",
       "      <td>0</td>\n",
       "      <td>0</td>\n",
       "      <td>1</td>\n",
       "      <td>0</td>\n",
       "      <td>0</td>\n",
       "      <td>0</td>\n",
       "      <td>...</td>\n",
       "      <td>0</td>\n",
       "      <td>0</td>\n",
       "      <td>0</td>\n",
       "      <td>0</td>\n",
       "      <td>0</td>\n",
       "      <td>0</td>\n",
       "      <td>0</td>\n",
       "      <td>0</td>\n",
       "      <td>0</td>\n",
       "      <td>0</td>\n",
       "    </tr>\n",
       "    <tr>\n",
       "      <th>2021-01-01 03:00:00</th>\n",
       "      <td>0</td>\n",
       "      <td>0</td>\n",
       "      <td>7</td>\n",
       "      <td>1</td>\n",
       "      <td>0</td>\n",
       "      <td>2</td>\n",
       "      <td>0</td>\n",
       "      <td>0</td>\n",
       "      <td>0</td>\n",
       "      <td>0</td>\n",
       "      <td>...</td>\n",
       "      <td>0</td>\n",
       "      <td>0</td>\n",
       "      <td>0</td>\n",
       "      <td>0</td>\n",
       "      <td>1</td>\n",
       "      <td>0</td>\n",
       "      <td>0</td>\n",
       "      <td>0</td>\n",
       "      <td>1</td>\n",
       "      <td>1</td>\n",
       "    </tr>\n",
       "    <tr>\n",
       "      <th>2021-01-01 04:00:00</th>\n",
       "      <td>0</td>\n",
       "      <td>1</td>\n",
       "      <td>6</td>\n",
       "      <td>0</td>\n",
       "      <td>0</td>\n",
       "      <td>2</td>\n",
       "      <td>0</td>\n",
       "      <td>0</td>\n",
       "      <td>0</td>\n",
       "      <td>0</td>\n",
       "      <td>...</td>\n",
       "      <td>0</td>\n",
       "      <td>0</td>\n",
       "      <td>2</td>\n",
       "      <td>0</td>\n",
       "      <td>0</td>\n",
       "      <td>0</td>\n",
       "      <td>0</td>\n",
       "      <td>0</td>\n",
       "      <td>0</td>\n",
       "      <td>0</td>\n",
       "    </tr>\n",
       "  </tbody>\n",
       "</table>\n",
       "<p>5 rows × 28 columns</p>\n",
       "</div>"
      ],
      "text/plain": [
       "Primary Type         ARSON  ASSAULT  BATTERY  BURGLARY  \\\n",
       "Date                                                     \n",
       "2021-01-01 00:00:00      0        1        9         0   \n",
       "2021-01-01 01:00:00      0        0       10         1   \n",
       "2021-01-01 02:00:00      0        0        5         1   \n",
       "2021-01-01 03:00:00      0        0        7         1   \n",
       "2021-01-01 04:00:00      0        1        6         0   \n",
       "\n",
       "Primary Type         CONCEALED CARRY LICENSE VIOLATION  CRIMINAL DAMAGE  \\\n",
       "Date                                                                      \n",
       "2021-01-01 00:00:00                                  0                9   \n",
       "2021-01-01 01:00:00                                  0                1   \n",
       "2021-01-01 02:00:00                                  0                0   \n",
       "2021-01-01 03:00:00                                  0                2   \n",
       "2021-01-01 04:00:00                                  0                2   \n",
       "\n",
       "Primary Type         CRIMINAL SEXUAL ASSAULT  CRIMINAL TRESPASS  \\\n",
       "Date                                                              \n",
       "2021-01-01 00:00:00                        0                  0   \n",
       "2021-01-01 01:00:00                        0                  0   \n",
       "2021-01-01 02:00:00                        1                  0   \n",
       "2021-01-01 03:00:00                        0                  0   \n",
       "2021-01-01 04:00:00                        0                  0   \n",
       "\n",
       "Primary Type         DECEPTIVE PRACTICE  GAMBLING  ...  OBSCENITY  \\\n",
       "Date                                               ...              \n",
       "2021-01-01 00:00:00                   2         0  ...          0   \n",
       "2021-01-01 01:00:00                   0         0  ...          0   \n",
       "2021-01-01 02:00:00                   0         0  ...          0   \n",
       "2021-01-01 03:00:00                   0         0  ...          0   \n",
       "2021-01-01 04:00:00                   0         0  ...          0   \n",
       "\n",
       "Primary Type         OFFENSE INVOLVING CHILDREN  OTHER OFFENSE  PROSTITUTION  \\\n",
       "Date                                                                           \n",
       "2021-01-01 00:00:00                           1              4             0   \n",
       "2021-01-01 01:00:00                           0              1             0   \n",
       "2021-01-01 02:00:00                           0              0             0   \n",
       "2021-01-01 03:00:00                           0              0             0   \n",
       "2021-01-01 04:00:00                           0              2             0   \n",
       "\n",
       "Primary Type         PUBLIC PEACE VIOLATION  ROBBERY  SEX OFFENSE  STALKING  \\\n",
       "Date                                                                          \n",
       "2021-01-01 00:00:00                       0        0            0         0   \n",
       "2021-01-01 01:00:00                       0        1            0         0   \n",
       "2021-01-01 02:00:00                       0        0            0         0   \n",
       "2021-01-01 03:00:00                       1        0            0         0   \n",
       "2021-01-01 04:00:00                       0        0            0         0   \n",
       "\n",
       "Primary Type         THEFT  WEAPONS VIOLATION  \n",
       "Date                                           \n",
       "2021-01-01 00:00:00      1                  6  \n",
       "2021-01-01 01:00:00      0                  2  \n",
       "2021-01-01 02:00:00      0                  0  \n",
       "2021-01-01 03:00:00      1                  1  \n",
       "2021-01-01 04:00:00      0                  0  \n",
       "\n",
       "[5 rows x 28 columns]"
      ]
     },
     "execution_count": 136,
     "metadata": {},
     "output_type": "execute_result"
    }
   ],
   "source": [
    "crimes_by_type = crimes_grouped.unstack(level=1).fillna(0).resample('h').sum().fillna(0).astype(int)\n",
    "crimes_by_type.head()"
   ]
  },
  {
   "cell_type": "code",
   "execution_count": null,
   "metadata": {
    "id": "1yDBLq2B7_Kw",
    "outputId": "aee031ba-915f-4ece-d91e-4fc99ead2359"
   },
   "outputs": [
    {
     "name": "stderr",
     "output_type": "stream",
     "text": [
      "/tmp/ipykernel_148/2230006093.py:1: FutureWarning: Indexing a DataFrame with a datetimelike index using a single string to slice the rows, like `frame[string]`, is deprecated and will be removed in a future version. Use `frame.loc[string]` instead.\n",
      "  crimes_by_type.loc[:, ['THEFT', 'HOMICIDE', 'ASSAULT']]['2021']\n"
     ]
    },
    {
     "data": {
      "text/html": [
       "<div>\n",
       "<style scoped>\n",
       "    .dataframe tbody tr th:only-of-type {\n",
       "        vertical-align: middle;\n",
       "    }\n",
       "\n",
       "    .dataframe tbody tr th {\n",
       "        vertical-align: top;\n",
       "    }\n",
       "\n",
       "    .dataframe thead th {\n",
       "        text-align: right;\n",
       "    }\n",
       "</style>\n",
       "<table border=\"1\" class=\"dataframe\">\n",
       "  <thead>\n",
       "    <tr style=\"text-align: right;\">\n",
       "      <th>Primary Type</th>\n",
       "      <th>THEFT</th>\n",
       "      <th>HOMICIDE</th>\n",
       "      <th>ASSAULT</th>\n",
       "    </tr>\n",
       "    <tr>\n",
       "      <th>Date</th>\n",
       "      <th></th>\n",
       "      <th></th>\n",
       "      <th></th>\n",
       "    </tr>\n",
       "  </thead>\n",
       "  <tbody>\n",
       "    <tr>\n",
       "      <th>2021-01-01 00:00:00</th>\n",
       "      <td>1</td>\n",
       "      <td>0</td>\n",
       "      <td>1</td>\n",
       "    </tr>\n",
       "    <tr>\n",
       "      <th>2021-01-01 01:00:00</th>\n",
       "      <td>0</td>\n",
       "      <td>0</td>\n",
       "      <td>0</td>\n",
       "    </tr>\n",
       "    <tr>\n",
       "      <th>2021-01-01 02:00:00</th>\n",
       "      <td>0</td>\n",
       "      <td>0</td>\n",
       "      <td>0</td>\n",
       "    </tr>\n",
       "    <tr>\n",
       "      <th>2021-01-01 03:00:00</th>\n",
       "      <td>1</td>\n",
       "      <td>0</td>\n",
       "      <td>0</td>\n",
       "    </tr>\n",
       "    <tr>\n",
       "      <th>2021-01-01 04:00:00</th>\n",
       "      <td>0</td>\n",
       "      <td>0</td>\n",
       "      <td>1</td>\n",
       "    </tr>\n",
       "    <tr>\n",
       "      <th>...</th>\n",
       "      <td>...</td>\n",
       "      <td>...</td>\n",
       "      <td>...</td>\n",
       "    </tr>\n",
       "    <tr>\n",
       "      <th>2021-12-27 20:00:00</th>\n",
       "      <td>0</td>\n",
       "      <td>0</td>\n",
       "      <td>0</td>\n",
       "    </tr>\n",
       "    <tr>\n",
       "      <th>2021-12-27 21:00:00</th>\n",
       "      <td>0</td>\n",
       "      <td>0</td>\n",
       "      <td>0</td>\n",
       "    </tr>\n",
       "    <tr>\n",
       "      <th>2021-12-27 22:00:00</th>\n",
       "      <td>0</td>\n",
       "      <td>0</td>\n",
       "      <td>0</td>\n",
       "    </tr>\n",
       "    <tr>\n",
       "      <th>2021-12-27 23:00:00</th>\n",
       "      <td>0</td>\n",
       "      <td>0</td>\n",
       "      <td>0</td>\n",
       "    </tr>\n",
       "    <tr>\n",
       "      <th>2021-12-28 00:00:00</th>\n",
       "      <td>0</td>\n",
       "      <td>0</td>\n",
       "      <td>0</td>\n",
       "    </tr>\n",
       "  </tbody>\n",
       "</table>\n",
       "<p>8665 rows × 3 columns</p>\n",
       "</div>"
      ],
      "text/plain": [
       "Primary Type         THEFT  HOMICIDE  ASSAULT\n",
       "Date                                         \n",
       "2021-01-01 00:00:00      1         0        1\n",
       "2021-01-01 01:00:00      0         0        0\n",
       "2021-01-01 02:00:00      0         0        0\n",
       "2021-01-01 03:00:00      1         0        0\n",
       "2021-01-01 04:00:00      0         0        1\n",
       "...                    ...       ...      ...\n",
       "2021-12-27 20:00:00      0         0        0\n",
       "2021-12-27 21:00:00      0         0        0\n",
       "2021-12-27 22:00:00      0         0        0\n",
       "2021-12-27 23:00:00      0         0        0\n",
       "2021-12-28 00:00:00      0         0        0\n",
       "\n",
       "[8665 rows x 3 columns]"
      ]
     },
     "execution_count": 140,
     "metadata": {},
     "output_type": "execute_result"
    }
   ],
   "source": [
    "crimes_by_type.loc[:, ['THEFT', 'HOMICIDE', 'ASSAULT']]['2021']"
   ]
  },
  {
   "cell_type": "code",
   "execution_count": null,
   "metadata": {
    "id": "yxdLPwqL7_Kw",
    "outputId": "67ec908b-745b-45c8-8e47-d59fdd678aba"
   },
   "outputs": [
    {
     "name": "stderr",
     "output_type": "stream",
     "text": [
      "/tmp/ipykernel_148/1514507877.py:1: FutureWarning: Indexing a DataFrame with a datetimelike index using a single string to slice the rows, like `frame[string]`, is deprecated and will be removed in a future version. Use `frame.loc[string]` instead.\n",
      "  crimes_by_type.loc[:, ['THEFT', 'HOMICIDE', 'ASSAULT']]['2021-11-19'] #\n"
     ]
    },
    {
     "data": {
      "text/html": [
       "<div>\n",
       "<style scoped>\n",
       "    .dataframe tbody tr th:only-of-type {\n",
       "        vertical-align: middle;\n",
       "    }\n",
       "\n",
       "    .dataframe tbody tr th {\n",
       "        vertical-align: top;\n",
       "    }\n",
       "\n",
       "    .dataframe thead th {\n",
       "        text-align: right;\n",
       "    }\n",
       "</style>\n",
       "<table border=\"1\" class=\"dataframe\">\n",
       "  <thead>\n",
       "    <tr style=\"text-align: right;\">\n",
       "      <th>Primary Type</th>\n",
       "      <th>THEFT</th>\n",
       "      <th>HOMICIDE</th>\n",
       "      <th>ASSAULT</th>\n",
       "    </tr>\n",
       "    <tr>\n",
       "      <th>Date</th>\n",
       "      <th></th>\n",
       "      <th></th>\n",
       "      <th></th>\n",
       "    </tr>\n",
       "  </thead>\n",
       "  <tbody>\n",
       "    <tr>\n",
       "      <th>2021-11-19 00:00:00</th>\n",
       "      <td>3</td>\n",
       "      <td>0</td>\n",
       "      <td>1</td>\n",
       "    </tr>\n",
       "    <tr>\n",
       "      <th>2021-11-19 01:00:00</th>\n",
       "      <td>4</td>\n",
       "      <td>0</td>\n",
       "      <td>1</td>\n",
       "    </tr>\n",
       "    <tr>\n",
       "      <th>2021-11-19 02:00:00</th>\n",
       "      <td>2</td>\n",
       "      <td>0</td>\n",
       "      <td>1</td>\n",
       "    </tr>\n",
       "    <tr>\n",
       "      <th>2021-11-19 03:00:00</th>\n",
       "      <td>0</td>\n",
       "      <td>0</td>\n",
       "      <td>0</td>\n",
       "    </tr>\n",
       "    <tr>\n",
       "      <th>2021-11-19 04:00:00</th>\n",
       "      <td>2</td>\n",
       "      <td>0</td>\n",
       "      <td>0</td>\n",
       "    </tr>\n",
       "    <tr>\n",
       "      <th>2021-11-19 05:00:00</th>\n",
       "      <td>2</td>\n",
       "      <td>0</td>\n",
       "      <td>0</td>\n",
       "    </tr>\n",
       "    <tr>\n",
       "      <th>2021-11-19 06:00:00</th>\n",
       "      <td>0</td>\n",
       "      <td>0</td>\n",
       "      <td>2</td>\n",
       "    </tr>\n",
       "    <tr>\n",
       "      <th>2021-11-19 07:00:00</th>\n",
       "      <td>3</td>\n",
       "      <td>0</td>\n",
       "      <td>0</td>\n",
       "    </tr>\n",
       "    <tr>\n",
       "      <th>2021-11-19 08:00:00</th>\n",
       "      <td>1</td>\n",
       "      <td>0</td>\n",
       "      <td>2</td>\n",
       "    </tr>\n",
       "    <tr>\n",
       "      <th>2021-11-19 09:00:00</th>\n",
       "      <td>0</td>\n",
       "      <td>0</td>\n",
       "      <td>0</td>\n",
       "    </tr>\n",
       "    <tr>\n",
       "      <th>2021-11-19 10:00:00</th>\n",
       "      <td>3</td>\n",
       "      <td>0</td>\n",
       "      <td>1</td>\n",
       "    </tr>\n",
       "    <tr>\n",
       "      <th>2021-11-19 11:00:00</th>\n",
       "      <td>2</td>\n",
       "      <td>0</td>\n",
       "      <td>2</td>\n",
       "    </tr>\n",
       "    <tr>\n",
       "      <th>2021-11-19 12:00:00</th>\n",
       "      <td>0</td>\n",
       "      <td>0</td>\n",
       "      <td>1</td>\n",
       "    </tr>\n",
       "    <tr>\n",
       "      <th>2021-11-19 13:00:00</th>\n",
       "      <td>1</td>\n",
       "      <td>0</td>\n",
       "      <td>5</td>\n",
       "    </tr>\n",
       "    <tr>\n",
       "      <th>2021-11-19 14:00:00</th>\n",
       "      <td>1</td>\n",
       "      <td>0</td>\n",
       "      <td>0</td>\n",
       "    </tr>\n",
       "    <tr>\n",
       "      <th>2021-11-19 15:00:00</th>\n",
       "      <td>3</td>\n",
       "      <td>0</td>\n",
       "      <td>1</td>\n",
       "    </tr>\n",
       "    <tr>\n",
       "      <th>2021-11-19 16:00:00</th>\n",
       "      <td>2</td>\n",
       "      <td>0</td>\n",
       "      <td>1</td>\n",
       "    </tr>\n",
       "    <tr>\n",
       "      <th>2021-11-19 17:00:00</th>\n",
       "      <td>1</td>\n",
       "      <td>0</td>\n",
       "      <td>2</td>\n",
       "    </tr>\n",
       "    <tr>\n",
       "      <th>2021-11-19 18:00:00</th>\n",
       "      <td>4</td>\n",
       "      <td>0</td>\n",
       "      <td>1</td>\n",
       "    </tr>\n",
       "    <tr>\n",
       "      <th>2021-11-19 19:00:00</th>\n",
       "      <td>3</td>\n",
       "      <td>0</td>\n",
       "      <td>0</td>\n",
       "    </tr>\n",
       "    <tr>\n",
       "      <th>2021-11-19 20:00:00</th>\n",
       "      <td>2</td>\n",
       "      <td>0</td>\n",
       "      <td>0</td>\n",
       "    </tr>\n",
       "    <tr>\n",
       "      <th>2021-11-19 21:00:00</th>\n",
       "      <td>4</td>\n",
       "      <td>0</td>\n",
       "      <td>1</td>\n",
       "    </tr>\n",
       "    <tr>\n",
       "      <th>2021-11-19 22:00:00</th>\n",
       "      <td>2</td>\n",
       "      <td>0</td>\n",
       "      <td>2</td>\n",
       "    </tr>\n",
       "    <tr>\n",
       "      <th>2021-11-19 23:00:00</th>\n",
       "      <td>2</td>\n",
       "      <td>0</td>\n",
       "      <td>1</td>\n",
       "    </tr>\n",
       "  </tbody>\n",
       "</table>\n",
       "</div>"
      ],
      "text/plain": [
       "Primary Type         THEFT  HOMICIDE  ASSAULT\n",
       "Date                                         \n",
       "2021-11-19 00:00:00      3         0        1\n",
       "2021-11-19 01:00:00      4         0        1\n",
       "2021-11-19 02:00:00      2         0        1\n",
       "2021-11-19 03:00:00      0         0        0\n",
       "2021-11-19 04:00:00      2         0        0\n",
       "2021-11-19 05:00:00      2         0        0\n",
       "2021-11-19 06:00:00      0         0        2\n",
       "2021-11-19 07:00:00      3         0        0\n",
       "2021-11-19 08:00:00      1         0        2\n",
       "2021-11-19 09:00:00      0         0        0\n",
       "2021-11-19 10:00:00      3         0        1\n",
       "2021-11-19 11:00:00      2         0        2\n",
       "2021-11-19 12:00:00      0         0        1\n",
       "2021-11-19 13:00:00      1         0        5\n",
       "2021-11-19 14:00:00      1         0        0\n",
       "2021-11-19 15:00:00      3         0        1\n",
       "2021-11-19 16:00:00      2         0        1\n",
       "2021-11-19 17:00:00      1         0        2\n",
       "2021-11-19 18:00:00      4         0        1\n",
       "2021-11-19 19:00:00      3         0        0\n",
       "2021-11-19 20:00:00      2         0        0\n",
       "2021-11-19 21:00:00      4         0        1\n",
       "2021-11-19 22:00:00      2         0        2\n",
       "2021-11-19 23:00:00      2         0        1"
      ]
     },
     "execution_count": 144,
     "metadata": {},
     "output_type": "execute_result"
    }
   ],
   "source": [
    "crimes_by_type.loc[:, ['THEFT', 'HOMICIDE', 'ASSAULT']]['2021-11-19'] # let us look at some specific crimes by a day"
   ]
  },
  {
   "cell_type": "markdown",
   "metadata": {
    "id": "X5CZ3A7_7_Kx"
   },
   "source": [
    "### Let us select by label resample by day and find the total of these crimes categories."
   ]
  },
  {
   "cell_type": "code",
   "execution_count": null,
   "metadata": {
    "id": "E4ihr1WH7_Kx",
    "outputId": "f4b49d11-a5a7-4dd5-dd05-85ffa01bada0"
   },
   "outputs": [
    {
     "name": "stderr",
     "output_type": "stream",
     "text": [
      "/tmp/ipykernel_148/1255652564.py:1: FutureWarning: Indexing a DataFrame with a datetimelike index using a single string to slice the rows, like `frame[string]`, is deprecated and will be removed in a future version. Use `frame.loc[string]` instead.\n",
      "  crimes_by_type.loc[:, ['THEFT', 'HOMICIDE', 'ASSAULT']]['2021'].resample('D').sum()\n"
     ]
    },
    {
     "data": {
      "text/html": [
       "<div>\n",
       "<style scoped>\n",
       "    .dataframe tbody tr th:only-of-type {\n",
       "        vertical-align: middle;\n",
       "    }\n",
       "\n",
       "    .dataframe tbody tr th {\n",
       "        vertical-align: top;\n",
       "    }\n",
       "\n",
       "    .dataframe thead th {\n",
       "        text-align: right;\n",
       "    }\n",
       "</style>\n",
       "<table border=\"1\" class=\"dataframe\">\n",
       "  <thead>\n",
       "    <tr style=\"text-align: right;\">\n",
       "      <th>Primary Type</th>\n",
       "      <th>THEFT</th>\n",
       "      <th>HOMICIDE</th>\n",
       "      <th>ASSAULT</th>\n",
       "    </tr>\n",
       "    <tr>\n",
       "      <th>Date</th>\n",
       "      <th></th>\n",
       "      <th></th>\n",
       "      <th></th>\n",
       "    </tr>\n",
       "  </thead>\n",
       "  <tbody>\n",
       "    <tr>\n",
       "      <th>2021-01-01</th>\n",
       "      <td>11</td>\n",
       "      <td>0</td>\n",
       "      <td>13</td>\n",
       "    </tr>\n",
       "    <tr>\n",
       "      <th>2021-01-02</th>\n",
       "      <td>19</td>\n",
       "      <td>0</td>\n",
       "      <td>12</td>\n",
       "    </tr>\n",
       "    <tr>\n",
       "      <th>2021-01-03</th>\n",
       "      <td>22</td>\n",
       "      <td>1</td>\n",
       "      <td>8</td>\n",
       "    </tr>\n",
       "    <tr>\n",
       "      <th>2021-01-04</th>\n",
       "      <td>32</td>\n",
       "      <td>0</td>\n",
       "      <td>17</td>\n",
       "    </tr>\n",
       "    <tr>\n",
       "      <th>2021-01-05</th>\n",
       "      <td>29</td>\n",
       "      <td>0</td>\n",
       "      <td>14</td>\n",
       "    </tr>\n",
       "    <tr>\n",
       "      <th>...</th>\n",
       "      <td>...</td>\n",
       "      <td>...</td>\n",
       "      <td>...</td>\n",
       "    </tr>\n",
       "    <tr>\n",
       "      <th>2021-12-24</th>\n",
       "      <td>0</td>\n",
       "      <td>0</td>\n",
       "      <td>0</td>\n",
       "    </tr>\n",
       "    <tr>\n",
       "      <th>2021-12-25</th>\n",
       "      <td>0</td>\n",
       "      <td>0</td>\n",
       "      <td>0</td>\n",
       "    </tr>\n",
       "    <tr>\n",
       "      <th>2021-12-26</th>\n",
       "      <td>0</td>\n",
       "      <td>0</td>\n",
       "      <td>0</td>\n",
       "    </tr>\n",
       "    <tr>\n",
       "      <th>2021-12-27</th>\n",
       "      <td>0</td>\n",
       "      <td>0</td>\n",
       "      <td>0</td>\n",
       "    </tr>\n",
       "    <tr>\n",
       "      <th>2021-12-28</th>\n",
       "      <td>0</td>\n",
       "      <td>0</td>\n",
       "      <td>0</td>\n",
       "    </tr>\n",
       "  </tbody>\n",
       "</table>\n",
       "<p>362 rows × 3 columns</p>\n",
       "</div>"
      ],
      "text/plain": [
       "Primary Type  THEFT  HOMICIDE  ASSAULT\n",
       "Date                                  \n",
       "2021-01-01       11         0       13\n",
       "2021-01-02       19         0       12\n",
       "2021-01-03       22         1        8\n",
       "2021-01-04       32         0       17\n",
       "2021-01-05       29         0       14\n",
       "...             ...       ...      ...\n",
       "2021-12-24        0         0        0\n",
       "2021-12-25        0         0        0\n",
       "2021-12-26        0         0        0\n",
       "2021-12-27        0         0        0\n",
       "2021-12-28        0         0        0\n",
       "\n",
       "[362 rows x 3 columns]"
      ]
     },
     "execution_count": 147,
     "metadata": {},
     "output_type": "execute_result"
    }
   ],
   "source": [
    "crimes_by_type.loc[:, ['THEFT', 'HOMICIDE', 'ASSAULT']]['2021'].resample('D').sum()"
   ]
  },
  {
   "cell_type": "code",
   "execution_count": null,
   "metadata": {
    "id": "nq8b1aLn7_Kx",
    "outputId": "c312ffbb-4b46-4aea-abcc-9a396863a799"
   },
   "outputs": [
    {
     "name": "stderr",
     "output_type": "stream",
     "text": [
      "/tmp/ipykernel_148/1405143783.py:1: FutureWarning: Indexing a DataFrame with a datetimelike index using a single string to slice the rows, like `frame[string]`, is deprecated and will be removed in a future version. Use `frame.loc[string]` instead.\n",
      "  crimes_by_type.loc[:, ['THEFT', 'HOMICIDE', 'ASSAULT']]['2021'].resample('D').sum().plot()\n"
     ]
    },
    {
     "data": {
      "text/plain": [
       "<AxesSubplot:xlabel='Date'>"
      ]
     },
     "execution_count": 139,
     "metadata": {},
     "output_type": "execute_result"
    },
    {
     "data": {
      "image/png": "[encoded data removed]",
      "text/plain": [
       "<Figure size 432x288 with 1 Axes>"
      ]
     },
     "metadata": {
      "needs_background": "light"
     },
     "output_type": "display_data"
    }
   ],
   "source": [
    "crimes_by_type.loc[:, ['THEFT', 'HOMICIDE', 'ASSAULT']]['2021'].resample('D').sum().plot() # let us plot this"
   ]
  },
  {
   "cell_type": "markdown",
   "metadata": {
    "id": "-Xio163-7_Kx"
   },
   "source": [
    "# USING INTERACT"
   ]
  },
  {
   "cell_type": "markdown",
   "metadata": {
    "id": "N-gUPKUC7_Kx"
   },
   "source": [
    "## Create an interactive widget\n",
    "\n",
    "### Just a taste – see [the docs](https://ipywidgets.readthedocs.io/en/latest/index.html) for more options."
   ]
  },
  {
   "cell_type": "code",
   "execution_count": null,
   "metadata": {
    "id": "7Mhn2H6g7_Kx"
   },
   "outputs": [],
   "source": []
  },
  {
   "cell_type": "code",
   "execution_count": null,
   "metadata": {
    "id": "h_GKUtWx7_Kx"
   },
   "outputs": [],
   "source": [
    "from ipywidgets import interact"
   ]
  },
  {
   "cell_type": "code",
   "execution_count": null,
   "metadata": {
    "colab": {
     "referenced_widgets": [
      "1f3fcdfd0e094b418097ca540bc3572d"
     ]
    },
    "id": "YUhQabbY7_Kx",
    "outputId": "a79214c7-303d-45bc-b848-1993cfbccd97"
   },
   "outputs": [
    {
     "data": {
      "application/vnd.jupyter.widget-view+json": {
       "model_id": "1f3fcdfd0e094b418097ca540bc3572d",
       "version_major": 2,
       "version_minor": 0
      },
      "text/plain": [
       "interactive(children=(Dropdown(description='crime_type', index=26, options=('ARSON', 'ASSAULT', 'BATTERY', 'BU…"
      ]
     },
     "metadata": {},
     "output_type": "display_data"
    }
   ],
   "source": [
    "@interact(crime_type = crimes_by_type.columns) # dropdown\n",
    "def plot_chart(crime_type='THEFT'): # theft is the default\n",
    "    crimes_by_type.loc[:, crime_type]['2021'].resample('D').sum().plot(title=crime_type)"
   ]
  },
  {
   "cell_type": "code",
   "execution_count": null,
   "metadata": {
    "colab": {
     "referenced_widgets": [
      "3e1090f38b3148fba2718570b951e73c"
     ]
    },
    "id": "-KtKNRX17_Kx",
    "outputId": "06c508a5-3bc6-488b-9a43-e32a5adaad72"
   },
   "outputs": [
    {
     "data": {
      "application/vnd.jupyter.widget-view+json": {
       "model_id": "3e1090f38b3148fba2718570b951e73c",
       "version_major": 2,
       "version_minor": 0
      },
      "text/plain": [
       "interactive(children=(Dropdown(description='crime_type', options=('ARSON', 'ASSAULT', 'BATTERY', 'BURGLARY', '…"
      ]
     },
     "metadata": {},
     "output_type": "display_data"
    }
   ],
   "source": [
    "@interact(crime_type = crimes_by_type.columns) # dropdown save to a variable crime_type\n",
    "def plot_chart(crime_type): # Sort alphabetically\n",
    "    crimes_by_type.loc[:, crime_type]['2021'].resample('D').sum().plot(title=crime_type)"
   ]
  },
  {
   "cell_type": "code",
   "execution_count": null,
   "metadata": {
    "id": "yzOhFyh_7_Kx"
   },
   "outputs": [],
   "source": []
  }
 ],
 "metadata": {
  "colab": {
   "provenance": []
  },
  "kernelspec": {
   "display_name": "Python 3 (ipykernel)",
   "language": "python",
   "name": "python3"
  },
  "language_info": {
   "codemirror_mode": {
    "name": "ipython",
    "version": 3
   },
   "file_extension": ".py",
   "mimetype": "text/x-python",
   "name": "python",
   "nbconvert_exporter": "python",
   "pygments_lexer": "ipython3",
   "version": "3.11.7"
  },
  "varInspector": {
   "cols": {
    "lenName": 16,
    "lenType": 16,
    "lenVar": 40
   },
   "kernels_config": {
    "python": {
     "delete_cmd_postfix": "",
     "delete_cmd_prefix": "del ",
     "library": "var_list.py",
     "varRefreshCmd": "print(var_dic_list())"
    },
    "r": {
     "delete_cmd_postfix": ") ",
     "delete_cmd_prefix": "rm(",
     "library": "var_list.r",
     "varRefreshCmd": "cat(var_dic_list()) "
    }
   },
   "types_to_exclude": [
    "module",
    "function",
    "builtin_function_or_method",
    "instance",
    "_Feature"
   ],
   "window_display": false
  }
 },
 "nbformat": 4,
 "nbformat_minor": 4
}
