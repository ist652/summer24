{
 "cells": [
  {
   "cell_type": "markdown",
   "metadata": {},
   "source": [
    "# Semi-structured data - Working with JSON"
   ]
  },
  {
   "cell_type": "code",
   "execution_count": 6,
   "metadata": {
    "tags": []
   },
   "outputs": [],
   "source": [
    "obj = \"\"\"\n",
    "{\"name\": \"Wes\",\n",
    " \"places_lived\": [\"United States\", \"Spain\", \"Germany\"],\n",
    " \"pet\": null,\n",
    " \"siblings\": [{\"name\": \"Scott\", \"age\": 30, \"pets\": [\"Zeus\", \"Zuko\"]},\n",
    "              {\"name\": \"Katie\", \"age\": 38,\n",
    "               \"pets\": [\"Sixes\", \"Stache\", \"Cisco\"]}]\n",
    "}\n",
    "\"\"\""
   ]
  },
  {
   "cell_type": "code",
   "execution_count": 7,
   "metadata": {
    "tags": []
   },
   "outputs": [
    {
     "data": {
      "text/plain": [
       "{'name': 'Wes',\n",
       " 'places_lived': ['United States', 'Spain', 'Germany'],\n",
       " 'pet': None,\n",
       " 'siblings': [{'name': 'Scott', 'age': 30, 'pets': ['Zeus', 'Zuko']},\n",
       "  {'name': 'Katie', 'age': 38, 'pets': ['Sixes', 'Stache', 'Cisco']}]}"
      ]
     },
     "execution_count": 7,
     "metadata": {},
     "output_type": "execute_result"
    }
   ],
   "source": [
    "import json  #We need this library to work with JSON\n",
    "result = json.loads(obj) #  parse JSON string and convert to a Python Dictionary\n",
    "result"
   ]
  },
  {
   "cell_type": "code",
   "execution_count": 8,
   "metadata": {
    "tags": []
   },
   "outputs": [
    {
     "data": {
      "text/plain": [
       "'{\"name\": \"Wes\", \"places_lived\": [\"United States\", \"Spain\", \"Germany\"], \"pet\": null, \"siblings\": [{\"name\": \"Scott\", \"age\": 30, \"pets\": [\"Zeus\", \"Zuko\"]}, {\"name\": \"Katie\", \"age\": 38, \"pets\": [\"Sixes\", \"Stache\", \"Cisco\"]}]}'"
      ]
     },
     "execution_count": 8,
     "metadata": {},
     "output_type": "execute_result"
    }
   ],
   "source": [
    "asjson = json.dumps(result)  #convert Python object to JSON\n",
    "asjson"
   ]
  },
  {
   "cell_type": "code",
   "execution_count": 9,
   "metadata": {
    "tags": []
   },
   "outputs": [],
   "source": [
    "import numpy as np\n",
    "import pandas as pd\n",
    "import matplotlib.pyplot as plt"
   ]
  },
  {
   "cell_type": "code",
   "execution_count": 5,
   "metadata": {
    "tags": []
   },
   "outputs": [
    {
     "data": {
      "text/html": [
       "<div>\n",
       "<style scoped>\n",
       "    .dataframe tbody tr th:only-of-type {\n",
       "        vertical-align: middle;\n",
       "    }\n",
       "\n",
       "    .dataframe tbody tr th {\n",
       "        vertical-align: top;\n",
       "    }\n",
       "\n",
       "    .dataframe thead th {\n",
       "        text-align: right;\n",
       "    }\n",
       "</style>\n",
       "<table border=\"1\" class=\"dataframe\">\n",
       "  <thead>\n",
       "    <tr style=\"text-align: right;\">\n",
       "      <th></th>\n",
       "      <th>name</th>\n",
       "      <th>age</th>\n",
       "    </tr>\n",
       "  </thead>\n",
       "  <tbody>\n",
       "    <tr>\n",
       "      <th>0</th>\n",
       "      <td>Scott</td>\n",
       "      <td>30</td>\n",
       "    </tr>\n",
       "    <tr>\n",
       "      <th>1</th>\n",
       "      <td>Katie</td>\n",
       "      <td>38</td>\n",
       "    </tr>\n",
       "  </tbody>\n",
       "</table>\n",
       "</div>"
      ],
      "text/plain": [
       "    name  age\n",
       "0  Scott   30\n",
       "1  Katie   38"
      ]
     },
     "execution_count": 5,
     "metadata": {},
     "output_type": "execute_result"
    }
   ],
   "source": [
    "siblings = pd.DataFrame(result['siblings'], columns=['name', 'age'])\n",
    "siblings"
   ]
  },
  {
   "cell_type": "markdown",
   "metadata": {
    "tags": []
   },
   "source": [
    "### EXAMPLE 2"
   ]
  },
  {
   "cell_type": "code",
   "execution_count": 6,
   "metadata": {
    "tags": []
   },
   "outputs": [
    {
     "name": "stdout",
     "output_type": "stream",
     "text": [
      "[{\"a\": 1, \"b\": 2, \"c\": 3},\n",
      " {\"a\": 4, \"b\": 5, \"c\": 6},\n",
      " {\"a\": 7, \"b\": 8, \"c\": 9}]\n"
     ]
    }
   ],
   "source": [
    "!cat example1.json  #executing a linux command to read the content of the example1.json file\n",
    "\n",
    "# cat stands for concatenate. Displays the contents of one or more files without opening for editing."
   ]
  },
  {
   "cell_type": "code",
   "execution_count": 8,
   "metadata": {
    "tags": []
   },
   "outputs": [
    {
     "data": {
      "text/html": [
       "<div>\n",
       "<style scoped>\n",
       "    .dataframe tbody tr th:only-of-type {\n",
       "        vertical-align: middle;\n",
       "    }\n",
       "\n",
       "    .dataframe tbody tr th {\n",
       "        vertical-align: top;\n",
       "    }\n",
       "\n",
       "    .dataframe thead th {\n",
       "        text-align: right;\n",
       "    }\n",
       "</style>\n",
       "<table border=\"1\" class=\"dataframe\">\n",
       "  <thead>\n",
       "    <tr style=\"text-align: right;\">\n",
       "      <th></th>\n",
       "      <th>a</th>\n",
       "      <th>b</th>\n",
       "      <th>c</th>\n",
       "    </tr>\n",
       "  </thead>\n",
       "  <tbody>\n",
       "    <tr>\n",
       "      <th>0</th>\n",
       "      <td>1</td>\n",
       "      <td>2</td>\n",
       "      <td>3</td>\n",
       "    </tr>\n",
       "    <tr>\n",
       "      <th>1</th>\n",
       "      <td>4</td>\n",
       "      <td>5</td>\n",
       "      <td>6</td>\n",
       "    </tr>\n",
       "    <tr>\n",
       "      <th>2</th>\n",
       "      <td>7</td>\n",
       "      <td>8</td>\n",
       "      <td>9</td>\n",
       "    </tr>\n",
       "  </tbody>\n",
       "</table>\n",
       "</div>"
      ],
      "text/plain": [
       "   a  b  c\n",
       "0  1  2  3\n",
       "1  4  5  6\n",
       "2  7  8  9"
      ]
     },
     "execution_count": 8,
     "metadata": {},
     "output_type": "execute_result"
    }
   ],
   "source": [
    "data = pd.read_json('example1.json')  #read json data directly into a pandas dataframe\n",
    "data"
   ]
  },
  {
   "cell_type": "markdown",
   "metadata": {},
   "source": [
    "### EXAMPLE 3"
   ]
  },
  {
   "cell_type": "code",
   "execution_count": 9,
   "metadata": {
    "tags": []
   },
   "outputs": [],
   "source": [
    "with open('forecast.json') as f:\n",
    "  forecast_raw = json.load(f)"
   ]
  },
  {
   "cell_type": "code",
   "execution_count": 10,
   "metadata": {
    "tags": []
   },
   "outputs": [
    {
     "data": {
      "text/plain": [
       "{'@context': ['https://geojson.org/geojson-ld/geojson-context.jsonld',\n",
       "  {'@version': '1.1',\n",
       "   'wx': 'https://api.weather.gov/ontology#',\n",
       "   'geo': 'http://www.opengis.net/ont/geosparql#',\n",
       "   'unit': 'http://codes.wmo.int/common/unit/',\n",
       "   '@vocab': 'https://api.weather.gov/ontology#'}],\n",
       " 'type': 'Feature',\n",
       " 'geometry': {'type': 'Polygon',\n",
       "  'coordinates': [[[-76.1678676, 43.0565917],\n",
       "    [-76.1719706, 43.0351424],\n",
       "    [-76.1426357, 43.0321429],\n",
       "    [-76.1385265, 43.053591999999995],\n",
       "    [-76.1678676, 43.0565917]]]},\n",
       " 'properties': {'updated': '2022-10-05T13:41:55+00:00',\n",
       "  'units': 'us',\n",
       "  'forecastGenerator': 'BaselineForecastGenerator',\n",
       "  'generatedAt': '2022-10-05T16:47:45+00:00',\n",
       "  'updateTime': '2022-10-05T13:41:55+00:00',\n",
       "  'validTimes': '2022-10-05T07:00:00+00:00/P8DT6H',\n",
       "  'elevation': {'unitCode': 'wmoUnit:m', 'value': 121.92},\n",
       "  'periods': [{'number': 1,\n",
       "    'name': 'This Afternoon',\n",
       "    'startTime': '2022-10-05T12:00:00-04:00',\n",
       "    'endTime': '2022-10-05T18:00:00-04:00',\n",
       "    'isDaytime': True,\n",
       "    'temperature': 69,\n",
       "    'temperatureUnit': 'F',\n",
       "    'temperatureTrend': None,\n",
       "    'windSpeed': '6 mph',\n",
       "    'windDirection': 'NW',\n",
       "    'icon': 'https://api.weather.gov/icons/land/day/few?size=medium',\n",
       "    'shortForecast': 'Sunny',\n",
       "    'detailedForecast': 'Sunny, with a high near 69. Northwest wind around 6 mph.'},\n",
       "   {'number': 2,\n",
       "    'name': 'Tonight',\n",
       "    'startTime': '2022-10-05T18:00:00-04:00',\n",
       "    'endTime': '2022-10-06T06:00:00-04:00',\n",
       "    'isDaytime': False,\n",
       "    'temperature': 48,\n",
       "    'temperatureUnit': 'F',\n",
       "    'temperatureTrend': None,\n",
       "    'windSpeed': '1 to 5 mph',\n",
       "    'windDirection': 'SW',\n",
       "    'icon': 'https://api.weather.gov/icons/land/night/sct?size=medium',\n",
       "    'shortForecast': 'Partly Cloudy',\n",
       "    'detailedForecast': 'Partly cloudy, with a low around 48. Southwest wind 1 to 5 mph.'},\n",
       "   {'number': 3,\n",
       "    'name': 'Thursday',\n",
       "    'startTime': '2022-10-06T06:00:00-04:00',\n",
       "    'endTime': '2022-10-06T18:00:00-04:00',\n",
       "    'isDaytime': True,\n",
       "    'temperature': 73,\n",
       "    'temperatureUnit': 'F',\n",
       "    'temperatureTrend': None,\n",
       "    'windSpeed': '3 mph',\n",
       "    'windDirection': 'SW',\n",
       "    'icon': 'https://api.weather.gov/icons/land/day/bkn?size=medium',\n",
       "    'shortForecast': 'Partly Sunny',\n",
       "    'detailedForecast': 'Partly sunny, with a high near 73. Southwest wind around 3 mph.'},\n",
       "   {'number': 4,\n",
       "    'name': 'Thursday Night',\n",
       "    'startTime': '2022-10-06T18:00:00-04:00',\n",
       "    'endTime': '2022-10-07T06:00:00-04:00',\n",
       "    'isDaytime': False,\n",
       "    'temperature': 49,\n",
       "    'temperatureUnit': 'F',\n",
       "    'temperatureTrend': None,\n",
       "    'windSpeed': '2 to 6 mph',\n",
       "    'windDirection': 'SW',\n",
       "    'icon': 'https://api.weather.gov/icons/land/night/rain_showers,30/rain_showers,40?size=medium',\n",
       "    'shortForecast': 'Chance Rain Showers',\n",
       "    'detailedForecast': 'A chance of rain showers after 8pm. Mostly cloudy, with a low around 49. Southwest wind 2 to 6 mph. Chance of precipitation is 40%. New rainfall amounts less than a tenth of an inch possible.'},\n",
       "   {'number': 5,\n",
       "    'name': 'Friday',\n",
       "    'startTime': '2022-10-07T06:00:00-04:00',\n",
       "    'endTime': '2022-10-07T18:00:00-04:00',\n",
       "    'isDaytime': True,\n",
       "    'temperature': 52,\n",
       "    'temperatureUnit': 'F',\n",
       "    'temperatureTrend': None,\n",
       "    'windSpeed': '7 to 10 mph',\n",
       "    'windDirection': 'NW',\n",
       "    'icon': 'https://api.weather.gov/icons/land/day/rain_showers,50?size=medium',\n",
       "    'shortForecast': 'Chance Rain Showers',\n",
       "    'detailedForecast': 'A chance of rain showers. Mostly cloudy, with a high near 52. Northwest wind 7 to 10 mph. Chance of precipitation is 50%.'},\n",
       "   {'number': 6,\n",
       "    'name': 'Friday Night',\n",
       "    'startTime': '2022-10-07T18:00:00-04:00',\n",
       "    'endTime': '2022-10-08T06:00:00-04:00',\n",
       "    'isDaytime': False,\n",
       "    'temperature': 39,\n",
       "    'temperatureUnit': 'F',\n",
       "    'temperatureTrend': None,\n",
       "    'windSpeed': '3 to 9 mph',\n",
       "    'windDirection': 'NW',\n",
       "    'icon': 'https://api.weather.gov/icons/land/night/rain_showers,50/rain_showers,40?size=medium',\n",
       "    'shortForecast': 'Chance Rain Showers',\n",
       "    'detailedForecast': 'A chance of rain showers before 2am. Mostly cloudy, with a low around 39. Chance of precipitation is 50%.'},\n",
       "   {'number': 7,\n",
       "    'name': 'Saturday',\n",
       "    'startTime': '2022-10-08T06:00:00-04:00',\n",
       "    'endTime': '2022-10-08T18:00:00-04:00',\n",
       "    'isDaytime': True,\n",
       "    'temperature': 53,\n",
       "    'temperatureUnit': 'F',\n",
       "    'temperatureTrend': None,\n",
       "    'windSpeed': '3 to 9 mph',\n",
       "    'windDirection': 'W',\n",
       "    'icon': 'https://api.weather.gov/icons/land/day/sct?size=medium',\n",
       "    'shortForecast': 'Mostly Sunny',\n",
       "    'detailedForecast': 'Mostly sunny, with a high near 53.'},\n",
       "   {'number': 8,\n",
       "    'name': 'Saturday Night',\n",
       "    'startTime': '2022-10-08T18:00:00-04:00',\n",
       "    'endTime': '2022-10-09T06:00:00-04:00',\n",
       "    'isDaytime': False,\n",
       "    'temperature': 42,\n",
       "    'temperatureUnit': 'F',\n",
       "    'temperatureTrend': None,\n",
       "    'windSpeed': '8 mph',\n",
       "    'windDirection': 'W',\n",
       "    'icon': 'https://api.weather.gov/icons/land/night/sct?size=medium',\n",
       "    'shortForecast': 'Partly Cloudy',\n",
       "    'detailedForecast': 'Partly cloudy, with a low around 42.'},\n",
       "   {'number': 9,\n",
       "    'name': 'Sunday',\n",
       "    'startTime': '2022-10-09T06:00:00-04:00',\n",
       "    'endTime': '2022-10-09T18:00:00-04:00',\n",
       "    'isDaytime': True,\n",
       "    'temperature': 59,\n",
       "    'temperatureUnit': 'F',\n",
       "    'temperatureTrend': None,\n",
       "    'windSpeed': '9 mph',\n",
       "    'windDirection': 'W',\n",
       "    'icon': 'https://api.weather.gov/icons/land/day/sct?size=medium',\n",
       "    'shortForecast': 'Mostly Sunny',\n",
       "    'detailedForecast': 'Mostly sunny, with a high near 59.'},\n",
       "   {'number': 10,\n",
       "    'name': 'Sunday Night',\n",
       "    'startTime': '2022-10-09T18:00:00-04:00',\n",
       "    'endTime': '2022-10-10T06:00:00-04:00',\n",
       "    'isDaytime': False,\n",
       "    'temperature': 43,\n",
       "    'temperatureUnit': 'F',\n",
       "    'temperatureTrend': None,\n",
       "    'windSpeed': '7 mph',\n",
       "    'windDirection': 'SW',\n",
       "    'icon': 'https://api.weather.gov/icons/land/night/sct?size=medium',\n",
       "    'shortForecast': 'Partly Cloudy',\n",
       "    'detailedForecast': 'Partly cloudy, with a low around 43.'},\n",
       "   {'number': 11,\n",
       "    'name': 'Columbus Day',\n",
       "    'startTime': '2022-10-10T06:00:00-04:00',\n",
       "    'endTime': '2022-10-10T18:00:00-04:00',\n",
       "    'isDaytime': True,\n",
       "    'temperature': 62,\n",
       "    'temperatureUnit': 'F',\n",
       "    'temperatureTrend': None,\n",
       "    'windSpeed': '7 mph',\n",
       "    'windDirection': 'SW',\n",
       "    'icon': 'https://api.weather.gov/icons/land/day/sct?size=medium',\n",
       "    'shortForecast': 'Mostly Sunny',\n",
       "    'detailedForecast': 'Mostly sunny, with a high near 62.'},\n",
       "   {'number': 12,\n",
       "    'name': 'Monday Night',\n",
       "    'startTime': '2022-10-10T18:00:00-04:00',\n",
       "    'endTime': '2022-10-11T06:00:00-04:00',\n",
       "    'isDaytime': False,\n",
       "    'temperature': 44,\n",
       "    'temperatureUnit': 'F',\n",
       "    'temperatureTrend': None,\n",
       "    'windSpeed': '5 mph',\n",
       "    'windDirection': 'S',\n",
       "    'icon': 'https://api.weather.gov/icons/land/night/sct?size=medium',\n",
       "    'shortForecast': 'Partly Cloudy',\n",
       "    'detailedForecast': 'Partly cloudy, with a low around 44.'},\n",
       "   {'number': 13,\n",
       "    'name': 'Tuesday',\n",
       "    'startTime': '2022-10-11T06:00:00-04:00',\n",
       "    'endTime': '2022-10-11T18:00:00-04:00',\n",
       "    'isDaytime': True,\n",
       "    'temperature': 64,\n",
       "    'temperatureUnit': 'F',\n",
       "    'temperatureTrend': None,\n",
       "    'windSpeed': '7 mph',\n",
       "    'windDirection': 'S',\n",
       "    'icon': 'https://api.weather.gov/icons/land/day/sct?size=medium',\n",
       "    'shortForecast': 'Mostly Sunny',\n",
       "    'detailedForecast': 'Mostly sunny, with a high near 64.'},\n",
       "   {'number': 14,\n",
       "    'name': 'Tuesday Night',\n",
       "    'startTime': '2022-10-11T18:00:00-04:00',\n",
       "    'endTime': '2022-10-12T06:00:00-04:00',\n",
       "    'isDaytime': False,\n",
       "    'temperature': 50,\n",
       "    'temperatureUnit': 'F',\n",
       "    'temperatureTrend': None,\n",
       "    'windSpeed': '7 mph',\n",
       "    'windDirection': 'S',\n",
       "    'icon': 'https://api.weather.gov/icons/land/night/sct?size=medium',\n",
       "    'shortForecast': 'Partly Cloudy',\n",
       "    'detailedForecast': 'Partly cloudy, with a low around 50.'}]}}"
      ]
     },
     "execution_count": 10,
     "metadata": {},
     "output_type": "execute_result"
    }
   ],
   "source": [
    "forecast_raw"
   ]
  },
  {
   "cell_type": "code",
   "execution_count": 11,
   "metadata": {
    "tags": []
   },
   "outputs": [],
   "source": [
    "forecast = pd.DataFrame(forecast_raw['properties']['periods'], columns=['name', 'temperature','temperatureUnit','windSpeed','windDirection','shortForecast'])"
   ]
  },
  {
   "cell_type": "code",
   "execution_count": 12,
   "metadata": {
    "tags": []
   },
   "outputs": [
    {
     "data": {
      "text/html": [
       "<div>\n",
       "<style scoped>\n",
       "    .dataframe tbody tr th:only-of-type {\n",
       "        vertical-align: middle;\n",
       "    }\n",
       "\n",
       "    .dataframe tbody tr th {\n",
       "        vertical-align: top;\n",
       "    }\n",
       "\n",
       "    .dataframe thead th {\n",
       "        text-align: right;\n",
       "    }\n",
       "</style>\n",
       "<table border=\"1\" class=\"dataframe\">\n",
       "  <thead>\n",
       "    <tr style=\"text-align: right;\">\n",
       "      <th></th>\n",
       "      <th>name</th>\n",
       "      <th>temperature</th>\n",
       "      <th>temperatureUnit</th>\n",
       "      <th>windSpeed</th>\n",
       "      <th>windDirection</th>\n",
       "      <th>shortForecast</th>\n",
       "    </tr>\n",
       "  </thead>\n",
       "  <tbody>\n",
       "    <tr>\n",
       "      <th>0</th>\n",
       "      <td>This Afternoon</td>\n",
       "      <td>69</td>\n",
       "      <td>F</td>\n",
       "      <td>6 mph</td>\n",
       "      <td>NW</td>\n",
       "      <td>Sunny</td>\n",
       "    </tr>\n",
       "    <tr>\n",
       "      <th>1</th>\n",
       "      <td>Tonight</td>\n",
       "      <td>48</td>\n",
       "      <td>F</td>\n",
       "      <td>1 to 5 mph</td>\n",
       "      <td>SW</td>\n",
       "      <td>Partly Cloudy</td>\n",
       "    </tr>\n",
       "    <tr>\n",
       "      <th>2</th>\n",
       "      <td>Thursday</td>\n",
       "      <td>73</td>\n",
       "      <td>F</td>\n",
       "      <td>3 mph</td>\n",
       "      <td>SW</td>\n",
       "      <td>Partly Sunny</td>\n",
       "    </tr>\n",
       "    <tr>\n",
       "      <th>3</th>\n",
       "      <td>Thursday Night</td>\n",
       "      <td>49</td>\n",
       "      <td>F</td>\n",
       "      <td>2 to 6 mph</td>\n",
       "      <td>SW</td>\n",
       "      <td>Chance Rain Showers</td>\n",
       "    </tr>\n",
       "    <tr>\n",
       "      <th>4</th>\n",
       "      <td>Friday</td>\n",
       "      <td>52</td>\n",
       "      <td>F</td>\n",
       "      <td>7 to 10 mph</td>\n",
       "      <td>NW</td>\n",
       "      <td>Chance Rain Showers</td>\n",
       "    </tr>\n",
       "    <tr>\n",
       "      <th>5</th>\n",
       "      <td>Friday Night</td>\n",
       "      <td>39</td>\n",
       "      <td>F</td>\n",
       "      <td>3 to 9 mph</td>\n",
       "      <td>NW</td>\n",
       "      <td>Chance Rain Showers</td>\n",
       "    </tr>\n",
       "    <tr>\n",
       "      <th>6</th>\n",
       "      <td>Saturday</td>\n",
       "      <td>53</td>\n",
       "      <td>F</td>\n",
       "      <td>3 to 9 mph</td>\n",
       "      <td>W</td>\n",
       "      <td>Mostly Sunny</td>\n",
       "    </tr>\n",
       "    <tr>\n",
       "      <th>7</th>\n",
       "      <td>Saturday Night</td>\n",
       "      <td>42</td>\n",
       "      <td>F</td>\n",
       "      <td>8 mph</td>\n",
       "      <td>W</td>\n",
       "      <td>Partly Cloudy</td>\n",
       "    </tr>\n",
       "    <tr>\n",
       "      <th>8</th>\n",
       "      <td>Sunday</td>\n",
       "      <td>59</td>\n",
       "      <td>F</td>\n",
       "      <td>9 mph</td>\n",
       "      <td>W</td>\n",
       "      <td>Mostly Sunny</td>\n",
       "    </tr>\n",
       "    <tr>\n",
       "      <th>9</th>\n",
       "      <td>Sunday Night</td>\n",
       "      <td>43</td>\n",
       "      <td>F</td>\n",
       "      <td>7 mph</td>\n",
       "      <td>SW</td>\n",
       "      <td>Partly Cloudy</td>\n",
       "    </tr>\n",
       "    <tr>\n",
       "      <th>10</th>\n",
       "      <td>Columbus Day</td>\n",
       "      <td>62</td>\n",
       "      <td>F</td>\n",
       "      <td>7 mph</td>\n",
       "      <td>SW</td>\n",
       "      <td>Mostly Sunny</td>\n",
       "    </tr>\n",
       "    <tr>\n",
       "      <th>11</th>\n",
       "      <td>Monday Night</td>\n",
       "      <td>44</td>\n",
       "      <td>F</td>\n",
       "      <td>5 mph</td>\n",
       "      <td>S</td>\n",
       "      <td>Partly Cloudy</td>\n",
       "    </tr>\n",
       "    <tr>\n",
       "      <th>12</th>\n",
       "      <td>Tuesday</td>\n",
       "      <td>64</td>\n",
       "      <td>F</td>\n",
       "      <td>7 mph</td>\n",
       "      <td>S</td>\n",
       "      <td>Mostly Sunny</td>\n",
       "    </tr>\n",
       "    <tr>\n",
       "      <th>13</th>\n",
       "      <td>Tuesday Night</td>\n",
       "      <td>50</td>\n",
       "      <td>F</td>\n",
       "      <td>7 mph</td>\n",
       "      <td>S</td>\n",
       "      <td>Partly Cloudy</td>\n",
       "    </tr>\n",
       "  </tbody>\n",
       "</table>\n",
       "</div>"
      ],
      "text/plain": [
       "              name  temperature temperatureUnit    windSpeed windDirection  \\\n",
       "0   This Afternoon           69               F        6 mph            NW   \n",
       "1          Tonight           48               F   1 to 5 mph            SW   \n",
       "2         Thursday           73               F        3 mph            SW   \n",
       "3   Thursday Night           49               F   2 to 6 mph            SW   \n",
       "4           Friday           52               F  7 to 10 mph            NW   \n",
       "5     Friday Night           39               F   3 to 9 mph            NW   \n",
       "6         Saturday           53               F   3 to 9 mph             W   \n",
       "7   Saturday Night           42               F        8 mph             W   \n",
       "8           Sunday           59               F        9 mph             W   \n",
       "9     Sunday Night           43               F        7 mph            SW   \n",
       "10    Columbus Day           62               F        7 mph            SW   \n",
       "11    Monday Night           44               F        5 mph             S   \n",
       "12         Tuesday           64               F        7 mph             S   \n",
       "13   Tuesday Night           50               F        7 mph             S   \n",
       "\n",
       "          shortForecast  \n",
       "0                 Sunny  \n",
       "1         Partly Cloudy  \n",
       "2          Partly Sunny  \n",
       "3   Chance Rain Showers  \n",
       "4   Chance Rain Showers  \n",
       "5   Chance Rain Showers  \n",
       "6          Mostly Sunny  \n",
       "7         Partly Cloudy  \n",
       "8          Mostly Sunny  \n",
       "9         Partly Cloudy  \n",
       "10         Mostly Sunny  \n",
       "11        Partly Cloudy  \n",
       "12         Mostly Sunny  \n",
       "13        Partly Cloudy  "
      ]
     },
     "execution_count": 12,
     "metadata": {},
     "output_type": "execute_result"
    }
   ],
   "source": [
    "forecast"
   ]
  },
  {
   "cell_type": "code",
   "execution_count": null,
   "metadata": {},
   "outputs": [],
   "source": []
  }
 ],
 "metadata": {
  "kernelspec": {
   "display_name": "Python 3 (ipykernel)",
   "language": "python",
   "name": "python3"
  },
  "language_info": {
   "codemirror_mode": {
    "name": "ipython",
    "version": 3
   },
   "file_extension": ".py",
   "mimetype": "text/x-python",
   "name": "python",
   "nbconvert_exporter": "python",
   "pygments_lexer": "ipython3",
   "version": "3.11.7"
  }
 },
 "nbformat": 4,
 "nbformat_minor": 4
}
