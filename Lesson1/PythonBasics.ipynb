{
 "cells": [
  {
   "cell_type": "markdown",
   "id": "8360706d",
   "metadata": {},
   "source": [
    "# Getting Familiar with Notebooks"
   ]
  },
  {
   "cell_type": "code",
   "execution_count": 1,
   "id": "70dd4dbc",
   "metadata": {},
   "outputs": [
    {
     "name": "stdout",
     "output_type": "stream",
     "text": [
      "Hello SU\n"
     ]
    }
   ],
   "source": [
    "print(\"Hello SU\")\n",
    "# this code print Hello SU"
   ]
  },
  {
   "cell_type": "markdown",
   "id": "2002482d",
   "metadata": {},
   "source": [
    "### the code above prints \"HELLO SU\""
   ]
  },
  {
   "cell_type": "markdown",
   "id": "1e3bccdc",
   "metadata": {},
   "source": [
    "# Working with numbers"
   ]
  },
  {
   "cell_type": "code",
   "execution_count": null,
   "id": "d6a1410b",
   "metadata": {},
   "outputs": [],
   "source": [
    "x=30\n",
    "y=15\n",
    "z=x+y\n",
    "print(z)"
   ]
  },
  {
   "cell_type": "markdown",
   "id": "ebe0e89e",
   "metadata": {},
   "source": [
    "*I: Change values and re-execute*"
   ]
  },
  {
   "cell_type": "code",
   "execution_count": null,
   "id": "06914ec4",
   "metadata": {},
   "outputs": [],
   "source": [
    "x"
   ]
  },
  {
   "cell_type": "code",
   "execution_count": null,
   "id": "e50c8c42",
   "metadata": {},
   "outputs": [],
   "source": [
    "print(x)  #contrasting raw output vs print output - not too much difference for numbers"
   ]
  },
  {
   "cell_type": "markdown",
   "id": "8b6b1578",
   "metadata": {},
   "source": [
    "# Strings and Substrings"
   ]
  },
  {
   "cell_type": "code",
   "execution_count": null,
   "id": "b2aa4e59",
   "metadata": {},
   "outputs": [],
   "source": [
    "a=\"hello\"\n",
    "a=a+\" there\" #using + as an overloaded operator that will concatenate strings\n",
    "a"
   ]
  },
  {
   "cell_type": "markdown",
   "id": "dabe50fe",
   "metadata": {},
   "source": [
    "*I:Contrast raw output vs print output*"
   ]
  },
  {
   "cell_type": "code",
   "execution_count": null,
   "id": "18a9d683",
   "metadata": {},
   "outputs": [],
   "source": [
    "print(a)"
   ]
  },
  {
   "cell_type": "markdown",
   "id": "8d26afc2",
   "metadata": {},
   "source": [
    "*I: Stop here and save the code written so far as a python file. Download the file and execute it. Contrast the \"friendliness\" of JupyterHub vs. the simple execution of the python code*"
   ]
  },
  {
   "cell_type": "code",
   "execution_count": null,
   "id": "252f2857",
   "metadata": {},
   "outputs": [],
   "source": [
    "s='Syracuse'"
   ]
  },
  {
   "cell_type": "code",
   "execution_count": null,
   "id": "39f9ebbe",
   "metadata": {},
   "outputs": [],
   "source": [
    "s[3] #REMEMBER - Numbering in python starts from 0 !!!"
   ]
  },
  {
   "cell_type": "code",
   "execution_count": null,
   "id": "21cd3a36",
   "metadata": {},
   "outputs": [],
   "source": [
    "s[0]"
   ]
  },
  {
   "cell_type": "code",
   "execution_count": null,
   "id": "1a8ce61e",
   "metadata": {},
   "outputs": [],
   "source": [
    "s[1:4] #substring, starts in 1, stop at 4 but does not include element in position 4"
   ]
  },
  {
   "cell_type": "code",
   "execution_count": null,
   "id": "947f986b",
   "metadata": {},
   "outputs": [],
   "source": [
    "s[0:8]"
   ]
  },
  {
   "cell_type": "code",
   "execution_count": null,
   "id": "d68b7b16",
   "metadata": {},
   "outputs": [],
   "source": [
    "s[2:] #substring starting from position 2 until the end of the string - it includes item in position 2"
   ]
  },
  {
   "cell_type": "code",
   "execution_count": null,
   "id": "40323a41",
   "metadata": {},
   "outputs": [],
   "source": [
    "s[:4] #substring from the beginning up to position 4 not including item in position 4"
   ]
  },
  {
   "cell_type": "code",
   "execution_count": null,
   "id": "a41a6c6e",
   "metadata": {},
   "outputs": [],
   "source": [
    "s[-2] #get the second character from the end"
   ]
  },
  {
   "cell_type": "code",
   "execution_count": null,
   "id": "7f2d5731",
   "metadata": {},
   "outputs": [],
   "source": [
    "len(s)"
   ]
  },
  {
   "cell_type": "markdown",
   "id": "9db73f2e",
   "metadata": {},
   "source": [
    "# Formating"
   ]
  },
  {
   "cell_type": "code",
   "execution_count": 1,
   "id": "bc44c071",
   "metadata": {},
   "outputs": [
    {
     "data": {
      "text/plain": [
       "'One, 2, three'"
      ]
     },
     "execution_count": 1,
     "metadata": {},
     "output_type": "execute_result"
    }
   ],
   "source": [
    "\"One, %d, three\" %2"
   ]
  },
  {
   "cell_type": "code",
   "execution_count": null,
   "id": "d44e101d",
   "metadata": {},
   "outputs": [],
   "source": [
    "result=1.2345"
   ]
  },
  {
   "cell_type": "code",
   "execution_count": null,
   "id": "94b708fa",
   "metadata": {},
   "outputs": [],
   "source": [
    "\"One, %d, three\" %result  #The %d option is only for integers"
   ]
  },
  {
   "cell_type": "code",
   "execution_count": null,
   "id": "46122a99",
   "metadata": {},
   "outputs": [],
   "source": [
    "\"One, %f, three\" %result #The %f option is for floating point numbers"
   ]
  },
  {
   "cell_type": "code",
   "execution_count": null,
   "id": "b207ef72",
   "metadata": {},
   "outputs": [],
   "source": [
    "\"One, %.3f, three\" %result"
   ]
  },
  {
   "cell_type": "markdown",
   "id": "b03a87fd",
   "metadata": {},
   "source": [
    "### F-Strings\n",
    "\n",
    "In Python 3.7, f-strings were introduced to make it easier to format string literals in the `print()` statement. \n",
    "\n",
    "Here's how it works:\n",
    "\n",
    "- Put an `f` in front of the string literal, like this: `f\"`\n",
    "- For any variable you want to print, enclose in `{curly braces}` within the string literal.\n",
    "- At run-time the variable in `{curly braces}` is replaced with its value! This is called **string interpolation**.\n",
    "\n",
    "For example:"
   ]
  },
  {
   "cell_type": "code",
   "execution_count": null,
   "id": "9ce7ab08",
   "metadata": {},
   "outputs": [],
   "source": [
    "name = \"Mary\"\n",
    "major = \"Data Science\"\n",
    "gpa = \"4.0\"\n",
    "print(f\"{name} is a {major} major. Her gpa is {gpa}\")"
   ]
  },
  {
   "cell_type": "markdown",
   "id": "bcfd6121",
   "metadata": {},
   "source": [
    "## Formatting with F-Strings\n",
    "\n",
    "The other method of formatting data in Python is F-strings. As we saw in the last lab, F-strings use interpolation to specify the variables we would like to print in-line with the print string.\n",
    "\n",
    "You can format an f-string\n",
    "\n",
    "- `{var:d}` formats `var` as integer\n",
    "- `{var:f}` formats `var` as float\n",
    "- `{var:.3f}` formats `var` as float to `3` decimal places.\n",
    "\n",
    "Example:"
   ]
  },
  {
   "cell_type": "code",
   "execution_count": 2,
   "id": "d2ca176f",
   "metadata": {},
   "outputs": [
    {
     "name": "stdout",
     "output_type": "stream",
     "text": [
      "Ann makes $10.00 per hour\n"
     ]
    }
   ],
   "source": [
    "name =\"Ann\"\n",
    "wage = 10\n",
    "print(f\"{name} makes ${wage:.2f} per hour\")"
   ]
  },
  {
   "cell_type": "markdown",
   "id": "ab37fe1d",
   "metadata": {},
   "source": [
    "# (Side note) Jupyter Hub shortcuts"
   ]
  },
  {
   "cell_type": "markdown",
   "id": "01323016",
   "metadata": {},
   "source": [
    "Press the ESC (escape key) and then the letter H"
   ]
  },
  {
   "cell_type": "markdown",
   "id": "abdfe280",
   "metadata": {},
   "source": [
    "***I:Switch to slides***"
   ]
  },
  {
   "cell_type": "markdown",
   "id": "668011e2",
   "metadata": {},
   "source": [
    "# Part 2"
   ]
  },
  {
   "cell_type": "markdown",
   "id": "b4973321",
   "metadata": {},
   "source": [
    "Variable names must start with letters and are case sensitive \n",
    "\n",
    "Variables that start with _ or __ (double underscore) are python specific\n",
    "\n",
    "Python keywords cannot be used as variable names\n"
   ]
  },
  {
   "cell_type": "code",
   "execution_count": null,
   "id": "5e31efc8",
   "metadata": {},
   "outputs": [],
   "source": [
    "var1=10  #nothing seems to happen but an assignment has been made"
   ]
  },
  {
   "cell_type": "code",
   "execution_count": null,
   "id": "961b597e",
   "metadata": {},
   "outputs": [],
   "source": [
    "var1  #checking on the value stored in var1"
   ]
  },
  {
   "cell_type": "code",
   "execution_count": null,
   "id": "d30b02b4",
   "metadata": {},
   "outputs": [],
   "source": [
    "x, y, z = 1, 2, 3    #multiple variable assignment"
   ]
  },
  {
   "cell_type": "code",
   "execution_count": null,
   "id": "ad9e027e",
   "metadata": {},
   "outputs": [],
   "source": [
    "y"
   ]
  },
  {
   "cell_type": "markdown",
   "id": "f2fb0dee",
   "metadata": {},
   "source": [
    "# Strings and substrings 2"
   ]
  },
  {
   "cell_type": "markdown",
   "id": "1b44d46b",
   "metadata": {},
   "source": [
    "NOTE - IMPORTANT: In python, indexed elements start in position 0"
   ]
  },
  {
   "cell_type": "markdown",
   "id": "a13e99d3",
   "metadata": {},
   "source": [
    "python string methods:\n",
    "https://docs.python.org/2.5/lib/string-methods.html\n",
    "a friendlier view\n",
    "https://www.w3schools.com/python/python_ref_string.asp"
   ]
  },
  {
   "cell_type": "code",
   "execution_count": null,
   "id": "66adcec7",
   "metadata": {},
   "outputs": [],
   "source": [
    "a=\"cisco switch\""
   ]
  },
  {
   "cell_type": "code",
   "execution_count": null,
   "id": "940bd320",
   "metadata": {},
   "outputs": [],
   "source": [
    "a.index(\"i\")  #find location for the first instance of the letter i"
   ]
  },
  {
   "cell_type": "code",
   "execution_count": null,
   "id": "493ced78",
   "metadata": {},
   "outputs": [],
   "source": [
    "a.count(\"i\") #count number of instances of the letter i in object/string a"
   ]
  },
  {
   "cell_type": "code",
   "execution_count": null,
   "id": "3fef8d08",
   "metadata": {},
   "outputs": [],
   "source": [
    "a.find(\"sco\") #find the index where the pattern starts"
   ]
  },
  {
   "cell_type": "code",
   "execution_count": null,
   "id": "c523b175",
   "metadata": {},
   "outputs": [],
   "source": [
    "a.find(\"xyz\")"
   ]
  },
  {
   "cell_type": "code",
   "execution_count": null,
   "id": "38276944",
   "metadata": {},
   "outputs": [],
   "source": [
    "a.startswith(\"c\") #boolean result true or false"
   ]
  },
  {
   "cell_type": "markdown",
   "id": "8fb7e069",
   "metadata": {},
   "source": [
    "strip()  removes starting and ending whitespaces in a string by default. You can also specify a specific character happening at the start of end of the string to be removed"
   ]
  },
  {
   "cell_type": "markdown",
   "id": "38063c9a",
   "metadata": {},
   "source": [
    "Q. The strip() method seems useful for what key aspect of a data analysis pipeline?  \n",
    "A. *Data cleaning*"
   ]
  },
  {
   "cell_type": "code",
   "execution_count": null,
   "id": "4f6a5225",
   "metadata": {},
   "outputs": [],
   "source": [
    "b = \" Cisco Switch \""
   ]
  },
  {
   "cell_type": "code",
   "execution_count": null,
   "id": "4c3a9560",
   "metadata": {},
   "outputs": [],
   "source": [
    "b.strip()"
   ]
  },
  {
   "cell_type": "code",
   "execution_count": null,
   "id": "ad8f18a2",
   "metadata": {},
   "outputs": [],
   "source": [
    "c = \"$$$$Cisco Switch$$$$\""
   ]
  },
  {
   "cell_type": "code",
   "execution_count": null,
   "id": "e83edeab",
   "metadata": {},
   "outputs": [],
   "source": [
    "c.strip(\"$\") #strip '$' characters from the beginning and end of the string"
   ]
  },
  {
   "cell_type": "markdown",
   "id": "8ecdefed",
   "metadata": {},
   "source": [
    "Replacing string elements"
   ]
  },
  {
   "cell_type": "code",
   "execution_count": null,
   "id": "0d2a46b6",
   "metadata": {},
   "outputs": [],
   "source": [
    "b"
   ]
  },
  {
   "cell_type": "code",
   "execution_count": null,
   "id": "4f824f67",
   "metadata": {},
   "outputs": [],
   "source": [
    "b.replace(\" \",\"\")"
   ]
  },
  {
   "cell_type": "code",
   "execution_count": null,
   "id": "2afca8bb",
   "metadata": {},
   "outputs": [],
   "source": [
    "b"
   ]
  },
  {
   "cell_type": "code",
   "execution_count": null,
   "id": "61a04a56",
   "metadata": {},
   "outputs": [],
   "source": [
    "k=b.replace(\" \",\"\")\n",
    "k"
   ]
  },
  {
   "cell_type": "markdown",
   "id": "c44bcb78",
   "metadata": {},
   "source": [
    "Splitting a string character .. it returns a list"
   ]
  },
  {
   "cell_type": "code",
   "execution_count": null,
   "id": "b3fc1aed",
   "metadata": {},
   "outputs": [],
   "source": [
    "d=\"cisco,hp,juniper\""
   ]
  },
  {
   "cell_type": "code",
   "execution_count": null,
   "id": "e1b239e8",
   "metadata": {},
   "outputs": [],
   "source": [
    "d.split(\",\")"
   ]
  },
  {
   "cell_type": "markdown",
   "id": "ce27a5bb",
   "metadata": {},
   "source": [
    "Joining strings"
   ]
  },
  {
   "cell_type": "code",
   "execution_count": null,
   "id": "b68de5b5",
   "metadata": {},
   "outputs": [],
   "source": [
    "x=\"Cisco\""
   ]
  },
  {
   "cell_type": "code",
   "execution_count": null,
   "id": "dfe76488",
   "metadata": {},
   "outputs": [],
   "source": [
    "y=\"2691\""
   ]
  },
  {
   "cell_type": "code",
   "execution_count": null,
   "id": "75ab3c3a",
   "metadata": {},
   "outputs": [],
   "source": [
    "x+y"
   ]
  },
  {
   "cell_type": "markdown",
   "id": "e9509755",
   "metadata": {},
   "source": [
    "Testing for the presence of a character"
   ]
  },
  {
   "cell_type": "code",
   "execution_count": null,
   "id": "858b7849",
   "metadata": {},
   "outputs": [],
   "source": [
    "\"o\" in x"
   ]
  },
  {
   "cell_type": "code",
   "execution_count": null,
   "id": "b7e5c7ef",
   "metadata": {},
   "outputs": [],
   "source": [
    "\"b\" in x"
   ]
  },
  {
   "cell_type": "markdown",
   "id": "c1f93572",
   "metadata": {},
   "source": [
    "# Working with lists"
   ]
  },
  {
   "cell_type": "markdown",
   "id": "545f4a72",
   "metadata": {},
   "source": [
    "Lists can have any data type and they are indexed. List elements are mutable (they can be changed)"
   ]
  },
  {
   "cell_type": "code",
   "execution_count": null,
   "id": "0e6610b8",
   "metadata": {},
   "outputs": [],
   "source": [
    "list1=[\"Cisco\",\"Avaya\",10,10.5,-11]"
   ]
  },
  {
   "cell_type": "code",
   "execution_count": null,
   "id": "e5b3fac0",
   "metadata": {},
   "outputs": [],
   "source": [
    "len(list1)"
   ]
  },
  {
   "cell_type": "code",
   "execution_count": null,
   "id": "eaef2973",
   "metadata": {},
   "outputs": [],
   "source": [
    "list1[2]"
   ]
  },
  {
   "cell_type": "code",
   "execution_count": null,
   "id": "066ac5a2",
   "metadata": {},
   "outputs": [],
   "source": [
    "list1.append(100) #add the value 100 to the end of the list"
   ]
  },
  {
   "cell_type": "code",
   "execution_count": null,
   "id": "260b37c8",
   "metadata": {},
   "outputs": [],
   "source": [
    "list1"
   ]
  },
  {
   "cell_type": "code",
   "execution_count": null,
   "id": "8179adb1",
   "metadata": {},
   "outputs": [],
   "source": [
    "del list1[4]"
   ]
  },
  {
   "cell_type": "code",
   "execution_count": null,
   "id": "d9152dd9",
   "metadata": {},
   "outputs": [],
   "source": [
    "list1"
   ]
  },
  {
   "cell_type": "code",
   "execution_count": null,
   "id": "0d6344ef",
   "metadata": {},
   "outputs": [],
   "source": [
    "list1.insert(2,\"HP\")"
   ]
  },
  {
   "cell_type": "code",
   "execution_count": null,
   "id": "6c5f13d8",
   "metadata": {},
   "outputs": [],
   "source": [
    "list1"
   ]
  },
  {
   "cell_type": "code",
   "execution_count": null,
   "id": "89862a37",
   "metadata": {},
   "outputs": [],
   "source": [
    "list1.pop(0)"
   ]
  },
  {
   "cell_type": "code",
   "execution_count": null,
   "id": "258ea7c9",
   "metadata": {},
   "outputs": [],
   "source": [
    "list1"
   ]
  },
  {
   "cell_type": "code",
   "execution_count": null,
   "id": "59ba0a39",
   "metadata": {},
   "outputs": [],
   "source": [
    "list1.remove(10)"
   ]
  },
  {
   "cell_type": "code",
   "execution_count": null,
   "id": "86ad6008",
   "metadata": {},
   "outputs": [],
   "source": [
    "list1"
   ]
  },
  {
   "cell_type": "code",
   "execution_count": null,
   "id": "b4f9e424",
   "metadata": {},
   "outputs": [],
   "source": [
    "list2=[1,2,3,\"a\",\"b\",\"c\"]"
   ]
  },
  {
   "cell_type": "code",
   "execution_count": null,
   "id": "c0fd135f",
   "metadata": {},
   "outputs": [],
   "source": [
    "list2"
   ]
  },
  {
   "cell_type": "code",
   "execution_count": null,
   "id": "beda6e29",
   "metadata": {},
   "outputs": [],
   "source": [
    "list2[0:3]  #an example of slicing - this will be very important and we will expand on it later"
   ]
  },
  {
   "cell_type": "code",
   "execution_count": null,
   "id": "b3c4ae87",
   "metadata": {},
   "outputs": [],
   "source": [
    "list2[:3]"
   ]
  },
  {
   "cell_type": "code",
   "execution_count": null,
   "id": "3c0c81a6",
   "metadata": {},
   "outputs": [],
   "source": [
    "list2[::2]  #every 2nd element after the first"
   ]
  },
  {
   "cell_type": "markdown",
   "id": "a77d64b1",
   "metadata": {},
   "source": [
    "Sets are an ordered collection of unique elements (there are no repetitions)"
   ]
  },
  {
   "cell_type": "code",
   "execution_count": null,
   "id": "1a1b1661",
   "metadata": {},
   "outputs": [],
   "source": [
    "set1=set([11,12,13,14,15,15,15,11])"
   ]
  },
  {
   "cell_type": "code",
   "execution_count": null,
   "id": "d52f74f3",
   "metadata": {},
   "outputs": [],
   "source": [
    "set1"
   ]
  },
  {
   "cell_type": "code",
   "execution_count": null,
   "id": "bd876030",
   "metadata": {},
   "outputs": [],
   "source": [
    "type(set1)"
   ]
  },
  {
   "cell_type": "code",
   "execution_count": null,
   "id": "44c1d676",
   "metadata": {},
   "outputs": [],
   "source": [
    "type(b)"
   ]
  },
  {
   "cell_type": "code",
   "execution_count": null,
   "id": "8e93b322",
   "metadata": {},
   "outputs": [],
   "source": [
    "set2={14,15}"
   ]
  },
  {
   "cell_type": "code",
   "execution_count": null,
   "id": "c441a860",
   "metadata": {},
   "outputs": [],
   "source": [
    "set2"
   ]
  },
  {
   "cell_type": "code",
   "execution_count": null,
   "id": "80040f06",
   "metadata": {},
   "outputs": [],
   "source": [
    "set2.add(16)"
   ]
  },
  {
   "cell_type": "code",
   "execution_count": null,
   "id": "a672103a",
   "metadata": {},
   "outputs": [],
   "source": [
    "set2"
   ]
  },
  {
   "cell_type": "code",
   "execution_count": null,
   "id": "547cda10",
   "metadata": {},
   "outputs": [],
   "source": [
    "set1.intersection(set2) #common elements between sets"
   ]
  },
  {
   "cell_type": "code",
   "execution_count": null,
   "id": "db1e50c6",
   "metadata": {},
   "outputs": [],
   "source": [
    "set1.union(set2)"
   ]
  },
  {
   "cell_type": "markdown",
   "id": "90899f8f",
   "metadata": {},
   "source": [
    "# Working with tuples"
   ]
  },
  {
   "cell_type": "code",
   "execution_count": null,
   "id": "19397827",
   "metadata": {},
   "outputs": [],
   "source": [
    "my_tuple=(1,2,3,4,5)"
   ]
  },
  {
   "cell_type": "code",
   "execution_count": null,
   "id": "1694567c",
   "metadata": {},
   "outputs": [],
   "source": [
    "my_tuple"
   ]
  },
  {
   "cell_type": "code",
   "execution_count": null,
   "id": "078d7e2d",
   "metadata": {},
   "outputs": [],
   "source": [
    "my_tuple[1]"
   ]
  },
  {
   "cell_type": "code",
   "execution_count": null,
   "id": "dc3b2485",
   "metadata": {},
   "outputs": [],
   "source": [
    "my_tuple[1]=5"
   ]
  },
  {
   "cell_type": "code",
   "execution_count": null,
   "id": "940f5eff",
   "metadata": {},
   "outputs": [],
   "source": [
    "3 in my_tuple  #Checking for elements in a tuple"
   ]
  },
  {
   "cell_type": "code",
   "execution_count": null,
   "id": "6a102664",
   "metadata": {},
   "outputs": [],
   "source": [
    "7 in my_tuple"
   ]
  },
  {
   "cell_type": "markdown",
   "id": "dce783f8",
   "metadata": {},
   "source": [
    "# Working with dictionaries"
   ]
  },
  {
   "cell_type": "markdown",
   "id": "bcdace4b",
   "metadata": {},
   "source": [
    "An unordered set of key value pairs\n",
    "Dictionaries are indexed by the key. Each key should be unique and immutable."
   ]
  },
  {
   "cell_type": "code",
   "execution_count": null,
   "id": "4f8f04a3",
   "metadata": {},
   "outputs": [],
   "source": [
    "d1={\"Vendor\": \"Cisco\", \"Model\": \"2600\", \"IOS\": \"12.4\", \"Ports\":\"4\"}"
   ]
  },
  {
   "cell_type": "code",
   "execution_count": null,
   "id": "d10fadb1",
   "metadata": {},
   "outputs": [],
   "source": [
    "d1"
   ]
  },
  {
   "cell_type": "code",
   "execution_count": null,
   "id": "2b00c0ed",
   "metadata": {},
   "outputs": [],
   "source": [
    "d1[\"IOS\"]"
   ]
  },
  {
   "cell_type": "code",
   "execution_count": null,
   "id": "21f43e7c",
   "metadata": {},
   "outputs": [],
   "source": [
    "d1[\"Vendor\"]"
   ]
  },
  {
   "cell_type": "code",
   "execution_count": null,
   "id": "1557687c",
   "metadata": {},
   "outputs": [],
   "source": [
    "del d1[\"Ports\"]"
   ]
  },
  {
   "cell_type": "code",
   "execution_count": null,
   "id": "5b995ade",
   "metadata": {},
   "outputs": [],
   "source": [
    "d1"
   ]
  },
  {
   "cell_type": "code",
   "execution_count": null,
   "id": "78170f8a",
   "metadata": {},
   "outputs": [],
   "source": [
    "\"IOS\" in d1"
   ]
  },
  {
   "cell_type": "code",
   "execution_count": null,
   "id": "81638100",
   "metadata": {},
   "outputs": [],
   "source": [
    "d1.keys()"
   ]
  },
  {
   "cell_type": "code",
   "execution_count": null,
   "id": "4f3f619b",
   "metadata": {},
   "outputs": [],
   "source": [
    "d1.values()"
   ]
  },
  {
   "cell_type": "code",
   "execution_count": null,
   "id": "c41d82fe",
   "metadata": {},
   "outputs": [],
   "source": [
    "d1.items()"
   ]
  },
  {
   "cell_type": "markdown",
   "id": "35e9310c",
   "metadata": {},
   "source": [
    "## Basic interactions with Jupyter Hub"
   ]
  },
  {
   "cell_type": "markdown",
   "id": "fd81ae71",
   "metadata": {},
   "source": [
    "1. Save the notebook and download it to your local PC"
   ]
  },
  {
   "cell_type": "markdown",
   "id": "555bc665",
   "metadata": {},
   "source": [
    "2. Change the name of the notebook (Add a 2 to the name or something like that) and upload it"
   ]
  },
  {
   "cell_type": "markdown",
   "id": "e8839201",
   "metadata": {},
   "source": [
    "3. Delete the recently uploaded notebook"
   ]
  }
 ],
 "metadata": {
  "kernelspec": {
   "display_name": "Python 3 (ipykernel)",
   "language": "python",
   "name": "python3"
  },
  "language_info": {
   "codemirror_mode": {
    "name": "ipython",
    "version": 3
   },
   "file_extension": ".py",
   "mimetype": "text/x-python",
   "name": "python",
   "nbconvert_exporter": "python",
   "pygments_lexer": "ipython3",
   "version": "3.9.6"
  }
 },
 "nbformat": 4,
 "nbformat_minor": 5
}
