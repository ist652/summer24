{
 "cells": [
  {
   "cell_type": "markdown",
   "metadata": {},
   "source": [
    "# In-Class Coding : Dictionaries\n",
    "\n",
    "The goals of this lab are to help you understand:\n",
    "\n",
    " - How to use Python Dictionaries\n",
    " - Basic Dictionary methods\n",
    " - Dealing with Key errors\n",
    " - How to use lists of Dictionaries\n",
    " - How to encode / decode python dictionaries to json.\n",
    " \n",
    "## Dictionaries are Key-Value Pairs.\n",
    "\n",
    "The **key** is unique for each Python dictionary object and is always of type `str`. The **value** stored under the key can be any Python type. \n",
    "\n",
    "This example creates a `stock` variable with two keys `symbol` and `name`. We access the dictionary key with `['keyname']`."
   ]
  },
  {
   "cell_type": "code",
   "execution_count": null,
   "metadata": {
    "code_cell_type": "run_code"
   },
   "outputs": [],
   "source": [
    "stock = {} # empty dictionary\n",
    "stock['symbol'] = 'AAPL'\n",
    "stock['name'] = 'Apple Computer'\n",
    "print(stock)\n",
    "print(stock['symbol'])\n",
    "print(stock['name'])"
   ]
  },
  {
   "cell_type": "markdown",
   "metadata": {},
   "source": [
    "While Python lists are best suited for storing multiple values of the same type ( like grades ), Python dictionaries are best suited for storing hybrid values, or values with multiple attributes.\n",
    "\n",
    "In the example above we created an empty dictionary `{}` then assigned keys `symbol` and `name` as part of individual assignment statements.\n",
    "\n",
    "We can also build the dictionary in a single statement, like this:"
   ]
  },
  {
   "cell_type": "code",
   "execution_count": null,
   "metadata": {
    "code_cell_type": "run_code"
   },
   "outputs": [],
   "source": [
    "stock = { 'name' : 'Apple Computer', 'symbol' : 'AAPL', 'value' : 125.6 }\n",
    "print(f\"Dictionary: {stock}\")\n",
    "print(f\"{stock['name']} ({stock['symbol']}) has a value of ${stock['value']:.2f}\")"
   ]
  },
  {
   "cell_type": "markdown",
   "metadata": {},
   "source": [
    "## Dictionaries are mutable\n",
    "\n",
    "This means we can change their value. We can add and remove keys and update the value of keys. This makes dictionaries quite useful for storing  data."
   ]
  },
  {
   "cell_type": "code",
   "execution_count": null,
   "metadata": {
    "code_cell_type": "run_code"
   },
   "outputs": [],
   "source": [
    "# let's add 2 new keys\n",
    "print(\"Before changes\", stock)\n",
    "stock['low'] = 119.85\n",
    "stock['high'] = 127.0\n",
    "\n",
    "# and update the value key\n",
    "stock['value'] = 126.25\n",
    "print(\"After change\", stock)\n"
   ]
  },
  {
   "cell_type": "markdown",
   "metadata": {},
   "source": [
    "### 1.1 You Code\n",
    "\n",
    "Create an empty python dictionary variable called `car` with the following keys `make`, `model` and `price`. Set appropriate values and print out the dictionary.\n"
   ]
  },
  {
   "cell_type": "code",
   "execution_count": null,
   "metadata": {
    "code_cell_type": "write_code",
    "label": "1.1",
    "solution": [
     "car = {}\n",
     "car['make'] = 'tesla'\n",
     "car['model'] = 'S'\n",
     "car['price'] = 69420\n",
     "print(car)\n"
    ]
   },
   "outputs": [],
   "source": [
    "# TODO: Write code here \n"
   ]
  },
  {
   "cell_type": "markdown",
   "metadata": {},
   "source": [
    "## What Happens when the key is not there?\n",
    "\n",
    "Let's go back to our stock example. What happens when we try to read a key not present in the dictionary? \n",
    "\n",
    "The answer is that Python will report a `KeyError` "
   ]
  },
  {
   "cell_type": "code",
   "execution_count": null,
   "metadata": {
    "code_cell_type": "run_code"
   },
   "outputs": [],
   "source": [
    "print(\"Keys\", stock.keys())\n",
    "print( stock['change'] )"
   ]
  },
  {
   "cell_type": "markdown",
   "metadata": {},
   "source": [
    "No worries. We know how to handle run-time errors in Python... use `try except` !!!"
   ]
  },
  {
   "cell_type": "code",
   "execution_count": null,
   "metadata": {
    "code_cell_type": "run_code"
   },
   "outputs": [],
   "source": [
    "try:\n",
    "    print( stock['change'] )\n",
    "except KeyError:\n",
    "    print(\"The key 'change' does not exist!\")"
   ]
  },
  {
   "cell_type": "markdown",
   "metadata": {},
   "source": [
    "## Using the `get()` method to avoid  KeyError\n",
    "\n",
    "You can avoid `KeyError` using the `get()` dictionary method. This method will return a default value when the key does not exist.\n",
    "\n",
    "The first argument to `get()` is the key to get, the second argument is the value to return when the key does not exist. "
   ]
  },
  {
   "cell_type": "code",
   "execution_count": null,
   "metadata": {
    "code_cell_type": "run_code"
   },
   "outputs": [],
   "source": [
    "print(f\"KEY: name, VALUE\",stock.get('name','no key'))\n",
    "print(f\"KEY: change, VALUE\",stock.get('change', 'no key'))"
   ]
  },
  {
   "cell_type": "markdown",
   "metadata": {},
   "source": [
    "### 1.2 You Code\n",
    "\n",
    "Write a program to ask the user to input a key for the `stock` variable.  If the key exists, print the value, otherwise print 'Key does not exist'. You can use the `get()` method or `try..except`\n",
    "\n",
    "Sample Run #1 \n",
    "\n",
    "    Enter key: symbol\n",
    "    KEY: symbol, VALUE: AAPL\n",
    "    \n",
    "    \n",
    "Sample Run #2\n",
    "\n",
    "    Enter key: mike\n",
    "    KEY: mike, VALUE: Key Does Not exist"
   ]
  },
  {
   "cell_type": "code",
   "execution_count": null,
   "metadata": {
    "code_cell_type": "debug_code",
    "label": "1.2",
    "solution": [
     "stock = { 'name' : 'Apple Computer', 'symbol' : 'AAPL', 'value' : 125.6 }\n",
     "key = input(\"Enter key: \")\n",
     "value = stock.get(key,'Key Does Not exist')\n",
     "print(f\"KEY: {key}, VALUE: {value}\")\n"
    ]
   },
   "outputs": [],
   "source": [
    "stock = { 'name' : 'Apple Computer', 'symbol' : 'AAPL', 'value' : 125.6 }\n",
    "# TODO: write code here\n"
   ]
  },
  {
   "cell_type": "markdown",
   "metadata": {},
   "source": [
    "## Enumerating keys and values\n",
    "\n",
    "You can enumerate keys and values easily, using the `keys()` and `values()` methods:"
   ]
  },
  {
   "cell_type": "code",
   "execution_count": null,
   "metadata": {
    "code_cell_type": "run_code"
   },
   "outputs": [],
   "source": [
    "print(\"KEYS\")\n",
    "for k in stock.keys():\n",
    "    print(k)\n",
    "    \n",
    "print(\"VALUES\")\n",
    "for v in stock.values():\n",
    "    print(v)"
   ]
  },
  {
   "cell_type": "markdown",
   "metadata": {},
   "source": [
    "### 1.3 You Code: Debug\n",
    "\n",
    "The following program should loop over the keys in a dictionary and print the keys and values. Debug this code to get it working.\n",
    "\n",
    "Expected output (when code it corrected):\n",
    "\n",
    "\n",
    "    KEY: make VALUE: tesla\n",
    "    KEY: model VALUE: S\n",
    "    KEY: price VALUE: 69420\n",
    "    KEY: owner VALUE: bob\n",
    "    KEY: location VALUE: Syracuse, NY\n",
    "    KEY: moving VALUE: False\n"
   ]
  },
  {
   "cell_type": "code",
   "execution_count": null,
   "metadata": {
    "code_cell_type": "debug_code",
    "label": "1.3",
    "solution": [
     "car = {'make': 'tesla', 'model': 'S', 'price': 69420, 'owner': 'bob', 'location' : 'Syracuse, NY', 'moving' : False }\n",
     "for key in car.keys():\n",
     "    value = car[key]\n",
     "    print(f\"KEY: {key} VALUE: {value}\")\n"
    ]
   },
   "outputs": [],
   "source": [
    "car = {'make': 'tesla', 'model': 'S', 'price': 69420, 'owner': 'bob', 'location' : 'Syracuse, NY', 'moving' : False }\n",
    "# TODO: Debug this code\n",
    "for key in car:\n",
    "    value = car['key']\n",
    "    print(f\"something\")"
   ]
  },
  {
   "cell_type": "markdown",
   "metadata": {},
   "source": [
    "## List of Dictionary\n",
    "\n",
    "The List of Dictionary object in Python allows us to create useful in-memory data structures. It's one of the features of Python that sets it apart from other programming languages. \n",
    "\n",
    "Let's use it to build a portfolio (list of 4 stocks)."
   ]
  },
  {
   "cell_type": "code",
   "execution_count": null,
   "metadata": {
    "code_cell_type": "run_code"
   },
   "outputs": [],
   "source": [
    "portfolio = [\n",
    "    { 'symbol' : 'AAPL', 'name' : 'Apple Computer Corp.', 'value': 136.66 },\n",
    "    { 'symbol' : 'AMZN', 'name' : 'Amazon.com, Inc.', 'value': 845.24 },\n",
    "    { 'symbol' : 'MSFT', 'name' : 'Microsoft Corporation', 'value': 64.62 },\n",
    "    { 'symbol' : 'TSLA', 'name' : 'Tesla, Inc.', 'value': 257.00 }    \n",
    "]\n",
    "\n",
    "print(\"first stock\", portfolio[0])           \n",
    "print(\"name of first stock\", portfolio[0]['name'])   \n",
    "print(\"last stock\", portfolio[-1])          \n",
    "print(\"value of 2nd stock\",  portfolio[1]['value'])  \n"
   ]
  },
  {
   "cell_type": "code",
   "execution_count": null,
   "metadata": {
    "code_cell_type": "run_code"
   },
   "outputs": [],
   "source": [
    "print(\"Here's a loop:\")\n",
    "for stock in portfolio:\n",
    "    print(f\"  {stock['name']} ${stock['value']}\")"
   ]
  },
  {
   "cell_type": "markdown",
   "metadata": {},
   "source": [
    "## Using `json` to read in lists of dictionary\n",
    "\n",
    "\n",
    "JSON (JavaScript Object Notation) files can be read in using Python's `json` module, and de-serialized into a list of dictionary. This is very powerful feature of the Python programming language and would require a lot more code to accomplish in other programming languages. It is one of the reasons Python is so attractive for the web and data manipulation.\n",
    "\n",
    "#### Run this code to download the json file"
   ]
  },
  {
   "cell_type": "code",
   "execution_count": null,
   "metadata": {
    "code_cell_type": "run_code"
   },
   "outputs": [],
   "source": [
    "!curl https://raw.githubusercontent.com/mafudge/datasets/master/ist256/09-Dictionaries/stocks.json -o stocks.json"
   ]
  },
  {
   "cell_type": "markdown",
   "metadata": {},
   "source": [
    "This code will read in the json file `stocks.json` and create a list of dictionary, `stocks`"
   ]
  },
  {
   "cell_type": "code",
   "execution_count": null,
   "metadata": {
    "code_cell_type": "run_code"
   },
   "outputs": [],
   "source": [
    "import json\n",
    "with open('stocks.json','r') as f:\n",
    "    stocks = json.load(f)\n",
    "    \n",
    "stocks"
   ]
  },
  {
   "cell_type": "markdown",
   "metadata": {},
   "source": [
    "## What is so special about a list of dictionary?\n",
    "\n",
    "You might be thinking \"so what\" or \"big deal\". Actually those 3 lines of Python code are a big deal. We created a variable `stocks` from a json text file. All the heavy lifting of tokenizing and parsing have been done for us!\n",
    "\n",
    "We can now use Python code to access the data. For example, to get `IBM`'s stock price we can loop over the list until we find the `symbol` `IBM`:"
   ]
  },
  {
   "cell_type": "code",
   "execution_count": null,
   "metadata": {
    "code_cell_type": "run_code"
   },
   "outputs": [],
   "source": [
    "find = 'IBM'\n",
    "for stock in stocks:\n",
    "    if stock['symbol'] == find:\n",
    "        print(f\"symbol: {find} price: ${stock['price']:.2f}\")"
   ]
  },
  {
   "cell_type": "markdown",
   "metadata": {},
   "source": [
    "### 1.4 You code\n",
    "\n",
    "Build upon the code in the previous cell. Write a program to input a symbol and print out the price of that symbol. If the symbol is not in the list of stocks, print `Symbol not found.`\n",
    "\n",
    "\n",
    "Example Run #1\n",
    "\n",
    "    Enter a stock symbol: MSFT\n",
    "    symbol: MSFT price: $212.55\n",
    "    \n",
    "Example Run #2\n",
    "\n",
    "    Enter a stock symbol: ABCD\n",
    "    Symbol not found."
   ]
  },
  {
   "cell_type": "code",
   "execution_count": null,
   "metadata": {
    "code_cell_type": "debug_code",
    "label": "1.4",
    "solution": [
     "import json\n",
     "with open('stocks.json','r') as f:\n",
     "    stocks = json.load(f)\n",
     "# TODO Write code here:\n",
     "found = False\n",
     "find = input(\"Enter a stock symbol: \").upper()\n",
     "for stock in stocks:\n",
     "    if stock['symbol'] == find:\n",
     "        print(f\"symbol: {find} price: ${stock['price']:.2f}\")\n",
     "        found = True\n",
     "        break\n",
     "if not found:\n",
     "    print(\"Symbol not found.\")\n"
    ]
   },
   "outputs": [],
   "source": [
    "import json\n",
    "with open('stocks.json','r') as f:\n",
    "    stocks = json.load(f)\n",
    "\n",
    "# TODO Write code here:\n"
   ]
  },
  {
   "cell_type": "markdown",
   "metadata": {},
   "source": [
    "## Putting It All Together\n",
    "\n",
    "Write a program to build out your personal stock portfolio.\n",
    "\n",
    "```\n",
    "1. Start with an empty list, called `mystocks`\n",
    "2. call `loadStocks()` to get a list of stocks from the file.\n",
    "2. loop\n",
    "3.     input a stock symbol, or type 'QUIT' to print your portfolio\n",
    "4.     if symbol equals 'QUIT' exit loop\n",
    "5.     call `findStock()` to locate the input symbol in the list of stocks.\n",
    "6.     if you found the stock (it's not an empty dictionary) then add it to the `mystocks` list.\n",
    "9. time to print the portfolio: for each stock in the `mystocks`\n",
    "10.    print stock symbol and stock value, like this \"AAPL $136.66\"\n",
    "```\n",
    "\n",
    "We will write few `loadStocks()` and `findStocks()`functions for you to make this a bit more manageable.\n",
    "\n",
    "\n",
    "Sample Run:\n",
    "\n",
    "    Enter stock symbol to add to your portfolio or quit: IBM\n",
    "    Enter stock symbol to add to your portfolio or quit: FB\n",
    "    Enter stock symbol to add to your portfolio or quit: quit\n",
    "    Your Portfolio\n",
    "    IBM $128.39\n",
    "FB $251.11\n",
    "\n",
    "### 1.5 You Code"
   ]
  },
  {
   "cell_type": "code",
   "execution_count": null,
   "metadata": {
    "code_cell_type": "debug_code",
    "label": "1.5",
    "solution": [
     "mystocks = []\n",
     "stocks = loadStocks()\n",
     "while True:\n",
     "    symbol = input(\"Enter stock symbol to add to your portfolio or quit: \").upper()\n",
     "    if symbol == 'QUIT': break\n",
     "    stock = findStock(symbol)\n",
     "    if stock != {}:\n",
     "        mystocks.append(stock)\n",
     "print(\"Your Portfolio\")\n",
     "for s in mystocks:\n",
     "    print(f\"{s['symbol']}\t${s['price']}\")\n"
    ]
   },
   "outputs": [],
   "source": [
    "def loadStocks():\n",
    "    import json\n",
    "    with open('stocks.json','r') as f:\n",
    "        stocks = json.load(f)\n",
    "        return stocks\n",
    "    \n",
    "def findStock(symbolToFind):\n",
    "    found = {}\n",
    "    for stock in stocks:\n",
    "        if stock['symbol'] == symbolToFind:\n",
    "            return stock\n",
    "\n",
    "# TODO: Wwite code here\n",
    "        "
   ]
  },
  {
   "cell_type": "markdown",
   "metadata": {},
   "source": [
    "# Metacognition\n"
   ]
  },
  {
   "cell_type": "markdown",
   "metadata": {
    "label": "comfort_cell"
   },
   "source": [
    "\n",
    "### Rate your comfort level with this week's material so far.   \n",
    "\n",
    "**1** ==> I don't understand this at all yet and need extra help. If you choose this please try to articulate that which you do not understand to the best of your ability in the questions and comments section below.  \n",
    "**2** ==> I can do this with help or guidance from other people or resources. If you choose this level, please indicate HOW this person helped you in the questions and comments section below.   \n",
    "**3** ==> I can do this on my own without any help.   \n",
    "**4** ==> I can do this on my own and can explain/teach how to do it to others.\n",
    "\n",
    "`--== Double-Click Here then Enter a Number 1 through 4 Below This Line ==--`  \n",
    "\n"
   ]
  }
 ],
 "metadata": {
  "anaconda-cloud": {},
  "kernelspec": {
   "display_name": "Python 3 (ipykernel)",
   "language": "python",
   "name": "python3"
  },
  "language_info": {
   "codemirror_mode": {
    "name": "ipython",
    "version": 3
   },
   "file_extension": ".py",
   "mimetype": "text/x-python",
   "name": "python",
   "nbconvert_exporter": "python",
   "pygments_lexer": "ipython3",
   "version": "3.9.6"
  },
  "toc": {
   "base_numbering": 1,
   "nav_menu": {},
   "number_sections": false,
   "sideBar": false,
   "skip_h1_title": false,
   "title_cell": "Table of Contents",
   "title_sidebar": "Contents",
   "toc_cell": false,
   "toc_position": {},
   "toc_section_display": false,
   "toc_window_display": false
  }
 },
 "nbformat": 4,
 "nbformat_minor": 4
}
