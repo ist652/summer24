{
 "cells": [
  {
   "cell_type": "markdown",
   "metadata": {},
   "source": [
    "# In-Class Coding Lab: Lists\n",
    "\n",
    "The goals of this lab are to help you understand:\n",
    "\n",
    " - List indexing and slicing\n",
    " - List methods such as insert, append, find, delete\n",
    " - How to iterate over lists with loops\n",
    " \n",
    "## Python Lists work like Real-Life Lists\n",
    " \n",
    "In real life, we make lists all the time. To-Do lists. Shopping lists. Reading lists.  These lists are collections of items, for example here's my shopping list:\n",
    " \n",
    " ```\n",
    " Milk, Eggs, Bread, Beer\n",
    " ```\n",
    "\n",
    "There are 4 items in this list.\n",
    "\n",
    "Likewise, we can make a similar list in Python, and count the number of items in the list using the `len()` function:"
   ]
  },
  {
   "cell_type": "code",
   "execution_count": null,
   "metadata": {
    "code_cell_type": "run_code"
   },
   "outputs": [],
   "source": [
    "shopping_list = [ 'Milk', 'Eggs', 'Bread', 'Beer']\n",
    "item_count = len(shopping_list)\n",
    "print(\"List: %s has %d items\" % (shopping_list, item_count))"
   ]
  },
  {
   "cell_type": "markdown",
   "metadata": {},
   "source": [
    "## Enumerating the Items in a List\n",
    "\n",
    "In real-life, we *enumerate* lists all the time. We go through the items on our list one at a time and make a decision, for example: \"Did I add that to my shopping cart yet?\"\n",
    "\n",
    "In Python we go through items in our lists with the `for` loop. We use `for` because the number of items is pre-determined and thus a **definite** loop is the appropriate choice. \n",
    "\n",
    "Here's an example:"
   ]
  },
  {
   "cell_type": "code",
   "execution_count": null,
   "metadata": {
    "code_cell_type": "run_code"
   },
   "outputs": [],
   "source": [
    "for item in shopping_list:\n",
    "    print(\"I need to buy some %s \" % (item))"
   ]
  },
  {
   "cell_type": "code",
   "execution_count": null,
   "metadata": {
    "code_cell_type": "run_code"
   },
   "outputs": [],
   "source": [
    "# or with f-strings\n",
    "for item in shopping_list:\n",
    "    print(f\"I need to buy some {item}\")"
   ]
  },
  {
   "cell_type": "markdown",
   "metadata": {},
   "source": [
    "### 1.1 You Code\n",
    "\n",
    "Write code in the space below to print each stock on its own line. Use a `for` loop and an f-string to print `You own ` before the name of the stock|"
   ]
  },
  {
   "cell_type": "code",
   "execution_count": null,
   "metadata": {
    "code_cell_type": "debug_code",
    "label": "1.1",
    "solution": [
     "stocks = [ 'IBM', 'AAPL', 'GOOG', 'MSFT', 'TWTR', 'FB']\n",
     "#TODO: Write code here\n",
     "for stock in stocks:\n",
     "    print(f\"You own {stock}\")\n"
    ]
   },
   "outputs": [],
   "source": [
    "stocks = [ 'IBM', 'AAPL', 'GOOG', 'MSFT', 'TWTR', 'FB']\n",
    "#TODO: Write code here"
   ]
  },
  {
   "cell_type": "markdown",
   "metadata": {},
   "source": [
    "## Indexing Lists\n",
    "\n",
    "Sometimes we refer to our items by their place in the list. For example \"Milk is the first item on the list\" or \"Beer is the last item on the list.\"\n",
    "\n",
    "We can also do this in Python, and it is called *indexing* the list. It works the same as a **string slice.**\n",
    "\n",
    "**IMPORTANT** The first item in a Python lists starts at index **0**."
   ]
  },
  {
   "cell_type": "code",
   "execution_count": null,
   "metadata": {
    "code_cell_type": "run_code"
   },
   "outputs": [],
   "source": [
    "print(\"The first item in the list is:\", shopping_list[0]) \n",
    "print(\"The last item in the list is:\", shopping_list[3])   \n",
    "print(\"This is also the last item in the list:\", shopping_list[-1])  \n",
    "print(\"This is the second to last item in the list:\", shopping_list[-2])\n"
   ]
  },
  {
   "cell_type": "markdown",
   "metadata": {},
   "source": [
    "## For Loop with Index\n",
    "\n",
    "You can also loop through your Python list using an index. In this case we use the `range()` function to determine how many times we should loop, then index the item in the list using the iterator variable from the `for` loop."
   ]
  },
  {
   "cell_type": "code",
   "execution_count": null,
   "metadata": {
    "code_cell_type": "run_code"
   },
   "outputs": [],
   "source": [
    "for i in range(len(shopping_list)):\n",
    "    print(\"I need to buy some %s \" % (shopping_list[i]))"
   ]
  },
  {
   "cell_type": "markdown",
   "metadata": {},
   "source": [
    "### 1.2 You Code\n",
    "\n",
    "Write code to print the 2nd and 4th stocks in the list variable `stocks`.  Print them on the same line: \n",
    "\n",
    "For example:\n",
    "\n",
    "`AAPL MSFT`"
   ]
  },
  {
   "cell_type": "code",
   "execution_count": null,
   "metadata": {
    "code_cell_type": "debug_code",
    "label": "1.2",
    "solution": [
     "stocks = [ 'IBM', 'AAPL', 'GOOG', 'MSFT', 'TWTR', 'FB']\n",
     "#TODO: Write code here\n",
     "print(stocks[1],stocks[3])\n"
    ]
   },
   "outputs": [],
   "source": [
    "stocks = [ 'IBM', 'AAPL', 'GOOG', 'MSFT', 'TWTR', 'FB']\n",
    "#TODO: Write code here\n"
   ]
  },
  {
   "cell_type": "markdown",
   "metadata": {},
   "source": [
    "## Lists are Mutable\n",
    "\n",
    "Unlike strings, lists are **mutable**. This means we can change a value in the list.\n",
    "\n",
    "For example, I want `'Craft Beer'` not just `'Beer'`. I need `Organic Eggs` not `Eggs`."
   ]
  },
  {
   "cell_type": "code",
   "execution_count": null,
   "metadata": {
    "code_cell_type": "run_code"
   },
   "outputs": [],
   "source": [
    "shopping_list = [ 'Milk', 'Eggs', 'Bread', 'Beer']\n",
    "print(f\"Before: {shopping_list}\")\n",
    "shopping_list[-1] = 'Craft Beer'\n",
    "shopping_list[1] = 'Organic Eggs'\n",
    "print(f\"After {shopping_list}\")"
   ]
  },
  {
   "cell_type": "markdown",
   "metadata": {},
   "source": [
    "## List Methods\n",
    "\n",
    "In your readings and class lecture, you encountered some list methods. These allow us to maniupulate the list by adding or removing items."
   ]
  },
  {
   "cell_type": "code",
   "execution_count": null,
   "metadata": {
    "code_cell_type": "run_code"
   },
   "outputs": [],
   "source": [
    "def print_shopping_list(mylist):\n",
    "    print(f\"My shopping list: {mylist}\")\n",
    "\n",
    "shopping_list = [ 'Milk', 'Eggs', 'Bread', 'Beer']\n",
    "print_shopping_list(shopping_list)\n",
    "\n",
    "print(\"Adding 'Cheese' to the end of the list...\")\n",
    "shopping_list.append('Cheese')  #add to end of list\n",
    "print_shopping_list(shopping_list)\n",
    "\n",
    "print(\"Adding 'Cereal' to position 0  in the list...\")\n",
    "shopping_list.insert(0,'Cereal') # add to the beginning of the list (position 0)\n",
    "print_shopping_list(shopping_list)\n",
    "\n",
    "print(\"Removing 'Cheese' from the list...\")\n",
    "shopping_list.remove('Cheese')  # remove 'Cheese' from the list\n",
    "print_shopping_list(shopping_list)\n",
    "\n",
    "print(\"Removing item from position 0 in the list...\")\n",
    "del shopping_list[0]   # remove item at position 0\n",
    "print_shopping_list(shopping_list)\n"
   ]
  },
  {
   "cell_type": "markdown",
   "metadata": {},
   "source": [
    "### 1.3 You Code: Debug\n",
    "\n",
    "Debug this program which allows you to manage a list of stocks. \n",
    "\n",
    "\n",
    "This program will loop indefinately. When you enter:\n",
    "\n",
    "- `A` it will ask you for a stock Symbol to add to the beginning of the list, then print the list.\n",
    "- `R` it will ask you for a stock Symbol to remove from the list, then print the list.\n",
    "- `Q` it will quit the program.\n",
    "\n",
    "Example Run:\n",
    "\n",
    "    Enter Command: A, R, Q ?a\n",
    "    Enter symbol to ADD: appl\n",
    "    Your Stocks ['APPL']\n",
    "    Enter Command: A, R, Q ?a\n",
    "    Enter symbol to ADD: msft\n",
    "    Your Stocks ['MSFT', 'APPL']\n",
    "    Enter Command: A, R, Q ?a\n",
    "    Enter symbol to ADD: amzn\n",
    "    Your Stocks ['AMZN', 'MSFT', 'APPL']\n",
    "    Enter Command: A, R, Q ?r\n",
    "    Enter symbol to REMOVE: msft\n",
    "    Your Stocks ['AMZN', 'APPL']\n",
    "    Enter Command: A, R, Q ?q\n"
   ]
  },
  {
   "cell_type": "code",
   "execution_count": null,
   "metadata": {
    "code_cell_type": "debug_code",
    "label": "1.3",
    "solution": [
     "stocks = []\n",
     "while True:\n",
     "    choice = input(\"Enter Command: A, R, Q ?\").upper()\n",
     "    if choice == 'Q':\n",
     "        break\n",
     "    elif choice == 'A':\n",
     "        stock = input(\"Enter symbol to ADD: \").upper()\n",
     "        stocks.insert(0, stock)\n",
     "        print(f\"Your Stocks {stocks}\")\n",
     "    elif choice == 'R':\n",
     "        stock = input(\"Enter symbol to REMOVE: \").upper()\n",
     "        stocks.remove(stock)\n",
     "        print(f\"Your Stocks {stocks}\")\n",
     "    else:\n",
     "        print(\"Invalid Command!\")                                            \n"
    ]
   },
   "outputs": [],
   "source": [
    "# TODO: debug this code\n",
    "stocks = []\n",
    "while false:\n",
    "    choice = input(\"Enter Command: A, R, Q ?\").upper()\n",
    "    if choice == 'Q':\n",
    "        break\n",
    "    elif choice == 'A':\n",
    "        stock = input(\"Enter symbol to ADD: \").upper()\n",
    "        stocks.insert(stock,0)\n",
    "        print(f\"Your Stocks stocks\")\n",
    "    elif choice == 'R':\n",
    "        stock = input(\"Enter symbol to REMOVE: \").upper()\n",
    "        stoscks.delete(stock)\n",
    "        print(\"Your Stocks {stocks}\")\n",
    "    else:\n",
    "        print(\"Invalid Command!\")"
   ]
  },
  {
   "cell_type": "markdown",
   "metadata": {},
   "source": [
    "## Sorting\n",
    "\n",
    "Since Lists are mutable. You can use the `sort()` method to re-arrange the items in the list alphabetically (or numerically if it's a list of numbers)"
   ]
  },
  {
   "cell_type": "code",
   "execution_count": null,
   "metadata": {
    "code_cell_type": "run_code"
   },
   "outputs": [],
   "source": [
    "shopping_list = [ 'Milk', 'Eggs', 'Bread', 'Beer']\n",
    "print(\"Before Sort:\", shopping_list)\n",
    "shopping_list.sort() \n",
    "print(\"After Sort:\", shopping_list)"
   ]
  },
  {
   "cell_type": "markdown",
   "metadata": {},
   "source": [
    "## The Magic behind `S.split()` and  `S.join(list)`\n",
    "\n",
    "Now that we know about lists, we can revisit some of the more confusing string methods like `S.split()` and `S.join(list)`\n",
    "\n",
    "`S.split()` takes a string `S` and splits the string into a `list` of values.  \n",
    "\n",
    "The split is based on the argument. For example, this splits a string `sentence` into a list `words`, splitting on whitespace."
   ]
  },
  {
   "cell_type": "code",
   "execution_count": null,
   "metadata": {
    "code_cell_type": "run_code"
   },
   "outputs": [],
   "source": [
    "sentence = \"I like cheese\"\n",
    "words = sentence.split()\n",
    "print(f\"words is a {type(words)} values: {words}\")"
   ]
  },
  {
   "cell_type": "markdown",
   "metadata": {},
   "source": [
    "To demonstrate it's really a list, let's add a word to the list and then regenerate the sentence with the `S.join(list)` method. \n",
    "\n",
    "\n",
    "`S.join(list)` does the opposite of `split()` joins the `list` back together delimiting each item in the list with `S`.\n",
    "\n",
    "For example: `\"-\".join([1,2,3])` outputs: `1-2-3`\n",
    "\n",
    "\n",
    "Here we add `'swiss` to the list of `words` before `join()`ing back into a string `i like swiss cheese`.\n"
   ]
  },
  {
   "cell_type": "code",
   "execution_count": null,
   "metadata": {
    "code_cell_type": "run_code"
   },
   "outputs": [],
   "source": [
    "words.insert(2,'swiss')\n",
    "print(words)\n",
    "new_sentence = \" \".join(words)\n",
    "print(f\"Joined back into a sentence: {new_sentence}\")"
   ]
  },
  {
   "cell_type": "markdown",
   "metadata": {},
   "source": [
    "##  The Magic behind `file.readlines()`\n",
    "\n",
    "With an understanding of lists, we can now better understand how `file.readlines()` actually works. \n",
    "\n",
    "The `file.readlines()` function reads in the entire contents of the file, spliting it into a list of lines. Each item in the list is a line in the file."
   ]
  },
  {
   "cell_type": "code",
   "execution_count": null,
   "metadata": {
    "code_cell_type": "run_code"
   },
   "outputs": [],
   "source": [
    "with open('shopping_list.txt','r') as f:\n",
    "    lines = f.readlines()\n",
    "    print(f\"This is a list: {lines}\")"
   ]
  },
  {
   "cell_type": "markdown",
   "metadata": {},
   "source": [
    "##  List Comprehensions\n",
    "\n",
    "If you look at the output of the previous example, you see the newline character `\\n` at the end of some items in the list. To remove this, we could write a `for` loop to `strip()` the newline and the add it to another list. This is so, common Python has a shortcut way to do it, called a **list comprehension**.\n",
    "\n",
    "The list comprehension applies a function to each item in the list. It looks like this:\n",
    "\n",
    "`new_list = [ function for item in current_list ]`\n",
    "\n",
    "For example, to strip the newline:"
   ]
  },
  {
   "cell_type": "code",
   "execution_count": null,
   "metadata": {
    "code_cell_type": "run_code"
   },
   "outputs": [],
   "source": [
    "print(f\"Unstripped: {lines}\")\n",
    "\n",
    "# List comprehension\n",
    "stripped_lines = [ line.strip() for line in lines ]\n",
    "\n",
    "print(f\"Stripped: {stripped_lines}\")\n",
    "      "
   ]
  },
  {
   "cell_type": "markdown",
   "metadata": {},
   "source": [
    "In the above example:\n",
    "\n",
    "- The current list is `lines` \n",
    "- The new list is `stripped_lines` and \n",
    "- The function we apply is `strip()` to each `line` in the list of `lines`.\n",
    "\n",
    "List comprehension are handy when we need to parse and tokenize. With Python, we can do this in 2 lines of code.\n",
    "\n",
    "\n",
    "When you run this example, input exactly this:  \n",
    "\n",
    "`1,   3.4,   5    ,-4` \n",
    "\n",
    "And marvel how it gets converted into a list of acutal numbers!"
   ]
  },
  {
   "cell_type": "code",
   "execution_count": null,
   "metadata": {
    "code_cell_type": "run_code"
   },
   "outputs": [],
   "source": [
    "raw_input = input(\"Enter a comma-separated list of numbers: \")\n",
    "raw_list = raw_input.split(',')\n",
    "number_list = [ float(number) for number in raw_list ]\n",
    "\n",
    "print(f\"Raw Input: {raw_input}\")\n",
    "print(f\"Tokenized Input {raw_list}\")\n",
    "print(f\"Parsed to Numbers: {number_list}\")"
   ]
  },
  {
   "cell_type": "markdown",
   "metadata": {},
   "source": [
    "## Putting it all together\n",
    "\n",
    "Winning Lotto numbers. When the lotto numbers are drawn, they are in *any* order, when they are presented they're always sorted lowest to highest. Let's write a program to input numbers, separated by a `,` then storing each to a list, coverting that list to a list of numbers, and then  sorting/printing it.\n",
    "\n",
    "ALGORITHM:\n",
    "\n",
    "```\n",
    "1. input a comma-separated string of numbers\n",
    "2. split the string into a list\n",
    "3. parse the list of strings into a list of numbers\n",
    "4. sort the list of numbers\n",
    "4. print the sorted list of numbers like this: \n",
    "   'today's winning numbers are [1, 5, 17, 34, 56]'\n",
    "```\n",
    "\n",
    "\n",
    "Sample Code Run:\n",
    "\n",
    "    Enter lotto number drawing: 45, 13, 56, 8, 2\n",
    "    Winning numbers are: [2, 8, 13, 45, 56]\n",
    "\n",
    "### 1.4 You Code"
   ]
  },
  {
   "cell_type": "code",
   "execution_count": null,
   "metadata": {
    "code_cell_type": "write_code",
    "label": "1.4",
    "solution": [
     "text = input(\"Enter winning lotto numbers: \")\n",
     "text_list = text.split(',')\n",
     "numbers = [ int(item) for item in text_list]\n",
     "numbers.sort()\n",
     "print(f\"Winning numbers are: {numbers}\")\n"
    ]
   },
   "outputs": [],
   "source": [
    "## TODO: Write program here:\n"
   ]
  },
  {
   "cell_type": "markdown",
   "metadata": {},
   "source": [
    "# Metacognition\n",
    "\n"
   ]
  },
  {
   "cell_type": "markdown",
   "metadata": {
    "label": "comfort_cell"
   },
   "source": [
    "\n",
    "### Rate your comfort level with this week's material so far.   \n",
    "\n",
    "**1** ==> I don't understand this at all yet and need extra help. If you choose this please try to articulate that which you do not understand to the best of your ability in the questions and comments section below.  \n",
    "**2** ==> I can do this with help or guidance from other people or resources. If you choose this level, please indicate HOW this person helped you in the questions and comments section below.   \n",
    "**3** ==> I can do this on my own without any help.   \n",
    "**4** ==> I can do this on my own and can explain/teach how to do it to others.\n",
    "\n",
    "`--== Double-Click Here then Enter a Number 1 through 4 Below This Line ==--`  \n",
    "\n"
   ]
  },
  {
   "cell_type": "code",
   "execution_count": null,
   "metadata": {},
   "outputs": [],
   "source": []
  }
 ],
 "metadata": {
  "anaconda-cloud": {},
  "kernelspec": {
   "display_name": "Python 3 (ipykernel)",
   "language": "python",
   "name": "python3"
  },
  "language_info": {
   "codemirror_mode": {
    "name": "ipython",
    "version": 3
   },
   "file_extension": ".py",
   "mimetype": "text/x-python",
   "name": "python",
   "nbconvert_exporter": "python",
   "pygments_lexer": "ipython3",
   "version": "3.9.6"
  },
  "toc": {
   "base_numbering": 1,
   "nav_menu": {},
   "number_sections": false,
   "sideBar": false,
   "skip_h1_title": false,
   "title_cell": "Table of Contents",
   "title_sidebar": "Contents",
   "toc_cell": false,
   "toc_position": {},
   "toc_section_display": false,
   "toc_window_display": false
  },
  "varInspector": {
   "cols": {
    "lenName": 16,
    "lenType": 16,
    "lenVar": 40
   },
   "kernels_config": {
    "python": {
     "delete_cmd_postfix": "",
     "delete_cmd_prefix": "del ",
     "library": "var_list.py",
     "varRefreshCmd": "print(var_dic_list())"
    },
    "r": {
     "delete_cmd_postfix": ") ",
     "delete_cmd_prefix": "rm(",
     "library": "var_list.r",
     "varRefreshCmd": "cat(var_dic_list()) "
    }
   },
   "types_to_exclude": [
    "module",
    "function",
    "builtin_function_or_method",
    "instance",
    "_Feature"
   ],
   "window_display": false
  }
 },
 "nbformat": 4,
 "nbformat_minor": 4
}
